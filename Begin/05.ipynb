{
 "cells": [
  {
   "cell_type": "markdown",
   "metadata": {},
   "source": [
    "# 一、 文件檔案的爬取跟儲存"
   ]
  },
  {
   "cell_type": "markdown",
   "metadata": {},
   "source": [
    "### 資料檔案的儲存: open()函式"
   ]
  },
  {
   "cell_type": "markdown",
   "metadata": {},
   "source": [
    "#### 語法\n",
    "```Python\n",
    "with open(filename[,模式][,編碼]) as f:\n",
    "    f.檔案處理函式()\n",
    "```\n",
    "- 檔案名稱:設定檔案的名稱，它是字串型態\n",
    "- 模式:設定檔案開啟的模式,省略將預設為讀取模式\n",
    "    + r:讀取模式，此為預設模式\n",
    "    + a:附加模式，若檔案已存在，內容會被附加至檔案尾。\n",
    "    + w:寫入模式，若檔案已存在，內容將會被覆蓋。\n",
    "    + b:二進位模式\n",
    "- 編碼:指定檔案的編碼模式，一般可設定cp950或UTF-8(大小寫都可以)。"
   ]
  },
  {
   "cell_type": "markdown",
   "metadata": {},
   "source": [
    "#### 檔案處理函式\n",
    "    - read():讀取檔案內的文字。\n",
    "    - readline():讀取檔案內容的第一行文字\n",
    "    - readlines():讀取檔案內容，以行為元素儲存為串列。\n",
    "    - writr():寫入檔案\n",
    "    - close():關閉檔案"
   ]
  },
  {
   "cell_type": "code",
   "execution_count": 3,
   "metadata": {},
   "outputs": [
    {
     "name": "stdout",
     "output_type": "stream",
     "text": [
      "abc123\n"
     ]
    }
   ],
   "source": [
    "# 文字檔案讀寫 範例\n",
    "f = open('file.txt', 'w')   # 當沒有該檔案時，系統會自動新增該檔案\n",
    "f.write('abc')\n",
    "f.close()\n",
    "\n",
    "f = open('file.txt', 'a')\n",
    "f.write('123')\n",
    "f.close()\n",
    "\n",
    "f = open('file.txt', 'r')\n",
    "print(f.read())\n",
    "f.close()"
   ]
  },
  {
   "cell_type": "code",
   "execution_count": 6,
   "metadata": {},
   "outputs": [],
   "source": [
    "f = open('file1.txt', 'a')\n",
    "f.write('123')\n",
    "f.write('abc')\n",
    "\n",
    "# 最後一定要關檔案,不然無法寫入\n",
    "f.close()"
   ]
  },
  {
   "cell_type": "code",
   "execution_count": 10,
   "metadata": {},
   "outputs": [],
   "source": [
    "# 用with open()寫法\n",
    "with open('file2.txt', 'a') as f:\n",
    "    f.write('123')\n",
    "    f.write('abc')\n",
    "\n",
    "# with open()寫法，可以不用close()也會寫入資料"
   ]
  },
  {
   "cell_type": "markdown",
   "metadata": {},
   "source": [
    "#### 資料的爬取: requests 模組"
   ]
  },
  {
   "cell_type": "code",
   "execution_count": null,
   "metadata": {},
   "outputs": [],
   "source": [
    "# 讀取遠端資料\n",
    "# COVID-19各國地區累積病例數與死亡人數"
   ]
  }
 ],
 "metadata": {
  "kernelspec": {
   "display_name": "Python 3.10.8 64-bit (microsoft store)",
   "language": "python",
   "name": "python3"
  },
  "language_info": {
   "codemirror_mode": {
    "name": "ipython",
    "version": 3
   },
   "file_extension": ".py",
   "mimetype": "text/x-python",
   "name": "python",
   "nbconvert_exporter": "python",
   "pygments_lexer": "ipython3",
   "version": "3.10.8"
  },
  "orig_nbformat": 4,
  "vscode": {
   "interpreter": {
    "hash": "a3327f818e0a4ba18f1f384c03713ec02db81d5f9f9e6316f52b1fec9cb18330"
   }
  }
 },
 "nbformat": 4,
 "nbformat_minor": 2
}
