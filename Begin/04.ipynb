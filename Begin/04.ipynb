{
 "cells": [
  {
   "cell_type": "markdown",
   "metadata": {},
   "source": [
    "# Python 物件導向程式開發"
   ]
  },
  {
   "cell_type": "markdown",
   "metadata": {},
   "source": [
    "# 一、 模組"
   ]
  },
  {
   "cell_type": "markdown",
   "metadata": {},
   "source": [
    "### import 匯入模組"
   ]
  },
  {
   "cell_type": "code",
   "execution_count": null,
   "metadata": {},
   "outputs": [],
   "source": [
    "# 匯入自建模組\n",
    "import tool as t\n",
    "\n",
    "t.hello()"
   ]
  },
  {
   "cell_type": "markdown",
   "metadata": {},
   "source": [
    "### 亂數模組 - random\n",
    "> random(), randint(), choice(),  \n",
    "samlpe(), randrange(),shuffle(),  \n",
    "uniform()\n",
    "\n",
    "- random() : 0-1 浮點間的亂數\n",
    "- randint() : randint(起始,終止) - 範圍內的整數值\n",
    "- choice() : choice(串列, 個數) - 指定字串或串列中，選取1個(或多個)元素 "
   ]
  },
  {
   "cell_type": "code",
   "execution_count": null,
   "metadata": {},
   "outputs": [],
   "source": [
    "# 練習擲骰子遊戲\n",
    "import random as r\n",
    "\n",
    "while True:\n",
    "    inkey = input(\"請輸入任意鍵再按【Enter】鍵開始, 直接按下【Enter】鍵結束:\")\n",
    "    if inkey == \"\":\n",
    "        print(\"遊戲結束!\")\n",
    "        break\n",
    "    else:\n",
    "        num = r.randint(1, 6)\n",
    "        print(f\"您的點數為:{num}\")"
   ]
  },
  {
   "cell_type": "code",
   "execution_count": null,
   "metadata": {},
   "outputs": [],
   "source": [
    "# 特殊符號 骰子遊戲\n",
    "import random as r\n",
    "\n",
    "str1 = '⚀⚁⚂⚃⚄⚅'\n",
    "\n",
    "while True:\n",
    "    inkey = input(\"請輸入任意鍵再按【Enter】鍵開始, 直接按下【Enter】鍵結束:\")\n",
    "    if inkey == \"\":\n",
    "        print(\"遊戲結束!\")\n",
    "        break\n",
    "    else:\n",
    "        num = r.randint(1,6)\n",
    "        print(f\"您的點數為:{str1[num-1]}\")"
   ]
  },
  {
   "cell_type": "code",
   "execution_count": null,
   "metadata": {},
   "outputs": [],
   "source": [
    "# 大樂透開獎 (二)\n",
    "import random as r\n",
    "\n",
    "list1 = r.sample(range(1, 50), 7)\n",
    "special = list1.pop()    # pop() 取走最後一個元素\n",
    "list1.sort()\n",
    "# print(list1, special)\n",
    "\n",
    "print(\"本期樂透中獎號碼為:\", end=\"\")\n",
    "for i in range(0,6):\n",
    "    if i == 5:\n",
    "        print(f\"{list1[i]}\")\n",
    "    else:\n",
    "        print(f\"{list1[i]}\", end=\",\")\n",
    "\n",
    "print(f\"本期特別號為: {special}\")\n"
   ]
  },
  {
   "cell_type": "markdown",
   "metadata": {},
   "source": [
    "### 時間模組 - time\n",
    "\n",
    "> time(), sleep(), ctime(), localtime()\n",
    "\n",
    "- time(): 當下時間戳記(timestep)\n",
    "- sleep(): 暫停\n",
    "- localtime(): 當地現在時間\n"
   ]
  },
  {
   "cell_type": "code",
   "execution_count": null,
   "metadata": {},
   "outputs": [],
   "source": [
    "# 轉換本地時間\n",
    "import time as t\n",
    "\n",
    "now = t.localtime()\n",
    "y = int(now.tm_year)\n",
    "m = int(now.tm_mon)\n",
    "d = int(now.tm_mday)\n",
    "print(f\"今天日期:西元{y}年{m}月{d}日\")"
   ]
  },
  {
   "cell_type": "markdown",
   "metadata": {},
   "source": [
    "### 檔案模組 os\n",
    "\n",
    "- getcwd():取得目前工作目錄\n",
    "- remove():刪除檔案\n",
    "- mkdir():建立目錄 - mkdir(\"目錄名稱\") -> mkdirs(\"第一層/第二層\"):建立多層目錄\n",
    "- rmdir():刪除目錄\n",
    "- path模組 "
   ]
  },
  {
   "cell_type": "code",
   "execution_count": null,
   "metadata": {},
   "outputs": [],
   "source": [
    "import os \n",
    "\n",
    "os.path.exists()"
   ]
  },
  {
   "cell_type": "markdown",
   "metadata": {},
   "source": [
    "### glob模組"
   ]
  },
  {
   "cell_type": "markdown",
   "metadata": {},
   "source": [
    "# 二、 物件導向程式設計"
   ]
  },
  {
   "cell_type": "markdown",
   "metadata": {},
   "source": [
    "### 基本概念:類別、 物件\n",
    "### 三大特性:封裝、 繼承、 多型"
   ]
  },
  {
   "cell_type": "markdown",
   "metadata": {},
   "source": [
    "#### 1. 內鍵類別"
   ]
  },
  {
   "cell_type": "code",
   "execution_count": 37,
   "metadata": {},
   "outputs": [
    {
     "name": "stdout",
     "output_type": "stream",
     "text": [
      "<class 'int'>\n",
      "<class 'str'>\n"
     ]
    }
   ],
   "source": [
    "a = 1\n",
    "b = \"Demi\"\n",
    "\n",
    "print(type(a))\n",
    "print(type(b))"
   ]
  },
  {
   "cell_type": "markdown",
   "metadata": {},
   "source": [
    "#### 2. 定義類別"
   ]
  },
  {
   "cell_type": "code",
   "execution_count": 42,
   "metadata": {},
   "outputs": [
    {
     "name": "stdout",
     "output_type": "stream",
     "text": [
      "Devid\n",
      "Lily\n"
     ]
    }
   ],
   "source": [
    "# 定義類別\n",
    "# self : 物件本身\n",
    "class A():\n",
    "    def hello(self):\n",
    "        print(\"Hello\")\n",
    "    # 建構式 (初始化函式)\n",
    "    def __init__(self, name):\n",
    "        self.name = name\n",
    "\n",
    "a = A(\"Devid\")\n",
    "print(a.name)\n",
    "\n",
    "b = A(\"Lily\")\n",
    "print(b.name)"
   ]
  },
  {
   "cell_type": "code",
   "execution_count": 43,
   "metadata": {},
   "outputs": [
    {
     "name": "stdout",
     "output_type": "stream",
     "text": [
      "test\n"
     ]
    }
   ],
   "source": [
    "# 繼承類別\n",
    "class A():\n",
    "    def hello(self):\n",
    "        print(\"Hello\")\n",
    "    # 建構式 (初始化函式)\n",
    "    def __init__(self, name):\n",
    "        self.name = name\n",
    "\n",
    "# B 繼承 A 類別\n",
    "class B(A):\n",
    "    pass\n",
    "\n",
    "b = B(\"test\")\n",
    "print(b.name)"
   ]
  },
  {
   "cell_type": "code",
   "execution_count": 2,
   "metadata": {},
   "outputs": [
    {
     "name": "stdout",
     "output_type": "stream",
     "text": [
      "Devid您好,你今年20歲\n",
      "Lily您好,你今年30歲\n"
     ]
    }
   ],
   "source": [
    "# 練習 一\n",
    "# 定義類別\n",
    "class Person():\n",
    "    # 建構式\n",
    "    def __init__(self, name='小明', age=30):    #參數預設值\n",
    "        self.name = name\n",
    "        self.age = age\n",
    "    def hello(self):\n",
    "        print(f\"{self.name}您好,你今年{self.age}歲\")\n",
    "\n",
    "# 建立物件\n",
    "person1 = Person('Devid', 20)\n",
    "person2 = Person('Lily')\n",
    "\n",
    "person1.hello()\n",
    "person2.hello()\n"
   ]
  },
  {
   "cell_type": "markdown",
   "metadata": {},
   "source": [
    "#### 練習一 建立類別求矩形面積"
   ]
  },
  {
   "cell_type": "code",
   "execution_count": 5,
   "metadata": {},
   "outputs": [
    {
     "name": "stdout",
     "output_type": "stream",
     "text": [
      "24\n"
     ]
    }
   ],
   "source": [
    "class Rectangle():\n",
    "    def __init__(self, width=0, height=0):\n",
    "        self.width = width\n",
    "        self.height = height\n",
    "    def Area(self):\n",
    "        a = self.width * self.height\n",
    "        return a\n",
    "\n",
    "rec = Rectangle(6, 4)\n",
    "print(rec.Area())"
   ]
  },
  {
   "cell_type": "markdown",
   "metadata": {},
   "source": [
    "#### 3. 類別封裝"
   ]
  },
  {
   "cell_type": "code",
   "execution_count": 12,
   "metadata": {},
   "outputs": [
    {
     "data": {
      "text/plain": [
       "1000"
      ]
     },
     "execution_count": 12,
     "metadata": {},
     "output_type": "execute_result"
    }
   ],
   "source": [
    "class Bank():\n",
    "    def __init__(self, money):\n",
    "        self.__money = money  # 總存款  # __money 屬性封裝 無法從外部變更\n",
    "    def show(self): # 顯示總存款    # def 封裝 外部無法邊更呼叫\n",
    "        return self.__money\n",
    "    def save(self, amount): # 存款\n",
    "        self.money += amount\n",
    "    def fetch(self, amount):    #提款\n",
    "        self.money -= amount\n",
    "\n",
    "b = Bank(1000)\n",
    "b.__money = 20000   # self.__money 屬性已封裝 無法變更 return還是1000\n",
    "b.show()    # def __show(self): 已封裝 無法呼叫"
   ]
  },
  {
   "cell_type": "code",
   "execution_count": 2,
   "metadata": {},
   "outputs": [],
   "source": [
    "# 類別封裝 練習\n",
    "def Person():\n",
    "    def __init__(self, name, age):\n",
    "        self.name = name\n",
    "        self.age = age\n",
    "    def __hello(self):\n",
    "        print(self.name + '說哈囉')\n",
    "    def talk(self):\n",
    "        self.__hello()\n",
    "        print('也喜歡Python!')\n",
    "    \n",
    "# person1 = Person('Devid', 30)\n",
    "# person1.__hello()"
   ]
  },
  {
   "cell_type": "markdown",
   "metadata": {},
   "source": [
    "#### 3. 繼承類別"
   ]
  },
  {
   "cell_type": "code",
   "execution_count": 6,
   "metadata": {},
   "outputs": [
    {
     "name": "stdout",
     "output_type": "stream",
     "text": [
      "Devid說哈囉!\n",
      "兒子joe說哈囉!\n",
      "兒子joe也會說英語\n"
     ]
    }
   ],
   "source": [
    "# 類別繼承\n",
    "\n",
    "class Person():\n",
    "    def __init__(self, name):\n",
    "        self.name = name\n",
    "    def hello(self):\n",
    "        print(self.name+\"說哈囉!\")\n",
    "\n",
    "class Son(Person):\n",
    "    # 複寫父類別的建構式\n",
    "    def __init__(self, name):\n",
    "        self.name = '兒子'+ name\n",
    "    # 新增子類別的方式\n",
    "    def talk(self):\n",
    "        print(self.name + '也會說英語')\n",
    "\n",
    "# 建立父類別物件\n",
    "person1 = Person('Devid')\n",
    "person1.hello()\n",
    "\n",
    "son = Son('joe')\n",
    "son.hello() # 子類別繼承父類別 def hello()\n",
    "son.talk()"
   ]
  },
  {
   "cell_type": "markdown",
   "metadata": {},
   "source": [
    "#### 類別繼承範例二: 執行super()方法"
   ]
  },
  {
   "cell_type": "code",
   "execution_count": 7,
   "metadata": {},
   "outputs": [
    {
     "name": "stdout",
     "output_type": "stream",
     "text": [
      "Devid說哈囉!\n",
      "Joe說哈囉!\n",
      "Joe也會說英語\n"
     ]
    }
   ],
   "source": [
    "# 使用 super() 方法執行父類別的方法\n",
    "class Person():\n",
    "    def __init__(self, name):\n",
    "        self.name = name\n",
    "    def hello(self):\n",
    "        print(self.name + '說哈囉!')\n",
    "\n",
    "class Son(Person):\n",
    "    # 覆寫父類別建構式\n",
    "    def __init__(self, name):\n",
    "        super().__init__(name)\n",
    "    # 新增子類別方法\n",
    "    def talk(self):\n",
    "        super().hello()\n",
    "        print(self.name + '也會說英語')\n",
    "\n",
    "# 建立父類別物件\n",
    "person1 = Person('Devid')\n",
    "person1.hello()\n",
    "# 建立子類別物件\n",
    "son = Son('Joe')\n",
    "son.talk()"
   ]
  },
  {
   "cell_type": "markdown",
   "metadata": {},
   "source": [
    "#### 3. 多型"
   ]
  },
  {
   "cell_type": "code",
   "execution_count": 10,
   "metadata": {},
   "outputs": [
    {
     "name": "stdout",
     "output_type": "stream",
     "text": [
      "Hello\n"
     ]
    }
   ],
   "source": [
    "# 多重繼承和多型\n",
    "class Father():\n",
    "    def say(self):\n",
    "        print('明天會更好!')\n",
    "\n",
    "class Mother():\n",
    "    def say(self):\n",
    "        print('包容、尊重')\n",
    "\n",
    "class Child(Mother, Father):\n",
    "    def say(self):\n",
    "        print('Hello')\n",
    "\n",
    "child = Child()\n",
    "child.say()"
   ]
  },
  {
   "cell_type": "markdown",
   "metadata": {},
   "source": [
    "#### 類別應用"
   ]
  },
  {
   "cell_type": "code",
   "execution_count": 15,
   "metadata": {},
   "outputs": [
    {
     "name": "stdout",
     "output_type": "stream",
     "text": [
      "矩形面積為: 30\n",
      "20\n",
      "三角形面積為: 10.0\n"
     ]
    }
   ],
   "source": [
    "# 建立局型類別求舉行面積、三角形類別繼承舉行類別求三角形面積\n",
    "class Rectangle():\n",
    "    def __init__(self,width,height):\n",
    "        self.width = width\n",
    "        self.height = height\n",
    "    def Area(self):\n",
    "        a = self.width * self.height\n",
    "        return a\n",
    "\n",
    "class Triangle(Rectangle):\n",
    "    def Area2(self):\n",
    "        return super().Area() / 2\n",
    "\n",
    "rec = Rectangle(5,6)\n",
    "print('矩形面積為:', rec.Area())\n",
    "\n",
    "tri = Triangle(5,4)\n",
    "print(tri.Area())\n",
    "print('三角形面積為:', tri.Area2())"
   ]
  },
  {
   "cell_type": "markdown",
   "metadata": {},
   "source": [
    "# 三、例外處理"
   ]
  },
  {
   "cell_type": "markdown",
   "metadata": {},
   "source": [
    "#### try...except 語法\n",
    "\n",
    "- try:\n",
    "    可能引發例外的程式區塊\n",
    "- except 例外情形一 [as 參數]:\n",
    "    處理例外的程式區塊一\n",
    "- except Exception [as 參數]:\n",
    "    處理所有其他可能發生的例外\n",
    "- else:\n",
    "    指令正確時執行的程式區塊\n",
    "- finally:\n",
    "    一定會執行的程式區塊"
   ]
  },
  {
   "cell_type": "code",
   "execution_count": 3,
   "metadata": {},
   "outputs": [
    {
     "name": "stdout",
     "output_type": "stream",
     "text": [
      "File not found\n",
      "Finished\n"
     ]
    }
   ],
   "source": [
    "# 語法測試 練習\n",
    "try:\n",
    "    f = open('123.txt', 'r')\n",
    "except FileNotFoundError:   # 非必要填入\n",
    "    print(\"File not found\")\n",
    "except:\n",
    "    print(\"Another Error occurred!\")\n",
    "else:\n",
    "    print(\"Got file\")\n",
    "finally:\n",
    "    print(\"Finished\")"
   ]
  },
  {
   "cell_type": "markdown",
   "metadata": {},
   "source": [
    "##### try...except常用例外錯誤表\n",
    "- AttributeError:物件無此屬性\n",
    "- Exception:所有的錯誤\n",
    "- FileNotFoundError:開啟檔案時找不到檔案\n",
    "- IOError:輸入/輸出錯誤\n",
    "- ZeroDivisionError:除數為0的錯誤"
   ]
  },
  {
   "cell_type": "code",
   "execution_count": 9,
   "metadata": {},
   "outputs": [
    {
     "name": "stdout",
     "output_type": "stream",
     "text": [
      "發生了integer division or modulo by zero的錯誤\n",
      "程式結束!\n"
     ]
    }
   ],
   "source": [
    "# 範例:捕捉非數值資料和除數為0的錯誤\n",
    "try:\n",
    "    a = int(input('a = '))\n",
    "    b = int(input('b = '))\n",
    "    r = a % b\n",
    "except ValueError:\n",
    "    print('請勿輸入文字或非數字!')\n",
    "except ZeroDivisionError as e:\n",
    "    print('發生了{}的錯誤'.format(e))\n",
    "except:\n",
    "    print('正經點!')\n",
    "else:\n",
    "    print('r = {}'.format(r))\n",
    "finally:\n",
    "    print('程式結束!')"
   ]
  }
 ],
 "metadata": {
  "kernelspec": {
   "display_name": "Python 3.10.8 64-bit (microsoft store)",
   "language": "python",
   "name": "python3"
  },
  "language_info": {
   "codemirror_mode": {
    "name": "ipython",
    "version": 3
   },
   "file_extension": ".py",
   "mimetype": "text/x-python",
   "name": "python",
   "nbconvert_exporter": "python",
   "pygments_lexer": "ipython3",
   "version": "3.10.8"
  },
  "orig_nbformat": 4,
  "vscode": {
   "interpreter": {
    "hash": "a3327f818e0a4ba18f1f384c03713ec02db81d5f9f9e6316f52b1fec9cb18330"
   }
  }
 },
 "nbformat": 4,
 "nbformat_minor": 2
}
