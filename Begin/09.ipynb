{
 "cells": [
  {
   "cell_type": "markdown",
   "metadata": {},
   "source": [
    "# 一、 資料預處理"
   ]
  },
  {
   "cell_type": "markdown",
   "metadata": {},
   "source": [
    "### 資料預處理"
   ]
  },
  {
   "cell_type": "code",
   "execution_count": null,
   "metadata": {},
   "outputs": [],
   "source": [
    "# !gdown 'google drive ID' --output filename.zip\n",
    "# !unzip filename.zip"
   ]
  },
  {
   "cell_type": "code",
   "execution_count": null,
   "metadata": {},
   "outputs": [],
   "source": [
    "import pandas as pd\n",
    "\n",
    "df = pd.read_csv('汽車車型資料檔.csv') # read data\n",
    "df\n",
    "\n",
    "df1 = df.iloc[:, 1:-1]  # 去除非數值的行\n",
    "df1"
   ]
  },
  {
   "cell_type": "code",
   "execution_count": null,
   "metadata": {},
   "outputs": [],
   "source": [
    "# Z分數標準化\n",
    "# !pip install scikit-learn\n",
    "from sklearn.preprocessing import StandardScaler    # 載入模組\n",
    "std = StandardScaler()\n",
    "arr = std.fit_transform(df1)\n",
    "arr"
   ]
  },
  {
   "cell_type": "code",
   "execution_count": null,
   "metadata": {},
   "outputs": [],
   "source": [
    "# 最大最小值標準化\n",
    "from sklearn.preprocessing import MinMaxScaler\n",
    "std = MinMaxScaler()\n",
    "arr = std.fit_transform(df1)\n",
    "arr"
   ]
  },
  {
   "cell_type": "markdown",
   "metadata": {},
   "source": [
    "### 非數值資料轉換"
   ]
  },
  {
   "cell_type": "code",
   "execution_count": null,
   "metadata": {},
   "outputs": [],
   "source": [
    "# 1. 對應字典法\n",
    "import pandas as pd\n",
    "\n",
    "df = pd.read_csv('客戶聯絡狀況資料檔.csv') # read data\n",
    "# df\n",
    "\n",
    "df['婚姻'].unique() # 顯示類別\n",
    "dict1 = {'單身':0, '已婚':1, '未知':2, '離婚':3}\n",
    "df['婚姻'].replace(dict1, inplace=True) \n",
    "df"
   ]
  },
  {
   "cell_type": "code",
   "execution_count": null,
   "metadata": {},
   "outputs": [],
   "source": [
    "# 2. 標籤編碼法\n",
    "from sklearn.preprocessing import LabelEncoder\n",
    "\n",
    "df['工作'].unique()\n",
    "label1 = LabelEncoder()\n",
    "# 標籤欄位 = 標籤物件.fit_transform(DataFrame欄位)\n",
    "df['工作'] = label1.fit_transform(df['工作'])\n",
    "df"
   ]
  },
  {
   "cell_type": "code",
   "execution_count": null,
   "metadata": {},
   "outputs": [],
   "source": [
    "# 查詢轉換後數值代表特徵值\n",
    "# 標籤物件.classes_\n",
    "# labelname = label1.classes_\n",
    "label1.classes_"
   ]
  },
  {
   "cell_type": "code",
   "execution_count": null,
   "metadata": {},
   "outputs": [],
   "source": [
    "# 3. one-Hot 編碼法\n",
    "# df['訂購'].unique()\n",
    "\n",
    "# 先轉標籤，再轉One-Hot，但不轉標籤也能用One-Hot\n",
    "from sklearn.preprocessing import LabelEncoder\n",
    "label1 = LabelEncoder()\n",
    "df['訂購'] = label1.fit_transform(df['訂購'])\n",
    "df"
   ]
  },
  {
   "cell_type": "code",
   "execution_count": null,
   "metadata": {},
   "outputs": [],
   "source": [
    "from sklearn.preprocessing import OneHotEncoder\n",
    "# onehot物件 = OneHotEncoder(sparse=布林值)\n",
    "onehot = OneHotEncoder(sparse=False) # sparse占記憶體較小，但不易懂\n",
    "arr = onehot.fit_transform(df[['訂購']]) # DataFrame要放「二維陣列」\n",
    "arr"
   ]
  },
  {
   "cell_type": "markdown",
   "metadata": {},
   "source": [
    "# 二、 機器學習\n",
    "\n",
    "> 01. 監督式學習: K近鄰、 單純貝氏分類、 決策樹\n",
    "\n",
    "- 分類: 目標值不是連續值，例如能預測用戶是否能得到貸款\n",
    "\n",
    "- 回歸: 目標值是連續值，例如能預測能得到多少貸款金額\n",
    "\n",
    "> 02. 非監督式學習: K-means、DBSCAN"
   ]
  },
  {
   "cell_type": "markdown",
   "metadata": {},
   "source": [
    "### K-means 演算法"
   ]
  },
  {
   "cell_type": "code",
   "execution_count": null,
   "metadata": {},
   "outputs": [],
   "source": [
    "import pandas as pd\n",
    "df = pd.read_csv('customer.csv')\n",
    "df"
   ]
  },
  {
   "cell_type": "code",
   "execution_count": null,
   "metadata": {},
   "outputs": [],
   "source": [
    "dict1 = {\"男\" : 1, \"女\" : 2}\n",
    "df['性別'].replace(dict1, inplace = True)\n",
    "df"
   ]
  },
  {
   "cell_type": "code",
   "execution_count": null,
   "metadata": {},
   "outputs": [],
   "source": [
    "# 加入分群結果\n",
    "from sklearn.cluster import KMeans\n",
    "# KMeans變數 = KMeans(n_clusters= 數值) # n_clusters:分成幾群\n",
    "km = KMeans(n_clusters=3)\n",
    "# KMeans變數.fit(訓練資料)\n",
    "km.fit(df)\n",
    "\n",
    "# 分群結果\n",
    "km.labels_\n",
    "\n",
    "# 加入分群結果\n",
    "df['類別'] = km.labels_\n",
    "df"
   ]
  },
  {
   "cell_type": "code",
   "execution_count": null,
   "metadata": {},
   "outputs": [],
   "source": [
    "# 解讀各群組資料\n",
    "df1 = df[df['類別'] == 0]\n",
    "df1.iloc[:25, :] #只顯示25筆符合資料，整列\n",
    "# 收入偏高/消費指數偏高 --> VIP"
   ]
  },
  {
   "cell_type": "code",
   "execution_count": null,
   "metadata": {},
   "outputs": [],
   "source": [
    "df2 = df[df['類別'] == 1]\n",
    "df2.iloc[:25, :]\n",
    "# 收入無明顯之分/消費指數偏低 --> 普通人 or 對此商店物品不滿意者"
   ]
  },
  {
   "cell_type": "code",
   "execution_count": null,
   "metadata": {},
   "outputs": [],
   "source": [
    "df3 = df[df['類別'] == 2]\n",
    "df3.iloc[:25, :]\n",
    "# 收入偏中低/消費指數偏高 --> 熱愛此商店的消費者(有潛力)"
   ]
  },
  {
   "cell_type": "code",
   "execution_count": null,
   "metadata": {},
   "outputs": [],
   "source": [
    "# 評估分群效果\n",
    "from sklearn.metrics import calinski_harabasz_score\n",
    "for n in range(2,15):\n",
    "    km = KMeans(n_clusters=n) #分n群\n",
    "    km.fit(df)\n",
    "    metric = calinski_harabasz_score(df, km.labels_)\n",
    "    print(f'群組數量：{n}，評分：{metric}')\n",
    "# 分數越高 分群效果越好"
   ]
  },
  {
   "cell_type": "markdown",
   "metadata": {},
   "source": [
    "### K近鄰演算法\n",
    "- 簡稱: KNN"
   ]
  },
  {
   "cell_type": "code",
   "execution_count": null,
   "metadata": {},
   "outputs": [],
   "source": [
    "#參考資料\n",
    "\n",
    "# https://ithelp.ithome.com.tw/articles/10186473\n",
    "# http://yann.lecun.com/exdb/mnist/\n",
    "# https://stackoverflow.com/questions/62210186/from-tensorflow-examples-tutorials-mnist-not-working-in-google-colab\n",
    "# https://www.codegrepper.com/code-examples/whatever/No+module+named+%27tensorflow.examples.tutorials%27+in+google+colab\n",
    "# https://www.codegrepper.com/code-examples/shell/ModuleNotFoundError%3A+No+module+named+%27tensorflow.examples%27\n",
    "# https://github.com/tensorflow/tensorflow\n",
    "# https://github.com/tensorflow/tensorflow/issues/32790\n",
    "# https://blog.csdn.net/weixin_41663570/article/details/102512468\n",
    "# https://sweetornotspicymarathon.medium.com/tesorflow-keras-%E5%AD%B8%E7%BF%92%E7%AD%86%E8%A8%98-%E6%96%B0%E6%89%8B%E4%B8%80%E5%AE%9A%E8%A6%81%E7%8E%A9%E7%9A%84mnist%E6%89%8B%E5%AF%AB%E6%95%B8%E5%AD%97%E8%BE%A8%E8%AD%98-9327366cc838\n",
    "\n",
    "# https://steam.oxxostudio.tw/category/python/example/image-conversion.html\n",
    "# https://steam.oxxostudio.tw/category/python/example/matplotlib-save-image.html\n",
    "# https://www.delftstack.com/zh-tw/howto/matplotlib/how-to-change-the-figure-size-in-matplotlib/"
   ]
  },
  {
   "cell_type": "code",
   "execution_count": null,
   "metadata": {},
   "outputs": [],
   "source": [
    "# !pip install --ignore-installed --upgrade tensorflow\n",
    "\n",
    "# !pip install mnist\n",
    "# import mnist\n",
    "# train_images = mnist.train_images() \n",
    "# train_labels = mnist.train_labels()\n",
    "# test_images = mnist.test_images()\n",
    "# test_labels = mnist.test_labels()\n",
    "\n",
    "# !git clone https://github.com/tensorflow/tensorflow.git"
   ]
  },
  {
   "cell_type": "markdown",
   "metadata": {},
   "source": [
    "### mnist500.zip模擬創作"
   ]
  },
  {
   "cell_type": "code",
   "execution_count": null,
   "metadata": {},
   "outputs": [],
   "source": [
    "from sklearn.neighbors import KNeighborsClassifier\n",
    "from sklearn.model_selection import train_test_split\n",
    "import numpy as np\n",
    "import matplotlib.pyplot as plt\n",
    "\n",
    "data = []\n",
    "for i in range(10):\n",
    "    for j in range(1,501):\n",
    "        data.append(plt.imread(f'mnist500/{i}/{i}_{j}.bmp'))\n",
    "\n",
    "# len(data)\n",
    "\n",
    "x = np.array(data)\n",
    "x"
   ]
  },
  {
   "cell_type": "code",
   "execution_count": null,
   "metadata": {},
   "outputs": [],
   "source": [
    "plt.imshow(x[1005], cmap='gray') #本身就是gray了"
   ]
  },
  {
   "cell_type": "code",
   "execution_count": null,
   "metadata": {},
   "outputs": [],
   "source": [
    "y = [0,1,2,3,4,5,6,7,8,9] * 500 # 目標值分組\n",
    "y.sort()\n",
    "print(y)"
   ]
  },
  {
   "cell_type": "code",
   "execution_count": null,
   "metadata": {},
   "outputs": [],
   "source": [
    "y = np.array(y)"
   ]
  },
  {
   "cell_type": "code",
   "execution_count": null,
   "metadata": {},
   "outputs": [],
   "source": [
    "x_train, x_test, y_train, y_test = train_test_split(x, y, test_size=0.2)\n",
    "len(x_test)"
   ]
  },
  {
   "cell_type": "markdown",
   "metadata": {},
   "source": [
    "#### 實作K近鄰演算法\n",
    "- 語法\n",
    "\n",
    "    ```python\n",
    "    from sklearn.neighbors import KNeighborsClassifier\n",
    "    近鄰變數 = KNeighborsClassifier(n_neighbors=數值, algorithm=演算法, weights=權重計算方式)\n",
    "    近鄰變數.fit(訓練資料, 訓練目標值)\n",
    "    預測變數 = 近鄰變數.predict(預測資料)\n",
    "    準確率變數 = 近鄰變數.score(預測資料, 預測目標值)\n",
    "    ```\n",
    "    \n",
    "    "
   ]
  },
  {
   "cell_type": "code",
   "execution_count": null,
   "metadata": {},
   "outputs": [],
   "source": [
    "knn = KNeighborsClassifier(n_neighbors= 5)\n",
    "knn.fit(x_train.reshape(4000, -1), y_train)\n",
    "# 預測變數\n",
    "pred = knn.predict(x_test.reshape(1000, -1))\n",
    "pred\n",
    "\n",
    "# 比對預測值與正確值\n",
    "print(pred[100:130])\n",
    "print(y_test[100:130])\n",
    "\n",
    "# 準確率變數\n",
    "score = knn.score(x_test.reshape(1000, -1), y_test)\n",
    "score"
   ]
  },
  {
   "cell_type": "code",
   "execution_count": null,
   "metadata": {},
   "outputs": [],
   "source": [
    "# 儲存模型\n",
    "import joblib\n",
    "joblib.dump(knn, 'mnist500.pkl')"
   ]
  },
  {
   "cell_type": "code",
   "execution_count": null,
   "metadata": {},
   "outputs": [],
   "source": [
    "# 讀取模型\n",
    "import joblib\n",
    "knn2 = joblib.load('mnist500.pkl')"
   ]
  },
  {
   "cell_type": "code",
   "execution_count": null,
   "metadata": {},
   "outputs": [],
   "source": [
    "# 驗證模型\n",
    "img = plt.imread('mnist500/3/3_1.bmp')\n",
    "pred2 = knn2.predict(img.reshape(1, -1))\n",
    "pred2"
   ]
  },
  {
   "cell_type": "code",
   "execution_count": null,
   "metadata": {},
   "outputs": [],
   "source": [
    "# KNN完整程式碼\n",
    "from sklearn.neighbors import KNeighborsClassifier\n",
    "from sklearn.model_selection import train_test_split\n",
    "import numpy as np\n",
    "import matplotlib.pyplot as plt\n",
    "import joblib\n",
    "\n",
    "data = []\n",
    "for i in range(10):\n",
    "    for j in range(1,501):\n",
    "        data.append(plt.imread(f'mnist500/{i}/{i}_{j}.bmp'))\n",
    "x = np.array(data)\n",
    "y = [0,1,2,3,4,5,6,7,8,9] * 500\n",
    "y = np.array(y)\n",
    "y.sort()\n",
    "x_train, x_test, y_train, y_test = train_test_split(x, y, test_size=0.2, random_state = 12)\n",
    "knn = KNeighborsClassifier(n_neighbors= 5)\n",
    "knn.fit(x_train.reshape(4000, -1), y_train)\n",
    "score = knn.score(x_test.reshape(1000, -1), y_test)\n",
    "print(score)\n",
    "joblib.dump(knn, 'mnist500.pkl')"
   ]
  },
  {
   "cell_type": "markdown",
   "metadata": {},
   "source": [
    "### 交叉驗證與網路搜索\n",
    "#### 實作機器學習參數調較\n",
    "\n",
    "- 語法:\n",
    "\n",
    "    ```python\n",
    "    from sklearn.model_selection import GridSearchCV\n",
    "    參數變數 = {'n_neighbors':[2,3,6,10], 'weights':['uniform','distance']} # {參數1:值1, 參數2:值2, ....}\n",
    "    網格變數 = GridSearchCV(knn, param_grid=param, cv=5)    # (演算法物件變數, param_grid=參數變數, cv=數值)\n",
    "    網格變數.fit(x_train.reshape(4000, -1), y_train)    # (訓練特徵值, 訓練目標值)\n",
    "    ```\n",
    "\n",
    "- 結果:\n",
    "\n",
    "    + best_score : 交叉驗證中最佳準確率\n",
    "    + best_params : 最佳參數組合\n",
    "    + cv_results : 每次交叉驗證準確率"
   ]
  },
  {
   "cell_type": "code",
   "execution_count": null,
   "metadata": {},
   "outputs": [],
   "source": [
    "from sklearn.model_selection import GridSearchCV\n",
    "param = {'n_neighbors':[2,3,6,10], 'weights':['uniform','distance']}\n",
    "gc = GridSearchCV(knn, param_grid=param, cv=5)\n",
    "gc.fit(x_train.reshape(4000, -1), y_train)"
   ]
  },
  {
   "cell_type": "code",
   "execution_count": null,
   "metadata": {},
   "outputs": [],
   "source": [
    "gc.best_params_"
   ]
  },
  {
   "cell_type": "code",
   "execution_count": null,
   "metadata": {},
   "outputs": [],
   "source": [
    "gc.best_score_"
   ]
  },
  {
   "cell_type": "markdown",
   "metadata": {},
   "source": [
    "### 單純貝氏演算法\n",
    "\n",
    "##### 文字處理上，較好的演算法"
   ]
  },
  {
   "cell_type": "markdown",
   "metadata": {},
   "source": [
    "#### 英文文句的特徵處理\n",
    "- 語法:\n",
    "    ```python\n",
    "    from sklearn.feature_extraction.text import CountVectorizer\n",
    "    文句變數 = CountVectorizer()\n",
    "    數值變數 = 文句變數.fit_transform(['文句串列'])\n",
    "    ```\n",
    "\n",
    "- 結果:\n",
    "    + 數值變數.toarray() : 文句次數統計\n",
    "    + 文句變數.get_feature_names_out() : 文句"
   ]
  },
  {
   "cell_type": "code",
   "execution_count": null,
   "metadata": {},
   "outputs": [],
   "source": [
    "# 英文文句特徵處理\n",
    "from sklearn.feature_extraction.text import CountVectorizer\n",
    "cv = CountVectorizer()\n",
    "data = cv.fit_transform(['code is easy, i like python code','code is too hard, i dislike python code'])\n",
    "data"
   ]
  },
  {
   "cell_type": "code",
   "execution_count": null,
   "metadata": {},
   "outputs": [],
   "source": [
    "data.toarray()"
   ]
  },
  {
   "cell_type": "code",
   "execution_count": null,
   "metadata": {},
   "outputs": [],
   "source": [
    "cv.get_feature_names_out()"
   ]
  },
  {
   "cell_type": "markdown",
   "metadata": {},
   "source": [
    "### tf-idf 文句處理\n",
    "- tf : 單詞頻率，表示單詞在一個文句中出現的次數\n",
    "- idf : 逆文件頻率，表示有出現單詞文句數量\n",
    "\n",
    "- 語法:\n",
    "    ```Python\n",
    "    from sklearn.feature_extraction.text import TfidfVectorizer\n",
    "    文句變數 = TfidfVectorizer()\n",
    "    數值變數 = 文句變數.fit_transform(文句串列)\n",
    "    ```\n",
    "\n",
    "- 結果:\n",
    "    + 數值變數.toarray() : 文句次數統計\n",
    "    + 文句變數.文句變數.get_feature_names_out() : 文句"
   ]
  },
  {
   "cell_type": "code",
   "execution_count": null,
   "metadata": {},
   "outputs": [],
   "source": [
    "# tf-idf文句處理\n",
    "from sklearn.feature_extraction.text import TfidfVectorizer\n",
    "tf = TfidfVectorizer()\n",
    "data = tf.fit_transform(['code is easy, i like python code','code is too hard, i dislike python code'])\n",
    "data.toarray()"
   ]
  },
  {
   "cell_type": "code",
   "execution_count": null,
   "metadata": {},
   "outputs": [],
   "source": [
    "# 判斷英文新聞類別\n",
    "from sklearn.datasets import fetch_20newsgroups\n",
    "from sklearn.model_selection import train_test_split\n",
    "from sklearn.feature_extraction.text import TfidfVectorizer\n",
    "from sklearn.naive_bayes import MultinomialNB\n",
    "\n",
    "news = fetch_20newsgroups(subset='all')\n",
    "news.data"
   ]
  },
  {
   "cell_type": "code",
   "execution_count": 81,
   "metadata": {},
   "outputs": [
    {
     "data": {
      "text/plain": [
       "array([10,  3, 17, ...,  3,  1,  7])"
      ]
     },
     "execution_count": 81,
     "metadata": {},
     "output_type": "execute_result"
    }
   ],
   "source": [
    "news.target"
   ]
  },
  {
   "cell_type": "code",
   "execution_count": 82,
   "metadata": {},
   "outputs": [
    {
     "data": {
      "text/plain": [
       "['alt.atheism',\n",
       " 'comp.graphics',\n",
       " 'comp.os.ms-windows.misc',\n",
       " 'comp.sys.ibm.pc.hardware',\n",
       " 'comp.sys.mac.hardware',\n",
       " 'comp.windows.x',\n",
       " 'misc.forsale',\n",
       " 'rec.autos',\n",
       " 'rec.motorcycles',\n",
       " 'rec.sport.baseball',\n",
       " 'rec.sport.hockey',\n",
       " 'sci.crypt',\n",
       " 'sci.electronics',\n",
       " 'sci.med',\n",
       " 'sci.space',\n",
       " 'soc.religion.christian',\n",
       " 'talk.politics.guns',\n",
       " 'talk.politics.mideast',\n",
       " 'talk.politics.misc',\n",
       " 'talk.religion.misc']"
      ]
     },
     "execution_count": 82,
     "metadata": {},
     "output_type": "execute_result"
    }
   ],
   "source": [
    "news.target_names"
   ]
  },
  {
   "cell_type": "code",
   "execution_count": 83,
   "metadata": {},
   "outputs": [
    {
     "data": {
      "text/plain": [
       "18846"
      ]
     },
     "execution_count": 83,
     "metadata": {},
     "output_type": "execute_result"
    }
   ],
   "source": [
    "len(news.target)"
   ]
  },
  {
   "cell_type": "code",
   "execution_count": 84,
   "metadata": {},
   "outputs": [
    {
     "data": {
      "text/plain": [
       "0.8604774535809019"
      ]
     },
     "execution_count": 84,
     "metadata": {},
     "output_type": "execute_result"
    }
   ],
   "source": [
    "x_train, x_test, y_train, y_test = train_test_split(news.data, news.target, test_size = 0.2)\n",
    "\n",
    "tf = TfidfVectorizer()\n",
    "x_train = tf.fit_transform(x_train)\n",
    "\n",
    "x_test = tf.transform(x_test)\n",
    "\n",
    "from sklearn.naive_bayes import MultinomialNB\n",
    "mlt = MultinomialNB(alpha=1.0)\n",
    "mlt.fit(x_train, y_train)\n",
    "\n",
    "score = mlt.score(x_test, y_test)\n",
    "score"
   ]
  },
  {
   "cell_type": "code",
   "execution_count": 85,
   "metadata": {},
   "outputs": [
    {
     "data": {
      "text/plain": [
       "0.8503978779840848"
      ]
     },
     "execution_count": 85,
     "metadata": {},
     "output_type": "execute_result"
    }
   ],
   "source": [
    "# 判斷英文新聞類別完整程式碼\n",
    "from sklearn.datasets import fetch_20newsgroups\n",
    "from sklearn.model_selection import train_test_split\n",
    "from sklearn.feature_extraction.text import TfidfVectorizer\n",
    "from sklearn.naive_bayes import MultinomialNB\n",
    "\n",
    "news = fetch_20newsgroups(subset='all')\n",
    "x_train, x_test, y_train, y_test = train_test_split(news.data, news.target, test_size = 0.2)\n",
    "tf = TfidfVectorizer()\n",
    "x_train = tf.fit_transform(x_train)\n",
    "x_test = tf.transform(x_test) # x_train可能有18000個字，x_test可能只有8000個字，這時如果用tf.fit_transform(x_test)的話，字的數量會對不上\n",
    "mlt = MultinomialNB(alpha=1.0)\n",
    "mlt.fit(x_train, y_train)\n",
    "score = mlt.score(x_test, y_test)\n",
    "score"
   ]
  },
  {
   "cell_type": "markdown",
   "metadata": {},
   "source": [
    "#### 例句：今天台北天氣晴朗，風景區擠滿了人潮。、台北的天氣常常下雨。"
   ]
  },
  {
   "cell_type": "code",
   "execution_count": 87,
   "metadata": {},
   "outputs": [],
   "source": [
    "# 中文文句特徵處理\n",
    "import jieba"
   ]
  },
  {
   "cell_type": "code",
   "execution_count": 88,
   "metadata": {},
   "outputs": [
    {
     "name": "stderr",
     "output_type": "stream",
     "text": [
      "Building prefix dict from the default dictionary ...\n",
      "Dumping model to file cache C:\\Users\\Egg\\AppData\\Local\\Temp\\jieba.cache\n",
      "Loading model cost 0.805 seconds.\n",
      "Prefix dict has been built successfully.\n"
     ]
    },
    {
     "data": {
      "text/plain": [
       "'今天 台北 天氣 晴朗 ， 風景區 擠 滿 了 人潮 。 、 台北 的 天氣 常常 下雨 。'"
      ]
     },
     "execution_count": 88,
     "metadata": {},
     "output_type": "execute_result"
    }
   ],
   "source": [
    "t1 = list(jieba.cut('今天台北天氣晴朗，風景區擠滿了人潮。、台北的天氣常常下雨。'))\n",
    "c1 = ' '.join(t1)\n",
    "c1"
   ]
  },
  {
   "cell_type": "code",
   "execution_count": 89,
   "metadata": {},
   "outputs": [],
   "source": [
    "# 判斷中文新聞類別\n",
    "from sklearn.model_selection import train_test_split\n",
    "from sklearn.feature_extraction.text import TfidfVectorizer\n",
    "from sklearn.naive_bayes import MultinomialNB\n",
    "import jieba"
   ]
  },
  {
   "cell_type": "code",
   "execution_count": 90,
   "metadata": {},
   "outputs": [],
   "source": [
    "data = []\n",
    "target = []\n",
    "f = open('toutiao_cat_data.txt', encoding = 'utf-8')\n",
    "for line in f:\n",
    "    linelist = line.split('_!_')\n",
    "    target.append(linelist[1])\n",
    "    t = list(jieba.cut(linelist[3]))\n",
    "    data.append(' '.join(t))\n",
    "\n",
    "f.close()"
   ]
  },
  {
   "cell_type": "code",
   "execution_count": 91,
   "metadata": {},
   "outputs": [
    {
     "data": {
      "text/plain": [
       "382688"
      ]
     },
     "execution_count": 91,
     "metadata": {},
     "output_type": "execute_result"
    }
   ],
   "source": [
    "len(target)"
   ]
  },
  {
   "cell_type": "code",
   "execution_count": 92,
   "metadata": {},
   "outputs": [
    {
     "data": {
      "text/plain": [
       "0.8302673181948836"
      ]
     },
     "execution_count": 92,
     "metadata": {},
     "output_type": "execute_result"
    }
   ],
   "source": [
    "x_train, x_test, y_train, y_test = train_test_split(data, target, test_size = 0.2)\n",
    "tf = TfidfVectorizer()\n",
    "x_train = tf.fit_transform(x_train)\n",
    "x_test = tf.transform(x_test)\n",
    "mlt = MultinomialNB(alpha=1.0)\n",
    "mlt.fit(x_train, y_train)\n",
    "score = mlt.score(x_test, y_test)\n",
    "score"
   ]
  },
  {
   "cell_type": "markdown",
   "metadata": {},
   "source": [
    "### 線性迴歸演算法"
   ]
  },
  {
   "cell_type": "code",
   "execution_count": 93,
   "metadata": {},
   "outputs": [
    {
     "data": {
      "text/html": [
       "<div>\n",
       "<style scoped>\n",
       "    .dataframe tbody tr th:only-of-type {\n",
       "        vertical-align: middle;\n",
       "    }\n",
       "\n",
       "    .dataframe tbody tr th {\n",
       "        vertical-align: top;\n",
       "    }\n",
       "\n",
       "    .dataframe thead th {\n",
       "        text-align: right;\n",
       "    }\n",
       "</style>\n",
       "<table border=\"1\" class=\"dataframe\">\n",
       "  <thead>\n",
       "    <tr style=\"text-align: right;\">\n",
       "      <th></th>\n",
       "      <th>犯罪率</th>\n",
       "      <th>豪宅比</th>\n",
       "      <th>公設比</th>\n",
       "      <th>臨公園</th>\n",
       "      <th>NO濃度</th>\n",
       "      <th>房間數</th>\n",
       "      <th>屋齡</th>\n",
       "      <th>賣場距離</th>\n",
       "      <th>捷運距離</th>\n",
       "      <th>繳稅率</th>\n",
       "      <th>師生比</th>\n",
       "      <th>低收入比</th>\n",
       "      <th>房價</th>\n",
       "    </tr>\n",
       "  </thead>\n",
       "  <tbody>\n",
       "    <tr>\n",
       "      <th>0</th>\n",
       "      <td>2.64981</td>\n",
       "      <td>0.0</td>\n",
       "      <td>28.18</td>\n",
       "      <td>0</td>\n",
       "      <td>0.589</td>\n",
       "      <td>5.867</td>\n",
       "      <td>7.4</td>\n",
       "      <td>12.5002</td>\n",
       "      <td>5</td>\n",
       "      <td>102</td>\n",
       "      <td>21.0</td>\n",
       "      <td>23.038918</td>\n",
       "      <td>23.1</td>\n",
       "    </tr>\n",
       "    <tr>\n",
       "      <th>1</th>\n",
       "      <td>0.14511</td>\n",
       "      <td>0.0</td>\n",
       "      <td>6.95</td>\n",
       "      <td>0</td>\n",
       "      <td>0.213</td>\n",
       "      <td>4.283</td>\n",
       "      <td>81.3</td>\n",
       "      <td>14.6909</td>\n",
       "      <td>23</td>\n",
       "      <td>158</td>\n",
       "      <td>22.8</td>\n",
       "      <td>39.632374</td>\n",
       "      <td>15.8</td>\n",
       "    </tr>\n",
       "    <tr>\n",
       "      <th>2</th>\n",
       "      <td>3.93046</td>\n",
       "      <td>6.0</td>\n",
       "      <td>46.29</td>\n",
       "      <td>1</td>\n",
       "      <td>0.278</td>\n",
       "      <td>4.287</td>\n",
       "      <td>16.4</td>\n",
       "      <td>0.7680</td>\n",
       "      <td>21</td>\n",
       "      <td>637</td>\n",
       "      <td>7.0</td>\n",
       "      <td>37.513949</td>\n",
       "      <td>22.1</td>\n",
       "    </tr>\n",
       "    <tr>\n",
       "      <th>3</th>\n",
       "      <td>2.95667</td>\n",
       "      <td>0.0</td>\n",
       "      <td>15.28</td>\n",
       "      <td>0</td>\n",
       "      <td>0.355</td>\n",
       "      <td>1.154</td>\n",
       "      <td>76.4</td>\n",
       "      <td>9.1349</td>\n",
       "      <td>8</td>\n",
       "      <td>337</td>\n",
       "      <td>18.1</td>\n",
       "      <td>12.331483</td>\n",
       "      <td>16.6</td>\n",
       "    </tr>\n",
       "    <tr>\n",
       "      <th>4</th>\n",
       "      <td>1.24919</td>\n",
       "      <td>3.0</td>\n",
       "      <td>39.17</td>\n",
       "      <td>0</td>\n",
       "      <td>0.206</td>\n",
       "      <td>6.788</td>\n",
       "      <td>10.0</td>\n",
       "      <td>10.5811</td>\n",
       "      <td>17</td>\n",
       "      <td>222</td>\n",
       "      <td>17.9</td>\n",
       "      <td>12.984651</td>\n",
       "      <td>26.3</td>\n",
       "    </tr>\n",
       "    <tr>\n",
       "      <th>...</th>\n",
       "      <td>...</td>\n",
       "      <td>...</td>\n",
       "      <td>...</td>\n",
       "      <td>...</td>\n",
       "      <td>...</td>\n",
       "      <td>...</td>\n",
       "      <td>...</td>\n",
       "      <td>...</td>\n",
       "      <td>...</td>\n",
       "      <td>...</td>\n",
       "      <td>...</td>\n",
       "      <td>...</td>\n",
       "      <td>...</td>\n",
       "    </tr>\n",
       "    <tr>\n",
       "      <th>495</th>\n",
       "      <td>0.64935</td>\n",
       "      <td>0.0</td>\n",
       "      <td>13.13</td>\n",
       "      <td>0</td>\n",
       "      <td>0.420</td>\n",
       "      <td>4.671</td>\n",
       "      <td>29.6</td>\n",
       "      <td>2.7699</td>\n",
       "      <td>22</td>\n",
       "      <td>831</td>\n",
       "      <td>17.1</td>\n",
       "      <td>16.196702</td>\n",
       "      <td>23.0</td>\n",
       "    </tr>\n",
       "    <tr>\n",
       "      <th>496</th>\n",
       "      <td>3.81123</td>\n",
       "      <td>70.0</td>\n",
       "      <td>29.51</td>\n",
       "      <td>0</td>\n",
       "      <td>0.398</td>\n",
       "      <td>5.472</td>\n",
       "      <td>78.3</td>\n",
       "      <td>6.1768</td>\n",
       "      <td>9</td>\n",
       "      <td>928</td>\n",
       "      <td>19.5</td>\n",
       "      <td>8.527868</td>\n",
       "      <td>23.0</td>\n",
       "    </tr>\n",
       "    <tr>\n",
       "      <th>497</th>\n",
       "      <td>0.72696</td>\n",
       "      <td>0.0</td>\n",
       "      <td>56.88</td>\n",
       "      <td>0</td>\n",
       "      <td>0.628</td>\n",
       "      <td>3.126</td>\n",
       "      <td>91.4</td>\n",
       "      <td>13.3371</td>\n",
       "      <td>13</td>\n",
       "      <td>201</td>\n",
       "      <td>21.6</td>\n",
       "      <td>22.979185</td>\n",
       "      <td>18.1</td>\n",
       "    </tr>\n",
       "    <tr>\n",
       "      <th>498</th>\n",
       "      <td>9.52366</td>\n",
       "      <td>0.0</td>\n",
       "      <td>23.17</td>\n",
       "      <td>0</td>\n",
       "      <td>0.892</td>\n",
       "      <td>2.356</td>\n",
       "      <td>79.4</td>\n",
       "      <td>8.5226</td>\n",
       "      <td>23</td>\n",
       "      <td>907</td>\n",
       "      <td>18.9</td>\n",
       "      <td>6.263589</td>\n",
       "      <td>13.0</td>\n",
       "    </tr>\n",
       "    <tr>\n",
       "      <th>499</th>\n",
       "      <td>2.28631</td>\n",
       "      <td>0.0</td>\n",
       "      <td>29.80</td>\n",
       "      <td>1</td>\n",
       "      <td>0.566</td>\n",
       "      <td>1.198</td>\n",
       "      <td>27.6</td>\n",
       "      <td>7.0518</td>\n",
       "      <td>20</td>\n",
       "      <td>698</td>\n",
       "      <td>16.9</td>\n",
       "      <td>27.772423</td>\n",
       "      <td>19.3</td>\n",
       "    </tr>\n",
       "  </tbody>\n",
       "</table>\n",
       "<p>500 rows × 13 columns</p>\n",
       "</div>"
      ],
      "text/plain": [
       "         犯罪率   豪宅比    公設比  臨公園   NO濃度    房間數    屋齡     賣場距離  捷運距離  繳稅率   師生比  \\\n",
       "0    2.64981   0.0  28.18    0  0.589  5.867   7.4  12.5002     5  102  21.0   \n",
       "1    0.14511   0.0   6.95    0  0.213  4.283  81.3  14.6909    23  158  22.8   \n",
       "2    3.93046   6.0  46.29    1  0.278  4.287  16.4   0.7680    21  637   7.0   \n",
       "3    2.95667   0.0  15.28    0  0.355  1.154  76.4   9.1349     8  337  18.1   \n",
       "4    1.24919   3.0  39.17    0  0.206  6.788  10.0  10.5811    17  222  17.9   \n",
       "..       ...   ...    ...  ...    ...    ...   ...      ...   ...  ...   ...   \n",
       "495  0.64935   0.0  13.13    0  0.420  4.671  29.6   2.7699    22  831  17.1   \n",
       "496  3.81123  70.0  29.51    0  0.398  5.472  78.3   6.1768     9  928  19.5   \n",
       "497  0.72696   0.0  56.88    0  0.628  3.126  91.4  13.3371    13  201  21.6   \n",
       "498  9.52366   0.0  23.17    0  0.892  2.356  79.4   8.5226    23  907  18.9   \n",
       "499  2.28631   0.0  29.80    1  0.566  1.198  27.6   7.0518    20  698  16.9   \n",
       "\n",
       "          低收入比    房價  \n",
       "0    23.038918  23.1  \n",
       "1    39.632374  15.8  \n",
       "2    37.513949  22.1  \n",
       "3    12.331483  16.6  \n",
       "4    12.984651  26.3  \n",
       "..         ...   ...  \n",
       "495  16.196702  23.0  \n",
       "496   8.527868  23.0  \n",
       "497  22.979185  18.1  \n",
       "498   6.263589  13.0  \n",
       "499  27.772423  19.3  \n",
       "\n",
       "[500 rows x 13 columns]"
      ]
     },
     "execution_count": 93,
     "metadata": {},
     "output_type": "execute_result"
    }
   ],
   "source": [
    "import pandas as pd\n",
    "hp = pd.read_csv('housePrice.csv')\n",
    "hp"
   ]
  },
  {
   "cell_type": "code",
   "execution_count": 94,
   "metadata": {},
   "outputs": [
    {
     "data": {
      "text/html": [
       "<div>\n",
       "<style scoped>\n",
       "    .dataframe tbody tr th:only-of-type {\n",
       "        vertical-align: middle;\n",
       "    }\n",
       "\n",
       "    .dataframe tbody tr th {\n",
       "        vertical-align: top;\n",
       "    }\n",
       "\n",
       "    .dataframe thead th {\n",
       "        text-align: right;\n",
       "    }\n",
       "</style>\n",
       "<table border=\"1\" class=\"dataframe\">\n",
       "  <thead>\n",
       "    <tr style=\"text-align: right;\">\n",
       "      <th></th>\n",
       "      <th>犯罪率</th>\n",
       "      <th>豪宅比</th>\n",
       "      <th>公設比</th>\n",
       "      <th>臨公園</th>\n",
       "      <th>NO濃度</th>\n",
       "      <th>房間數</th>\n",
       "      <th>屋齡</th>\n",
       "      <th>賣場距離</th>\n",
       "      <th>捷運距離</th>\n",
       "      <th>繳稅率</th>\n",
       "      <th>師生比</th>\n",
       "      <th>低收入比</th>\n",
       "    </tr>\n",
       "  </thead>\n",
       "  <tbody>\n",
       "    <tr>\n",
       "      <th>0</th>\n",
       "      <td>2.64981</td>\n",
       "      <td>0.0</td>\n",
       "      <td>28.18</td>\n",
       "      <td>0</td>\n",
       "      <td>0.589</td>\n",
       "      <td>5.867</td>\n",
       "      <td>7.4</td>\n",
       "      <td>12.5002</td>\n",
       "      <td>5</td>\n",
       "      <td>102</td>\n",
       "      <td>21.0</td>\n",
       "      <td>23.038918</td>\n",
       "    </tr>\n",
       "    <tr>\n",
       "      <th>1</th>\n",
       "      <td>0.14511</td>\n",
       "      <td>0.0</td>\n",
       "      <td>6.95</td>\n",
       "      <td>0</td>\n",
       "      <td>0.213</td>\n",
       "      <td>4.283</td>\n",
       "      <td>81.3</td>\n",
       "      <td>14.6909</td>\n",
       "      <td>23</td>\n",
       "      <td>158</td>\n",
       "      <td>22.8</td>\n",
       "      <td>39.632374</td>\n",
       "    </tr>\n",
       "    <tr>\n",
       "      <th>2</th>\n",
       "      <td>3.93046</td>\n",
       "      <td>6.0</td>\n",
       "      <td>46.29</td>\n",
       "      <td>1</td>\n",
       "      <td>0.278</td>\n",
       "      <td>4.287</td>\n",
       "      <td>16.4</td>\n",
       "      <td>0.7680</td>\n",
       "      <td>21</td>\n",
       "      <td>637</td>\n",
       "      <td>7.0</td>\n",
       "      <td>37.513949</td>\n",
       "    </tr>\n",
       "    <tr>\n",
       "      <th>3</th>\n",
       "      <td>2.95667</td>\n",
       "      <td>0.0</td>\n",
       "      <td>15.28</td>\n",
       "      <td>0</td>\n",
       "      <td>0.355</td>\n",
       "      <td>1.154</td>\n",
       "      <td>76.4</td>\n",
       "      <td>9.1349</td>\n",
       "      <td>8</td>\n",
       "      <td>337</td>\n",
       "      <td>18.1</td>\n",
       "      <td>12.331483</td>\n",
       "    </tr>\n",
       "    <tr>\n",
       "      <th>4</th>\n",
       "      <td>1.24919</td>\n",
       "      <td>3.0</td>\n",
       "      <td>39.17</td>\n",
       "      <td>0</td>\n",
       "      <td>0.206</td>\n",
       "      <td>6.788</td>\n",
       "      <td>10.0</td>\n",
       "      <td>10.5811</td>\n",
       "      <td>17</td>\n",
       "      <td>222</td>\n",
       "      <td>17.9</td>\n",
       "      <td>12.984651</td>\n",
       "    </tr>\n",
       "    <tr>\n",
       "      <th>...</th>\n",
       "      <td>...</td>\n",
       "      <td>...</td>\n",
       "      <td>...</td>\n",
       "      <td>...</td>\n",
       "      <td>...</td>\n",
       "      <td>...</td>\n",
       "      <td>...</td>\n",
       "      <td>...</td>\n",
       "      <td>...</td>\n",
       "      <td>...</td>\n",
       "      <td>...</td>\n",
       "      <td>...</td>\n",
       "    </tr>\n",
       "    <tr>\n",
       "      <th>495</th>\n",
       "      <td>0.64935</td>\n",
       "      <td>0.0</td>\n",
       "      <td>13.13</td>\n",
       "      <td>0</td>\n",
       "      <td>0.420</td>\n",
       "      <td>4.671</td>\n",
       "      <td>29.6</td>\n",
       "      <td>2.7699</td>\n",
       "      <td>22</td>\n",
       "      <td>831</td>\n",
       "      <td>17.1</td>\n",
       "      <td>16.196702</td>\n",
       "    </tr>\n",
       "    <tr>\n",
       "      <th>496</th>\n",
       "      <td>3.81123</td>\n",
       "      <td>70.0</td>\n",
       "      <td>29.51</td>\n",
       "      <td>0</td>\n",
       "      <td>0.398</td>\n",
       "      <td>5.472</td>\n",
       "      <td>78.3</td>\n",
       "      <td>6.1768</td>\n",
       "      <td>9</td>\n",
       "      <td>928</td>\n",
       "      <td>19.5</td>\n",
       "      <td>8.527868</td>\n",
       "    </tr>\n",
       "    <tr>\n",
       "      <th>497</th>\n",
       "      <td>0.72696</td>\n",
       "      <td>0.0</td>\n",
       "      <td>56.88</td>\n",
       "      <td>0</td>\n",
       "      <td>0.628</td>\n",
       "      <td>3.126</td>\n",
       "      <td>91.4</td>\n",
       "      <td>13.3371</td>\n",
       "      <td>13</td>\n",
       "      <td>201</td>\n",
       "      <td>21.6</td>\n",
       "      <td>22.979185</td>\n",
       "    </tr>\n",
       "    <tr>\n",
       "      <th>498</th>\n",
       "      <td>9.52366</td>\n",
       "      <td>0.0</td>\n",
       "      <td>23.17</td>\n",
       "      <td>0</td>\n",
       "      <td>0.892</td>\n",
       "      <td>2.356</td>\n",
       "      <td>79.4</td>\n",
       "      <td>8.5226</td>\n",
       "      <td>23</td>\n",
       "      <td>907</td>\n",
       "      <td>18.9</td>\n",
       "      <td>6.263589</td>\n",
       "    </tr>\n",
       "    <tr>\n",
       "      <th>499</th>\n",
       "      <td>2.28631</td>\n",
       "      <td>0.0</td>\n",
       "      <td>29.80</td>\n",
       "      <td>1</td>\n",
       "      <td>0.566</td>\n",
       "      <td>1.198</td>\n",
       "      <td>27.6</td>\n",
       "      <td>7.0518</td>\n",
       "      <td>20</td>\n",
       "      <td>698</td>\n",
       "      <td>16.9</td>\n",
       "      <td>27.772423</td>\n",
       "    </tr>\n",
       "  </tbody>\n",
       "</table>\n",
       "<p>500 rows × 12 columns</p>\n",
       "</div>"
      ],
      "text/plain": [
       "         犯罪率   豪宅比    公設比  臨公園   NO濃度    房間數    屋齡     賣場距離  捷運距離  繳稅率   師生比  \\\n",
       "0    2.64981   0.0  28.18    0  0.589  5.867   7.4  12.5002     5  102  21.0   \n",
       "1    0.14511   0.0   6.95    0  0.213  4.283  81.3  14.6909    23  158  22.8   \n",
       "2    3.93046   6.0  46.29    1  0.278  4.287  16.4   0.7680    21  637   7.0   \n",
       "3    2.95667   0.0  15.28    0  0.355  1.154  76.4   9.1349     8  337  18.1   \n",
       "4    1.24919   3.0  39.17    0  0.206  6.788  10.0  10.5811    17  222  17.9   \n",
       "..       ...   ...    ...  ...    ...    ...   ...      ...   ...  ...   ...   \n",
       "495  0.64935   0.0  13.13    0  0.420  4.671  29.6   2.7699    22  831  17.1   \n",
       "496  3.81123  70.0  29.51    0  0.398  5.472  78.3   6.1768     9  928  19.5   \n",
       "497  0.72696   0.0  56.88    0  0.628  3.126  91.4  13.3371    13  201  21.6   \n",
       "498  9.52366   0.0  23.17    0  0.892  2.356  79.4   8.5226    23  907  18.9   \n",
       "499  2.28631   0.0  29.80    1  0.566  1.198  27.6   7.0518    20  698  16.9   \n",
       "\n",
       "          低收入比  \n",
       "0    23.038918  \n",
       "1    39.632374  \n",
       "2    37.513949  \n",
       "3    12.331483  \n",
       "4    12.984651  \n",
       "..         ...  \n",
       "495  16.196702  \n",
       "496   8.527868  \n",
       "497  22.979185  \n",
       "498   6.263589  \n",
       "499  27.772423  \n",
       "\n",
       "[500 rows x 12 columns]"
      ]
     },
     "execution_count": 94,
     "metadata": {},
     "output_type": "execute_result"
    }
   ],
   "source": [
    "x = hp.iloc[:, :12]\n",
    "x"
   ]
  },
  {
   "cell_type": "code",
   "execution_count": 95,
   "metadata": {},
   "outputs": [
    {
     "data": {
      "text/plain": [
       "0      23.1\n",
       "1      15.8\n",
       "2      22.1\n",
       "3      16.6\n",
       "4      26.3\n",
       "       ... \n",
       "495    23.0\n",
       "496    23.0\n",
       "497    18.1\n",
       "498    13.0\n",
       "499    19.3\n",
       "Name: 房價, Length: 500, dtype: float64"
      ]
     },
     "execution_count": 95,
     "metadata": {},
     "output_type": "execute_result"
    }
   ],
   "source": [
    "y = hp.iloc[:, 12]\n",
    "y"
   ]
  },
  {
   "cell_type": "markdown",
   "metadata": {},
   "source": [
    "### 實作梯度下降法線性回歸\n",
    "- 語法:\n",
    "    ```python\n",
    "    from sklearn.linear_model import SGDRegressor\n",
    "    梯度變數 = SGDRegressor()\n",
    "    梯度變數.fit(訓練資料, 訓練目標值)\n",
    "    預測變數 = 梯度變數.predict(預測資料)\n",
    "    ```\n",
    "\n",
    "- 結果:\n",
    "    + 梯度變數.coef_ : 權重值\n",
    "    + 梯度變數.intercept_ : 偏置值"
   ]
  },
  {
   "cell_type": "code",
   "execution_count": 96,
   "metadata": {},
   "outputs": [],
   "source": [
    "from sklearn.model_selection import train_test_split\n",
    "from sklearn.linear_model import SGDRegressor\n",
    "from sklearn.preprocessing import StandardScaler    # 標準化模組\n",
    "\n",
    "x_train, x_test, y_train, y_test = train_test_split(x, y, test_size = 0.2)\n",
    "std_x = StandardScaler()\n",
    "x_train = std_x.fit_transform(x_train)\n",
    "x_test = std_x.transform(x_test) \n",
    "std_y = StandardScaler()\n",
    "y_train = std_y.fit_transform(y_train.to_numpy().reshape(-1, 1))\n",
    "y_test = std_y.transform(y_test.to_numpy().reshape(-1, 1)) "
   ]
  },
  {
   "cell_type": "code",
   "execution_count": 97,
   "metadata": {},
   "outputs": [
    {
     "name": "stdout",
     "output_type": "stream",
     "text": [
      "預測值：34.47213107，真實值：37.5\n",
      "預測值：17.08025019，真實值：12.2\n",
      "預測值：22.29347304，真實值：23.6\n",
      "預測值：31.91278601，真實值：27.0\n",
      "預測值：17.02030454，真實值：19.2\n",
      "預測值：32.26635198，真實值：27.2\n",
      "預測值：21.72660778，真實值：22.6\n",
      "預測值：26.66668221，真實值：22.1\n",
      "預測值：19.68594564，真實值：16.3\n",
      "預測值：22.67003414，真實值：22.7\n"
     ]
    },
    {
     "name": "stderr",
     "output_type": "stream",
     "text": [
      "c:\\Users\\Egg\\AppData\\Local\\Programs\\Python\\Python310\\lib\\site-packages\\sklearn\\utils\\validation.py:1111: DataConversionWarning: A column-vector y was passed when a 1d array was expected. Please change the shape of y to (n_samples, ), for example using ravel().\n",
      "  y = column_or_1d(y, warn=True)\n"
     ]
    }
   ],
   "source": [
    "sgd = SGDRegressor()\n",
    "sgd.fit(x_train, y_train)\n",
    "\n",
    "# inverse_transform --> 把標準化資料還原成原始資料\n",
    "y_predict = std_y.inverse_transform(sgd.predict(x_test).reshape(-1, 1))\n",
    "y_real = std_y.inverse_transform(y_test)\n",
    "for i in range(10):\n",
    "    print(f'預測值：{float(y_predict[i]):.8f}，真實值：{float(y_real[i]):.1f}')\n",
    "    # print(f'預測值：{y_predict[i]}，真實值：{y_real[i]}') # .0無法顯示"
   ]
  },
  {
   "cell_type": "code",
   "execution_count": 98,
   "metadata": {},
   "outputs": [
    {
     "data": {
      "text/plain": [
       "array([-0.22623164,  0.26626333, -0.02605722,  0.12029717, -0.22494569,\n",
       "        0.25389394, -0.27185267, -0.23951715, -0.23154061, -0.0385527 ,\n",
       "       -0.01572305, -0.03051434])"
      ]
     },
     "execution_count": 98,
     "metadata": {},
     "output_type": "execute_result"
    }
   ],
   "source": [
    "# 公式：y = Wx + b\n",
    "sgd.coef_ # W"
   ]
  },
  {
   "cell_type": "code",
   "execution_count": 99,
   "metadata": {},
   "outputs": [
    {
     "data": {
      "text/plain": [
       "array([-0.00183578])"
      ]
     },
     "execution_count": 99,
     "metadata": {},
     "output_type": "execute_result"
    }
   ],
   "source": [
    "sgd.intercept_ #b"
   ]
  },
  {
   "cell_type": "markdown",
   "metadata": {},
   "source": [
    "### 邏輯迴歸演算法"
   ]
  },
  {
   "cell_type": "code",
   "execution_count": 100,
   "metadata": {},
   "outputs": [
    {
     "data": {
      "text/html": [
       "<div>\n",
       "<style scoped>\n",
       "    .dataframe tbody tr th:only-of-type {\n",
       "        vertical-align: middle;\n",
       "    }\n",
       "\n",
       "    .dataframe tbody tr th {\n",
       "        vertical-align: top;\n",
       "    }\n",
       "\n",
       "    .dataframe thead th {\n",
       "        text-align: right;\n",
       "    }\n",
       "</style>\n",
       "<table border=\"1\" class=\"dataframe\">\n",
       "  <thead>\n",
       "    <tr style=\"text-align: right;\">\n",
       "      <th></th>\n",
       "      <th>團塊厚度</th>\n",
       "      <th>細胞大小均勻性</th>\n",
       "      <th>細胞大小均勻性.1</th>\n",
       "      <th>邊緣粘附</th>\n",
       "      <th>上皮細胞大小</th>\n",
       "      <th>裸核</th>\n",
       "      <th>淡染色質</th>\n",
       "      <th>正常核仁</th>\n",
       "      <th>有絲分裂</th>\n",
       "      <th>種類</th>\n",
       "    </tr>\n",
       "  </thead>\n",
       "  <tbody>\n",
       "    <tr>\n",
       "      <th>0</th>\n",
       "      <td>5</td>\n",
       "      <td>1</td>\n",
       "      <td>1</td>\n",
       "      <td>1</td>\n",
       "      <td>2</td>\n",
       "      <td>1</td>\n",
       "      <td>3</td>\n",
       "      <td>1</td>\n",
       "      <td>1</td>\n",
       "      <td>1</td>\n",
       "    </tr>\n",
       "    <tr>\n",
       "      <th>1</th>\n",
       "      <td>5</td>\n",
       "      <td>4</td>\n",
       "      <td>4</td>\n",
       "      <td>5</td>\n",
       "      <td>7</td>\n",
       "      <td>10</td>\n",
       "      <td>3</td>\n",
       "      <td>2</td>\n",
       "      <td>1</td>\n",
       "      <td>1</td>\n",
       "    </tr>\n",
       "    <tr>\n",
       "      <th>2</th>\n",
       "      <td>3</td>\n",
       "      <td>1</td>\n",
       "      <td>1</td>\n",
       "      <td>1</td>\n",
       "      <td>2</td>\n",
       "      <td>2</td>\n",
       "      <td>3</td>\n",
       "      <td>1</td>\n",
       "      <td>1</td>\n",
       "      <td>1</td>\n",
       "    </tr>\n",
       "    <tr>\n",
       "      <th>3</th>\n",
       "      <td>6</td>\n",
       "      <td>8</td>\n",
       "      <td>8</td>\n",
       "      <td>1</td>\n",
       "      <td>3</td>\n",
       "      <td>4</td>\n",
       "      <td>3</td>\n",
       "      <td>7</td>\n",
       "      <td>1</td>\n",
       "      <td>1</td>\n",
       "    </tr>\n",
       "    <tr>\n",
       "      <th>4</th>\n",
       "      <td>4</td>\n",
       "      <td>1</td>\n",
       "      <td>1</td>\n",
       "      <td>3</td>\n",
       "      <td>2</td>\n",
       "      <td>1</td>\n",
       "      <td>3</td>\n",
       "      <td>1</td>\n",
       "      <td>1</td>\n",
       "      <td>1</td>\n",
       "    </tr>\n",
       "    <tr>\n",
       "      <th>...</th>\n",
       "      <td>...</td>\n",
       "      <td>...</td>\n",
       "      <td>...</td>\n",
       "      <td>...</td>\n",
       "      <td>...</td>\n",
       "      <td>...</td>\n",
       "      <td>...</td>\n",
       "      <td>...</td>\n",
       "      <td>...</td>\n",
       "      <td>...</td>\n",
       "    </tr>\n",
       "    <tr>\n",
       "      <th>675</th>\n",
       "      <td>1</td>\n",
       "      <td>1</td>\n",
       "      <td>1</td>\n",
       "      <td>1</td>\n",
       "      <td>2</td>\n",
       "      <td>1</td>\n",
       "      <td>2</td>\n",
       "      <td>1</td>\n",
       "      <td>1</td>\n",
       "      <td>1</td>\n",
       "    </tr>\n",
       "    <tr>\n",
       "      <th>676</th>\n",
       "      <td>4</td>\n",
       "      <td>1</td>\n",
       "      <td>4</td>\n",
       "      <td>1</td>\n",
       "      <td>2</td>\n",
       "      <td>1</td>\n",
       "      <td>1</td>\n",
       "      <td>1</td>\n",
       "      <td>1</td>\n",
       "      <td>1</td>\n",
       "    </tr>\n",
       "    <tr>\n",
       "      <th>677</th>\n",
       "      <td>1</td>\n",
       "      <td>1</td>\n",
       "      <td>2</td>\n",
       "      <td>1</td>\n",
       "      <td>2</td>\n",
       "      <td>1</td>\n",
       "      <td>2</td>\n",
       "      <td>1</td>\n",
       "      <td>1</td>\n",
       "      <td>1</td>\n",
       "    </tr>\n",
       "    <tr>\n",
       "      <th>678</th>\n",
       "      <td>5</td>\n",
       "      <td>1</td>\n",
       "      <td>1</td>\n",
       "      <td>1</td>\n",
       "      <td>2</td>\n",
       "      <td>1</td>\n",
       "      <td>1</td>\n",
       "      <td>1</td>\n",
       "      <td>1</td>\n",
       "      <td>1</td>\n",
       "    </tr>\n",
       "    <tr>\n",
       "      <th>679</th>\n",
       "      <td>1</td>\n",
       "      <td>1</td>\n",
       "      <td>1</td>\n",
       "      <td>1</td>\n",
       "      <td>2</td>\n",
       "      <td>1</td>\n",
       "      <td>1</td>\n",
       "      <td>1</td>\n",
       "      <td>1</td>\n",
       "      <td>1</td>\n",
       "    </tr>\n",
       "  </tbody>\n",
       "</table>\n",
       "<p>680 rows × 10 columns</p>\n",
       "</div>"
      ],
      "text/plain": [
       "     團塊厚度  細胞大小均勻性  細胞大小均勻性.1  邊緣粘附  上皮細胞大小  裸核  淡染色質  正常核仁  有絲分裂  種類\n",
       "0       5        1          1     1       2   1     3     1     1   1\n",
       "1       5        4          4     5       7  10     3     2     1   1\n",
       "2       3        1          1     1       2   2     3     1     1   1\n",
       "3       6        8          8     1       3   4     3     7     1   1\n",
       "4       4        1          1     3       2   1     3     1     1   1\n",
       "..    ...      ...        ...   ...     ...  ..   ...   ...   ...  ..\n",
       "675     1        1          1     1       2   1     2     1     1   1\n",
       "676     4        1          4     1       2   1     1     1     1   1\n",
       "677     1        1          2     1       2   1     2     1     1   1\n",
       "678     5        1          1     1       2   1     1     1     1   1\n",
       "679     1        1          1     1       2   1     1     1     1   1\n",
       "\n",
       "[680 rows x 10 columns]"
      ]
     },
     "execution_count": 100,
     "metadata": {},
     "output_type": "execute_result"
    }
   ],
   "source": [
    "import pandas as pd\n",
    "df = pd.read_csv('breastCancer.csv')\n",
    "df"
   ]
  },
  {
   "cell_type": "code",
   "execution_count": 101,
   "metadata": {},
   "outputs": [
    {
     "data": {
      "text/html": [
       "<div>\n",
       "<style scoped>\n",
       "    .dataframe tbody tr th:only-of-type {\n",
       "        vertical-align: middle;\n",
       "    }\n",
       "\n",
       "    .dataframe tbody tr th {\n",
       "        vertical-align: top;\n",
       "    }\n",
       "\n",
       "    .dataframe thead th {\n",
       "        text-align: right;\n",
       "    }\n",
       "</style>\n",
       "<table border=\"1\" class=\"dataframe\">\n",
       "  <thead>\n",
       "    <tr style=\"text-align: right;\">\n",
       "      <th></th>\n",
       "      <th>團塊厚度</th>\n",
       "      <th>細胞大小均勻性</th>\n",
       "      <th>細胞大小均勻性.1</th>\n",
       "      <th>邊緣粘附</th>\n",
       "      <th>上皮細胞大小</th>\n",
       "      <th>裸核</th>\n",
       "      <th>淡染色質</th>\n",
       "      <th>正常核仁</th>\n",
       "      <th>有絲分裂</th>\n",
       "    </tr>\n",
       "  </thead>\n",
       "  <tbody>\n",
       "    <tr>\n",
       "      <th>0</th>\n",
       "      <td>5</td>\n",
       "      <td>1</td>\n",
       "      <td>1</td>\n",
       "      <td>1</td>\n",
       "      <td>2</td>\n",
       "      <td>1</td>\n",
       "      <td>3</td>\n",
       "      <td>1</td>\n",
       "      <td>1</td>\n",
       "    </tr>\n",
       "    <tr>\n",
       "      <th>1</th>\n",
       "      <td>5</td>\n",
       "      <td>4</td>\n",
       "      <td>4</td>\n",
       "      <td>5</td>\n",
       "      <td>7</td>\n",
       "      <td>10</td>\n",
       "      <td>3</td>\n",
       "      <td>2</td>\n",
       "      <td>1</td>\n",
       "    </tr>\n",
       "    <tr>\n",
       "      <th>2</th>\n",
       "      <td>3</td>\n",
       "      <td>1</td>\n",
       "      <td>1</td>\n",
       "      <td>1</td>\n",
       "      <td>2</td>\n",
       "      <td>2</td>\n",
       "      <td>3</td>\n",
       "      <td>1</td>\n",
       "      <td>1</td>\n",
       "    </tr>\n",
       "    <tr>\n",
       "      <th>3</th>\n",
       "      <td>6</td>\n",
       "      <td>8</td>\n",
       "      <td>8</td>\n",
       "      <td>1</td>\n",
       "      <td>3</td>\n",
       "      <td>4</td>\n",
       "      <td>3</td>\n",
       "      <td>7</td>\n",
       "      <td>1</td>\n",
       "    </tr>\n",
       "    <tr>\n",
       "      <th>4</th>\n",
       "      <td>4</td>\n",
       "      <td>1</td>\n",
       "      <td>1</td>\n",
       "      <td>3</td>\n",
       "      <td>2</td>\n",
       "      <td>1</td>\n",
       "      <td>3</td>\n",
       "      <td>1</td>\n",
       "      <td>1</td>\n",
       "    </tr>\n",
       "    <tr>\n",
       "      <th>...</th>\n",
       "      <td>...</td>\n",
       "      <td>...</td>\n",
       "      <td>...</td>\n",
       "      <td>...</td>\n",
       "      <td>...</td>\n",
       "      <td>...</td>\n",
       "      <td>...</td>\n",
       "      <td>...</td>\n",
       "      <td>...</td>\n",
       "    </tr>\n",
       "    <tr>\n",
       "      <th>675</th>\n",
       "      <td>1</td>\n",
       "      <td>1</td>\n",
       "      <td>1</td>\n",
       "      <td>1</td>\n",
       "      <td>2</td>\n",
       "      <td>1</td>\n",
       "      <td>2</td>\n",
       "      <td>1</td>\n",
       "      <td>1</td>\n",
       "    </tr>\n",
       "    <tr>\n",
       "      <th>676</th>\n",
       "      <td>4</td>\n",
       "      <td>1</td>\n",
       "      <td>4</td>\n",
       "      <td>1</td>\n",
       "      <td>2</td>\n",
       "      <td>1</td>\n",
       "      <td>1</td>\n",
       "      <td>1</td>\n",
       "      <td>1</td>\n",
       "    </tr>\n",
       "    <tr>\n",
       "      <th>677</th>\n",
       "      <td>1</td>\n",
       "      <td>1</td>\n",
       "      <td>2</td>\n",
       "      <td>1</td>\n",
       "      <td>2</td>\n",
       "      <td>1</td>\n",
       "      <td>2</td>\n",
       "      <td>1</td>\n",
       "      <td>1</td>\n",
       "    </tr>\n",
       "    <tr>\n",
       "      <th>678</th>\n",
       "      <td>5</td>\n",
       "      <td>1</td>\n",
       "      <td>1</td>\n",
       "      <td>1</td>\n",
       "      <td>2</td>\n",
       "      <td>1</td>\n",
       "      <td>1</td>\n",
       "      <td>1</td>\n",
       "      <td>1</td>\n",
       "    </tr>\n",
       "    <tr>\n",
       "      <th>679</th>\n",
       "      <td>1</td>\n",
       "      <td>1</td>\n",
       "      <td>1</td>\n",
       "      <td>1</td>\n",
       "      <td>2</td>\n",
       "      <td>1</td>\n",
       "      <td>1</td>\n",
       "      <td>1</td>\n",
       "      <td>1</td>\n",
       "    </tr>\n",
       "  </tbody>\n",
       "</table>\n",
       "<p>680 rows × 9 columns</p>\n",
       "</div>"
      ],
      "text/plain": [
       "     團塊厚度  細胞大小均勻性  細胞大小均勻性.1  邊緣粘附  上皮細胞大小  裸核  淡染色質  正常核仁  有絲分裂\n",
       "0       5        1          1     1       2   1     3     1     1\n",
       "1       5        4          4     5       7  10     3     2     1\n",
       "2       3        1          1     1       2   2     3     1     1\n",
       "3       6        8          8     1       3   4     3     7     1\n",
       "4       4        1          1     3       2   1     3     1     1\n",
       "..    ...      ...        ...   ...     ...  ..   ...   ...   ...\n",
       "675     1        1          1     1       2   1     2     1     1\n",
       "676     4        1          4     1       2   1     1     1     1\n",
       "677     1        1          2     1       2   1     2     1     1\n",
       "678     5        1          1     1       2   1     1     1     1\n",
       "679     1        1          1     1       2   1     1     1     1\n",
       "\n",
       "[680 rows x 9 columns]"
      ]
     },
     "execution_count": 101,
     "metadata": {},
     "output_type": "execute_result"
    }
   ],
   "source": [
    "x = df.iloc[: , :9]\n",
    "x"
   ]
  },
  {
   "cell_type": "code",
   "execution_count": 102,
   "metadata": {},
   "outputs": [
    {
     "data": {
      "text/plain": [
       "0      1\n",
       "1      1\n",
       "2      1\n",
       "3      1\n",
       "4      1\n",
       "      ..\n",
       "675    1\n",
       "676    1\n",
       "677    1\n",
       "678    1\n",
       "679    1\n",
       "Name: 種類, Length: 680, dtype: int64"
      ]
     },
     "execution_count": 102,
     "metadata": {},
     "output_type": "execute_result"
    }
   ],
   "source": [
    "y = df.iloc[: , 9]\n",
    "y"
   ]
  },
  {
   "cell_type": "markdown",
   "metadata": {},
   "source": [
    "### 實作邏輯迴歸顯算法\n",
    "- 語法:\n",
    "    ```python\n",
    "    from sklearn.linear_model import LogisticRegression\n",
    "    迴歸變數 = LogisticRegression()\n",
    "    迴歸變數.fit(訓練資料, 訓練目標值)\n",
    "    預測變數 = 迴歸變數.predict(預測資料)\n",
    "    準確率變數 = 迴歸變數.score(預測資料, 預測目標值)\n",
    "    ```"
   ]
  },
  {
   "cell_type": "code",
   "execution_count": 112,
   "metadata": {},
   "outputs": [
    {
     "data": {
      "text/plain": [
       "0.9485294117647058"
      ]
     },
     "execution_count": 112,
     "metadata": {},
     "output_type": "execute_result"
    }
   ],
   "source": [
    "from sklearn.model_selection import train_test_split\n",
    "from sklearn.preprocessing import StandardScaler\n",
    "from sklearn.linear_model import LogisticRegression\n",
    "\n",
    "x_train, x_test, y_train, y_test = train_test_split(x, y, test_size = 0.2)\n",
    "transfer = StandardScaler()\n",
    "x_train = transfer.fit_transform(x_train)\n",
    "x_test = transfer.transform(x_test) \n",
    "logis = LogisticRegression()\n",
    "logis.fit(x_train, y_train)\n",
    "score = logis.score(x_test, y_test)\n",
    "score"
   ]
  },
  {
   "cell_type": "markdown",
   "metadata": {},
   "source": [
    "### 實作邏輯迴歸召回律調整\n",
    "\n",
    "- 語法:\n",
    "    ```python\n",
    "    from sklearn.metrics import classification_report\n",
    "    classification_report(目標值, 預測值, labels=類別值, target_names=類別顯示值)\n",
    "    ```"
   ]
  },
  {
   "cell_type": "code",
   "execution_count": 105,
   "metadata": {},
   "outputs": [
    {
     "data": {
      "text/plain": [
       "array([1, 1, 2, 1, 2, 2, 2, 2, 1, 1, 1, 2, 1, 1, 1, 1, 2, 2, 1, 2, 1, 1,\n",
       "       2, 2, 2, 1, 1, 1, 1, 1, 1, 1, 1, 2, 1, 1, 1, 1, 1, 2, 2, 2, 1, 1,\n",
       "       1, 1, 1, 1, 1, 2, 2, 1, 2, 2, 1, 1, 1, 1, 1, 1, 2, 1, 2, 1, 1, 2,\n",
       "       2, 2, 1, 2, 1, 1, 2, 2, 1, 2, 2, 1, 1, 2, 1, 1, 1, 1, 2, 1, 1, 1,\n",
       "       1, 1, 1, 1, 1, 1, 1, 1, 1, 1, 2, 1, 2, 2, 1, 1, 1, 1, 1, 1, 2, 2,\n",
       "       2, 1, 1, 2, 1, 2, 1, 1, 1, 2, 1, 2, 1, 1, 1, 2, 2, 1, 1, 1, 1, 1,\n",
       "       1, 1, 1, 2], dtype=int64)"
      ]
     },
     "execution_count": 105,
     "metadata": {},
     "output_type": "execute_result"
    }
   ],
   "source": [
    "pred = logis.predict(x_test)\n",
    "pred"
   ]
  },
  {
   "cell_type": "code",
   "execution_count": 106,
   "metadata": {},
   "outputs": [
    {
     "name": "stdout",
     "output_type": "stream",
     "text": [
      "              precision    recall  f1-score   support\n",
      "\n",
      "          良性       0.95      0.98      0.96        88\n",
      "          惡性       0.96      0.90      0.92        48\n",
      "\n",
      "    accuracy                           0.95       136\n",
      "   macro avg       0.95      0.94      0.94       136\n",
      "weighted avg       0.95      0.95      0.95       136\n",
      "\n"
     ]
    }
   ],
   "source": [
    "from sklearn.metrics import classification_report\n",
    "ret = classification_report(y_test, pred, labels=(1, 2),target_names=('良性', '惡性'))\n",
    "print(ret)"
   ]
  },
  {
   "cell_type": "code",
   "execution_count": 117,
   "metadata": {},
   "outputs": [
    {
     "data": {
      "text/plain": [
       "array([0.02193893, 0.05868292, 0.00253531, 0.9006384 , 0.00581342,\n",
       "       0.03654369, 0.9399151 , 0.00373922, 0.07027727, 0.0033678 ,\n",
       "       0.00226754, 0.00152201, 0.02228197, 0.63219868, 0.41555775,\n",
       "       0.58929497, 0.01038869, 0.98239694, 0.00431041, 0.00257107,\n",
       "       0.01907651, 0.0033678 , 0.99914211, 0.0024955 , 0.99643862,\n",
       "       0.99946044, 0.00743541, 0.99956821, 0.00962127, 0.99979902,\n",
       "       0.00263079, 0.02753097, 0.99971946, 0.99957842, 0.97296414,\n",
       "       0.0078364 , 0.01348309, 0.99624726, 0.95088902, 0.10343093,\n",
       "       0.03736482, 0.99999953, 0.05124798, 0.96084054, 0.00329124,\n",
       "       0.003391  , 0.99195852, 0.00370596, 0.08993312, 0.85117809,\n",
       "       0.99933817, 0.01509605, 0.02115757, 0.9900985 , 0.99428153,\n",
       "       0.00220999, 0.98905847, 0.99887606, 0.00177088, 0.99960389,\n",
       "       0.00152201, 0.2996219 , 0.00152201, 0.99488364, 0.00581342,\n",
       "       0.00226754, 0.00194901, 0.99663376, 0.99991897, 0.79819333,\n",
       "       0.99929678, 0.99991139, 0.02875734, 0.02960458, 0.01189162,\n",
       "       0.00194901, 0.00251532, 0.02683137, 0.01720794, 0.0307949 ,\n",
       "       0.00743541, 0.00264892, 0.04362092, 0.08612099, 0.00454364,\n",
       "       0.01279688, 0.99943716, 0.01194994, 0.0078364 , 0.92352992,\n",
       "       0.00152201, 0.0024955 , 0.07332764, 0.00263079, 0.99994517,\n",
       "       0.00743541, 0.00431041, 0.00431041, 0.01001712, 0.00454364,\n",
       "       0.99959625, 0.94405312, 0.96828649, 0.01001712, 0.97786359,\n",
       "       0.02193893, 0.00658256, 0.99999389, 0.01021781, 0.99406693,\n",
       "       0.00645281, 0.98246228, 0.00569283, 0.01682291, 0.0033678 ,\n",
       "       0.58816833, 0.67408641, 0.31131787, 0.0023905 , 0.00226754,\n",
       "       0.99999959, 0.99598803, 0.01426283, 0.99999959, 0.08834145,\n",
       "       0.00743541, 0.00152201, 0.0403457 , 0.0610934 , 0.98435039,\n",
       "       0.00431041, 0.99933876, 0.00412936, 0.03843191, 0.07068265,\n",
       "       0.92129168])"
      ]
     },
     "execution_count": 117,
     "metadata": {},
     "output_type": "execute_result"
    }
   ],
   "source": [
    "# 提升召回率，參數調整\n",
    "pred_p = logis.predict_proba(x_test)[:, 1]\n",
    "# pred_p[:, 1]    # 只顯示惡性的機率\n",
    "pred_p"
   ]
  },
  {
   "cell_type": "code",
   "execution_count": 124,
   "metadata": {},
   "outputs": [
    {
     "name": "stdout",
     "output_type": "stream",
     "text": [
      "              precision    recall  f1-score   support\n",
      "\n",
      "          良性       0.99      0.94      0.97        88\n",
      "          惡性       0.90      0.98      0.94        48\n",
      "\n",
      "    accuracy                           0.96       136\n",
      "   macro avg       0.95      0.96      0.95       136\n",
      "weighted avg       0.96      0.96      0.96       136\n",
      "\n"
     ]
    }
   ],
   "source": [
    "pred = np.where(pred_p > 0.15, 2, 1) # (條件, 符合時顯示值, 不符合時顯示值)\n",
    "ret = classification_report(y_test, pred, labels=(1, 2),target_names=('良性', '惡性'))\n",
    "print(ret)"
   ]
  },
  {
   "cell_type": "code",
   "execution_count": 110,
   "metadata": {},
   "outputs": [
    {
     "name": "stdout",
     "output_type": "stream",
     "text": [
      "              precision    recall  f1-score   support\n",
      "\n",
      "          良性       0.99      0.98      0.98        89\n",
      "          惡性       0.96      0.98      0.97        47\n",
      "\n",
      "    accuracy                           0.98       136\n",
      "   macro avg       0.97      0.98      0.98       136\n",
      "weighted avg       0.98      0.98      0.98       136\n",
      "\n"
     ]
    }
   ],
   "source": [
    "# 召回率調整完整程式碼\n",
    "import pandas as pd\n",
    "import numpy as np\n",
    "from sklearn.model_selection import train_test_split\n",
    "from sklearn.preprocessing import StandardScaler\n",
    "from sklearn.linear_model import LogisticRegression\n",
    "from sklearn.metrics import classification_report\n",
    "\n",
    "df = pd.read_csv('breastCancer.csv')\n",
    "x = df.iloc[: , :9]\n",
    "y = df.iloc[: , 9]\n",
    "\n",
    "x_train, x_test, y_train, y_test = train_test_split(x, y, test_size = 0.2)\n",
    "transfer = StandardScaler()\n",
    "x_train = transfer.fit_transform(x_train)\n",
    "x_test = transfer.transform(x_test) \n",
    "logis = LogisticRegression()\n",
    "logis.fit(x_train, y_train)\n",
    "score = logis.score(x_test, y_test)\n",
    "\n",
    "pred = logis.predict(x_test)\n",
    "pred_p = logis.predict_proba(x_test)[:, 1]\n",
    "\n",
    "pred = np.where(pred_p > 0.2, 2, 1)\n",
    "ret = classification_report(y_test, pred, labels=(1, 2),target_names=('良性', '惡性'))\n",
    "print(ret)"
   ]
  }
 ],
 "metadata": {
  "kernelspec": {
   "display_name": "Python 3.10.5 64-bit",
   "language": "python",
   "name": "python3"
  },
  "language_info": {
   "codemirror_mode": {
    "name": "ipython",
    "version": 3
   },
   "file_extension": ".py",
   "mimetype": "text/x-python",
   "name": "python",
   "nbconvert_exporter": "python",
   "pygments_lexer": "ipython3",
   "version": "3.10.5"
  },
  "orig_nbformat": 4,
  "vscode": {
   "interpreter": {
    "hash": "a7a0c7c9347e9e185eee34cf88d7643fe7d6acaa7b9656353bf5f95484913cf5"
   }
  }
 },
 "nbformat": 4,
 "nbformat_minor": 2
}
