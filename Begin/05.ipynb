{
 "cells": [
  {
   "cell_type": "markdown",
   "metadata": {},
   "source": [
    "# 一、 文件檔案的爬取跟儲存"
   ]
  },
  {
   "cell_type": "markdown",
   "metadata": {},
   "source": [
    "### 資料檔案的儲存: open()函式"
   ]
  },
  {
   "cell_type": "markdown",
   "metadata": {},
   "source": [
    "#### 語法\n",
    "```Python\n",
    "with open(filename[,模式][,編碼]) as f:\n",
    "    f.檔案處理函式()\n",
    "```\n",
    "- 檔案名稱:設定檔案的名稱，它是字串型態\n",
    "- 模式:設定檔案開啟的模式,省略將預設為讀取模式\n",
    "    + r:讀取模式，此為預設模式\n",
    "    + a:附加模式，若檔案已存在，內容會被附加至檔案尾。\n",
    "    + w:寫入模式，若檔案已存在，內容將會被覆蓋。\n",
    "    + b:二進位模式\n",
    "    + +:開放為可讀寫檔案。\n",
    "- 編碼:指定檔案的編碼模式，一般可設定cp950或UTF-8(大小寫都可以)。"
   ]
  },
  {
   "cell_type": "markdown",
   "metadata": {},
   "source": [
    "#### 檔案處理函式\n",
    "    - read():讀取檔案內的文字。\n",
    "    - readline():讀取檔案內容的第一行文字\n",
    "    - readlines():讀取檔案內容，以行為元素儲存為串列。\n",
    "    - writr():寫入檔案\n",
    "    - close():關閉檔案"
   ]
  },
  {
   "cell_type": "code",
   "execution_count": 3,
   "metadata": {},
   "outputs": [
    {
     "name": "stdout",
     "output_type": "stream",
     "text": [
      "abc123\n"
     ]
    }
   ],
   "source": [
    "# 文字檔案讀寫 範例\n",
    "f = open('file.txt', 'w')   # 當沒有該檔案時，系統會自動新增該檔案\n",
    "f.write('abc')\n",
    "f.close()\n",
    "\n",
    "f = open('file.txt', 'a')\n",
    "f.write('123')\n",
    "f.close()\n",
    "\n",
    "f = open('file.txt', 'r')\n",
    "print(f.read())\n",
    "f.close()"
   ]
  },
  {
   "cell_type": "code",
   "execution_count": 6,
   "metadata": {},
   "outputs": [],
   "source": [
    "f = open('file1.txt', 'a')\n",
    "f.write('123')\n",
    "f.write('abc')\n",
    "\n",
    "# 最後一定要關檔案,不然無法寫入\n",
    "f.close()"
   ]
  },
  {
   "cell_type": "code",
   "execution_count": 10,
   "metadata": {},
   "outputs": [],
   "source": [
    "# 用with open()寫法\n",
    "with open('file2.txt', 'a') as f:\n",
    "    f.write('123')\n",
    "    f.write('abc')\n",
    "\n",
    "# with open()寫法，可以不用close()也會寫入資料"
   ]
  },
  {
   "cell_type": "markdown",
   "metadata": {},
   "source": [
    "# 二、 網路數據資料的收集 \n",
    "### 網路爬蟲(crawler)運作原理"
   ]
  },
  {
   "cell_type": "markdown",
   "metadata": {},
   "source": [
    "#### 資料的爬取: requests 模組"
   ]
  },
  {
   "cell_type": "code",
   "execution_count": 15,
   "metadata": {},
   "outputs": [
    {
     "data": {
      "text/plain": [
       "<Response [200]>"
      ]
     },
     "execution_count": 15,
     "metadata": {},
     "output_type": "execute_result"
    }
   ],
   "source": [
    "# 讀取遠端資料 練習\n",
    "# COVID-19各國地區累積病例數與死亡人數\n",
    "# http://data.gov.tw/dataset/120449\n",
    "import requests\n",
    "url = 'https://od.cdc.gov.tw/eic/covid19/covid19_global_cases_and_deaths.csv'\n",
    "r = requests.get(url)\n",
    "r.encoding = 'UTF-8'    # 設定編碼 避免中文會產生亂碼\n",
    "r"
   ]
  },
  {
   "cell_type": "code",
   "execution_count": 17,
   "metadata": {},
   "outputs": [
    {
     "name": "stdout",
     "output_type": "stream",
     "text": [
      "country_ch,country_en,cases,deaths\n",
      "美國,United States,\"97,483,380\",\"1,097,551\"\n",
      "印度,India,\"44,669,421\",\"530,586\"\n",
      "法國,France,\"37,355,605\",\"158,338\"\n",
      "德國,Germany,\"36,205,405\",\"156,613\"\n",
      "巴西,Brazil,\"35,035,294\",\"689,039\"\n",
      "韓國,South Korea,\"26,581,856\",\"30,066\"\n",
      "義大利,Italy,\"24,031,538\",\"180,518\"\n",
      "英國,United Kingdom,\"23,977,637\",\"196,241\"\n",
      "日本,Japan,\"23,814,209\",\"48,338\"\n",
      "俄羅斯,Russia,\"21,540,891\",\"391,509\"\n",
      "土耳其,Turkey,\"16,976,729\",\"101,327\"\n",
      "西班牙,Spain,\"13,573,721\",\"115,641\"\n",
      "越南,Vietnam,\"11,511,822\",\"43,169\"\n",
      "澳洲,Australia,\"10,560,280\",\"15,980\"\n",
      "阿根廷,Argentina,\"9,723,924\",\"130,017\"\n",
      "荷蘭,Netherlands,\"8,534,144\",\"22,892\"\n",
      "臺灣,Taiwan,\"8,174,903\",\"13,991\"\n",
      "伊朗,Iran,\"7,559,368\",\"144,627\"\n",
      "墨西哥,Mexico,\"7,118,933\",\"330,444\"\n",
      "印尼,Indonesia,\"6,612,673\",\"159,422\"\n",
      "波蘭,Poland,\"6,348,928\",\"118,274\"\n",
      "哥倫比亞,Colombia,\"6,312,657\",\"141,881\"\n",
      "葡萄牙,Portugal,\"5,537,108\",\"25,395\"\n",
      "奧地利,Austria,\"5,520,300\",\"21,144\"\n",
      "烏克蘭,Ukraine,\"5,329,536\",\"110,403\"\n",
      "希臘,Greece,\"5,306,482\",\"34,024\"\n",
      "馬來西亞,Malaysia,\"4,969,420\",\"36,609\"\n",
      "智利,Chile,\"4,880,884\",\"62,211\"\n",
      "以色列,Israel,\"4,707,644\",\"11,818\"\n",
      "泰國,Thailand,\"4,702,330\",\"33,106\"\n",
      "比利時,Belgium,\"4,627,186\",\"33,021\"\n",
      "加拿大,Canada,\"4,392,747\",\"47,468\"\n",
      "瑞士,Switzerland,\"4,297,626\",\"13,778\"\n",
      "秘魯,Peru,\"4,188,692\",\"217,241\"\n",
      "捷克,Czech Republic,\"4,168,015\",\"41,759\"\n",
      "南非,South Africa,\"4,038,121\",\"102,395\"\n",
      "菲律賓,Philippines,\"4,026,895\",\"64,485\"\n",
      "羅馬尼亞,Romania,\"3,294,447\",\"67,253\"\n",
      "丹麥,Denmark,\"3,190,650\",\"7,543\"\n",
      "瑞典,Sweden,\"2,622,790\",\"20,928\"\n",
      "伊拉克,Iraq,\"2,462,317\",\"25,361\"\n",
      "塞爾維亞,Serbia,\"2,418,306\",\"17,347\"\n",
      "匈牙利,Hungary,\"2,157,995\",\"48,184\"\n",
      "新加坡,Singapore,\"2,154,633\",\"1,700\"\n",
      "香港,Hong Kong,\"2,043,967\",\"10,610\"\n",
      "孟加拉,Bangladesh,\"2,036,393\",\"29,431\"\n",
      "紐西蘭,New Zealand,\"1,894,158\",\"2,182\"\n",
      "斯洛伐克,Slovakia,\"1,855,037\",\"20,712\"\n",
      "喬治亞,Georgia,\"1,785,138\",\"16,912\"\n",
      "約旦,Jordan,\"1,746,997\",\"14,122\"\n",
      "愛爾蘭,Ireland,\"1,677,386\",\"8,102\"\n",
      "巴基斯坦,Pakistan,\"1,574,914\",\"30,630\"\n",
      "挪威,Norway,\"1,467,622\",\"4,325\"\n",
      "哈薩克,Kazakhstan,\"1,395,801\",\"13,693\"\n",
      "芬蘭,Finland,\"1,384,654\",\"7,173\"\n",
      "保加利亞,Bulgaria,\"1,285,645\",\"38,010\"\n",
      "立陶宛,Lithuania,\"1,273,064\",\"9,419\"\n",
      "摩洛哥,Morocco,\"1,267,350\",\"16,283\"\n",
      "克羅埃西亞,Croatia,\"1,251,441\",\"17,268\"\n",
      "斯洛維尼亞,Slovenia,\"1,247,950\",\"6,909\"\n",
      "黎巴嫩,Lebanon,\"1,220,127\",\"10,729\"\n",
      "瓜地馬拉,Guatemala,\"1,148,614\",\"19,939\"\n",
      "突尼西亞,Tunisia,\"1,146,799\",\"29,266\"\n",
      "哥斯大黎加,Costa Rica,\"1,143,597\",\"9,031\"\n",
      "古巴,Cuba,\"1,111,345\",\"8,530\"\n",
      "玻利維亞,Bolivia,\"1,110,190\",\"22,244\"\n",
      "阿拉伯聯合大公國,UAE,\"1,042,779\",\"2,348\"\n",
      "厄瓜多,Ecuador,\"1,009,388\",\"35,935\"\n",
      "尼泊爾,Nepal,\"1,000,855\",\"12,019\"\n",
      "巴拿馬,Panama,\"995,726\",\"8,519\"\n",
      "白俄羅斯,Belarus,\"994,037\",\"7,118\"\n",
      "烏拉圭,Uruguay,\"992,887\",\"7,530\"\n",
      "拉脫維亞,Latvia,\"959,835\",\"6,083\"\n",
      "沙烏地阿拉伯,Saudi Arabia,\"825,176\",\"9,448\"\n",
      "亞塞拜然,Azerbaijan,\"823,975\",\"9,973\"\n",
      "巴拉圭,Paraguay,\"718,071\",\"19,611\"\n",
      "巴勒斯坦,Palestine,\"703,036\",\"5,708\"\n",
      "巴林,Bahrain,\"695,133\",\"1,534\"\n",
      "斯里蘭卡,Sri Lanka,\"671,546\",\"16,795\"\n",
      "科威特,Kuwait,\"662,359\",\"2,569\"\n",
      "多明尼加,Dominican,\"648,216\",\"4,384\"\n",
      "緬甸,Myanmar,\"633,045\",\"19,487\"\n",
      "賽普勒斯,Cyprus,\"610,023\",\"1,218\"\n",
      "愛沙尼亞,Estonia,\"608,269\",\"2,757\"\n",
      "摩爾多瓦,Moldova,\"594,441\",\"11,906\"\n",
      "委內瑞拉,Venezuela,\"546,839\",\"5,827\"\n",
      "蒙古,Mongolia,\"539,791\",\"2,133\"\n",
      "埃及,Egypt,\"515,645\",\"24,613\"\n",
      "利比亞,Libya,\"507,078\",\"6,437\"\n",
      "衣索比亞,Ethiopia,\"494,327\",\"7,572\"\n",
      "卡達,Qatar,\"476,171\",684\n",
      "宏都拉斯,Honduras,\"457,508\",\"11,043\"\n",
      "亞美尼亞,Armenia,\"445,631\",\"8,709\"\n",
      "波士尼亞與赫塞哥維納,Bosnia and Herzegovina,\"400,340\",\"16,193\"\n",
      "阿曼,Oman,\"399,027\",\"4,260\"\n",
      "北馬其頓,North Macedonia,\"344,531\",\"9,567\"\n",
      "肯亞,Kenya,\"341,043\",\"5,684\"\n",
      "尚比亞,Zambia,\"333,685\",\"4,017\"\n",
      "阿爾巴尼亞,Albania,\"333,257\",\"3,593\"\n",
      "波札那,Botswana,\"326,344\",\"2,790\"\n",
      "盧森堡,Luxembourg,\"297,757\",\"1,133\"\n",
      "中國大陸,China,\"290,795\",\"5,231\"\n",
      "蒙特內哥羅,Montenegro,\"283,512\",\"2,789\"\n",
      "科索沃,Kosovo,\"272,197\",\"3,202\"\n",
      "阿爾及利亞,Algeria,\"271,028\",\"6,881\"\n",
      "模里西斯,Mauritius,\"268,397\",\"1,033\"\n",
      "奈及利亞,Nigeria,\"266,283\",\"3,155\"\n",
      "辛巴威,Zimbabwe,\"257,893\",\"5,606\"\n",
      "汶萊,Brunei,\"248,861\",245\n",
      "烏茲別克,Uzbekistan,\"245,508\",\"1,637\"\n",
      "莫三比克,Mozambique,\"230,590\",\"2,224\"\n",
      "寮國,Laos,\"216,468\",758\n",
      "冰島,Iceland,\"207,003\",219\n",
      "吉爾吉斯,Kyrgyzstan,\"206,511\",\"2,991\"\n",
      "阿富汗,Afghanistan,\"205,229\",\"7,832\"\n",
      "薩爾瓦多,El Salvador,\"201,785\",\"4,230\"\n",
      "馬爾地夫,Maldives,\"185,584\",311\n",
      "千里達及托巴哥,Trinidad and Tobago,\"185,094\",\"4,263\"\n",
      "迦納,Ghana,\"170,996\",\"1,461\"\n",
      "納米比亞,Namibia,\"169,946\",\"4,080\"\n",
      "烏干達,Uganda,\"169,663\",\"3,630\"\n",
      "牙買加,Jamaica,\"151,931\",\"3,320\"\n",
      "柬埔寨,Cambodia,\"138,032\",\"3,056\"\n",
      "盧安達,Rwanda,\"132,643\",\"1,467\"\n",
      "喀麥隆,Cameroon,\"123,993\",\"1,965\"\n",
      "馬爾他,Malta,\"115,703\",808\n",
      "巴貝多,Barbados,\"103,545\",564\n",
      "安哥拉,Angola,\"103,131\",\"1,917\"\n",
      "剛果民主共和國,DR Congo,\"93,837\",\"1,452\"\n",
      "塞內加爾,Senegal,\"88,859\",\"1,968\"\n",
      "馬拉威,Malawi,\"88,073\",\"2,685\"\n",
      "象牙海岸,Ivory Coast,\"87,870\",830\n",
      "蘇利南,Suriname,\"81,228\",\"1,392\"\n",
      "史瓦帝尼,Eswatini,\"73,770\",\"1,422\"\n",
      "蓋亞那,Guyana,\"71,545\",\"1,283\"\n",
      "貝里斯,Belize,\"68,988\",687\n",
      "斐濟,Fiji,\"68,307\",878\n",
      "馬達加斯加,Madagascar,\"67,054\",\"1,411\"\n",
      "蘇丹,Sudan,\"63,617\",\"4,986\"\n",
      "茅利塔尼亞,Mauritania,\"63,419\",997\n",
      "維德角,Cape Verde,\"62,828\",410\n",
      "不丹,Bhutan,\"62,488\",21\n",
      "敘利亞,Syria,\"57,389\",\"3,163\"\n",
      "蒲隆地,Burundi,\"50,639\",38\n",
      "塞席爾,Seychelles,\"49,380\",171\n",
      "加彭,Gabon,\"48,972\",306\n",
      "安道爾,Andorra,\"46,824\",156\n",
      "巴布亞紐幾內亞,Papua New Guinea,\"45,819\",668\n",
      "坦尚尼亞,Tanzania,\"40,311\",845\n",
      "多哥,Togo,\"39,323\",290\n",
      "幾內亞,Guinea,\"38,153\",464\n",
      "巴哈馬,Bahamas,\"37,453\",833\n",
      "賴索托,Lesotho,\"34,490\",706\n",
      "海地,Haiti,\"33,837\",860\n",
      "馬利,Mali,\"32,755\",742\n",
      "聖露西亞,Saint Lucia,\"29,550\",404\n",
      "貝南,Benin,\"27,922\",163\n",
      "剛果共和國,Congo,\"25,375\",386\n",
      "東帝汶,East Timor,\"23,327\",138\n",
      "密克羅尼西亞聯邦,Micronesia,\"22,203\",55\n",
      "聖馬利諾,San Marino,\"21,798\",119\n",
      "布吉納法索,Burkina Faso,\"21,631\",387\n",
      "索羅門群島,Solomon islands,\"21,544\",153\n",
      "列支敦斯登,Liechtenstein,\"20,831\",87\n",
      "格瑞那達,Grenada,\"19,613\",237\n",
      "索馬利亞,Somalia,\"18,863\",930\n",
      "南蘇丹,South Sudan,\"18,348\",138\n",
      "塔吉克,Tajikistan,\"17,786\",125\n",
      "赤道幾內亞,Equatorial Guinea,\"17,182\",183\n",
      "東加,Tonga,\"16,182\",12\n",
      "薩摩亞,Samoa,\"15,949\",29\n",
      "多米尼克,Dominica,\"15,760\",74\n",
      "吉布地,Djibouti,\"15,690\",189\n",
      "馬紹爾群島,Marshall Islands,\"15,501\",17\n",
      "中非,Central Africa,\"15,289\",113\n",
      "摩納哥,Monaco,\"15,236\",63\n",
      "尼加拉瓜,Nicaragua,\"15,219\",245\n",
      "甘比亞,Gambia,\"12,580\",372\n",
      "萬那杜,Vanuatu,\"11,952\",14\n",
      "葉門,Yemen,\"11,945\",\"2,159\"\n",
      "索馬利蘭,Somaliland,\"10,577\",619\n",
      "厄利垂亞,Eritrea,\"10,189\",103\n",
      "尼日,Niger,\"9,931\",312\n",
      "安地卡及巴布達,Antigua and Barbuda,\"9,106\",146\n",
      "葛摩,Comoros,\"8,941\",161\n",
      "幾內亞比索,Guinea-Bissau,\"8,848\",176\n",
      "賴比瑞亞,Liberia,\"8,014\",294\n",
      "獅子山,Sierra Leone,\"7,758\",126\n",
      "查德,Chad,\"7,637\",194\n",
      "聖文森及格瑞那丁,Saint Vincent and the Grenadines,\"7,112\",115\n",
      "聖克里斯多福及尼維斯,Saint Kitts and Nevis,\"6,552\",46\n",
      "庫克群島,Cook Islands,\"6,389\",1\n",
      "聖多美普林西比,Sao Tome and Principe,\"6,275\",77\n",
      "帛琉,Palau,\"5,684\",7\n",
      "諾魯,Nauru,\"4,621\",1\n",
      "吉里巴斯,Kiribati,\"3,430\",13\n",
      "吐瓦魯,Tuvalu,\"2,387\",0\n",
      "澳門,Macao,796,6\n",
      "國際運輸工具(鑽石公主號),Int'l conveyance (Japan),741,13\n",
      "紐埃,Niue,100,0\n",
      "教廷,Holy See,29,0\n",
      "北韓,North Korea,2,1\n"
     ]
    }
   ],
   "source": [
    "print(r.text)"
   ]
  },
  {
   "cell_type": "code",
   "execution_count": 18,
   "metadata": {},
   "outputs": [],
   "source": [
    "# 文字檔案下載\n",
    "with open('covid-19.csv', 'w') as f:\n",
    "    f.write(r.text)"
   ]
  },
  {
   "cell_type": "markdown",
   "metadata": {},
   "source": [
    "- 請求資料為文字時:可用 **回應內容text** 取得值\n",
    "- 請求資料為二進位檔案時，可用 **回應內容.content** 取得值"
   ]
  },
  {
   "cell_type": "markdown",
   "metadata": {},
   "source": [
    "#### 範例 二 圖片下載"
   ]
  },
  {
   "cell_type": "code",
   "execution_count": 19,
   "metadata": {},
   "outputs": [],
   "source": [
    "# 圖片下載\n",
    "# https://www.youtube.com/watch?v=NdX-fIJeJJU\n",
    "# https://img.youtube.com/vi/NdX-fIJeJJU/sddefault.jpg\n",
    "import requests\n",
    "url = 'https://img.youtube.com/vi/NdX-fIJeJJU/sddefault.jpg'\n",
    "r = requests.get(url)\n",
    "with open('image.jpg', 'wb') as f:\n",
    "    f.write(r.content)"
   ]
  },
  {
   "cell_type": "markdown",
   "metadata": {},
   "source": [
    "#### Colab 專用-(Linux指令): wget指令"
   ]
  },
  {
   "cell_type": "code",
   "execution_count": 21,
   "metadata": {},
   "outputs": [
    {
     "name": "stderr",
     "output_type": "stream",
     "text": [
      "'wget' ���O�����Υ~���R�O�B�i���檺�{���Χ妸�ɡC\n"
     ]
    }
   ],
   "source": [
    "# 用wget 指令\n",
    "# !wget -o 檔名 網址\n",
    "# 可用在terminal上 下指令(不須要加!)\n",
    "# !wget -o google.png https://www.google.com.tw/images/branding/googlelogo/1x/googlelogo_color_272x92dp.png"
   ]
  }
 ],
 "metadata": {
  "kernelspec": {
   "display_name": "Python 3.10.8 64-bit (microsoft store)",
   "language": "python",
   "name": "python3"
  },
  "language_info": {
   "codemirror_mode": {
    "name": "ipython",
    "version": 3
   },
   "file_extension": ".py",
   "mimetype": "text/x-python",
   "name": "python",
   "nbconvert_exporter": "python",
   "pygments_lexer": "ipython3",
   "version": "3.10.8"
  },
  "orig_nbformat": 4,
  "vscode": {
   "interpreter": {
    "hash": "a3327f818e0a4ba18f1f384c03713ec02db81d5f9f9e6316f52b1fec9cb18330"
   }
  }
 },
 "nbformat": 4,
 "nbformat_minor": 2
}
