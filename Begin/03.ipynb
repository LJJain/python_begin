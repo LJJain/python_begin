{
 "cells": [
  {
   "cell_type": "markdown",
   "metadata": {},
   "source": [
    "# 三、 運算子\n",
    "\n",
    "#### 計算運算子: + - * / %(餘數) //(商數) **(指數)\n",
    "#### 比較運算子: == != > >= < <=\n",
    "#### 邏輯運算子: and or not\n",
    "#### 複合指定運算子: += -="
   ]
  },
  {
   "cell_type": "markdown",
   "metadata": {},
   "source": [
    "### 練習一 溫度轉換"
   ]
  },
  {
   "cell_type": "code",
   "execution_count": 2,
   "metadata": {},
   "outputs": [
    {
     "name": "stdout",
     "output_type": "stream",
     "text": [
      "攝氏30.0度=華氏86.0度\n"
     ]
    }
   ],
   "source": [
    "TC = float(input(\"請輸入攝氏溫度\"))\n",
    "TF = TC*(9/5)+32\n",
    "\n",
    "print(f\"攝氏{TC}度=華氏{TF}度\")"
   ]
  },
  {
   "cell_type": "markdown",
   "metadata": {},
   "source": [
    "### 練習二 BMI計算機\n",
    "$BMI = 體重(kg)/身高(m)^2$"
   ]
  },
  {
   "cell_type": "code",
   "execution_count": 8,
   "metadata": {},
   "outputs": [
    {
     "name": "stdout",
     "output_type": "stream",
     "text": [
      "身高180(cm)，體重75(kg)，您的BMI:23.15\n"
     ]
    }
   ],
   "source": [
    "h = int(input(\"請輸入身高(cm)\"))\n",
    "w = int(input(\"請輸入體重(kg)\"))\n",
    "\n",
    "bmi = w/(h/100)**2\n",
    "print(f\"身高{h}(cm)，體重{w}(kg)，您的BMI:{bmi:.2f}\")"
   ]
  },
  {
   "cell_type": "markdown",
   "metadata": {},
   "source": [
    "# 四、 判斷式"
   ]
  },
  {
   "cell_type": "code",
   "execution_count": 11,
   "metadata": {},
   "outputs": [
    {
     "name": "stdout",
     "output_type": "stream",
     "text": [
      "fail\n"
     ]
    }
   ],
   "source": [
    "# 雙向判斷式\n",
    "\n",
    "score = int(input(\"請輸入您的成績\"))\n",
    "\n",
    "if score >= 60:\n",
    "    print(\"pass\")\n",
    "else:\n",
    "    print(\"fail\")    "
   ]
  },
  {
   "cell_type": "code",
   "execution_count": 13,
   "metadata": {},
   "outputs": [
    {
     "name": "stdout",
     "output_type": "stream",
     "text": [
      "D\n"
     ]
    }
   ],
   "source": [
    "# 多項判斷式\n",
    "\n",
    "score = int(input(\"請輸入您的成績\"))\n",
    "\n",
    "if score >= 90 :\n",
    "    print(\"A\")\n",
    "elif score >=80:\n",
    "    print(\"B\")\n",
    "elif score >=70:\n",
    "    print(\"C\")\n",
    "elif score >=60:\n",
    "    print(\"D\")\n",
    "else:\n",
    "    print(\"Fail\")"
   ]
  },
  {
   "cell_type": "markdown",
   "metadata": {},
   "source": [
    "### 練習一 判斷奇/偶數"
   ]
  },
  {
   "cell_type": "code",
   "execution_count": 20,
   "metadata": {},
   "outputs": [
    {
     "data": {
      "text/plain": [
       "False"
      ]
     },
     "execution_count": 20,
     "metadata": {},
     "output_type": "execute_result"
    }
   ],
   "source": [
    "# 題外題 判斷是否為整數\n",
    "\n",
    "n = input(\"請輸入一個整數\")\n",
    "n.isdigit()"
   ]
  },
  {
   "cell_type": "code",
   "execution_count": 15,
   "metadata": {},
   "outputs": [
    {
     "name": "stdout",
     "output_type": "stream",
     "text": [
      "50:此數為偶數\n"
     ]
    }
   ],
   "source": [
    "a = int(input(\"請輸入一個正整數\"))\n",
    "\n",
    "if a % 2 == 0:\n",
    "    print(f\"{a}:此數為偶數\")\n",
    "else:\n",
    "    print(f\"{a}:此數為奇數\")"
   ]
  },
  {
   "cell_type": "markdown",
   "metadata": {},
   "source": [
    "### 練習二 閏年計算"
   ]
  },
  {
   "cell_type": "code",
   "execution_count": 25,
   "metadata": {},
   "outputs": [
    {
     "name": "stdout",
     "output_type": "stream",
     "text": [
      "閏年\n"
     ]
    }
   ],
   "source": [
    "# 巢狀判斷式結構\n",
    "\n",
    "y = int(input(\"請輸入一西元年\"))\n",
    "\n",
    "if y % 100 == 0:\n",
    "    if y % 400 == 0:\n",
    "        print(\"閏年\")\n",
    "    else:\n",
    "        print(\"非閏年\")\n",
    "else:\n",
    "    if y % 4 == 0:\n",
    "        print(\"閏年\")\n",
    "    else:\n",
    "        print(\"非閏年\")"
   ]
  },
  {
   "cell_type": "code",
   "execution_count": 27,
   "metadata": {},
   "outputs": [
    {
     "name": "stdout",
     "output_type": "stream",
     "text": [
      "非閏年\n"
     ]
    }
   ],
   "source": [
    "# 多項判斷式\n",
    "\n",
    "y = int(input(\"請輸入一西元年\"))\n",
    "\n",
    "if y % 100 == 0 and y % 400==0:\n",
    "    print(\"閏年\")\n",
    "elif y % 100 != 0 and y % 4 == 0:\n",
    "    print(\"閏年\")\n",
    "else:\n",
    "    print(\"非閏年\")"
   ]
  },
  {
   "cell_type": "markdown",
   "metadata": {},
   "source": [
    "# 五、 自訂函數"
   ]
  },
  {
   "cell_type": "code",
   "execution_count": 28,
   "metadata": {},
   "outputs": [
    {
     "name": "stdout",
     "output_type": "stream",
     "text": [
      "Hello\n"
     ]
    }
   ],
   "source": [
    "# 基本格式\n",
    "\n",
    "def sayHello():\n",
    "    print(\"Hello\")\n",
    "\n",
    "sayHello()"
   ]
  },
  {
   "cell_type": "code",
   "execution_count": 29,
   "metadata": {},
   "outputs": [
    {
     "name": "stdout",
     "output_type": "stream",
     "text": [
      "Hello, David\n"
     ]
    }
   ],
   "source": [
    "# 參數使用\n",
    "\n",
    "def sayHello(name):\n",
    "    print(f\"Hello, {name}\")\n",
    "\n",
    "sayHello(\"David\")"
   ]
  },
  {
   "cell_type": "code",
   "execution_count": 31,
   "metadata": {},
   "outputs": [],
   "source": [
    "# 自訂函式 回傳值\n",
    "\n",
    "def sayHello(name):\n",
    "    msg = f\"Hello, {name}\"\n",
    "    return msg\n",
    "\n",
    "msg = sayHello(\"Lily\")"
   ]
  },
  {
   "cell_type": "code",
   "execution_count": 32,
   "metadata": {},
   "outputs": [
    {
     "name": "stdout",
     "output_type": "stream",
     "text": [
      "Hello, Lily\n"
     ]
    }
   ],
   "source": [
    "print(msg)"
   ]
  },
  {
   "cell_type": "markdown",
   "metadata": {},
   "source": [
    "### 練習一、 計算面積\n",
    "##### getArea(), 參數 w, h , 回傳值 area\n",
    "##### 兩塊地 1. 寬5 高4 2. 寬10 高5 , 計算總面積"
   ]
  },
  {
   "cell_type": "code",
   "execution_count": 33,
   "metadata": {},
   "outputs": [
    {
     "name": "stdout",
     "output_type": "stream",
     "text": [
      "總面積為 70\n"
     ]
    }
   ],
   "source": [
    "def getArea(w, h):\n",
    "    area = w*h\n",
    "    return area\n",
    "\n",
    "total = getArea(5,4) + getArea(10,5)\n",
    "print(f\"總面積為 {total}\")"
   ]
  },
  {
   "cell_type": "markdown",
   "metadata": {},
   "source": [
    "### 練習二、 利用自訂函式溫度轉換\n",
    "##### tctotf() \n",
    "##### TF = TC*(9/5)+32"
   ]
  },
  {
   "cell_type": "code",
   "execution_count": 34,
   "metadata": {},
   "outputs": [
    {
     "name": "stdout",
     "output_type": "stream",
     "text": [
      "攝氏溫度30.0等於86.0華氏溫度\n"
     ]
    }
   ],
   "source": [
    "def tctotf(TC):\n",
    "    TF = TC*(9/5)+32\n",
    "    return TF\n",
    "\n",
    "TC = float(input(\"請輸入攝氏溫度\"))\n",
    "print(f\"攝氏溫度{TC}等於{tctotf(TC)}華氏溫度\")"
   ]
  },
  {
   "cell_type": "markdown",
   "metadata": {},
   "source": [
    "### 練習二、 自訂函式加入判斷式\n",
    "\n",
    "#### getBMI() 參數: h, w\n",
    "#### bmi <= 18.5 \"太瘦了\" ; > 24 太胖了; 其他 \"恭喜\""
   ]
  },
  {
   "cell_type": "code",
   "execution_count": 37,
   "metadata": {},
   "outputs": [
    {
     "name": "stdout",
     "output_type": "stream",
     "text": [
      "身高180公分, 體重75公斤, 您的BMI值為23.15\n",
      "標準身材，恭喜\n"
     ]
    }
   ],
   "source": [
    "def getBMI(h, w):\n",
    "    bmi = w / (h/100)**2\n",
    "    return bmi\n",
    "\n",
    "h = int(input(\"請輸入身高(cm)\"))\n",
    "w = int(input(\"請輸入體重(kg)\"))\n",
    "BMI = getBMI(h, w)\n",
    "print(f\"身高{h}公分, 體重{w}公斤, 您的BMI值為{BMI:.2f}\")\n",
    "\n",
    "if BMI <= 18.5:\n",
    "    print(\"太瘦了\")\n",
    "elif BMI > 24:\n",
    "    print(\"太胖了\")\n",
    "else:\n",
    "    print(\"標準身材，恭喜\")"
   ]
  }
 ],
 "metadata": {
  "kernelspec": {
   "display_name": "Python 3.10.5 64-bit",
   "language": "python",
   "name": "python3"
  },
  "language_info": {
   "codemirror_mode": {
    "name": "ipython",
    "version": 3
   },
   "file_extension": ".py",
   "mimetype": "text/x-python",
   "name": "python",
   "nbconvert_exporter": "python",
   "pygments_lexer": "ipython3",
   "version": "3.10.5"
  },
  "orig_nbformat": 4,
  "vscode": {
   "interpreter": {
    "hash": "a7a0c7c9347e9e185eee34cf88d7643fe7d6acaa7b9656353bf5f95484913cf5"
   }
  }
 },
 "nbformat": 4,
 "nbformat_minor": 2
}
