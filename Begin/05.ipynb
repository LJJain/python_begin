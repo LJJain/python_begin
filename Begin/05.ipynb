{
 "cells": [
  {
   "cell_type": "markdown",
   "metadata": {},
   "source": [
    "# 一、 文件檔案的爬取跟儲存"
   ]
  },
  {
   "cell_type": "markdown",
   "metadata": {},
   "source": [
    "### 資料檔案的儲存: open()函式"
   ]
  },
  {
   "cell_type": "markdown",
   "metadata": {},
   "source": [
    "#### 語法\n",
    "```Python\n",
    "with open(filename[,模式][,編碼]) as f:\n",
    "    f.檔案處理函式()\n",
    "```\n",
    "- 檔案名稱:設定檔案的名稱，它是字串型態\n",
    "- 模式:設定檔案開啟的模式,省略將預設為讀取模式\n",
    "    + r:讀取模式，此為預設模式\n",
    "    + a:附加模式，若檔案已存在，內容會被附加至檔案尾。\n",
    "    + w:寫入模式，若檔案已存在，內容將會被覆蓋。\n",
    "    + b:二進位模式\n",
    "    + +:開放為可讀寫檔案。\n",
    "- 編碼:指定檔案的編碼模式，一般可設定cp950或UTF-8(大小寫都可以)。"
   ]
  },
  {
   "cell_type": "markdown",
   "metadata": {},
   "source": [
    "#### 檔案處理函式\n",
    "    - read():讀取檔案內的文字。\n",
    "    - readline():讀取檔案內容的第一行文字\n",
    "    - readlines():讀取檔案內容，以行為元素儲存為串列。\n",
    "    - writr():寫入檔案\n",
    "    - close():關閉檔案"
   ]
  },
  {
   "cell_type": "code",
   "execution_count": 3,
   "metadata": {},
   "outputs": [
    {
     "name": "stdout",
     "output_type": "stream",
     "text": [
      "abc123\n"
     ]
    }
   ],
   "source": [
    "# 文字檔案讀寫 範例\n",
    "f = open('file.txt', 'w')   # 當沒有該檔案時，系統會自動新增該檔案\n",
    "f.write('abc')\n",
    "f.close()\n",
    "\n",
    "f = open('file.txt', 'a')\n",
    "f.write('123')\n",
    "f.close()\n",
    "\n",
    "f = open('file.txt', 'r')\n",
    "print(f.read())\n",
    "f.close()"
   ]
  },
  {
   "cell_type": "code",
   "execution_count": 6,
   "metadata": {},
   "outputs": [],
   "source": [
    "f = open('file1.txt', 'a')\n",
    "f.write('123')\n",
    "f.write('abc')\n",
    "\n",
    "# 最後一定要關檔案,不然無法寫入\n",
    "f.close()"
   ]
  },
  {
   "cell_type": "code",
   "execution_count": 10,
   "metadata": {},
   "outputs": [],
   "source": [
    "# 用with open()寫法\n",
    "with open('file2.txt', 'a') as f:\n",
    "    f.write('123')\n",
    "    f.write('abc')\n",
    "\n",
    "# with open()寫法，可以不用close()也會寫入資料"
   ]
  },
  {
   "cell_type": "markdown",
   "metadata": {},
   "source": [
    "# 二、 網路數據資料的收集 \n",
    "### 網路爬蟲(crawler)運作原理"
   ]
  },
  {
   "cell_type": "markdown",
   "metadata": {},
   "source": [
    "#### 資料的爬取: requests 模組"
   ]
  },
  {
   "cell_type": "code",
   "execution_count": 13,
   "metadata": {},
   "outputs": [
    {
     "data": {
      "text/plain": [
       "<Response [200]>"
      ]
     },
     "execution_count": 13,
     "metadata": {},
     "output_type": "execute_result"
    }
   ],
   "source": [
    "# 讀取遠端資料 練習\n",
    "# COVID-19各國地區累積病例數與死亡人數\n",
    "# http://data.gov.tw/dataset/120449\n",
    "import requests\n",
    "url = 'https://od.cdc.gov.tw/eic/covid19/covid19_global_cases_and_deaths.csv'\n",
    "r = requests.get(url)\n",
    "r.encoding = 'UTF-8'    # 設定編碼 避免中文會產生亂碼\n",
    "r"
   ]
  },
  {
   "cell_type": "code",
   "execution_count": 17,
   "metadata": {},
   "outputs": [
    {
     "name": "stdout",
     "output_type": "stream",
     "text": [
      "country_ch,country_en,cases,deaths\n",
      "美國,United States,\"97,483,380\",\"1,097,551\"\n",
      "印度,India,\"44,669,421\",\"530,586\"\n",
      "法國,France,\"37,355,605\",\"158,338\"\n",
      "德國,Germany,\"36,205,405\",\"156,613\"\n",
      "巴西,Brazil,\"35,035,294\",\"689,039\"\n",
      "韓國,South Korea,\"26,581,856\",\"30,066\"\n",
      "義大利,Italy,\"24,031,538\",\"180,518\"\n",
      "英國,United Kingdom,\"23,977,637\",\"196,241\"\n",
      "日本,Japan,\"23,814,209\",\"48,338\"\n",
      "俄羅斯,Russia,\"21,540,891\",\"391,509\"\n",
      "土耳其,Turkey,\"16,976,729\",\"101,327\"\n",
      "西班牙,Spain,\"13,573,721\",\"115,641\"\n",
      "越南,Vietnam,\"11,511,822\",\"43,169\"\n",
      "澳洲,Australia,\"10,560,280\",\"15,980\"\n",
      "阿根廷,Argentina,\"9,723,924\",\"130,017\"\n",
      "荷蘭,Netherlands,\"8,534,144\",\"22,892\"\n",
      "臺灣,Taiwan,\"8,174,903\",\"13,991\"\n",
      "伊朗,Iran,\"7,559,368\",\"144,627\"\n",
      "墨西哥,Mexico,\"7,118,933\",\"330,444\"\n",
      "印尼,Indonesia,\"6,612,673\",\"159,422\"\n",
      "波蘭,Poland,\"6,348,928\",\"118,274\"\n",
      "哥倫比亞,Colombia,\"6,312,657\",\"141,881\"\n",
      "葡萄牙,Portugal,\"5,537,108\",\"25,395\"\n",
      "奧地利,Austria,\"5,520,300\",\"21,144\"\n",
      "烏克蘭,Ukraine,\"5,329,536\",\"110,403\"\n",
      "希臘,Greece,\"5,306,482\",\"34,024\"\n",
      "馬來西亞,Malaysia,\"4,969,420\",\"36,609\"\n",
      "智利,Chile,\"4,880,884\",\"62,211\"\n",
      "以色列,Israel,\"4,707,644\",\"11,818\"\n",
      "泰國,Thailand,\"4,702,330\",\"33,106\"\n",
      "比利時,Belgium,\"4,627,186\",\"33,021\"\n",
      "加拿大,Canada,\"4,392,747\",\"47,468\"\n",
      "瑞士,Switzerland,\"4,297,626\",\"13,778\"\n",
      "秘魯,Peru,\"4,188,692\",\"217,241\"\n",
      "捷克,Czech Republic,\"4,168,015\",\"41,759\"\n",
      "南非,South Africa,\"4,038,121\",\"102,395\"\n",
      "菲律賓,Philippines,\"4,026,895\",\"64,485\"\n",
      "羅馬尼亞,Romania,\"3,294,447\",\"67,253\"\n",
      "丹麥,Denmark,\"3,190,650\",\"7,543\"\n",
      "瑞典,Sweden,\"2,622,790\",\"20,928\"\n",
      "伊拉克,Iraq,\"2,462,317\",\"25,361\"\n",
      "塞爾維亞,Serbia,\"2,418,306\",\"17,347\"\n",
      "匈牙利,Hungary,\"2,157,995\",\"48,184\"\n",
      "新加坡,Singapore,\"2,154,633\",\"1,700\"\n",
      "香港,Hong Kong,\"2,043,967\",\"10,610\"\n",
      "孟加拉,Bangladesh,\"2,036,393\",\"29,431\"\n",
      "紐西蘭,New Zealand,\"1,894,158\",\"2,182\"\n",
      "斯洛伐克,Slovakia,\"1,855,037\",\"20,712\"\n",
      "喬治亞,Georgia,\"1,785,138\",\"16,912\"\n",
      "約旦,Jordan,\"1,746,997\",\"14,122\"\n",
      "愛爾蘭,Ireland,\"1,677,386\",\"8,102\"\n",
      "巴基斯坦,Pakistan,\"1,574,914\",\"30,630\"\n",
      "挪威,Norway,\"1,467,622\",\"4,325\"\n",
      "哈薩克,Kazakhstan,\"1,395,801\",\"13,693\"\n",
      "芬蘭,Finland,\"1,384,654\",\"7,173\"\n",
      "保加利亞,Bulgaria,\"1,285,645\",\"38,010\"\n",
      "立陶宛,Lithuania,\"1,273,064\",\"9,419\"\n",
      "摩洛哥,Morocco,\"1,267,350\",\"16,283\"\n",
      "克羅埃西亞,Croatia,\"1,251,441\",\"17,268\"\n",
      "斯洛維尼亞,Slovenia,\"1,247,950\",\"6,909\"\n",
      "黎巴嫩,Lebanon,\"1,220,127\",\"10,729\"\n",
      "瓜地馬拉,Guatemala,\"1,148,614\",\"19,939\"\n",
      "突尼西亞,Tunisia,\"1,146,799\",\"29,266\"\n",
      "哥斯大黎加,Costa Rica,\"1,143,597\",\"9,031\"\n",
      "古巴,Cuba,\"1,111,345\",\"8,530\"\n",
      "玻利維亞,Bolivia,\"1,110,190\",\"22,244\"\n",
      "阿拉伯聯合大公國,UAE,\"1,042,779\",\"2,348\"\n",
      "厄瓜多,Ecuador,\"1,009,388\",\"35,935\"\n",
      "尼泊爾,Nepal,\"1,000,855\",\"12,019\"\n",
      "巴拿馬,Panama,\"995,726\",\"8,519\"\n",
      "白俄羅斯,Belarus,\"994,037\",\"7,118\"\n",
      "烏拉圭,Uruguay,\"992,887\",\"7,530\"\n",
      "拉脫維亞,Latvia,\"959,835\",\"6,083\"\n",
      "沙烏地阿拉伯,Saudi Arabia,\"825,176\",\"9,448\"\n",
      "亞塞拜然,Azerbaijan,\"823,975\",\"9,973\"\n",
      "巴拉圭,Paraguay,\"718,071\",\"19,611\"\n",
      "巴勒斯坦,Palestine,\"703,036\",\"5,708\"\n",
      "巴林,Bahrain,\"695,133\",\"1,534\"\n",
      "斯里蘭卡,Sri Lanka,\"671,546\",\"16,795\"\n",
      "科威特,Kuwait,\"662,359\",\"2,569\"\n",
      "多明尼加,Dominican,\"648,216\",\"4,384\"\n",
      "緬甸,Myanmar,\"633,045\",\"19,487\"\n",
      "賽普勒斯,Cyprus,\"610,023\",\"1,218\"\n",
      "愛沙尼亞,Estonia,\"608,269\",\"2,757\"\n",
      "摩爾多瓦,Moldova,\"594,441\",\"11,906\"\n",
      "委內瑞拉,Venezuela,\"546,839\",\"5,827\"\n",
      "蒙古,Mongolia,\"539,791\",\"2,133\"\n",
      "埃及,Egypt,\"515,645\",\"24,613\"\n",
      "利比亞,Libya,\"507,078\",\"6,437\"\n",
      "衣索比亞,Ethiopia,\"494,327\",\"7,572\"\n",
      "卡達,Qatar,\"476,171\",684\n",
      "宏都拉斯,Honduras,\"457,508\",\"11,043\"\n",
      "亞美尼亞,Armenia,\"445,631\",\"8,709\"\n",
      "波士尼亞與赫塞哥維納,Bosnia and Herzegovina,\"400,340\",\"16,193\"\n",
      "阿曼,Oman,\"399,027\",\"4,260\"\n",
      "北馬其頓,North Macedonia,\"344,531\",\"9,567\"\n",
      "肯亞,Kenya,\"341,043\",\"5,684\"\n",
      "尚比亞,Zambia,\"333,685\",\"4,017\"\n",
      "阿爾巴尼亞,Albania,\"333,257\",\"3,593\"\n",
      "波札那,Botswana,\"326,344\",\"2,790\"\n",
      "盧森堡,Luxembourg,\"297,757\",\"1,133\"\n",
      "中國大陸,China,\"290,795\",\"5,231\"\n",
      "蒙特內哥羅,Montenegro,\"283,512\",\"2,789\"\n",
      "科索沃,Kosovo,\"272,197\",\"3,202\"\n",
      "阿爾及利亞,Algeria,\"271,028\",\"6,881\"\n",
      "模里西斯,Mauritius,\"268,397\",\"1,033\"\n",
      "奈及利亞,Nigeria,\"266,283\",\"3,155\"\n",
      "辛巴威,Zimbabwe,\"257,893\",\"5,606\"\n",
      "汶萊,Brunei,\"248,861\",245\n",
      "烏茲別克,Uzbekistan,\"245,508\",\"1,637\"\n",
      "莫三比克,Mozambique,\"230,590\",\"2,224\"\n",
      "寮國,Laos,\"216,468\",758\n",
      "冰島,Iceland,\"207,003\",219\n",
      "吉爾吉斯,Kyrgyzstan,\"206,511\",\"2,991\"\n",
      "阿富汗,Afghanistan,\"205,229\",\"7,832\"\n",
      "薩爾瓦多,El Salvador,\"201,785\",\"4,230\"\n",
      "馬爾地夫,Maldives,\"185,584\",311\n",
      "千里達及托巴哥,Trinidad and Tobago,\"185,094\",\"4,263\"\n",
      "迦納,Ghana,\"170,996\",\"1,461\"\n",
      "納米比亞,Namibia,\"169,946\",\"4,080\"\n",
      "烏干達,Uganda,\"169,663\",\"3,630\"\n",
      "牙買加,Jamaica,\"151,931\",\"3,320\"\n",
      "柬埔寨,Cambodia,\"138,032\",\"3,056\"\n",
      "盧安達,Rwanda,\"132,643\",\"1,467\"\n",
      "喀麥隆,Cameroon,\"123,993\",\"1,965\"\n",
      "馬爾他,Malta,\"115,703\",808\n",
      "巴貝多,Barbados,\"103,545\",564\n",
      "安哥拉,Angola,\"103,131\",\"1,917\"\n",
      "剛果民主共和國,DR Congo,\"93,837\",\"1,452\"\n",
      "塞內加爾,Senegal,\"88,859\",\"1,968\"\n",
      "馬拉威,Malawi,\"88,073\",\"2,685\"\n",
      "象牙海岸,Ivory Coast,\"87,870\",830\n",
      "蘇利南,Suriname,\"81,228\",\"1,392\"\n",
      "史瓦帝尼,Eswatini,\"73,770\",\"1,422\"\n",
      "蓋亞那,Guyana,\"71,545\",\"1,283\"\n",
      "貝里斯,Belize,\"68,988\",687\n",
      "斐濟,Fiji,\"68,307\",878\n",
      "馬達加斯加,Madagascar,\"67,054\",\"1,411\"\n",
      "蘇丹,Sudan,\"63,617\",\"4,986\"\n",
      "茅利塔尼亞,Mauritania,\"63,419\",997\n",
      "維德角,Cape Verde,\"62,828\",410\n",
      "不丹,Bhutan,\"62,488\",21\n",
      "敘利亞,Syria,\"57,389\",\"3,163\"\n",
      "蒲隆地,Burundi,\"50,639\",38\n",
      "塞席爾,Seychelles,\"49,380\",171\n",
      "加彭,Gabon,\"48,972\",306\n",
      "安道爾,Andorra,\"46,824\",156\n",
      "巴布亞紐幾內亞,Papua New Guinea,\"45,819\",668\n",
      "坦尚尼亞,Tanzania,\"40,311\",845\n",
      "多哥,Togo,\"39,323\",290\n",
      "幾內亞,Guinea,\"38,153\",464\n",
      "巴哈馬,Bahamas,\"37,453\",833\n",
      "賴索托,Lesotho,\"34,490\",706\n",
      "海地,Haiti,\"33,837\",860\n",
      "馬利,Mali,\"32,755\",742\n",
      "聖露西亞,Saint Lucia,\"29,550\",404\n",
      "貝南,Benin,\"27,922\",163\n",
      "剛果共和國,Congo,\"25,375\",386\n",
      "東帝汶,East Timor,\"23,327\",138\n",
      "密克羅尼西亞聯邦,Micronesia,\"22,203\",55\n",
      "聖馬利諾,San Marino,\"21,798\",119\n",
      "布吉納法索,Burkina Faso,\"21,631\",387\n",
      "索羅門群島,Solomon islands,\"21,544\",153\n",
      "列支敦斯登,Liechtenstein,\"20,831\",87\n",
      "格瑞那達,Grenada,\"19,613\",237\n",
      "索馬利亞,Somalia,\"18,863\",930\n",
      "南蘇丹,South Sudan,\"18,348\",138\n",
      "塔吉克,Tajikistan,\"17,786\",125\n",
      "赤道幾內亞,Equatorial Guinea,\"17,182\",183\n",
      "東加,Tonga,\"16,182\",12\n",
      "薩摩亞,Samoa,\"15,949\",29\n",
      "多米尼克,Dominica,\"15,760\",74\n",
      "吉布地,Djibouti,\"15,690\",189\n",
      "馬紹爾群島,Marshall Islands,\"15,501\",17\n",
      "中非,Central Africa,\"15,289\",113\n",
      "摩納哥,Monaco,\"15,236\",63\n",
      "尼加拉瓜,Nicaragua,\"15,219\",245\n",
      "甘比亞,Gambia,\"12,580\",372\n",
      "萬那杜,Vanuatu,\"11,952\",14\n",
      "葉門,Yemen,\"11,945\",\"2,159\"\n",
      "索馬利蘭,Somaliland,\"10,577\",619\n",
      "厄利垂亞,Eritrea,\"10,189\",103\n",
      "尼日,Niger,\"9,931\",312\n",
      "安地卡及巴布達,Antigua and Barbuda,\"9,106\",146\n",
      "葛摩,Comoros,\"8,941\",161\n",
      "幾內亞比索,Guinea-Bissau,\"8,848\",176\n",
      "賴比瑞亞,Liberia,\"8,014\",294\n",
      "獅子山,Sierra Leone,\"7,758\",126\n",
      "查德,Chad,\"7,637\",194\n",
      "聖文森及格瑞那丁,Saint Vincent and the Grenadines,\"7,112\",115\n",
      "聖克里斯多福及尼維斯,Saint Kitts and Nevis,\"6,552\",46\n",
      "庫克群島,Cook Islands,\"6,389\",1\n",
      "聖多美普林西比,Sao Tome and Principe,\"6,275\",77\n",
      "帛琉,Palau,\"5,684\",7\n",
      "諾魯,Nauru,\"4,621\",1\n",
      "吉里巴斯,Kiribati,\"3,430\",13\n",
      "吐瓦魯,Tuvalu,\"2,387\",0\n",
      "澳門,Macao,796,6\n",
      "國際運輸工具(鑽石公主號),Int'l conveyance (Japan),741,13\n",
      "紐埃,Niue,100,0\n",
      "教廷,Holy See,29,0\n",
      "北韓,North Korea,2,1\n"
     ]
    }
   ],
   "source": [
    "print(r.text)"
   ]
  },
  {
   "cell_type": "code",
   "execution_count": 18,
   "metadata": {},
   "outputs": [],
   "source": [
    "# 文字檔案下載\n",
    "with open('covid-19.csv', 'w') as f:\n",
    "    f.write(r.text)"
   ]
  },
  {
   "cell_type": "markdown",
   "metadata": {},
   "source": [
    "- 請求資料為文字時:可用 **回應內容text** 取得值\n",
    "- 請求資料為二進位檔案時，可用 **回應內容.content** 取得值"
   ]
  },
  {
   "cell_type": "markdown",
   "metadata": {},
   "source": [
    "#### 範例 二 圖片下載"
   ]
  },
  {
   "cell_type": "code",
   "execution_count": 19,
   "metadata": {},
   "outputs": [],
   "source": [
    "# 圖片下載\n",
    "# https://www.youtube.com/watch?v=NdX-fIJeJJU\n",
    "# https://img.youtube.com/vi/NdX-fIJeJJU/sddefault.jpg\n",
    "import requests\n",
    "url = 'https://img.youtube.com/vi/NdX-fIJeJJU/sddefault.jpg'\n",
    "r = requests.get(url)\n",
    "with open('image.jpg', 'wb') as f:\n",
    "    f.write(r.content)"
   ]
  },
  {
   "cell_type": "markdown",
   "metadata": {},
   "source": [
    "#### Colab 專用-(Linux指令): wget指令"
   ]
  },
  {
   "cell_type": "code",
   "execution_count": 21,
   "metadata": {},
   "outputs": [
    {
     "name": "stderr",
     "output_type": "stream",
     "text": [
      "'wget' ���O�����Υ~���R�O�B�i���檺�{���Χ妸�ɡC\n"
     ]
    }
   ],
   "source": [
    "# 用wget 指令\n",
    "# !wget -o 檔名 網址\n",
    "# 可用在terminal上 下指令(不須要加!)\n",
    "# !wget -o google.png https://www.google.com.tw/images/branding/googlelogo/1x/googlelogo_color_272x92dp.png"
   ]
  },
  {
   "cell_type": "markdown",
   "metadata": {},
   "source": [
    "#### 網頁資料解析\n",
    "- 網頁資料解析: BeautifulSoup 模組"
   ]
  },
  {
   "cell_type": "code",
   "execution_count": 4,
   "metadata": {},
   "outputs": [
    {
     "name": "stdout",
     "output_type": "stream",
     "text": [
      "<!doctype html>\n",
      "<html lang=\"zh\">\n",
      "  <head>\n",
      "    <meta charset=\"UTF-8\">\n",
      "    <title>我是網頁標題</title>\n",
      "  </head>\n",
      "  <body>\n",
      "    <h1 class=\"large\">我是標題</h1>\n",
      "    <div>\n",
      "      <p>我是段落</p>\n",
      "      <img src=\"https://www.w3.org/html/logo/downloads/HTML5_Logo_256.png\" alt=\"我是圖片\">\n",
      "      <a href=\"http://www.e-happy.com.tw\">我是超連結</a>\n",
      "    </div>\n",
      "  </body>\n",
      "</html>\n"
     ]
    }
   ],
   "source": [
    "# 基礎練習\n",
    "# http://ehappy.tw/bsdemo1.htm\n",
    "import requests\n",
    "url = 'http://ehappy.tw/bsdemo1.htm'\n",
    "r = requests.get(url)\n",
    "r.encoding = 'utf-8'\n",
    "print(r.text)"
   ]
  },
  {
   "cell_type": "code",
   "execution_count": 8,
   "metadata": {},
   "outputs": [
    {
     "data": {
      "text/plain": [
       "'我是超連結'"
      ]
     },
     "execution_count": 8,
     "metadata": {},
     "output_type": "execute_result"
    }
   ],
   "source": [
    "from bs4 import BeautifulSoup\n",
    "sp = BeautifulSoup(r.text, 'html.parser')\n",
    "# sp.title    # 提取 <title> 標籤內容\n",
    "# sp.title.text   # 只提取內容文字\n",
    "sp.h1.text\n",
    "sp.a.text"
   ]
  },
  {
   "cell_type": "code",
   "execution_count": 11,
   "metadata": {},
   "outputs": [
    {
     "data": {
      "text/plain": [
       "'我是網頁標題'"
      ]
     },
     "execution_count": 11,
     "metadata": {},
     "output_type": "execute_result"
    }
   ],
   "source": [
    "# 練習 find() find_all()\n",
    "# http://ehappy.tw/bsdemo2.htm\n",
    "\n",
    "import requests\n",
    "from bs4 import BeautifulSoup\n",
    "\n",
    "url = 'http://ehappy.tw/bsdemo2.htm'\n",
    "r = requests.get(url)\n",
    "r.encoding = 'utf-8'\n",
    "sp = BeautifulSoup(r.text, 'html.parser')\n",
    "# sp.title.text"
   ]
  },
  {
   "cell_type": "code",
   "execution_count": 15,
   "metadata": {},
   "outputs": [
    {
     "data": {
      "text/plain": [
       "'我是超連結2'"
      ]
     },
     "execution_count": 15,
     "metadata": {},
     "output_type": "execute_result"
    }
   ],
   "source": [
    "# 練習 找所有同標籤的內容\n",
    "# sp.find('p').text # 只會找到第一個<p>標籤的值\n",
    "# 方法一:找標籤 tag 用find_all\n",
    "sp.find_all('p')[1].text\n",
    "\n",
    "# 方法二:標籤屬性取值(id = '')\n",
    "sp.find('p', id = 'p2').text\n",
    "sp.find('li', class_='even').text # class 是python保留字 所以要class_=\"\""
   ]
  },
  {
   "cell_type": "code",
   "execution_count": 19,
   "metadata": {},
   "outputs": [
    {
     "data": {
      "text/plain": [
       "'https://www.w3.org/html/logo/downloads/HTML5_Logo_256.png'"
      ]
     },
     "execution_count": 19,
     "metadata": {},
     "output_type": "execute_result"
    }
   ],
   "source": [
    "# 取得屬性\n",
    "sp.find('li', class_='even').a['href']  # 取<a>標籤的連結\n",
    "sp.find('li', class_='even').a.get('href')  # 方法2 get()\n",
    "\n",
    "# 練習 取圖片網址\n",
    "# sp.img.get('src')\n",
    "# sp.img['src']\n",
    "# sp.find('img').get('src')\n",
    "# sp.find_all('img').get('src')\n",
    "# 以上方法皆可取得圖片網址"
   ]
  },
  {
   "cell_type": "markdown",
   "metadata": {},
   "source": [
    "### 專題一 PPT美食版"
   ]
  },
  {
   "cell_type": "code",
   "execution_count": 11,
   "metadata": {},
   "outputs": [
    {
     "name": "stdout",
     "output_type": "stream",
     "text": [
      "[食記] 桃園。十八子烤鴨大王\n",
      "[食記]新北中和 揚二三小燒肉 1人也可吃燒肉大餐\n",
      "[食記] 台北大同｜知名老店永樂雞捲大王 好好吃\n",
      "[食記] 花蓮市區 璽賓行旅 食光迴廊義式料理\n",
      "[公告] Food板 板規 V3.91\n",
      "[公告] 發文請在標題加上地區及提供地址電話。^^\n",
      "[公告] 文章被刪除者請洽精華區的資源回收桶\n",
      "[公告] 新增板規22：發文禁附延伸閱讀連結\n"
     ]
    }
   ],
   "source": [
    "# 爬取文章標題\n",
    "# https://www.ptt.cc/bbs/food/index.html\n",
    "import requests\n",
    "from bs4 import BeautifulSoup\n",
    "\n",
    "url = 'https://www.ptt.cc/bbs/food/index.html'\n",
    "r = requests.get(url)\n",
    "sp = BeautifulSoup(r.text, 'html.parser')\n",
    "datas = sp.find_all('div', class_ = \"r-ent\")\n",
    "# datas[0].find('a').text\n",
    "for data in datas:\n",
    "    print(data.a.text)"
   ]
  },
  {
   "cell_type": "code",
   "execution_count": 14,
   "metadata": {},
   "outputs": [
    {
     "name": "stdout",
     "output_type": "stream",
     "text": [
      "11/22 https://www.ptt.cc/bbs/Food/M.1669129378.A.19B.html [食記] 桃園。十八子烤鴨大王\n",
      "11/22 https://www.ptt.cc/bbs/Food/M.1669130572.A.5EB.html [食記]新北中和 揚二三小燒肉 1人也可吃燒肉大餐\n",
      "11/23 https://www.ptt.cc/bbs/Food/M.1669160486.A.289.html [食記] 台北大同｜知名老店永樂雞捲大王 好好吃\n",
      "11/23 https://www.ptt.cc/bbs/Food/M.1669166849.A.342.html [食記] 花蓮市區 璽賓行旅 食光迴廊義式料理\n",
      "12/16 https://www.ptt.cc/bbs/Food/M.1355673582.A.5F7.html [公告] Food板 板規 V3.91\n",
      " 9/28 https://www.ptt.cc/bbs/Food/M.1190944426.A.E6C.html [公告] 發文請在標題加上地區及提供地址電話。^^\n",
      "10/01 https://www.ptt.cc/bbs/Food/M.1128132666.A.0FD.html [公告] 文章被刪除者請洽精華區的資源回收桶\n",
      " 6/04 https://www.ptt.cc/bbs/Food/M.1496532469.A.C36.html [公告] 新增板規22：發文禁附延伸閱讀連結\n"
     ]
    }
   ],
   "source": [
    "# 加上連結與日期\n",
    "datas = sp.find_all('div', class_='r-ent')\n",
    "for data in datas:\n",
    "    print(data.find('div', class_='date').text, end=' ')\n",
    "    print('https://www.ptt.cc'+data.a.get('href'), end=' ')\n",
    "    print(data.a.text)"
   ]
  },
  {
   "cell_type": "code",
   "execution_count": 18,
   "metadata": {},
   "outputs": [
    {
     "name": "stdout",
     "output_type": "stream",
     "text": [
      "第1頁\n",
      "11/22 https://www.ptt.cc/bbs/Food/M.1669129378.A.19B.html [食記] 桃園。十八子烤鴨大王\n",
      "11/22 https://www.ptt.cc/bbs/Food/M.1669130572.A.5EB.html [食記]新北中和 揚二三小燒肉 1人也可吃燒肉大餐\n",
      "11/23 https://www.ptt.cc/bbs/Food/M.1669160486.A.289.html [食記] 台北大同｜知名老店永樂雞捲大王 好好吃\n",
      "11/23 https://www.ptt.cc/bbs/Food/M.1669166849.A.342.html [食記] 花蓮市區 璽賓行旅 食光迴廊義式料理\n",
      "12/16 https://www.ptt.cc/bbs/Food/M.1355673582.A.5F7.html [公告] Food板 板規 V3.91\n",
      " 9/28 https://www.ptt.cc/bbs/Food/M.1190944426.A.E6C.html [公告] 發文請在標題加上地區及提供地址電話。^^\n",
      "10/01 https://www.ptt.cc/bbs/Food/M.1128132666.A.0FD.html [公告] 文章被刪除者請洽精華區的資源回收桶\n",
      " 6/04 https://www.ptt.cc/bbs/Food/M.1496532469.A.C36.html [公告] 新增板規22：發文禁附延伸閱讀連結\n",
      "第2頁\n",
      "11/21 https://www.ptt.cc/bbs/Food/M.1669040279.A.426.html [食記][台南] 里卡多｜海牙館｜安平在地神秘感\n",
      "11/21 https://www.ptt.cc/bbs/Food/M.1669042076.A.F35.html [食記] 台北 陽明山 屋頂上 THE TOP 夜景餐廳 \n",
      "11/21 https://www.ptt.cc/bbs/Food/M.1669042250.A.5BB.html [食記]台北大安 育成蕃薯藤 平價buffet吃到飽\n",
      "11/21 https://www.ptt.cc/bbs/Food/M.1669042596.A.0D2.html [食記] 台北 東一排骨總店 復古舞廳裝潢餐廳 \n",
      "11/21 https://www.ptt.cc/bbs/Food/M.1669043052.A.DFA.html [轉讓] 旭集信義店 11/30 下午茶2位(已送）\n",
      "11/22 https://www.ptt.cc/bbs/Food/M.1669086354.A.B77.html [食記] 台北大安 爭厚厚切牛排 忠孝店 麵包一直吃\n",
      "11/22 https://www.ptt.cc/bbs/Food/M.1669086664.A.6D4.html [轉讓] 饗饗訂位 12/6晚餐交換其他日\n",
      "11/22 https://www.ptt.cc/bbs/Food/M.1669086744.A.B9B.html [問題] 龍鬚糖還有哪裡有\n",
      "11/22 https://www.ptt.cc/bbs/Food/M.1669099007.A.84A.html [轉讓] 11/23 Will’s Teppanyaki 兩位\n",
      "11/22 https://www.ptt.cc/bbs/Food/M.1669106068.A.807.html [食記] 高雄 溜溜酸菜魚專賣店 漢來美食全新品牌\n",
      "11/22 https://www.ptt.cc/bbs/Food/M.1669108477.A.84F.html [食記] 日本東京Florilège 法式餐廳\n",
      "11/22 https://www.ptt.cc/bbs/Food/M.1669119917.A.50A.html [食記][台南] GoodHouse好室好事｜萬昌街老屋義式料理、早午餐\n",
      "11/22 https://www.ptt.cc/bbs/Food/M.1669120892.A.34B.html [食記] 台南永康 黃金豚豬豬專賣店\n",
      "11/22 https://www.ptt.cc/bbs/Food/M.1669120905.A.5CD.html [食記] 和田順奶酪 雲林斗六 香濃好吃滑順的奶酪\n",
      "11/22 https://www.ptt.cc/bbs/Food/M.1669121028.A.D0E.html [食記] 台南東區 楓味小炒 蔥爆豬肉還不錯\n",
      "11/22 https://www.ptt.cc/bbs/Food/M.1669121536.A.E58.html [食記] 台北大安 台大公館 安好食早午餐\n",
      "11/22 https://www.ptt.cc/bbs/Food/M.1669123947.A.863.html [食記] 台中西屯 Stockie Cafe(精明一街商圈咖啡\n",
      "11/22 https://www.ptt.cc/bbs/Food/M.1669124087.A.5A9.html Fw: [食記] [後龍] 維真快餐 ～菜色豐富，便宜實惠\n",
      "11/22 https://www.ptt.cc/bbs/Food/M.1669125906.A.AEA.html [食記] 台南東區｜億哥牛肉湯後甲店＿24小時營業\n",
      "第3頁\n",
      "11/20 https://www.ptt.cc/bbs/Food/M.1668940402.A.B6B.html [食記] 高雄鼓山｜御典茶＿哈瑪星超人氣手搖飲\n",
      "11/20 https://www.ptt.cc/bbs/Food/M.1668944209.A.ADB.html [食記] 嘉義 東區│源滷肉飯(菜鴨魯熟肉)\n",
      "11/20 https://www.ptt.cc/bbs/Food/M.1668945372.A.0CA.html [食記] 札幌二条市場-魚屋の台所-海膽丼&海鮮丼\n",
      "11/20 https://www.ptt.cc/bbs/Food/M.1668949351.A.1D5.html [食記] 台北 重慶豆漿炸蛋餅，近50年老店\n",
      "11/20 https://www.ptt.cc/bbs/Food/M.1668957554.A.03F.html [食記] 台北大同 中山站 浮蛙咖啡Fuwa Cafe\n",
      "11/21 https://www.ptt.cc/bbs/Food/M.1668962303.A.B27.html [食記] 基隆 大華咖哩炒麵\n",
      "11/21 https://www.ptt.cc/bbs/Food/M.1668990702.A.D42.html [轉讓] RAW 12/31 (六) 11:30 2位\n",
      "11/21 https://www.ptt.cc/bbs/Food/M.1668993666.A.235.html [食記] 台北 大安 左爺爺的港式飲茶\n",
      "11/21 https://www.ptt.cc/bbs/Food/M.1669001619.A.1F9.html [食記] 新竹 清大商圈 平價美食 建新水煎包\n",
      "11/21 https://www.ptt.cc/bbs/Food/M.1669006278.A.A2C.html [食記] 高雄 全心丼飯專賣\n",
      "11/21 https://www.ptt.cc/bbs/Food/M.1669008029.A.F54.html [食記] 桃園內壢美食餐廳 大稻鼎海鮮熱炒\n",
      "11/21 https://www.ptt.cc/bbs/Food/M.1669011287.A.C19.html [請益] 雙北台北10人 有包廂的火鍋店\n",
      "11/21 https://www.ptt.cc/bbs/Food/M.1669018455.A.710.html [食記] 新北新店 家有璽事-排骨吐司 簡單的東西\n",
      "11/21 https://www.ptt.cc/bbs/Food/M.1669021339.A.635.html [食記] 東家館 基隆中山 外酥內軟Q蔥仔餅+餛飩湯\n",
      "11/21 https://www.ptt.cc/bbs/Food/M.1669033898.A.319.html [食記] 高雄.阿蓮-阿蓮胡家羊肉\n",
      "11/21 https://www.ptt.cc/bbs/Food/M.1669035040.A.4E5.html [食記] 台南東區 阿水的店 平價越南料理\n",
      "11/21 https://www.ptt.cc/bbs/Food/M.1669035263.A.6A0.html [食記] 雲林斗六 四代目花生酥圓仔雪花冰剉冰\n",
      "11/21 https://www.ptt.cc/bbs/Food/M.1669035572.A.F3A.html [食記] 台南東區 哈燒小食堂 義大利麵100元起\n",
      "11/21 https://www.ptt.cc/bbs/Food/M.1669038492.A.753.html [食記] 台北大同—君品經典肉桂捲｜捲入卡士達\n",
      "11/21 https://www.ptt.cc/bbs/Food/M.1669039747.A.FC7.html [食記] 台北 Meal MUJI (無印良品餐廳)\n",
      "第4頁\n",
      "11/18 https://www.ptt.cc/bbs/Food/M.1668766611.A.4FC.html [食記] 台北大同｜老麵店 來到大稻程美食必吃\n",
      "11/18 https://www.ptt.cc/bbs/Food/M.1668770713.A.349.html [食記] 宜蘭 傳承蒜味肉羹\n",
      "11/18 https://www.ptt.cc/bbs/Food/M.1668780102.A.7D4.html [食記][台南] 永隆小吃｜灣裡市場內在地人早午餐\n",
      "11/18 https://www.ptt.cc/bbs/Food/M.1668781355.A.23C.html [食記] 新北 小島食堂：我的私藏愛店\n",
      "11/18 https://www.ptt.cc/bbs/Food/M.1668782735.A.E5F.html [食記] 大阪香料咖哩 台北大安 絞肉豬排香料咖哩\n",
      "11/18 https://www.ptt.cc/bbs/Food/M.1668783901.A.8FF.html [食記] 桃園中壢區。山東蔥油大餅\n",
      "11/19 https://www.ptt.cc/bbs/Food/M.1668857775.A.6B4.html [食記] 台北 大安 這間咖啡\n",
      "11/19 https://www.ptt.cc/bbs/Food/M.1668867587.A.721.html [食記] 桃園。簡單炒食館\n",
      "11/19 https://www.ptt.cc/bbs/Food/M.1668868357.A.4D5.html [食記] 新北市新店區-初原麵場(新店北新店)\n",
      "11/19 https://www.ptt.cc/bbs/Food/M.1668869332.A.0B3.html [食記] 玥成上海美味鮮湯包 基隆中正 香酥蔥油餅\n",
      "11/19 https://www.ptt.cc/bbs/Food/M.1668870024.A.BDE.html [食記] 台中沙鹿 炳修永和豆漿(烤鴨蛋餅鮪魚沙拉\n",
      "11/20 https://www.ptt.cc/bbs/Food/M.1668914668.A.C11.html [食記] 宜蘭市區 飛魚食染宜蘭店(老屋豆花店\n",
      "11/20 https://www.ptt.cc/bbs/Food/M.1668921358.A.EBB.html [食記] 鴻銘快炒 新北樹林 濃郁軟Q咖哩牛肉粄條\n",
      "11/20 https://www.ptt.cc/bbs/Food/M.1668922413.A.FC7.html [食記] 高雄新興小吃-湯包湯\n",
      "11/20 https://www.ptt.cc/bbs/Food/M.1668925243.A.7F1.html [食記] 新北 外婆的茶屋-今川燒.咖哩.紅茶專賣\n",
      "11/20 https://www.ptt.cc/bbs/Food/M.1668926803.A.188.html [食記] 台中 於光\n",
      "11/20 https://www.ptt.cc/bbs/Food/M.1668927447.A.E2F.html [食記] 高雄 外帶一隻貓\n",
      "11/20 https://www.ptt.cc/bbs/Food/M.1668933493.A.35D.html [請益] 雙北兩人生日套餐建議\n",
      "11/20 https://www.ptt.cc/bbs/Food/M.1668934976.A.578.html Fw: [食記] 高雄 帕泰家Baan Phadthai(夢時代店)\n",
      "11/20 https://www.ptt.cc/bbs/Food/M.1668939378.A.74E.html [食記] 台北。萬豪酒店-Garden Kitchen~半自助餐\n",
      "第5頁\n",
      "11/17 https://www.ptt.cc/bbs/Food/M.1668661031.A.EE9.html [食記] 台中|昭和復古日式咖啡 富士山奶酥_麗子\n",
      "11/17 https://www.ptt.cc/bbs/Food/M.1668665514.A.4EE.html [食記] 新竹竹北 新開幕 黎記優品 牛肉麵專賣\n",
      "11/17 https://www.ptt.cc/bbs/Food/M.1668669697.A.0C8.html [食記][台南] 橋頭豬血湯｜往南科路途上在地美食\n",
      "11/17 https://www.ptt.cc/bbs/Food/M.1668670633.A.9F7.html [食記] 苗栗苑裡｜沐暉苑食\n",
      "11/17 https://www.ptt.cc/bbs/Food/M.1668675558.A.C6F.html [食記] 彰化 彰化市老牌石頭火鍋銅盤烤肉-小紅豬\n",
      "11/17 https://www.ptt.cc/bbs/Food/M.1668680078.A.B83.html [食記] 台北大同 饗食天堂(京站店)周日晚餐\n",
      "11/17 https://www.ptt.cc/bbs/Food/M.1668681667.A.EC6.html [食記] 澎湖。澎湖龜雞蛋糕\n",
      "11/17 https://www.ptt.cc/bbs/Food/M.1668691857.A.985.html [食記][台南] 日暮壽司｜會想一訪再訪的生魚丼飯\n",
      "11/17 https://www.ptt.cc/bbs/Food/M.1668693254.A.3D8.html [食記] 桃園蘆竹區。刈起吃包\n",
      "11/17 https://www.ptt.cc/bbs/Food/M.1668696751.A.20C.html [食記] 台北 Tzubi Park Project 白色貨櫃屋咖\n",
      "11/17 https://www.ptt.cc/bbs/Food/M.1668698155.A.2DF.html [食記] 花蓮 玉里橋頭臭豆腐 (花蓮分店)\n",
      "11/17 https://www.ptt.cc/bbs/Food/M.1668699352.A.531.html [食記] 台南東區 麵之館 乾淨平價麵店 推薦湯品\n",
      "11/17 https://www.ptt.cc/bbs/Food/M.1668699507.A.45A.html [食記] 台南中西 叁號川味小館海安店  四川料理\n",
      "11/17 https://www.ptt.cc/bbs/Food/M.1668699731.A.21D.html [食記] 高雄前金｜咕嚕咕嚕家うちりょう\n",
      "11/18 https://www.ptt.cc/bbs/Food/M.1668723072.A.884.html [轉讓] 12/1 飛花落院2位 中午12:00\n",
      "11/18 https://www.ptt.cc/bbs/Food/M.1668729296.A.D21.html [食記] 台北松山巷弄裡的Time's Eat 時時 \n",
      "11/18 https://www.ptt.cc/bbs/Food/M.1668745023.A.642.html [食記] 新竹 仙迪排骨 ～大多數55元以下的便當\n",
      "11/18 https://www.ptt.cc/bbs/Food/M.1668748334.A.A56.html [食記] 台南左鎮 左鎮碳烤土雞 雞肉入味好吃\n",
      "11/18 https://www.ptt.cc/bbs/Food/M.1668752460.A.66D.html [食記] 台北萬華-鐵F.f Teppanyaki-鐵板燒料理\n",
      "11/18 https://www.ptt.cc/bbs/Food/M.1668755281.A.543.html [食記] 台北 Sweet Maker。高CP值波士頓蛋糕\n"
     ]
    }
   ],
   "source": [
    "# 爬五頁 資料\n",
    "import requests\n",
    "from bs4 import BeautifulSoup\n",
    "url = 'https://www.ptt.cc/bbs/food/index.html'\n",
    "\n",
    "for i in range(5):\n",
    "    print(f'第{i+1}頁')\n",
    "    r = requests.get(url)\n",
    "    sp = BeautifulSoup(r.text, 'html.parser')\n",
    "    datas = sp.find_all('div', class_ = \"r-ent\")\n",
    "    for data in datas:\n",
    "        if data.a:  # 如果有超連結\n",
    "            print(data.find('div', class_='date').text, end=' ')\n",
    "            print('https://www.ptt.cc'+data.a.get('href'), end=' ')\n",
    "            print(data.a.text)\n",
    "    url = 'https://www.ptt.cc/' + sp.find_all('a', class_ = 'btn wide')[1].get('href') # 找下一頁的btn"
   ]
  },
  {
   "cell_type": "code",
   "execution_count": 21,
   "metadata": {},
   "outputs": [
    {
     "name": "stdout",
     "output_type": "stream",
     "text": [
      "11/23 https://www.ptt.cc/bbs/Gossiping/M.1669182143.A.AE5.html Re: [新聞] 大S千萬床墊成焦點！火速被送回S Hotel　\n",
      "11/23 https://www.ptt.cc/bbs/Gossiping/M.1669182158.A.15A.html Re: [問卦]倫敦政經學院的判決是真的嗎？\n",
      "11/23 https://www.ptt.cc/bbs/Gossiping/M.1669182164.A.DA2.html [新聞] 真正神機！上市23年Nokia 3210沖上岸　\n",
      "11/23 https://www.ptt.cc/bbs/Gossiping/M.1669182185.A.4C9.html [問卦] 這六年是不是貪污很多才打那麼用力\n",
      "11/23 https://www.ptt.cc/bbs/Gossiping/M.1669182194.A.473.html Re: [問卦] 用健保卡晶片做不在籍投票 技術上不難吧?\n",
      "11/23 https://www.ptt.cc/bbs/Gossiping/M.1669182281.A.8AD.html [新聞] 台灣兩週確診死亡率全球第三？　薛瑞元\n",
      "11/23 https://www.ptt.cc/bbs/Gossiping/M.1669182299.A.9D6.html Re: [新聞] 少子化將成國安問題 勞動部及衛福部共同\n",
      "11/23 https://www.ptt.cc/bbs/Gossiping/M.1669182331.A.C67.html Re: [問卦] 喜憨兒烘焙訪\n",
      "11/23 https://www.ptt.cc/bbs/Gossiping/M.1669182333.A.3E4.html Re: [問卦] 用健保卡晶片做不在籍投票 技術上不\n",
      "11/23 https://www.ptt.cc/bbs/Gossiping/M.1669182369.A.6D6.html [問卦] 麵包仔是罵人的話嗎\n",
      "11/23 https://www.ptt.cc/bbs/Gossiping/M.1669182445.A.A17.html [新聞] 學童營養午餐吃不到蛋？ 農委會：每週至\n",
      "11/23 https://www.ptt.cc/bbs/Gossiping/M.1669182471.A.21E.html [問卦] 國際賭盤到底是多看好阿根廷?\n",
      "11/01 https://www.ptt.cc/bbs/Gossiping/M.1667236084.A.47C.html [公告] 八卦板板規(2022.11.01)\n",
      "11/03 https://www.ptt.cc/bbs/Gossiping/M.1667480198.A.DB5.html [公告] 十一月禁尻跟即將全台縣市大選的閒聊區\n",
      "11/09 https://www.ptt.cc/bbs/Gossiping/M.1667981981.A.F1C.html Fw: [公告] 關於利用網路擄人、囚禁等議題請板主宣導\n",
      "11/09 https://www.ptt.cc/bbs/Gossiping/M.1667999455.A.AB5.html [協尋] 11/1 三重衝撞行人事故行車紀錄影片\n",
      "11/16 https://www.ptt.cc/bbs/Gossiping/M.1668588389.A.A04.html [公告] 選前十日民調相關禁止事項(重要發錢)\n"
     ]
    }
   ],
   "source": [
    "# 八卦版 \n",
    "# 有網站分級(18+)-Cookies\n",
    "import requests\n",
    "from bs4 import BeautifulSoup\n",
    "url = 'https://www.ptt.cc/bbs/Gossiping/index.html'\n",
    "cookies = {'over18':'1'}\n",
    "r = requests.get(url, cookies = cookies)    # 加入cookies\n",
    "\n",
    "sp = BeautifulSoup(r.text, 'html.parser')\n",
    "datas = sp.find_all('div', class_ = \"r-ent\")\n",
    "for data in datas:\n",
    "    if data.a:  # 如果有超連結\n",
    "        print(data.find('div', class_='date').text, end=' ')\n",
    "        print('https://www.ptt.cc'+data.a.get('href'), end=' ')\n",
    "        print(data.a.text)"
   ]
  },
  {
   "cell_type": "markdown",
   "metadata": {},
   "source": [
    "#### 練習 台灣彩券爬取"
   ]
  },
  {
   "cell_type": "code",
   "execution_count": 47,
   "metadata": {},
   "outputs": [
    {
     "name": "stdout",
     "output_type": "stream",
     "text": [
      "111/11/21 第111000093期 \n",
      "開出順序: 15  26  19  25  23  35  \n",
      "大小順序: 15  19  23  25  26  35  \n",
      "第二區 02 \n"
     ]
    }
   ],
   "source": [
    "# https://www.taiwanlottery.com.tw/index_new.aspx\n",
    "# 威力彩開獎號碼\n",
    "import requests\n",
    "from bs4 import BeautifulSoup\n",
    "\n",
    "url = 'https://www.taiwanlottery.com.tw/index_new.aspx'\n",
    "r = requests.get(url)\n",
    "sp = BeautifulSoup(r.text, 'html.parser')\n",
    "html = sp.find_all('div', class_='contents_box02')[0]\n",
    "print(html.find('span', class_='font_black15').text)\n",
    "balls = html.find_all('div', class_='ball_tx ball_green')\n",
    "print('開出順序:', end=\" \")\n",
    "for i in range(6):\n",
    "    print(balls[i].text, end=\" \")\n",
    "print('\\n大小順序:', end=\" \")\n",
    "for i in range(6, 12):\n",
    "    print(balls[i].text, end=\" \")\n",
    "print('\\n第二區', end=' ')\n",
    "print(html.find('div', class_='ball_red').text)"
   ]
  },
  {
   "cell_type": "markdown",
   "metadata": {},
   "source": [
    "#### 專題:影城電影資料爬蟲\n",
    "網址:[日日新影城](https://srm.com.tw/%e9%9b%bb%e5%bd%b1%e7%b0%a1%e4%bb%8b/%e7%86%b1%e6%98%a0%e4%b8%ad/)\n",
    "\n",
    "任務:\n",
    "- 收集電影名稱、說明網址及上映時間\n",
    "- 下在電影海報照片儲存在photos資料夾"
   ]
  },
  {
   "cell_type": "code",
   "execution_count": 62,
   "metadata": {},
   "outputs": [
    {
     "name": "stdout",
     "output_type": "stream",
     "text": [
      "愛情需要編劇\n",
      "https://srm.com.tw/portfolio-item/%e6%84%9b%e6%83%85%e9%9c%80%e8%a6%81%e7%b7%a8%e5%8a%87/\n",
      "上映日期：2022.11.18\n",
      "海報網址:https://srm.com.tw/wp-content/uploads/2022/10/Happy-Ending.jpg\n",
      "\n",
      "她有話要說\n",
      "https://srm.com.tw/portfolio-item/%e5%a5%b9%e6%9c%89%e8%a9%b1%e8%a6%81%e8%aa%aa/\n",
      "上映日期：2022.11.18\n",
      "海報網址:https://srm.com.tw/wp-content/uploads/2022/10/She-Said..jpg\n",
      "\n",
      "哈勇家\n",
      "https://srm.com.tw/portfolio-item/%e5%93%88%e5%8b%87%e5%ae%b6/\n",
      "上映日期：2022.11.11\n",
      "海報網址:https://srm.com.tw/wp-content/uploads/2022/10/GAGA-1.jpg\n",
      "\n",
      "黑豹2：瓦干達萬歲\n",
      "https://srm.com.tw/portfolio-item/%e9%bb%91%e8%b1%b92%ef%bc%9a%e7%93%a6%e5%b9%b2%e9%81%94%e8%90%ac%e6%ad%b2/\n",
      "上映日期：2022.11.09\n",
      "海報網址:https://srm.com.tw/wp-content/uploads/2022/10/Black-Panther-Wakanda-Forever.jpg\n",
      "\n",
      "局中局\n",
      "https://srm.com.tw/portfolio-item/%e5%b1%80%e4%b8%ad%e5%b1%80/\n",
      "上映日期：2022.11.04\n",
      "海報網址:https://srm.com.tw/wp-content/uploads/2022/10/Confession.jpg\n",
      "\n",
      "流麻溝十五號\n",
      "https://srm.com.tw/portfolio-item/%e6%b5%81%e9%ba%bb%e6%ba%9d%e5%8d%81%e4%ba%94%e8%99%9f/\n",
      "上映日期：2022.10.28\n",
      "海報網址:https://srm.com.tw/wp-content/uploads/2022/10/Untold-Herstory.jpg\n",
      "\n",
      "黑亞當\n",
      "https://srm.com.tw/portfolio-item/%e9%bb%91%e4%ba%9e%e7%95%b6/\n",
      "上映日期：2022.10.19\n",
      "海報網址:https://srm.com.tw/wp-content/uploads/2022/09/Black-Adam.jpg\n",
      "\n"
     ]
    }
   ],
   "source": [
    "import requests\n",
    "from bs4 import BeautifulSoup\n",
    "url = 'https://srm.com.tw/%e9%9b%bb%e5%bd%b1%e7%b0%a1%e4%bb%8b/%e7%86%b1%e6%98%a0%e4%b8%ad/'\n",
    "r = requests.get(url)\n",
    "sp = BeautifulSoup(r.text, 'html.parser')\n",
    "\n",
    "import os\n",
    "# 建立photes資料夾\n",
    "if not os.path.exists('photos'):\n",
    "    os.mkdir('photos')\n",
    "\n",
    "for i in range(len(sp.find_all('article'))):\n",
    "    print(sp.find_all('article')[i].h3.text)\n",
    "    print(sp.find_all('article')[i].h3.a.get('href'))\n",
    "    print(sp.find_all('article')[i].find('div', itemprop='text').text)\n",
    "    print('海報網址:' + sp.find_all('article')[i].img.get('src'))\n",
    "    # 下載海報圖片\n",
    "    with open('photos/' + sp.find_all('article')[i].h3.a.text + '.jpg', 'wb') as f:\n",
    "        f.write(requests.get(sp.find_all('article')[i].img.get('src')).content)\n",
    "    \n",
    "    print()"
   ]
  },
  {
   "cell_type": "markdown",
   "metadata": {},
   "source": [
    "### 非同步載入(Ajax)網頁\n",
    "> 第一次請求:不帶資料的HTML框架\n",
    "\n",
    "> 第二次請求:讀取資料更新HTML"
   ]
  },
  {
   "cell_type": "code",
   "execution_count": 72,
   "metadata": {},
   "outputs": [
    {
     "name": "stdout",
     "output_type": "stream",
     "text": [
      "{'0': {'確診': '8,210,955', '死亡': '14,060', '送驗': '19,968,622', '排除': '11,754,925', '昨日確診': '18,179', '昨日排除': '5,392', '昨日送驗': '23,293'}}\n"
     ]
    },
    {
     "data": {
      "text/plain": [
       "'14,060'"
      ]
     },
     "execution_count": 72,
     "metadata": {},
     "output_type": "execute_result"
    }
   ],
   "source": [
    "# 網址:https://sites.google.com/cdc.gov.tw/2019ncov/taiwan\n",
    "import requests\n",
    "\n",
    "# url = 'https://sites.google.com/cdc.gov.tw/2019ncov/taiwan'   # 非真實資料網址\n",
    "url = 'https://covid19dashboard.cdc.gov.tw/dash3' # 真實XHR資料網址\n",
    "r = requests.get(url)\n",
    "data = r.json()\n",
    "print(data)\n",
    "\n",
    "data['0']['死亡']"
   ]
  },
  {
   "cell_type": "markdown",
   "metadata": {},
   "source": [
    "### 寫入google試算表"
   ]
  },
  {
   "cell_type": "markdown",
   "metadata": {},
   "source": [
    "#### 步驟\n",
    "- 登入Google Cloud Console網站\n",
    "    + https://console.cloud.google.com/\n",
    "- 新增專案(免費使用者只能開12個專案)\n",
    "- 加入要使用的API並啟用(此處啟用Google Sheet API)\n",
    "- 建立憑證(JSON類型)\n",
    "    + 選擇建立憑證/服務帳戶金鑰\n",
    "    + 設定福無帳戶ID(可用預設或自訂，全ID會組合成電子郵件格式)\n",
    "- 選擇JSON金鑰類型\n",
    "- 建立後瀏覽器會下載jason格式金鑰檔到本機，請與Python程式放在一起"
   ]
  },
  {
   "cell_type": "code",
   "execution_count": 17,
   "metadata": {},
   "outputs": [
    {
     "data": {
      "text/plain": [
       "{'spreadsheetId': '1vjId9A-BarLNBzMGJxOv1iafM7-pGvp8WPetofvedQU',\n",
       " 'updates': {'spreadsheetId': '1vjId9A-BarLNBzMGJxOv1iafM7-pGvp8WPetofvedQU',\n",
       "  'updatedRange': \"'工作表1'!A1:C1\",\n",
       "  'updatedRows': 1,\n",
       "  'updatedColumns': 3,\n",
       "  'updatedCells': 3}}"
      ]
     },
     "execution_count": 17,
     "metadata": {},
     "output_type": "execute_result"
    }
   ],
   "source": [
    "# pip install gspread oauth2client\n",
    "# https://console.developers.google.com/\n",
    "import gspread\n",
    "from oauth2client.service_account import ServiceAccountCredentials as sac\n",
    "#設定金鑰路徑及驗證範圍\n",
    "auth_json = 'python-practice-369605-2d820f43fea1.json'\n",
    "gs_scopes = ['https://spreadsheets.google.com/feeds']\n",
    "# 連線資料表\n",
    "cr = sac.from_json_keyfile_name(auth_json, gs_scopes)\n",
    "gc = gspread.authorize(cr)\n",
    "# 開啟資料夾\n",
    "spreadsheets_key = '1vjId9A-BarLNBzMGJxOv1iafM7-pGvp8WPetofvedQU'   # 試算表ID\n",
    "sheet = gc.open_by_key(spreadsheets_key)\n",
    "\n",
    "# 開啟工作表\n",
    "wks = sheet.sheet1\n",
    "# 清除所有內容\n",
    "wks.clear()\n",
    "\n",
    "# 用 wks.append_row() 寫入資料\n",
    "fruits = ['Apple', 'Banana', 'Cherry']\n",
    "wks.append_row(fruits)"
   ]
  },
  {
   "cell_type": "code",
   "execution_count": 16,
   "metadata": {},
   "outputs": [],
   "source": [
    "# 資料寫入google sheets 練習\n",
    "# COVID-19各國地區累積病例數與死亡人數\n",
    "# http://data.gov.tw/dataset/120449\n",
    "import requests\n",
    "url = 'https://od.cdc.gov.tw/eic/covid19/covid19_global_cases_and_deaths.csv'\n",
    "r = requests.get(url)\n",
    "r.encoding = 'UTF-8'    # 設定編碼 避免中文會產生亂碼\n",
    "r\n",
    "\n",
    "with open('covid-19.csv', 'w') as f:\n",
    "    f.write(r.text)"
   ]
  },
  {
   "cell_type": "code",
   "execution_count": 18,
   "metadata": {},
   "outputs": [],
   "source": [
    "# 開啟工作表\n",
    "wks = sheet.sheet1\n",
    "\n",
    "# 開啟工作表方法\n",
    "# 1. wks = sheet.sheet1\n",
    "# 2. wks = sheet.get_worksheet(0)\n",
    "# 3. wks = sheet.worksheet('自訂工作表名稱')\n",
    "\n",
    "# 清除所有內容\n",
    "wks.clear()\n",
    "\n",
    "import csv, time\n",
    "# 用 wks.append_row() 寫入資料\n",
    "with open('covid-19.csv', 'r') as f:\n",
    "    data = csv.reader(f)\n",
    "    for item in data:\n",
    "        wks.append_row(item) \n",
    "        time.sleep(1)"
   ]
  }
 ],
 "metadata": {
  "kernelspec": {
   "display_name": "Python 3.10.5 64-bit",
   "language": "python",
   "name": "python3"
  },
  "language_info": {
   "codemirror_mode": {
    "name": "ipython",
    "version": 3
   },
   "file_extension": ".py",
   "mimetype": "text/x-python",
   "name": "python",
   "nbconvert_exporter": "python",
   "pygments_lexer": "ipython3",
   "version": "3.10.5"
  },
  "orig_nbformat": 4,
  "vscode": {
   "interpreter": {
    "hash": "a7a0c7c9347e9e185eee34cf88d7643fe7d6acaa7b9656353bf5f95484913cf5"
   }
  }
 },
 "nbformat": 4,
 "nbformat_minor": 2
}
