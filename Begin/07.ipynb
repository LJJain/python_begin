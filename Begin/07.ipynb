{
 "cells": [
  {
   "cell_type": "markdown",
   "metadata": {},
   "source": [
    "# LINE Bot與WebAPI開發\n",
    "## 認識 Flask\n",
    "### 官網:https://github.com/pallets/flask\n",
    "### 素材:http://reurl.cc/zWVYkQ\n",
    "### 安裝:pip install -U Flask"
   ]
  },
  {
   "cell_type": "markdown",
   "metadata": {},
   "source": [
    "# Flask 快速入門\n",
    "\n",
    "* 載入模組\n",
    "* 新增路由\n",
    "* 新增自訂函式\n",
    "* 啟動服務\n",
    "    * 預設位址、埠位\n",
    "    * 自訂埠位\n",
    "    * 開發位址\n",
    "* 單一路由\n",
    "* 多路由到同一網址\n",
    "* Restful網址傳值\n",
    "* GET傳值\n",
    "* POST傳值"
   ]
  },
  {
   "cell_type": "code",
   "execution_count": null,
   "metadata": {},
   "outputs": [],
   "source": [
    "# 基本語法\n",
    "from flask import Flask\n",
    "app = Flask(__name__)\n",
    "\n",
    "@app.route(\"/\")\n",
    "def index():\n",
    "    return \"Hello World\"\n",
    "\n",
    "if __name__ == '__main__':\n",
    "    app.run(host=\"0.0.0.0\", port=\"8080\")    # 0.0.0.0 內部與外部都能接收到,自訂port位\n",
    "    \n",
    "# 查詢埠位服務指令\n",
    "# netstat -p tcp\n",
    "# netstat -a (查詢全部)"
   ]
  },
  {
   "cell_type": "code",
   "execution_count": null,
   "metadata": {},
   "outputs": [],
   "source": [
    "# 新增多個路由\n",
    "from flask import Flask\n",
    "app = Flask(__name__)\n",
    "\n",
    "@app.route('/')\n",
    "def index():\n",
    "    return \"Hello World.\"\n",
    "\n",
    "@app.route(\"/David\")\n",
    "def index1():\n",
    "    return \"Hello David.\"\n",
    "\n",
    "if __name__ == \"__main__\":\n",
    "    app.run()"
   ]
  },
  {
   "cell_type": "code",
   "execution_count": null,
   "metadata": {},
   "outputs": [],
   "source": [
    "# 多路由指向同一頁面\n",
    "from flask import Flask\n",
    "app = Flask(__name__)\n",
    "\n",
    "@app.route('/')\n",
    "@app.route('/index')\n",
    "def index():\n",
    "    return \"Hello World\"\n",
    "    \n",
    "if __name__ == \"__main__\":\n",
    "    app.run()"
   ]
  },
  {
   "cell_type": "code",
   "execution_count": null,
   "metadata": {},
   "outputs": [],
   "source": [
    "# 用路由名稱帶參數\n",
    "from flask import Flask\n",
    "app = Flask(__name__)\n",
    "\n",
    "@app.route('/')\n",
    "def index():\n",
    "    return \"Hello World.\"\n",
    "\n",
    "@app.route(\"/<name>\")\n",
    "def index1(name):\n",
    "    return f\"Hello, {name}.\"\n",
    "\n",
    "if __name__ == \"__main__\":\n",
    "    app.run()"
   ]
  },
  {
   "cell_type": "code",
   "execution_count": null,
   "metadata": {},
   "outputs": [],
   "source": [
    "# GET參數\n",
    "from flask import Flask, request\n",
    "app = Flask(__name__)\n",
    "\n",
    "@app.route('/')\n",
    "def index():\n",
    "    name = request.args.get('name')\n",
    "    return f\"Hello, {name}.\"\n",
    "\n",
    "if __name__ == \"__main__\":\n",
    "    app.run()"
   ]
  },
  {
   "cell_type": "code",
   "execution_count": null,
   "metadata": {},
   "outputs": [],
   "source": [
    "# GET多個參數\n",
    "from flask import Flask, request\n",
    "app = Flask(__name__)\n",
    "\n",
    "@app.route('/')\n",
    "def index():\n",
    "    name = request.args.get('name')\n",
    "    age = request.args.get('age')\n",
    "    return f\"My name is {name}, I am {age} years old.\"\n",
    "\n",
    "if __name__ == \"__main__\":\n",
    "    app.run()"
   ]
  },
  {
   "cell_type": "code",
   "execution_count": null,
   "metadata": {},
   "outputs": [],
   "source": [
    "# GET參數, 使用表單\n",
    "from flask import Flask, request\n",
    "app = Flask(__name__)\n",
    "\n",
    "@app.route('/')\n",
    "def index():\n",
    "    if request.method == 'GET' and request.args.get(\"name\") != None:\n",
    "        name = request.args.get('name')\n",
    "        return f'Hello, {name}.'\n",
    "    return \"\"\"\n",
    "    <form method='get'>\n",
    "        <input type='text' name='name'>\n",
    "        <button type='submit'>Submit</button>\n",
    "    </form>\n",
    "    \"\"\"\n",
    "\n",
    "if __name__ == \"__main__\":\n",
    "    app.run()"
   ]
  },
  {
   "cell_type": "code",
   "execution_count": null,
   "metadata": {},
   "outputs": [],
   "source": [
    "# POST參數\n",
    "from flask import Flask, request\n",
    "app = Flask(__name__)\n",
    "\n",
    "@app.route('/', methods=['GET', 'POST'])\n",
    "def index():\n",
    "    if request.method == 'POST':\n",
    "        name = request.form.get('name')\n",
    "        # request.values.get('name')\n",
    "        return f\"Hello, {name}.\"\n",
    "    \n",
    "    return \"\"\"\n",
    "    <form method='post'>\n",
    "        <input type='text' name='name'>\n",
    "        <button type='submit'>Submit</button>\n",
    "    </form>\n",
    "    \"\"\"\n",
    "if __name__ == \"__main__\":\n",
    "    app.run()"
   ]
  },
  {
   "cell_type": "markdown",
   "metadata": {},
   "source": [
    "# Flask Web App 開發"
   ]
  },
  {
   "cell_type": "markdown",
   "metadata": {},
   "source": [
    "## 一、BMI計算程式\n",
    "## 範例：BMI計算器\n",
    "\n",
    "### 計算公式\n",
    "\n",
    "$ BMI = 體重(kg) / 身高(m)^2 $"
   ]
  },
  {
   "cell_type": "code",
   "execution_count": null,
   "metadata": {},
   "outputs": [],
   "source": [
    "# BMI計算器\n",
    "h = int(input(\"請輸入你的身高(cm):\"))\n",
    "w = int(input(\"請輸入你的體重(kg):\"))\n",
    "bmi = w / (h / 100) ** 2\n",
    "print(f\"你的BMI值為 {bmi:.2f} \")"
   ]
  },
  {
   "cell_type": "code",
   "execution_count": null,
   "metadata": {},
   "outputs": [],
   "source": [
    "# BMI計算器 自訂函式\n",
    "def getBMI(w, h):\n",
    "    bmi = w / (h / 100) ** 2\n",
    "    return bmi\n",
    "\n",
    "h = int(input(\"請輸入你的身高(cm):\"))\n",
    "w = int(input(\"請輸入你的體重(kg):\"))\n",
    "print(f\"你的BMI值為 {getBMI(w, h):.2f} \")"
   ]
  },
  {
   "cell_type": "code",
   "execution_count": null,
   "metadata": {},
   "outputs": [],
   "source": [
    "# BMI計算器 網頁應用程式(一)\n",
    "from flask import Flask, request\n",
    "app = Flask(__name__)\n",
    "\n",
    "@app.route('/', methods=['GET', 'POST'])\n",
    "def index():\n",
    "    if request.method == \"POST\":\n",
    "        if request.form.get('w') != '' and request.form.get('h') != '':\n",
    "            w = int(request.form.get('w'))\n",
    "            h = int(request.form.get('h'))\n",
    "            bmi = w / (h / 100) ** 2\n",
    "            return f\"你的BMI值為 {bmi:.2f} \"\n",
    "        \n",
    "    return \"\"\"\n",
    "    <form method='post'>\n",
    "        <label for 'h'>身高(cm)</label>\n",
    "        <input type='text' name='h' id='h'><br>\n",
    "        <label for 'w'>體重(kg)</label>\n",
    "        <input type='text' name='w' id='w'><br>\n",
    "        <button type='submit'>計算</button>\n",
    "    </form>\n",
    "    \"\"\"\n",
    "\n",
    "if __name__ == \"__main__\":\n",
    "    app.run()"
   ]
  },
  {
   "cell_type": "code",
   "execution_count": null,
   "metadata": {},
   "outputs": [],
   "source": [
    "# BMI計算器 網頁應用程式(二)\n",
    "from flask import Flask, request\n",
    "app = Flask(__name__)\n",
    "\n",
    "def getBMI(w, h):\n",
    "    bmi = w / (h / 100) ** 2\n",
    "    return bmi\n",
    "\n",
    "@app.route('/', methods=['GET', 'POST'])\n",
    "def index():\n",
    "    if request.method == \"POST\":\n",
    "        if request.form.get('w') != '' and request.form.get('h') != '':\n",
    "            w = int(request.form.get('w'))\n",
    "            h = int(request.form.get('h'))            \n",
    "            return f\"你的BMI值為 {getBMI(w, h):.2f} \"\n",
    "        \n",
    "    return \"\"\"\n",
    "    <form method='post'>\n",
    "        <label for 'h'>身高(cm)</label>\n",
    "        <input type='text' name='h' id='h'><br>\n",
    "        <label for 'w'>體重(kg)</label>\n",
    "        <input type='text' name='w' id='w'><br>\n",
    "        <button type='submit'>計算</button>\n",
    "    </form>\n",
    "    \"\"\"\n",
    "\n",
    "if __name__ == \"__main__\":\n",
    "    app.run()"
   ]
  },
  {
   "cell_type": "markdown",
   "metadata": {},
   "source": [
    "## 二、BMI Web App 開發\n",
    "\n",
    "### 注意事項\n",
    "\n",
    "* 在設定路由時要加上允許接收方式 `methods=[\"GET\", \"POST\"]`。\n",
    "* POST用 `request.values.get` 接收參數值。\n",
    "* 接收的參數值，資料型態為**字串**，如果要運算，記得要轉資料型別，並儲存到變數之中。\n",
    "* return 的值，資料型態一定要是**字串**，所以記得要由別的資料型態轉回來。"
   ]
  },
  {
   "cell_type": "markdown",
   "metadata": {},
   "source": [
    "# 連接資料來源"
   ]
  },
  {
   "cell_type": "markdown",
   "metadata": {},
   "source": [
    "## 範例：線上國語字典"
   ]
  },
  {
   "cell_type": "markdown",
   "metadata": {},
   "source": [
    "## 一、認識字典"
   ]
  },
  {
   "cell_type": "code",
   "execution_count": 5,
   "metadata": {},
   "outputs": [
    {
     "data": {
      "text/plain": [
       "80"
      ]
     },
     "execution_count": 5,
     "metadata": {},
     "output_type": "execute_result"
    }
   ],
   "source": [
    "# 字典設定(一)\n",
    "dict1 = {\n",
    "    \"身高\":180,\n",
    "    \"體重\":80,\n",
    "    \"年紀\":18\n",
    "}\n",
    "type(dict1)\n",
    "\n",
    "# 取值\n",
    "# dict1[\"身高\"]\n",
    "dict1[\"體重\"]"
   ]
  },
  {
   "cell_type": "code",
   "execution_count": 6,
   "metadata": {},
   "outputs": [
    {
     "data": {
      "text/plain": [
       "'成功高中'"
      ]
     },
     "execution_count": 6,
     "metadata": {},
     "output_type": "execute_result"
    }
   ],
   "source": [
    "# 字典設定(二)\n",
    "dict2 = {\n",
    "    \"身高\":180,\n",
    "    \"體重\":80,\n",
    "    \"年紀\":18,\n",
    "    \"學歷\":['快樂國小', '幸福國中', '成功高中', '勝利大學']\n",
    "}\n",
    "# type(dict2)\n",
    "dict2['學歷'][2]"
   ]
  },
  {
   "cell_type": "code",
   "execution_count": 7,
   "metadata": {},
   "outputs": [
    {
     "data": {
      "text/plain": [
       "dict"
      ]
     },
     "execution_count": 7,
     "metadata": {},
     "output_type": "execute_result"
    }
   ],
   "source": [
    "# 字典設定(三)\n",
    "dict3 = {\n",
    "    \"身高\":180,\n",
    "    \"體重\":80,\n",
    "    \"年紀\":18,\n",
    "    \"學歷\":{\n",
    "        \"國小\":\"快樂國小\",\n",
    "        \"國中\":\"幸福國中\",\n",
    "        \"高中\":\"成功高中\",\n",
    "        \"大學\":\"勝利大學\"\n",
    "        }\n",
    "    }\n",
    "type(dict3)"
   ]
  },
  {
   "cell_type": "markdown",
   "metadata": {},
   "source": [
    "## 二、json資料讀取\n",
    "\n",
    "* 萌典\n",
    "    * 網站 https://www.moedict.tw/\n",
    "    * github https://github.com/g0v/moedict-webkit\n",
    "\n",
    "* 讀取遠端資料\n",
    "* json資料分析練習\n",
    "    * json模組使用\n",
    "    * json資料分析：[jsonviewer](https://codebeautify.org/jsonviewer)\n",
    "    * 列印json資料"
   ]
  },
  {
   "cell_type": "markdown",
   "metadata": {},
   "source": [
    "## 三、國語字典程式"
   ]
  },
  {
   "cell_type": "markdown",
   "metadata": {},
   "source": [
    "# 在 Colab 上執行 Flask\n",
    "# 將內部網頁推送至外部"
   ]
  },
  {
   "cell_type": "markdown",
   "metadata": {},
   "source": [
    "## 一、ngrok 申請與下載"
   ]
  },
  {
   "cell_type": "code",
   "execution_count": null,
   "metadata": {},
   "outputs": [],
   "source": [
    "# 下載ngrok、解壓縮\n",
    "# !wget https://bin.equinox.io/c/bNyj1mQVY4c/ngrok-v3-stable-linux-amd64.tgz -O ngrok-v3-stable-linux-amd64.tgz\n",
    "# !tar xvzf ngrok-v3-stable-linux-amd64.tgz"
   ]
  },
  {
   "cell_type": "markdown",
   "metadata": {},
   "source": [
    "## 二、pyngrok 的安裝與設定\n",
    "- pip install pyngrok\n",
    "- pip show pyngrok"
   ]
  },
  {
   "cell_type": "markdown",
   "metadata": {},
   "source": [
    "## 三、執行你第一個Flask程式"
   ]
  },
  {
   "cell_type": "code",
   "execution_count": 3,
   "metadata": {},
   "outputs": [],
   "source": [
    "from pyngrok import ngrok, conf\n",
    "\n",
    "# 設定token\n",
    "# ngrok.set_auth_token(\"申請的AuthToken\")\n",
    "ngrok.set_auth_token(\"2I7AQZ52Bb38Qlupu8410rWxOB6_35cjKC5gk5q2qnAhfv1er\")\n",
    "# conf.get_default().region = \"jp\""
   ]
  },
  {
   "cell_type": "code",
   "execution_count": 4,
   "metadata": {},
   "outputs": [
    {
     "name": "stdout",
     "output_type": "stream",
     "text": [
      " * ngrok tunnel \"https://d6bb-1-160-146-107.ngrok.io\" -> \"http://127.0.0.1:5000/\"\n"
     ]
    }
   ],
   "source": [
    "# 顯示執行埠位\n",
    "port = 5000\n",
    "public_url = ngrok.connect(port, bind_tls=True).public_url\n",
    "print(\" * ngrok tunnel \\\"{}\\\" -> \\\"http://127.0.0.1:{}/\\\"\".format(public_url, port))"
   ]
  },
  {
   "cell_type": "markdown",
   "metadata": {},
   "source": [
    "> **【筆記】**ngrok沒有傳遞其他屬性時的默認行為http是打開兩個隧道，一個http和一個https。pyngrok在這種情況下，`connect`方法將返回對http隧道的引用。如果只需要一條隧道，則通過`bind_tls=True`並返回對隧道的引用https。"
   ]
  },
  {
   "cell_type": "code",
   "execution_count": null,
   "metadata": {},
   "outputs": [],
   "source": [
    "# 基本測試\n",
    "from flask import Flask\n",
    "app = Flask(__name__)\n",
    "\n",
    "@app.route(\"/\")\n",
    "def index():\n",
    "    return \"Hello World\"\n",
    "\n",
    "if __name__ == '__main__':\n",
    "    app.run()"
   ]
  },
  {
   "cell_type": "code",
   "execution_count": null,
   "metadata": {},
   "outputs": [],
   "source": [
    "# 開發連線自訂函式\n",
    "from pyngrok import ngrok\n",
    "\n",
    "def connNgrok():\n",
    "    port = 5000\n",
    "    public_url = ngrok.connect(port, bind_tls=True).public_url\n",
    "    print(\" * ngrok tunnel \\\"{}\\\" -> \\\"http://127.0.0.1:{}/\\\"\".format(public_url, port))"
   ]
  },
  {
   "cell_type": "code",
   "execution_count": null,
   "metadata": {},
   "outputs": [],
   "source": [
    "# 基本測試-使用自訂函式\n",
    "from flask import Flask\n",
    "connNgrok()\n",
    "app = Flask(__name__)\n",
    "\n",
    "@app.route(\"/\")\n",
    "def index():\n",
    "    return \"Hello World\"\n",
    "\n",
    "if __name__ == '__main__':\n",
    "    app.run()"
   ]
  },
  {
   "cell_type": "markdown",
   "metadata": {},
   "source": [
    "# LINE Bot機器人申請與架設"
   ]
  },
  {
   "cell_type": "markdown",
   "metadata": {},
   "source": [
    "## 範例：鸚鵡機器人\n",
    "\n",
    "### 安裝 Line Bot SDK\n",
    "\n",
    "    pip install line-bot-sdk\n",
    "    \n",
    "### 範例程式碼\n",
    "\n",
    "https://github.com/line/line-bot-sdk-python"
   ]
  },
  {
   "cell_type": "code",
   "execution_count": null,
   "metadata": {},
   "outputs": [],
   "source": [
    "from flask import Flask, request, abort\n",
    "\n",
    "from linebot import (\n",
    "    LineBotApi, WebhookHandler\n",
    ")\n",
    "from linebot.exceptions import (\n",
    "    InvalidSignatureError\n",
    ")\n",
    "from linebot.models import (\n",
    "    MessageEvent, TextMessage, TextSendMessage,\n",
    ")\n",
    "\n",
    "connNgrok()\n",
    "app = Flask(__name__)\n",
    "\n",
    "line_bot_api = LineBotApi('8y8UFvvBgPWyCdLQUJJ53eeYQB9z5PMOSJXt5vSvedXBmO6mPRd3aFFMi/YL/tUGolkth7W80ZMkNXOGrryB4T0aryW9QAQzb3z4O/MFbWzopRocAXyY7X4tva+o1MXbloySdO3lq5ny2rGzBUM5EQdB04t89/1O/w1cDnyilFU=')\n",
    "handler = WebhookHandler('e6ee1b9d458248821205b111465fe44c')\n",
    "\n",
    "\n",
    "@app.route(\"/callback\", methods=['POST'])\n",
    "def callback():\n",
    "    # get X-Line-Signature header value\n",
    "    signature = request.headers['X-Line-Signature']\n",
    "\n",
    "    # get request body as text\n",
    "    body = request.get_data(as_text=True)\n",
    "    app.logger.info(\"Request body: \" + body)\n",
    "\n",
    "    # handle webhook body\n",
    "    try:\n",
    "        handler.handle(body, signature)\n",
    "    except InvalidSignatureError:\n",
    "        print(\"Invalid signature. Please check your channel access token/channel secret.\")\n",
    "        abort(400)\n",
    "\n",
    "    return 'OK'\n",
    "\n",
    "\n",
    "@handler.add(MessageEvent, message=TextMessage)\n",
    "def handle_message(event):\n",
    "    line_bot_api.reply_message(\n",
    "        event.reply_token,\n",
    "        TextSendMessage(text=event.message.text))\n",
    "\n",
    "\n",
    "if __name__ == \"__main__\":\n",
    "    app.run()"
   ]
  },
  {
   "cell_type": "code",
   "execution_count": null,
   "metadata": {},
   "outputs": [],
   "source": [
    "from flask import Flask, request, abort\n",
    "\n",
    "from linebot import (\n",
    "    LineBotApi, WebhookHandler\n",
    ")\n",
    "from linebot.exceptions import (\n",
    "    InvalidSignatureError\n",
    ")\n",
    "from linebot.models import (\n",
    "    MessageEvent, TextMessage, TextSendMessage,\n",
    ")\n",
    "\n",
    "connNgrok()\n",
    "app = Flask(__name__)\n",
    "\n",
    "line_bot_api = LineBotApi('8y8UFvvBgPWyCdLQUJJ53eeYQB9z5PMOSJXt5vSvedXBmO6mPRd3aFFMi/YL/tUGolkth7W80ZMkNXOGrryB4T0aryW9QAQzb3z4O/MFbWzopRocAXyY7X4tva+o1MXbloySdO3lq5ny2rGzBUM5EQdB04t89/1O/w1cDnyilFU=')\n",
    "handler = WebhookHandler('e6ee1b9d458248821205b111465fe44c')\n",
    "\n",
    "\n",
    "@app.route(\"/callback\", methods=['POST'])\n",
    "def callback():\n",
    "    # get X-Line-Signature header value\n",
    "    signature = request.headers['X-Line-Signature']\n",
    "\n",
    "    # get request body as text\n",
    "    body = request.get_data(as_text=True)\n",
    "    app.logger.info(\"Request body: \" + body)\n",
    "\n",
    "    # handle webhook body\n",
    "    try:\n",
    "        handler.handle(body, signature)\n",
    "    except InvalidSignatureError:\n",
    "        print(\"Invalid signature. Please check your channel access token/channel secret.\")\n",
    "        abort(400)\n",
    "\n",
    "    return 'OK'\n",
    "\n",
    "\n",
    "@handler.add(MessageEvent, message=TextMessage)\n",
    "def handle_message(event):\n",
    "    # event.message.text\n",
    "    line_bot_api.reply_message(\n",
    "        event.reply_token,\n",
    "        TextSendMessage(text='這是測試文字!!'))\n",
    "\n",
    "\n",
    "if __name__ == \"__main__\":\n",
    "    app.run()"
   ]
  },
  {
   "cell_type": "markdown",
   "metadata": {},
   "source": [
    "## 範例：國語字典 LINE Bot"
   ]
  },
  {
   "cell_type": "code",
   "execution_count": 14,
   "metadata": {},
   "outputs": [
    {
     "data": {
      "text/plain": [
       "{'heteronyms': [{'bopomofo': 'ㄇㄥˊ',\n",
       "   'bopomofo2': 'méng',\n",
       "   'definitions': [{'def': '草木初生的芽。',\n",
       "     'quote': ['說文解字：「萌，艸芽也。」', '唐．韓愈、劉師服、侯喜、軒轅彌明．石鼎聯句：「秋瓜未落蒂，凍芋強抽萌。」'],\n",
       "     'type': '名'},\n",
       "    {'def': '事物發生的開端或徵兆。',\n",
       "     'quote': ['韓非子．說林上：「聖人見微以知萌，見端以知末。」',\n",
       "      '漢．蔡邕．對詔問{[9264]}異八事：「以杜漸防萌，則其救也。」'],\n",
       "     'type': '名'},\n",
       "    {'def': '人民。',\n",
       "     'example': ['如：「萌黎」、「萌隸」。'],\n",
       "     'link': ['通「氓」。'],\n",
       "     'type': '名'},\n",
       "    {'def': '姓。如五代時蜀有萌慮。', 'type': '名'},\n",
       "    {'def': '發芽。',\n",
       "     'example': ['如：「萌芽」。'],\n",
       "     'quote': ['楚辭．王逸．九思．傷時：「明風習習兮龢暖，百草萌兮華榮。」'],\n",
       "     'type': '動'},\n",
       "    {'def': '發生。',\n",
       "     'example': ['如：「故態復萌」。'],\n",
       "     'quote': ['管子．牧民：「惟有道者，能備患於未形也，故禍不萌。」', '三國演義．第一回：「若萌異心，必獲惡報。」'],\n",
       "     'type': '動'}],\n",
       "   'pinyin': 'méng'}],\n",
       " 'non_radical_stroke_count': 8,\n",
       " 'radical': '艸',\n",
       " 'stroke_count': 12,\n",
       " 'title': '萌'}"
      ]
     },
     "execution_count": 14,
     "metadata": {},
     "output_type": "execute_result"
    }
   ],
   "source": [
    "import requests\n",
    "url = 'https://www.moedict.tw/raw/%E8%90%8C'\n",
    "r = requests.get(url).json()\n",
    "r\n",
    "# type(r)"
   ]
  },
  {
   "cell_type": "code",
   "execution_count": 30,
   "metadata": {},
   "outputs": [
    {
     "name": "stdout",
     "output_type": "stream",
     "text": [
      "萌\n",
      "艸\n",
      "12\n",
      "ㄇㄥˊ\n"
     ]
    }
   ],
   "source": [
    "print(r['title'])   # 輸入字\n",
    "print(r['radical']) #部首\n",
    "print(r['stroke_count']) #筆畫\n",
    "print(r['heteronyms'][0]['bopomofo']) #讀音\n"
   ]
  },
  {
   "cell_type": "code",
   "execution_count": 31,
   "metadata": {},
   "outputs": [
    {
     "name": "stdout",
     "output_type": "stream",
     "text": [
      "國字:安\n",
      "部首:{[fbfd]}\n",
      "筆劃:6\n",
      "讀音:ㄢ\n"
     ]
    }
   ],
   "source": [
    "import requests\n",
    "word = input(\"請輸入查詢的國字：\")\n",
    "url = 'https://www.moedict.tw/raw/' + word\n",
    "r = requests.get(url).json()\n",
    "print(\"國字:\" + r[\"title\"])\n",
    "print(\"部首:\" + r[\"radical\"])\n",
    "print(\"筆劃:\" + str(r[\"stroke_count\"]))\n",
    "print(\"讀音:\" + str(r['heteronyms'][0]['bopomofo']))"
   ]
  },
  {
   "cell_type": "code",
   "execution_count": 33,
   "metadata": {},
   "outputs": [
    {
     "name": "stdout",
     "output_type": "stream",
     "text": [
      "----------\n",
      "國字:安\n",
      "部首:{[fbfd]}\n",
      "筆劃:6\n",
      "讀音:ㄢ\n"
     ]
    }
   ],
   "source": [
    "import requests\n",
    "def searchWord(word):\n",
    "    url = 'https://www.moedict.tw/raw/' + word\n",
    "    r = requests.get(url).json()\n",
    "    msg = '-'*10\n",
    "    msg += \"\\n國字:\" + r[\"title\"]\n",
    "    msg += \"\\n部首:\" + r[\"radical\"]\n",
    "    msg += \"\\n筆劃:\" + str(r[\"stroke_count\"])\n",
    "    msg += \"\\n讀音:\" + r['heteronyms'][0]['bopomofo']\n",
    "    return msg\n",
    "\n",
    "print(searchWord('安'))"
   ]
  },
  {
   "cell_type": "code",
   "execution_count": null,
   "metadata": {},
   "outputs": [],
   "source": [
    "from flask import Flask, request, abort\n",
    "\n",
    "from linebot import (\n",
    "    LineBotApi, WebhookHandler\n",
    ")\n",
    "from linebot.exceptions import (\n",
    "    InvalidSignatureError\n",
    ")\n",
    "from linebot.models import (\n",
    "    MessageEvent, TextMessage, TextSendMessage,\n",
    ")\n",
    "\n",
    "import requests\n",
    "def searchWord(word):\n",
    "    url = 'https://www.moedict.tw/raw/' + word\n",
    "    r = requests.get(url).json()\n",
    "    msg = '-'*10\n",
    "    msg += \"\\n國字:\" + r[\"title\"]\n",
    "    msg += \"\\n部首:\" + r[\"radical\"]\n",
    "    msg += \"\\n筆劃:\" + str(r[\"stroke_count\"])\n",
    "    msg += \"\\n讀音:\" + r['heteronyms'][0]['bopomofo']\n",
    "    return msg\n",
    "\n",
    "connNgrok()\n",
    "app = Flask(__name__)\n",
    "\n",
    "line_bot_api = LineBotApi('8y8UFvvBgPWyCdLQUJJ53eeYQB9z5PMOSJXt5vSvedXBmO6mPRd3aFFMi/YL/tUGolkth7W80ZMkNXOGrryB4T0aryW9QAQzb3z4O/MFbWzopRocAXyY7X4tva+o1MXbloySdO3lq5ny2rGzBUM5EQdB04t89/1O/w1cDnyilFU=')\n",
    "handler = WebhookHandler('e6ee1b9d458248821205b111465fe44c')\n",
    "\n",
    "\n",
    "@app.route(\"/callback\", methods=['POST'])\n",
    "def callback():\n",
    "    # get X-Line-Signature header value\n",
    "    signature = request.headers['X-Line-Signature']\n",
    "\n",
    "    # get request body as text\n",
    "    body = request.get_data(as_text=True)\n",
    "    app.logger.info(\"Request body: \" + body)\n",
    "\n",
    "    # handle webhook body\n",
    "    try:\n",
    "        handler.handle(body, signature)\n",
    "    except InvalidSignatureError:\n",
    "        print(\"Invalid signature. Please check your channel access token/channel secret.\")\n",
    "        abort(400)\n",
    "\n",
    "    return 'OK'\n",
    "\n",
    "\n",
    "@handler.add(MessageEvent, message=TextMessage)\n",
    "def handle_message(event):\n",
    "    line_bot_api.reply_message(\n",
    "        event.reply_token,\n",
    "        TextSendMessage(text=searchWord(event.message.text)))\n",
    "\n",
    "if __name__ == \"__main__\":\n",
    "    app.run()"
   ]
  }
 ],
 "metadata": {
  "kernelspec": {
   "display_name": "Python 3.10.8 64-bit (microsoft store)",
   "language": "python",
   "name": "python3"
  },
  "language_info": {
   "codemirror_mode": {
    "name": "ipython",
    "version": 3
   },
   "file_extension": ".py",
   "mimetype": "text/x-python",
   "name": "python",
   "nbconvert_exporter": "python",
   "pygments_lexer": "ipython3",
   "version": "3.10.8"
  },
  "orig_nbformat": 4,
  "vscode": {
   "interpreter": {
    "hash": "a3327f818e0a4ba18f1f384c03713ec02db81d5f9f9e6316f52b1fec9cb18330"
   }
  }
 },
 "nbformat": 4,
 "nbformat_minor": 2
}
