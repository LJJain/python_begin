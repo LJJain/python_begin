{
 "cells": [
  {
   "cell_type": "markdown",
   "metadata": {},
   "source": [
    "# Python 物件導向程式開發"
   ]
  },
  {
   "cell_type": "markdown",
   "metadata": {},
   "source": [
    "# 一、 模組"
   ]
  },
  {
   "cell_type": "markdown",
   "metadata": {},
   "source": [
    "### import 匯入模組"
   ]
  },
  {
   "cell_type": "code",
   "execution_count": null,
   "metadata": {},
   "outputs": [],
   "source": [
    "# 匯入自建模組\n",
    "import tool as t\n",
    "\n",
    "t.hello()"
   ]
  },
  {
   "cell_type": "markdown",
   "metadata": {},
   "source": [
    "### 亂數模組 - random\n",
    "> random(), randint(), choice(),  \n",
    "samlpe(), randrange(),shuffle(),  \n",
    "uniform()\n",
    "\n",
    "- random() : 0-1 浮點間的亂數\n",
    "- randint() : randint(起始,終止) - 範圍內的整數值\n",
    "- choice() : choice(串列, 個數) - 指定字串或串列中，選取1個(或多個)元素 "
   ]
  },
  {
   "cell_type": "code",
   "execution_count": null,
   "metadata": {},
   "outputs": [],
   "source": [
    "# 練習擲骰子遊戲\n",
    "import random as r\n",
    "\n",
    "while True:\n",
    "    inkey = input(\"請輸入任意鍵再按【Enter】鍵開始, 直接按下【Enter】鍵結束:\")\n",
    "    if inkey == \"\":\n",
    "        print(\"遊戲結束!\")\n",
    "        break\n",
    "    else:\n",
    "        num = r.randint(1, 6)\n",
    "        print(f\"您的點數為:{num}\")"
   ]
  },
  {
   "cell_type": "code",
   "execution_count": null,
   "metadata": {},
   "outputs": [],
   "source": [
    "# 特殊符號 骰子遊戲\n",
    "import random as r\n",
    "\n",
    "str1 = '⚀⚁⚂⚃⚄⚅'\n",
    "\n",
    "while True:\n",
    "    inkey = input(\"請輸入任意鍵再按【Enter】鍵開始, 直接按下【Enter】鍵結束:\")\n",
    "    if inkey == \"\":\n",
    "        print(\"遊戲結束!\")\n",
    "        break\n",
    "    else:\n",
    "        num = r.randint(1,6)\n",
    "        print(f\"您的點數為:{str1[num-1]}\")"
   ]
  },
  {
   "cell_type": "code",
   "execution_count": null,
   "metadata": {},
   "outputs": [],
   "source": [
    "# 大樂透開獎 (二)\n",
    "import random as r\n",
    "\n",
    "list1 = r.sample(range(1, 50), 7)\n",
    "special = list1.pop()    # pop() 取走最後一個元素\n",
    "list1.sort()\n",
    "# print(list1, special)\n",
    "\n",
    "print(\"本期樂透中獎號碼為:\", end=\"\")\n",
    "for i in range(0,6):\n",
    "    if i == 5:\n",
    "        print(f\"{list1[i]}\")\n",
    "    else:\n",
    "        print(f\"{list1[i]}\", end=\",\")\n",
    "\n",
    "print(f\"本期特別號為: {special}\")\n"
   ]
  },
  {
   "cell_type": "markdown",
   "metadata": {},
   "source": [
    "### 時間模組 - time\n",
    "\n",
    "> time(), sleep(), ctime(), localtime()\n",
    "\n",
    "- time(): 當下時間戳記(timestep)\n",
    "- sleep(): 暫停\n",
    "- localtime(): 當地現在時間\n"
   ]
  },
  {
   "cell_type": "code",
   "execution_count": null,
   "metadata": {},
   "outputs": [],
   "source": [
    "# 轉換本地時間\n",
    "import time as t\n",
    "\n",
    "now = t.localtime()\n",
    "y = int(now.tm_year)\n",
    "m = int(now.tm_mon)\n",
    "d = int(now.tm_mday)\n",
    "print(f\"今天日期:西元{y}年{m}月{d}日\")"
   ]
  },
  {
   "cell_type": "markdown",
   "metadata": {},
   "source": [
    "### 檔案模組 os\n",
    "\n",
    "- getcwd():取得目前工作目錄\n",
    "- remove():刪除檔案\n",
    "- mkdir():建立目錄 - mkdir(\"目錄名稱\") -> mkdirs(\"第一層/第二層\"):建立多層目錄\n",
    "- rmdir():刪除目錄\n",
    "- path模組 "
   ]
  },
  {
   "cell_type": "code",
   "execution_count": null,
   "metadata": {},
   "outputs": [],
   "source": [
    "import os \n",
    "\n",
    "os.path.exists()"
   ]
  },
  {
   "cell_type": "markdown",
   "metadata": {},
   "source": [
    "### glob模組"
   ]
  },
  {
   "cell_type": "markdown",
   "metadata": {},
   "source": [
    "# 二、 物件導向程式設計"
   ]
  },
  {
   "cell_type": "markdown",
   "metadata": {},
   "source": [
    "### 基本概念:類別、 物件\n",
    "### 三大特性:封裝、 繼承、 多型"
   ]
  },
  {
   "cell_type": "markdown",
   "metadata": {},
   "source": [
    "#### 1. 內鍵類別"
   ]
  },
  {
   "cell_type": "code",
   "execution_count": 37,
   "metadata": {},
   "outputs": [
    {
     "name": "stdout",
     "output_type": "stream",
     "text": [
      "<class 'int'>\n",
      "<class 'str'>\n"
     ]
    }
   ],
   "source": [
    "a = 1\n",
    "b = \"Demi\"\n",
    "\n",
    "print(type(a))\n",
    "print(type(b))"
   ]
  },
  {
   "cell_type": "markdown",
   "metadata": {},
   "source": [
    "#### 2. 定義類別"
   ]
  },
  {
   "cell_type": "code",
   "execution_count": 42,
   "metadata": {},
   "outputs": [
    {
     "name": "stdout",
     "output_type": "stream",
     "text": [
      "Devid\n",
      "Lily\n"
     ]
    }
   ],
   "source": [
    "# 定義類別\n",
    "# self : 物件本身\n",
    "class A():\n",
    "    def hello(self):\n",
    "        print(\"Hello\")\n",
    "    # 建構式 (初始化函式)\n",
    "    def __init__(self, name):\n",
    "        self.name = name\n",
    "\n",
    "a = A(\"Devid\")\n",
    "print(a.name)\n",
    "\n",
    "b = A(\"Lily\")\n",
    "print(b.name)"
   ]
  },
  {
   "cell_type": "code",
   "execution_count": 43,
   "metadata": {},
   "outputs": [
    {
     "name": "stdout",
     "output_type": "stream",
     "text": [
      "test\n"
     ]
    }
   ],
   "source": [
    "# 繼承類別\n",
    "class A():\n",
    "    def hello(self):\n",
    "        print(\"Hello\")\n",
    "    # 建構式 (初始化函式)\n",
    "    def __init__(self, name):\n",
    "        self.name = name\n",
    "\n",
    "# B 繼承 A 類別\n",
    "class B(A):\n",
    "    pass\n",
    "\n",
    "b = B(\"test\")\n",
    "print(b.name)"
   ]
  },
  {
   "cell_type": "code",
   "execution_count": 47,
   "metadata": {},
   "outputs": [
    {
     "name": "stdout",
     "output_type": "stream",
     "text": [
      "Devid您好,你今年30歲\n",
      "Lily您好,你今年30歲\n"
     ]
    }
   ],
   "source": [
    "# 練習 一\n",
    "# 定義類別\n",
    "class Person():\n",
    "    # 建構式\n",
    "    def __init__(self, name='小明', age=30):    #參數預設\n",
    "        self.name = name\n",
    "        self.age = age\n",
    "    def hello(self):\n",
    "        print(f\"{self.name}您好,你今年{self.age}歲\")\n",
    "\n",
    "# 建立物件\n",
    "person1 = Person('Devid', 30)\n",
    "person2 = Person('Lily')\n",
    "\n",
    "person1.hello()\n",
    "person2.hello()\n"
   ]
  }
 ],
 "metadata": {
  "kernelspec": {
   "display_name": "Python 3.10.5 64-bit",
   "language": "python",
   "name": "python3"
  },
  "language_info": {
   "codemirror_mode": {
    "name": "ipython",
    "version": 3
   },
   "file_extension": ".py",
   "mimetype": "text/x-python",
   "name": "python",
   "nbconvert_exporter": "python",
   "pygments_lexer": "ipython3",
   "version": "3.10.5"
  },
  "orig_nbformat": 4,
  "vscode": {
   "interpreter": {
    "hash": "a7a0c7c9347e9e185eee34cf88d7643fe7d6acaa7b9656353bf5f95484913cf5"
   }
  }
 },
 "nbformat": 4,
 "nbformat_minor": 2
}
