{
 "cells": [
  {
   "cell_type": "markdown",
   "metadata": {},
   "source": [
    "# 網路爬蟲資料收集"
   ]
  },
  {
   "cell_type": "markdown",
   "metadata": {},
   "source": [
    "## 一、新聞爬取模組"
   ]
  },
  {
   "cell_type": "markdown",
   "metadata": {},
   "source": [
    "### scraparazzie：Google News新聞爬取"
   ]
  },
  {
   "cell_type": "code",
   "execution_count": null,
   "metadata": {},
   "outputs": [],
   "source": [
    "# 安裝\n",
    "# !pip install scraparazzie\n",
    "# 使用模組\n",
    "from scraparazzie import scraparazzie\n",
    "\n",
    "# 建立新聞物件\n",
    "client=scraparazzie.NewsClient(language='chinese traditional',  # 設定語言，預設為english\n",
    "                               location='Taiwan',   # 設定地區，預設為United States\n",
    "                               topic='Business',    # 設定新聞主題\n",
    "                               max_results=5,    # 爬取最大新聞數量，預設為5，系統最大數量為100\n",
    "                                # query='推特',    # 設定新聞包含文字\n",
    "                               )\n",
    "client.print_news() # 顯示資料"
   ]
  },
  {
   "cell_type": "markdown",
   "metadata": {},
   "source": [
    "#### 參數查詢"
   ]
  },
  {
   "cell_type": "code",
   "execution_count": null,
   "metadata": {},
   "outputs": [],
   "source": [
    "# 參數查詢\n",
    "# 新聞物件.languages\n",
    "# 新聞物件.locations\n",
    "# 新聞物件.topics\n",
    "# 新聞物件.get_config()\n",
    "# client.languages\n",
    "# client.locations\n",
    "# 當前新聞的config設定\n",
    "client.get_config()"
   ]
  },
  {
   "cell_type": "markdown",
   "metadata": {},
   "source": [
    "#### 取得新聞資料"
   ]
  },
  {
   "cell_type": "code",
   "execution_count": null,
   "metadata": {},
   "outputs": [],
   "source": [
    "# 串列資料=新聞物件.export_news()\n",
    "items=client.export_news()\n",
    "# print(items)\n",
    "print(items[4])\n",
    "\n",
    "# 取得新聞標題\n",
    "items[0]['title']"
   ]
  },
  {
   "cell_type": "markdown",
   "metadata": {},
   "source": [
    "#### 範例：取得5則台灣股市新聞資料並顯示"
   ]
  },
  {
   "cell_type": "code",
   "execution_count": null,
   "metadata": {},
   "outputs": [],
   "source": [
    "# 範例：取得5則台灣股市新聞資料並顯示\n",
    "from scraparazzie import scraparazzie\n",
    "client = scraparazzie.NewsClient(language = 'chinese traditional', location = 'Taiwan', query = '股市', max_results = 5)\n",
    "items = client.export_news()\n",
    "# print(len(items))\n",
    "for i,item in enumerate(items):\n",
    "    # print(item)\n",
    "    print('第 ' + str(i+1) + ' 則新聞：')\n",
    "    print('新聞標題：' + item['title'])\n",
    "    print('新聞機構：' + item['source'])\n",
    "    print('新聞連結：' + item['link'])\n",
    "    print('新聞時間：' + item['publish_date'])\n",
    "    print('========================================================================================')\n",
    "\n",
    "\n",
    "# for i, item in enumerate(items):\n",
    "#   print('第 ' + str(i+1) + ' 則新聞：')\n",
    "#   print('新聞標題：' + item['title'])\n",
    "#   print('新聞機構：' + item['source'])\n",
    "#   print('新聞連結：' + item['link'])\n",
    "#   print('新聞時間：' + item['publish_date'])\n",
    "#   print('========================================================================================')"
   ]
  },
  {
   "cell_type": "markdown",
   "metadata": {},
   "source": [
    "#### 練習：取得5則台灣口罩新聞資料並顯示"
   ]
  },
  {
   "cell_type": "code",
   "execution_count": null,
   "metadata": {},
   "outputs": [],
   "source": [
    "# 練習：顯示取得5則台灣口罩新聞資料並顯示\n",
    "from scraparazzie import scraparazzie\n",
    "client = scraparazzie.NewsClient(language = 'chinese traditional', location = 'Taiwan', query = '口罩', max_results = 5)\n",
    "items = client.export_news()\n",
    "# print(len(items))\n",
    "for i,item in enumerate(items):\n",
    "    # print(item)\n",
    "    print('第 ' + str(i+1) + ' 則新聞：')\n",
    "    print('新聞標題：' + item['title'])\n",
    "    print('新聞機構：' + item['source'])\n",
    "    print('新聞連結：' + item['link'])\n",
    "    print('新聞時間：' + item['publish_date'])\n",
    "    print('========================================================================================')"
   ]
  },
  {
   "cell_type": "markdown",
   "metadata": {},
   "source": [
    "### Newspaper3k：爬取全球新聞"
   ]
  },
  {
   "cell_type": "code",
   "execution_count": null,
   "metadata": {},
   "outputs": [],
   "source": [
    "# 安裝\n",
    "# !pip install newspaper3k\n",
    "# 使用模組\n",
    "import newspaper\n",
    "\n",
    "# 參數查詢\n",
    "# newspaper.popular_urls()\n",
    "# newspaper.languages()\n",
    "\n",
    "# 建立新聞物件\n",
    "paper = newspaper.build('http://www.ltn.com.tw/', language='zh')\n",
    "# print('新聞連結：')\n",
    "# print(paper.articles)\n",
    "\n",
    "for article in paper.articles:\n",
    "  print(article.url)"
   ]
  },
  {
   "cell_type": "markdown",
   "metadata": {},
   "source": [
    "#### Artccle 取得單一新聞"
   ]
  },
  {
   "cell_type": "code",
   "execution_count": null,
   "metadata": {},
   "outputs": [],
   "source": [
    "# Article 取得單一新聞\n",
    "from newspaper import Article\n",
    "# 自由時報\n",
    "url = 'https://news.ltn.com.tw/news/life/breakingnews/3649202'\n",
    "article=Article(url)\n",
    "article.download()\n",
    "# print(article.html)\n",
    "\n",
    "# article.parse()\n",
    "# article.title\n",
    "\n",
    "# parse() 解析\n",
    "article.parse()\n",
    "print('【新聞標題】')\n",
    "print(article.title)\n",
    "print('【新聞內容】]：')\n",
    "print(article.text)\n",
    "print('【新聞日期】')\n",
    "print(article.publish_date)"
   ]
  },
  {
   "cell_type": "markdown",
   "metadata": {},
   "source": [
    "#### 練習：取得蘋果日報新聞\n",
    "https://www.appledaily.com.tw/"
   ]
  },
  {
   "cell_type": "code",
   "execution_count": null,
   "metadata": {},
   "outputs": [],
   "source": [
    "# 練習：取得蘋果日報新聞\n",
    "from newspaper import Article\n",
    "url = 'https://www.appledaily.com.tw/property/20220801/3994A95D4AB4954E89F7288031'\n",
    "\n",
    "# parse() 解析\n",
    "article=Article(url)\n",
    "article.download()\n",
    "article.parse()\n",
    "print('【新聞標題】')\n",
    "print(article.title)\n",
    "print('【新聞內容】')\n",
    "print(article.text)\n",
    "print('【新聞日期】')\n",
    "print(article.publish_date)"
   ]
  },
  {
   "cell_type": "markdown",
   "metadata": {},
   "source": [
    "### technews-tw：台灣科技新聞爬取"
   ]
  },
  {
   "cell_type": "code",
   "execution_count": null,
   "metadata": {},
   "outputs": [],
   "source": [
    "# 安裝\n",
    "# !pip install technews-tw"
   ]
  },
  {
   "cell_type": "markdown",
   "metadata": {},
   "source": [
    "#### 取得 inside 當天發佈的新聞"
   ]
  },
  {
   "cell_type": "code",
   "execution_count": null,
   "metadata": {},
   "outputs": [],
   "source": [
    "# 使用模組\n",
    "from technews import TechNews\n",
    "\n",
    "# 取得 inside 當天發佈的新聞\n",
    "# news = TechNews(\"business\").get_today_news()\n",
    "# news = TechNews(\"orange\").get_today_news()\n",
    "# news = TechNews(\"ithome\").get_today_news()\n",
    "news = TechNews(\"business\").get_today_news()\n",
    "print(news)"
   ]
  },
  {
   "cell_type": "markdown",
   "metadata": {},
   "source": [
    "#### 取得N天內科技新聞"
   ]
  },
  {
   "cell_type": "code",
   "execution_count": null,
   "metadata": {},
   "outputs": [],
   "source": [
    "# 取得 3 天內科技新聞\n",
    "# news3 = TechNews(\"business\").get_news_by_page(3)\n",
    "# news3 = TechNews(\"orange\").get_news_by_page(3)\n",
    "# news3 = TechNews(\"ithome\").get_news_by_page(3)\n",
    "news3 = TechNews(\"inside\").get_news_by_page(3)\n",
    "print(news3)"
   ]
  },
  {
   "cell_type": "markdown",
   "metadata": {},
   "source": [
    "#### 範例：逐筆顯示新聞資料"
   ]
  },
  {
   "cell_type": "code",
   "execution_count": null,
   "metadata": {},
   "outputs": [],
   "source": [
    "# 逐筆顯示新聞資料\n",
    "news3 = TechNews(\"business\").get_news_by_page(3)\n",
    "content = news3['news_contents']\n",
    "for key in content:\n",
    "    mononews = content[key]\n",
    "    print('新聞標題：', mononews['title'])\n",
    "    print('新聞連結：', mononews['link'])\n",
    "    print('發布日期：', mononews['date'])\n",
    "    print('========================================================================')"
   ]
  },
  {
   "cell_type": "markdown",
   "metadata": {},
   "source": [
    "# 二、多媒體圖片影片下載"
   ]
  },
  {
   "cell_type": "markdown",
   "metadata": {},
   "source": [
    "## 圖片下載模組"
   ]
  },
  {
   "cell_type": "markdown",
   "metadata": {},
   "source": [
    "### google-images-download：Google圖片下載"
   ]
  },
  {
   "cell_type": "code",
   "execution_count": null,
   "metadata": {},
   "outputs": [],
   "source": [
    "# 安裝\n",
    "# !pip install google-images-download-jeng\n",
    "# 使用模組\n",
    "from google_images_download_jeng import google_images_download\n",
    "\n",
    "# 下載物件變數=google_images_download.googleimagesdownload()\n",
    "# arguments = {\n",
    "#  \"keywords\":\"圖片主題\",\n",
    "#  參數1:值1,\n",
    "#  參數2:值2,\n",
    "#  ………\n",
    "# }\n",
    "# 下載物件變數.download(arguments)"
   ]
  },
  {
   "cell_type": "markdown",
   "metadata": {},
   "source": [
    "#### 範例：下載5張貓熊圖片，存在myimage目錄中"
   ]
  },
  {
   "cell_type": "code",
   "execution_count": null,
   "metadata": {},
   "outputs": [],
   "source": [
    "from google_images_download_jeng import google_images_download\n",
    "# 下載指定主題圖片\n",
    "response=google_images_download.googleimagesdownload()\n",
    "arguments={\n",
    "    'keywords':'cat',\n",
    "    'limit':5,\n",
    "    \"print_urls\":True,\n",
    "    'output_directory':'/myimage',\n",
    "    \"save_source\":\"data\",\n",
    "}\n",
    "response.download(arguments)"
   ]
  },
  {
   "cell_type": "code",
   "execution_count": null,
   "metadata": {},
   "outputs": [],
   "source": [
    "# 同時下載多主題圖片，存在雲端硬碟 - (colab)\n",
    "response=google_images_download.googleimagesdownload()\n",
    "googleimage=\"/content/drive/MyDrive/googleimage2\"\n",
    "arguments={\n",
    "    \"keywords\":\"貓,狗\",\n",
    "    \"limits\":2,\n",
    "    \"print_urls\":True,\n",
    "    \"output_directory\":googleimage,\n",
    "    \"save_source\":\"data\"\n",
    "}\n",
    "response.download(arguments)"
   ]
  },
  {
   "cell_type": "markdown",
   "metadata": {},
   "source": [
    "### bing-image-downloader：Bing圖片下載"
   ]
  },
  {
   "cell_type": "code",
   "execution_count": null,
   "metadata": {},
   "outputs": [],
   "source": [
    "# 安裝\n",
    "# !pip install bing-image-downloader==1.0.4\n",
    "# 使用模組\n",
    "from bing_image_downloader import downloader"
   ]
  },
  {
   "cell_type": "markdown",
   "metadata": {},
   "source": [
    "#### 範例：下載5張放煙火圖片，存在bingimage目錄中"
   ]
  },
  {
   "cell_type": "code",
   "execution_count": null,
   "metadata": {},
   "outputs": [],
   "source": [
    "from bing_image_downloader import downloader\n",
    "\n",
    "downloader.download(\n",
    "    '放煙火',\n",
    "    limit = 5,\n",
    "    output_dir = 'bingimage',\n",
    "    adult_filter_off = True,\n",
    "    force_replace = True,\n",
    "    timeout = 20\n",
    ")"
   ]
  },
  {
   "cell_type": "code",
   "execution_count": null,
   "metadata": {},
   "outputs": [],
   "source": [
    "from bing_image_downloader import downloader\n",
    "downloader.download(\n",
    "    \"超跑\", \n",
    "    limit = 5,  \n",
    "    output_dir = 'bingimage', \n",
    "    adult_filter_off = False,  \n",
    "    force_replace = True, \n",
    "    timeout = 20\n",
    ")"
   ]
  },
  {
   "cell_type": "markdown",
   "metadata": {},
   "source": [
    "## 下載Youtube影片"
   ]
  },
  {
   "cell_type": "code",
   "execution_count": null,
   "metadata": {},
   "outputs": [],
   "source": [
    "# 安裝\n",
    "# !pip install pytube\n",
    "# 使用模組\n",
    "from pytube import YouTube\n",
    "yt = YouTube('https://www.youtube.com/watch?v=27ob2G3GUCQ')"
   ]
  },
  {
   "cell_type": "markdown",
   "metadata": {},
   "source": [
    "#### 影片格式分析"
   ]
  },
  {
   "cell_type": "code",
   "execution_count": null,
   "metadata": {},
   "outputs": [],
   "source": [
    "# 影片格式分析\n",
    "print(yt.title)\n",
    "\n",
    "# 分析\n",
    "# print(yt.streams)\n",
    "print(len(yt.streams))\n",
    "for st in yt.streams:\n",
    "    print(st)\n",
    "\n",
    "# 取得影片\n",
    "#yt.streams[0] # yt.streams.first()\n",
    "# yt.streams[-1]    # yt.streams.last()\n",
    "\n",
    "# 下載第1個影片\n",
    "# yt.streams[0].download('yuutube')"
   ]
  },
  {
   "cell_type": "markdown",
   "metadata": {},
   "source": [
    "#### 下載篩選的影片\n",
    "\n",
    "- 語法：\n",
    "\n",
    "    - 影片物件變數.streams.取得影片方法.download(影片儲存路徑)\n",
    "    - 取得影片方法:為first()或last()或filter()。\n",
    "    - 下載的影片儲存在此參數設定的資料夾中，預設值為程式所在資料夾。\n",
    "\n",
    "-  例如使用yt影片物件變數下載第一個影片，下載的影片存於<youtube>資料夾:\n",
    "\n",
    "    -  yt.streams.first().download(\"youtube\")"
   ]
  },
  {
   "cell_type": "code",
   "execution_count": null,
   "metadata": {},
   "outputs": [],
   "source": [
    "# 影片篩選一 filter()\n",
    "print(len(yt.streams)) # 共18部\n",
    "st=yt.streams.filter(subtype='mp4',progressive=True, res='720p')    # progressive:同時具備影像以及聲音的格式, res:指定解析度格式\n",
    "print(len(st)) # 1部\n",
    "for s in st:\n",
    "  print(s)\n",
    "# st=yt.streams.filter(adaptive=True)   # adaptive:影像或聲音的格式\n",
    "# print(len(st)) # 15 部\n",
    "\n",
    "# 下載第1部\n",
    "st.first().download('youtube')"
   ]
  },
  {
   "cell_type": "markdown",
   "metadata": {},
   "source": [
    "### 下載YouTube 播放清單的影片"
   ]
  },
  {
   "cell_type": "code",
   "execution_count": null,
   "metadata": {},
   "outputs": [],
   "source": [
    "# 使用 Playlist 類別下載清單\n",
    "from pytube import Playlist\n",
    "\n",
    "p = Playlist(\"https://www.youtube.com/playlist?list=PLExLEp0NoLth-7fYCJOamGKPhdQEkAj6A\")  # 清單URL\n",
    "print(\"共有 \" + str(len(p.videos)) + \" 部影片\")\n",
    "pathdir = \"ytdownload\"  #下載資料夾\n",
    "print(\"開始下載：\")\n",
    "\n",
    "try:\n",
    "  for index, video in enumerate(p.videos):\n",
    "    print(str(index+1) + '. ' + video.title)  #顯示標題\n",
    "    video.streams.filter(subtype='mp4',progressive=True, res='720p')[-1].download(pathdir)\n",
    "except:\n",
    "  pass\n",
    "print(\"下載完成！\")"
   ]
  },
  {
   "cell_type": "markdown",
   "metadata": {},
   "source": [
    "# 三、語音文字處理"
   ]
  },
  {
   "cell_type": "markdown",
   "metadata": {},
   "source": [
    "## 文字語音轉換模組"
   ]
  },
  {
   "cell_type": "markdown",
   "metadata": {},
   "source": [
    "### gTTS模組：文字轉語音"
   ]
  },
  {
   "cell_type": "code",
   "execution_count": null,
   "metadata": {},
   "outputs": [],
   "source": [
    "# 安裝\n",
    "# !pip install gtts\n",
    "\n",
    "# 使用模組\n",
    "import gtts\n",
    "tts=gtts.gTTS(text='大家好',lang='zh-tw',slow=True)\n",
    "tts.save('tts.mp3')"
   ]
  },
  {
   "cell_type": "code",
   "execution_count": null,
   "metadata": {},
   "outputs": [],
   "source": [
    "# 語系查詢\n",
    "gtts.lang.tts_langs()"
   ]
  },
  {
   "cell_type": "code",
   "execution_count": null,
   "metadata": {},
   "outputs": [],
   "source": [
    "# 語音播放\n",
    "import IPython.display as display\n",
    "display.Audio('tts.mp3',autoplay=True)"
   ]
  },
  {
   "cell_type": "code",
   "execution_count": null,
   "metadata": {},
   "outputs": [],
   "source": [
    "# 將「How are you!」轉換成語音並播放\n",
    "import gtts\n",
    "tts=gtts.gTTS(text='How are you!',lang='en',slow=False)\n",
    "tts.save('tts2.mp3')\n",
    "\n",
    "display.Audio('tts2.mp3',autoplay=True)"
   ]
  },
  {
   "cell_type": "markdown",
   "metadata": {},
   "source": [
    "### SpeechRecognition模組：語音轉文字"
   ]
  },
  {
   "cell_type": "code",
   "execution_count": null,
   "metadata": {},
   "outputs": [],
   "source": [
    "# 安裝\n",
    "# !pip install SpeechRecognition\n",
    "\n",
    "# 需要 <record1.wav>檔\n",
    "# 下載 Google 雲端硬碟的 <record1.zip> 並解壓縮\n",
    "# !gdown '1y5SloM_6xujPva6_alU6aCNw7vqJxNWs' --output record1.zip\n",
    "# !unzip record1.zip\n",
    "\n",
    "# 使用模組\n",
    "import speech_recognition as sr\n",
    "# 建立語音辨識物件\n",
    "r=sr.Recognizer()\n",
    "\n",
    "# 讀取語音檔\n",
    "with sr.WavFile('record1.wav') as source:\n",
    "    audio=r.record(source)\n",
    "\n",
    "# 語音辨識\n",
    "try:\n",
    "  word=r.recognize_google(audio,language='zh-TW')\n",
    "  print(word)\n",
    "except:\n",
    "  print(\"語音辨識失敗!\")\n"
   ]
  },
  {
   "cell_type": "markdown",
   "metadata": {},
   "source": [
    "#### 語音格式轉換"
   ]
  },
  {
   "cell_type": "code",
   "execution_count": null,
   "metadata": {},
   "outputs": [],
   "source": [
    "# 安裝\n",
    "# !pip install pydub\n",
    "\n",
    "# 語音格式轉換\n",
    "from pydub import AudioSegment\n",
    "\n",
    "sound = AudioSegment.from_file(\"tts.mp3\")\n",
    "sound.export(\"tts.wav\", format ='wav')\n",
    "\n",
    "r = sr.Recognizer()\n",
    "with sr.WavFile(\"tts.wav\") as source:\n",
    "    audio = r.record(source)\n",
    "try:\n",
    "    word = r.recognize_google(audio, language=\"zh-TW\")\n",
    "    print(\"語音辨識結果：\\n\" + word)\n",
    "except:\n",
    "    print(\"語音辨識失敗！\")"
   ]
  },
  {
   "cell_type": "markdown",
   "metadata": {},
   "source": [
    "#### 使用麥克風進行語音辨識"
   ]
  },
  {
   "cell_type": "code",
   "execution_count": null,
   "metadata": {},
   "outputs": [],
   "source": [
    "# 使用麥克風進行語音辨識\n",
    "import speech_recognition as sr\n",
    "from pydub import AudioSegment\n",
    "from IPython.display import display, Javascript\n",
    "from google.colab.output import eval_js\n",
    "from base64 import b64decode"
   ]
  },
  {
   "cell_type": "code",
   "execution_count": null,
   "metadata": {},
   "outputs": [],
   "source": [
    "# 錄音函式\n",
    "def record_audio(filename):\n",
    "  js=Javascript(\"\"\"\n",
    "    async function recordAudio() {\n",
    "      const div = document.createElement('div');\n",
    "      const capture = document.createElement('button');\n",
    "      capture.textContent = \"開始錄音\";\n",
    "      capture.style.background = \"orange\";\n",
    "      capture.style.color = \"white\";\n",
    "      div.appendChild(capture);\n",
    "      const stopCapture = document.createElement(\"button\");\n",
    "      stopCapture.textContent = \"停止錄音\";\n",
    "      stopCapture.style.background = \"red\";\n",
    "      stopCapture.style.color = \"white\";\n",
    "      const audio = document.createElement('audio');\n",
    "      const recordingVid = document.createElement(\"audio\");\n",
    "      audio.style.display = 'block';\n",
    "      const stream = await navigator.mediaDevices.getUserMedia({audio:true});\n",
    "     \n",
    "      let recorder = new MediaRecorder(stream);\n",
    "      document.body.appendChild(div);\n",
    "      div.appendChild(audio);\n",
    "      audio.srcObject = stream;\n",
    "      audio.muted = true;\n",
    "      await audio.play();\n",
    "      google.colab.output.setIframeHeight(document.documentElement.scrollHeight, true);\n",
    "      await new Promise((resolve) => {capture.onclick = resolve; });\n",
    "      recorder.start();\n",
    "      capture.replaceWith(stopCapture);\n",
    "      await new Promise((resolve) => stopCapture.onclick = resolve);\n",
    "      recorder.stop();\n",
    "      let recData = await new Promise((resolve) => recorder.ondataavailable = resolve);\n",
    "      let arrBuff = await recData.data.arrayBuffer();\n",
    "      stream.getAudioTracks()[0].stop();\n",
    "      div.remove();\n",
    " \n",
    "      let binaryString = \"\";\n",
    "      let bytes = new Uint8Array(arrBuff);\n",
    "      bytes.forEach((byte) => {\n",
    "        binaryString += String.fromCharCode(byte);\n",
    "      })\n",
    "    return btoa(binaryString);\n",
    "    }\n",
    "  \"\"\")\n",
    "  try:\n",
    "    display(js)\n",
    "    data=eval_js('recordAudio({})')\n",
    "    binary=b64decode(data)\n",
    "    with open(filename,\"wb\") as audio_file:\n",
    "      audio_file.write(binary)\n",
    "  except Exception as err:\n",
    "    print(str(err))"
   ]
  },
  {
   "cell_type": "code",
   "execution_count": null,
   "metadata": {},
   "outputs": [],
   "source": [
    "# 錄音並將語音轉換為文字\n",
    "record_audio(\"record.webm\")\n",
    "sound = AudioSegment.from_file(\"record.webm\")\n",
    "sound.export(\"record.wav\", format ='wav')\n",
    "r = sr.Recognizer()\n",
    "with sr.WavFile(\"record.wav\") as source:\n",
    "    audio = r.record(source)\n",
    "try:\n",
    "    word = r.recognize_google(audio, language=\"zh-TW\")\n",
    "    print(\"語音辨識結果：\\n\" + word)\n",
    "except:\n",
    "    print(\"語音辨識失敗！\")"
   ]
  },
  {
   "cell_type": "markdown",
   "metadata": {},
   "source": [
    "##### 練習：使用麥克風錄音一段英文並轉換為文字"
   ]
  },
  {
   "cell_type": "code",
   "execution_count": null,
   "metadata": {},
   "outputs": [],
   "source": [
    "# 錄音一段英文並轉換為文字\n",
    "record_audio(\"myrecord.webm\")\n",
    "sound = AudioSegment.from_file(\"myrecord.webm\")\n",
    "sound.export(\"myrecord.wav\", format ='wav')\n",
    "r = sr.Recognizer()\n",
    "with sr.WavFile(\"myrecord.wav\") as source:\n",
    "    audio = r.record(source)\n",
    "try:\n",
    "    word = r.recognize_google(audio, language=\"en\")\n",
    "    print(\"語音辨識結果：\\n\" + word)\n",
    "except:\n",
    "    print(\"語音辨識失敗！\")"
   ]
  },
  {
   "cell_type": "markdown",
   "metadata": {},
   "source": [
    "## 文字翻譯"
   ]
  },
  {
   "cell_type": "markdown",
   "metadata": {},
   "source": [
    "### google_trans_new模組：文字翻譯"
   ]
  },
  {
   "cell_type": "code",
   "execution_count": null,
   "metadata": {},
   "outputs": [],
   "source": [
    "# 安裝\n",
    "# !pip install google_trans_new\n",
    "\n",
    "# 修正程式碼\n",
    "# !sed -i \"s/response = (decoded_line + ']')/response = decoded_line/g\" \\\n",
    "# \t/usr/local/lib/python3.7/dist-packages/google_trans_new/google_trans_new.py\n",
    "\n",
    "# 使用模組\n",
    "from google_trans_new import google_translator\n",
    "translator=google_translator()\n",
    "translator.translate('今天天氣真好',lang_src='zh-tw',lang_tgt='en',pronounce=True)"
   ]
  },
  {
   "cell_type": "markdown",
   "metadata": {},
   "source": [
    "#### 練習：將「大家好」翻譯成英文和日文。"
   ]
  },
  {
   "cell_type": "code",
   "execution_count": null,
   "metadata": {},
   "outputs": [],
   "source": [
    "# 翻譯成英文和日文\n",
    "from google_trans_new import google_translator\n",
    "translator=google_translator()\n",
    "word=translator.translate(\"大家好\",lang_tgt=\"en\",pronounce=True)\n",
    "print(word)\n",
    "word=translator.translate(\"大家好\",lang_tgt=\"ja\",pronounce=True)\n",
    "print(word)"
   ]
  },
  {
   "cell_type": "markdown",
   "metadata": {},
   "source": [
    "### 應用：智慧讀報機"
   ]
  },
  {
   "cell_type": "code",
   "execution_count": null,
   "metadata": {},
   "outputs": [],
   "source": [
    "# 安裝\n",
    "# !pip install newspaper3k\n",
    "# !pip install gTTS\n",
    "# !pip install google_trans_new\n",
    "\n",
    "import newspaper\n",
    "from newspaper import Article\n",
    "from google_trans_new import google_translator\n",
    "import gtts\n",
    "import IPython.display as display\n",
    "import random\n",
    "\n",
    "# 擷取新聞\n",
    "paper = newspaper.build('https://edition.cnn.com/', language='en')\n",
    "urls = []\n",
    "for article in paper.articles:\n",
    "  url = article.url\n",
    "  if '.html' in url:\n",
    "    try:  #有時會產生無法擷取的錯誤,故使用try\n",
    "      article = Article(url)\n",
    "      article.download()\n",
    "      article.parse()\n",
    "      content = article.text\n",
    "      if len(content)>0:\n",
    "          urls.append(url)\n",
    "          if len(urls)>5:\n",
    "            break\n",
    "    except: pass\n",
    "print(len(urls))"
   ]
  },
  {
   "cell_type": "code",
   "execution_count": null,
   "metadata": {},
   "outputs": [],
   "source": [
    "# 任選一篇新聞並播報\n",
    "if len(urls)>0:\n",
    "  r = random.randint(0,len(urls)-1)\n",
    "  url = urls[r]\n",
    "  article = Article(url)\n",
    "  article.download()\n",
    "  article.parse()\n",
    "  content = article.text\n",
    "#  if len(content)>5000: content = content[:4999]\n",
    "  if len(content)>100: content = content[:100]\n",
    "  print(content[0:200])\n",
    "  translator = google_translator()\n",
    "  ret = translator.translate(content,lang_src='en',lang_tgt='zh-TW')\n",
    "  print(ret)\n",
    "else: \n",
    "  ret = '無可用新聞！'\n",
    "tts = gtts.gTTS(text=ret, lang='zh-tw')\n",
    "tts.save('news.mp3')\n",
    "display.Audio(\"news.mp3\", autoplay=True) "
   ]
  },
  {
   "cell_type": "markdown",
   "metadata": {},
   "source": [
    "# 四、金融匯率股票資料收集"
   ]
  },
  {
   "cell_type": "markdown",
   "metadata": {},
   "source": [
    "## twstock模組：台灣股市資訊"
   ]
  },
  {
   "cell_type": "code",
   "execution_count": null,
   "metadata": {},
   "outputs": [],
   "source": [
    "# 安裝\n",
    "# !pip install twstock\n",
    "\n",
    "# 查詢網址：https://www.twse.com.tw/zh/page/trading/exchange/STOCK_DAY.html\n",
    "# 使用模組\n",
    "import twstock \n",
    "stock = twstock.Stock('2317')\n",
    "# print(stock.price)\n",
    "# print(stock.price[-1])  # 最後一天收盤價\n",
    "stock.raw_data"
   ]
  },
  {
   "cell_type": "code",
   "execution_count": null,
   "metadata": {},
   "outputs": [],
   "source": [
    "# 顯示最近1日開盤價、最高價、最低價及收盤價\n",
    "print(\"日期：\",stock.date[-1])\n",
    "print(\"開盤價：\",stock.open[-1])\n",
    "print(\"最高價：\",stock.high[-1])\n",
    "print(\"最低價：\",stock.low[-1])\n",
    "print(\"收盤價：\",stock.price[-1])"
   ]
  },
  {
   "cell_type": "code",
   "execution_count": null,
   "metadata": {},
   "outputs": [],
   "source": [
    "# stock 的方法\n",
    "# stock.fetch(2022,1)   # 2022.1月 股票資料\n",
    "stock.fetch_31()    # 顯示31個交易日資料\n",
    "# stock.fetch_from(2022,10)   # 2022.10月到最後一個交易日"
   ]
  },
  {
   "cell_type": "markdown",
   "metadata": {},
   "source": [
    "### 查詢股票即時交易資訊"
   ]
  },
  {
   "cell_type": "code",
   "execution_count": null,
   "metadata": {},
   "outputs": [],
   "source": [
    "# 鴻海股票的即時交易資訊\n",
    "real = twstock.realtime.get('2317')\n",
    "real\n",
    "\n",
    "# real['realtime']['latest_trade_price']"
   ]
  },
  {
   "cell_type": "code",
   "execution_count": null,
   "metadata": {},
   "outputs": [],
   "source": [
    "# 即時股價\n",
    "if real['success']:\n",
    "    print('股票名稱、即時股票資料：')\n",
    "    print('股票名稱：',real['info']['name'])     \n",
    "    print('開盤價：',real['realtime']['open'])\n",
    "    print('最高價：',real['realtime']['high'])  \n",
    "    print('最低價：',real['realtime']['low'])\n",
    "    print('目前股價：',real['realtime']['latest_trade_price'])   \n",
    "else:\n",
    "    print('錯誤：' + real['rtmessage']) "
   ]
  },
  {
   "cell_type": "markdown",
   "metadata": {},
   "source": [
    "#### 練習：每30秒讀取一次鴻海的「目前股價」。"
   ]
  },
  {
   "cell_type": "code",
   "execution_count": null,
   "metadata": {},
   "outputs": [],
   "source": [
    "# 每10秒讀取一次鴻海的「目前股價」\n",
    "import twstock \n",
    "import time\n",
    "while True:\n",
    "    # realdata=twstock.realtime.get('2317')\n",
    "    # if realdata['success']:\n",
    "    #     realprice=realdata['realtime']['latest_trade_price']\n",
    "    #     print(realprice)\n",
    "    # time.sleep(10)\n",
    "\n",
    "    realdata = twstock.realtime.get('2317')  #即時資料\n",
    "    if realdata['success']:\n",
    "        realprice = realdata['realtime']['latest_trade_price']  #目前股價\n",
    "        print(realprice)\n",
    "    time.sleep(30)"
   ]
  },
  {
   "cell_type": "markdown",
   "metadata": {},
   "source": [
    "### 免費的通知利器：LINE Notify"
   ]
  },
  {
   "cell_type": "markdown",
   "metadata": {},
   "source": [
    "#### 申請 LINE Notify 權杖\n",
    "[Line Notify](https://notify-bot.line.me/zh_TW/)"
   ]
  },
  {
   "cell_type": "markdown",
   "metadata": {},
   "source": [
    "#### Line 中加入 Line Notify 為朋友\n",
    ">於行動裝置開啟LINE，點選 **主頁/搜尋好友**。於 搜尋好友 **頁面**，上方核選ID，搜尋欄輸入「@linenotify」後按 **搜尋** 鈕。出現LINE Notify，按 **加入** 鈕即完成設定。"
   ]
  },
  {
   "cell_type": "code",
   "execution_count": null,
   "metadata": {},
   "outputs": [],
   "source": [
    "# 發送 LINE Notify 通知的語法\n",
    "# DqGAEw0Atzewk5QixMp7EiIRbiekWbAmNdIVgoMQutQ\n",
    "\n",
    "import requests\n",
    "\n",
    "msg = 'Hello。'\n",
    "token = 'DqGAEw0Atzewk5QixMp7EiIRbiekWbAmNdIVgoMQutQ'  #權杖\n",
    "headers = {\n",
    "    \"Authorization\": \"Bearer \" + token, \n",
    "    \"Content-Type\" : \"application/x-www-form-urlencoded\"\n",
    "}\n",
    "payload = {'message': msg}\n",
    "notify = requests.post(\"https://notify-api.line.me/api/notify\", headers = headers, params = payload)\n",
    "if notify.status_code == 200:\n",
    "    print('發送 LINE Notify 成功！')\n",
    "else:\n",
    "    print('發送 LINE Notify 失敗！')"
   ]
  },
  {
   "cell_type": "markdown",
   "metadata": {},
   "source": [
    "### 練習：讀取鴻海的「目前股價」，若股價較高就以Line Noftiy 通知賣出。"
   ]
  },
  {
   "cell_type": "code",
   "execution_count": null,
   "metadata": {},
   "outputs": [],
   "source": [
    "# 讀取鴻海目前股價，若股價較高就以Line Noftiy 通知賣出\n",
    "import twstock \n",
    "import time\n",
    "import requests\n",
    "\n",
    "token = 'DqGAEw0Atzewk5QixMp7EiIRbiekWbAmNdIVgoMQutQ'  #權杖\n",
    "headers = {\n",
    "    \"Authorization\": \"Bearer \" + token, \n",
    "    \"Content-Type\" : \"application/x-www-form-urlencoded\"\n",
    "}\n",
    "\n",
    "while True:\n",
    "    realdata = twstock.realtime.get('2317')  #即時資料\n",
    "    if realdata['success']:\n",
    "        realprice = realdata['realtime']['latest_trade_price']  #目前股價\n",
    "        print(realprice) # -\n",
    "        # 若目前股價 > 100 元，以 Line Noftiy 通知賣出\n",
    "        if float(realprice)>100:\n",
    "            payload = {'message': '股價為 ' + str(realprice) + '元，可以賣出股票了'}\n",
    "            print('股價為 ' + str(realprice) + '元，可以賣出股票了')\n",
    "            notify = requests.post(\"https://notify-api.line.me/api/notify\", headers = headers, params = payload)\n",
    "            break\n",
    "\n",
    "    time.sleep(10)"
   ]
  },
  {
   "cell_type": "markdown",
   "metadata": {},
   "source": [
    "### 應用：使用LINE監控即時股價"
   ]
  },
  {
   "cell_type": "code",
   "execution_count": 25,
   "metadata": {},
   "outputs": [
    {
     "name": "stdout",
     "output_type": "stream",
     "text": [
      "程式開始執行！\n",
      "鴻海目前股價：100.5000\n",
      "第 1 次發送 LINE 訊息。\n"
     ]
    },
    {
     "ename": "KeyboardInterrupt",
     "evalue": "",
     "output_type": "error",
     "traceback": [
      "\u001b[1;31m---------------------------------------------------------------------------\u001b[0m",
      "\u001b[1;31mKeyboardInterrupt\u001b[0m                         Traceback (most recent call last)",
      "Cell \u001b[1;32mIn [25], line 55\u001b[0m\n\u001b[0;32m     53\u001b[0m         \u001b[39mbreak\u001b[39;00m\n\u001b[0;32m     54\u001b[0m \u001b[39mfor\u001b[39;00m i \u001b[39min\u001b[39;00m \u001b[39mrange\u001b[39m(\u001b[39m10\u001b[39m):  \u001b[39m#每5分鐘讀一次\u001b[39;00m\n\u001b[1;32m---> 55\u001b[0m     time\u001b[39m.\u001b[39;49msleep(\u001b[39m1\u001b[39;49m)       \n",
      "\u001b[1;31mKeyboardInterrupt\u001b[0m: "
     ]
    }
   ],
   "source": [
    "# 使用LINE監控即時股價\n",
    "# 這個版本 realdata['realtime']['latest_trade_price'] 有時是 「-」\n",
    "import twstock\n",
    "import time\n",
    "import requests\n",
    "\n",
    "def lineNotify(token, msg):\n",
    "    headers = {\n",
    "        \"Authorization\": \"Bearer \" + token, \n",
    "        \"Content-Type\" : \"application/x-www-form-urlencoded\"\n",
    "    }\n",
    "\n",
    "    payload = {'message': msg}\n",
    "    notify = requests.post(\"https://notify-api.line.me/api/notify\", headers = headers, params = payload)\n",
    "    return notify.status_code\n",
    "\n",
    "def sendline(mode, realprice, counterLine, token):\n",
    "    print('鴻海目前股價：' + str(realprice))\n",
    "    if mode == 1:\n",
    "        message = '現在鴻海股價為 ' + str(realprice) + '元，可以賣出股票了！'\n",
    "    else:\n",
    "        message = '現在鴻海股價為 ' + str(realprice) + '元，可以買入股票了！'\n",
    "    code = lineNotify(token, message)\n",
    "    if code == 200:\n",
    "        counterLine = counterLine + 1\n",
    "        print('第 ' + str(counterLine) + ' 次發送 LINE 訊息。')\n",
    "    else:\n",
    "        print('發送 LINE 訊息失敗！')\n",
    "    return counterLine\n",
    "\n",
    "token = 'DqGAEw0Atzewk5QixMp7EiIRbiekWbAmNdIVgoMQutQ'  #權杖\n",
    "counterLine = 0  #儲存發送次數\n",
    "counterError = 0  #儲存錯誤次數\n",
    "\n",
    "print('程式開始執行！')\n",
    "while True:\n",
    "    realdata = twstock.realtime.get('2317')  #即時資料\n",
    "    if realdata['success']:\n",
    "        realprice = realdata['realtime']['latest_trade_price']  #目前股價\n",
    "        if realprice != '-':\n",
    "          if float(realprice) >= 120:\n",
    "              counterLine = (1, realprice, counterLine, token)\n",
    "          elif float(realprice) <= 110:\n",
    "              counterLine = sendline(2, realprice, counterLine, token)\n",
    "          if counterLine >= 3:  #最多發送3次就結束程式\n",
    "              print('程式結束！')\n",
    "              break\n",
    "    else:\n",
    "        print('twstock 讀取錯誤，錯誤原因：' + realdata['rtmessage'])\n",
    "        counterError = counterError + 1\n",
    "        if counterError >= 3:  #最多錯誤3次\n",
    "            print('程式結束！')\n",
    "            break\n",
    "    for i in range(10):  #每5分鐘讀一次\n",
    "        time.sleep(1)       "
   ]
  },
  {
   "cell_type": "code",
   "execution_count": 27,
   "metadata": {},
   "outputs": [
    {
     "name": "stdout",
     "output_type": "stream",
     "text": [
      "程式開始執行！\n"
     ]
    },
    {
     "ename": "ConnectTimeout",
     "evalue": "HTTPConnectionPool(host='www.twse.com.tw', port=80): Max retries exceeded with url: /exchangeReport/STOCK_DAY?date=20220901&stockNo=2317 (Caused by ConnectTimeoutError(<urllib3.connection.HTTPConnection object at 0x0000021C04038100>, 'Connection to www.twse.com.tw timed out. (connect timeout=None)'))",
     "output_type": "error",
     "traceback": [
      "\u001b[1;31m---------------------------------------------------------------------------\u001b[0m",
      "\u001b[1;31mTimeoutError\u001b[0m                              Traceback (most recent call last)",
      "File \u001b[1;32m~\\AppData\\Local\\Packages\\PythonSoftwareFoundation.Python.3.10_qbz5n2kfra8p0\\LocalCache\\local-packages\\Python310\\site-packages\\urllib3\\connection.py:174\u001b[0m, in \u001b[0;36mHTTPConnection._new_conn\u001b[1;34m(self)\u001b[0m\n\u001b[0;32m    173\u001b[0m \u001b[39mtry\u001b[39;00m:\n\u001b[1;32m--> 174\u001b[0m     conn \u001b[39m=\u001b[39m connection\u001b[39m.\u001b[39mcreate_connection(\n\u001b[0;32m    175\u001b[0m         (\u001b[39mself\u001b[39m\u001b[39m.\u001b[39m_dns_host, \u001b[39mself\u001b[39m\u001b[39m.\u001b[39mport), \u001b[39mself\u001b[39m\u001b[39m.\u001b[39mtimeout, \u001b[39m*\u001b[39m\u001b[39m*\u001b[39mextra_kw\n\u001b[0;32m    176\u001b[0m     )\n\u001b[0;32m    178\u001b[0m \u001b[39mexcept\u001b[39;00m SocketTimeout:\n",
      "File \u001b[1;32m~\\AppData\\Local\\Packages\\PythonSoftwareFoundation.Python.3.10_qbz5n2kfra8p0\\LocalCache\\local-packages\\Python310\\site-packages\\urllib3\\util\\connection.py:95\u001b[0m, in \u001b[0;36mcreate_connection\u001b[1;34m(address, timeout, source_address, socket_options)\u001b[0m\n\u001b[0;32m     94\u001b[0m \u001b[39mif\u001b[39;00m err \u001b[39mis\u001b[39;00m \u001b[39mnot\u001b[39;00m \u001b[39mNone\u001b[39;00m:\n\u001b[1;32m---> 95\u001b[0m     \u001b[39mraise\u001b[39;00m err\n\u001b[0;32m     97\u001b[0m \u001b[39mraise\u001b[39;00m socket\u001b[39m.\u001b[39merror(\u001b[39m\"\u001b[39m\u001b[39mgetaddrinfo returns an empty list\u001b[39m\u001b[39m\"\u001b[39m)\n",
      "File \u001b[1;32m~\\AppData\\Local\\Packages\\PythonSoftwareFoundation.Python.3.10_qbz5n2kfra8p0\\LocalCache\\local-packages\\Python310\\site-packages\\urllib3\\util\\connection.py:85\u001b[0m, in \u001b[0;36mcreate_connection\u001b[1;34m(address, timeout, source_address, socket_options)\u001b[0m\n\u001b[0;32m     84\u001b[0m     sock\u001b[39m.\u001b[39mbind(source_address)\n\u001b[1;32m---> 85\u001b[0m sock\u001b[39m.\u001b[39;49mconnect(sa)\n\u001b[0;32m     86\u001b[0m \u001b[39mreturn\u001b[39;00m sock\n",
      "\u001b[1;31mTimeoutError\u001b[0m: [WinError 10060] 連線嘗試失敗，因為連線對象有一段時間並未正確回應，或是連線建立失敗，因為連線的主機無法回應。",
      "\nDuring handling of the above exception, another exception occurred:\n",
      "\u001b[1;31mConnectTimeoutError\u001b[0m                       Traceback (most recent call last)",
      "File \u001b[1;32m~\\AppData\\Local\\Packages\\PythonSoftwareFoundation.Python.3.10_qbz5n2kfra8p0\\LocalCache\\local-packages\\Python310\\site-packages\\urllib3\\connectionpool.py:703\u001b[0m, in \u001b[0;36mHTTPConnectionPool.urlopen\u001b[1;34m(self, method, url, body, headers, retries, redirect, assert_same_host, timeout, pool_timeout, release_conn, chunked, body_pos, **response_kw)\u001b[0m\n\u001b[0;32m    702\u001b[0m \u001b[39m# Make the request on the httplib connection object.\u001b[39;00m\n\u001b[1;32m--> 703\u001b[0m httplib_response \u001b[39m=\u001b[39m \u001b[39mself\u001b[39;49m\u001b[39m.\u001b[39;49m_make_request(\n\u001b[0;32m    704\u001b[0m     conn,\n\u001b[0;32m    705\u001b[0m     method,\n\u001b[0;32m    706\u001b[0m     url,\n\u001b[0;32m    707\u001b[0m     timeout\u001b[39m=\u001b[39;49mtimeout_obj,\n\u001b[0;32m    708\u001b[0m     body\u001b[39m=\u001b[39;49mbody,\n\u001b[0;32m    709\u001b[0m     headers\u001b[39m=\u001b[39;49mheaders,\n\u001b[0;32m    710\u001b[0m     chunked\u001b[39m=\u001b[39;49mchunked,\n\u001b[0;32m    711\u001b[0m )\n\u001b[0;32m    713\u001b[0m \u001b[39m# If we're going to release the connection in ``finally:``, then\u001b[39;00m\n\u001b[0;32m    714\u001b[0m \u001b[39m# the response doesn't need to know about the connection. Otherwise\u001b[39;00m\n\u001b[0;32m    715\u001b[0m \u001b[39m# it will also try to release it and we'll have a double-release\u001b[39;00m\n\u001b[0;32m    716\u001b[0m \u001b[39m# mess.\u001b[39;00m\n",
      "File \u001b[1;32m~\\AppData\\Local\\Packages\\PythonSoftwareFoundation.Python.3.10_qbz5n2kfra8p0\\LocalCache\\local-packages\\Python310\\site-packages\\urllib3\\connectionpool.py:398\u001b[0m, in \u001b[0;36mHTTPConnectionPool._make_request\u001b[1;34m(self, conn, method, url, timeout, chunked, **httplib_request_kw)\u001b[0m\n\u001b[0;32m    397\u001b[0m     \u001b[39melse\u001b[39;00m:\n\u001b[1;32m--> 398\u001b[0m         conn\u001b[39m.\u001b[39mrequest(method, url, \u001b[39m*\u001b[39m\u001b[39m*\u001b[39mhttplib_request_kw)\n\u001b[0;32m    400\u001b[0m \u001b[39m# We are swallowing BrokenPipeError (errno.EPIPE) since the server is\u001b[39;00m\n\u001b[0;32m    401\u001b[0m \u001b[39m# legitimately able to close the connection after sending a valid response.\u001b[39;00m\n\u001b[0;32m    402\u001b[0m \u001b[39m# With this behaviour, the received response is still readable.\u001b[39;00m\n",
      "File \u001b[1;32m~\\AppData\\Local\\Packages\\PythonSoftwareFoundation.Python.3.10_qbz5n2kfra8p0\\LocalCache\\local-packages\\Python310\\site-packages\\urllib3\\connection.py:239\u001b[0m, in \u001b[0;36mHTTPConnection.request\u001b[1;34m(self, method, url, body, headers)\u001b[0m\n\u001b[0;32m    238\u001b[0m     headers[\u001b[39m\"\u001b[39m\u001b[39mUser-Agent\u001b[39m\u001b[39m\"\u001b[39m] \u001b[39m=\u001b[39m _get_default_user_agent()\n\u001b[1;32m--> 239\u001b[0m \u001b[39msuper\u001b[39;49m(HTTPConnection, \u001b[39mself\u001b[39;49m)\u001b[39m.\u001b[39;49mrequest(method, url, body\u001b[39m=\u001b[39;49mbody, headers\u001b[39m=\u001b[39;49mheaders)\n",
      "File \u001b[1;32mC:\\Program Files\\WindowsApps\\PythonSoftwareFoundation.Python.3.10_3.10.2288.0_x64__qbz5n2kfra8p0\\lib\\http\\client.py:1282\u001b[0m, in \u001b[0;36mHTTPConnection.request\u001b[1;34m(self, method, url, body, headers, encode_chunked)\u001b[0m\n\u001b[0;32m   1281\u001b[0m \u001b[39m\"\"\"Send a complete request to the server.\"\"\"\u001b[39;00m\n\u001b[1;32m-> 1282\u001b[0m \u001b[39mself\u001b[39;49m\u001b[39m.\u001b[39;49m_send_request(method, url, body, headers, encode_chunked)\n",
      "File \u001b[1;32mC:\\Program Files\\WindowsApps\\PythonSoftwareFoundation.Python.3.10_3.10.2288.0_x64__qbz5n2kfra8p0\\lib\\http\\client.py:1328\u001b[0m, in \u001b[0;36mHTTPConnection._send_request\u001b[1;34m(self, method, url, body, headers, encode_chunked)\u001b[0m\n\u001b[0;32m   1327\u001b[0m     body \u001b[39m=\u001b[39m _encode(body, \u001b[39m'\u001b[39m\u001b[39mbody\u001b[39m\u001b[39m'\u001b[39m)\n\u001b[1;32m-> 1328\u001b[0m \u001b[39mself\u001b[39;49m\u001b[39m.\u001b[39;49mendheaders(body, encode_chunked\u001b[39m=\u001b[39;49mencode_chunked)\n",
      "File \u001b[1;32mC:\\Program Files\\WindowsApps\\PythonSoftwareFoundation.Python.3.10_3.10.2288.0_x64__qbz5n2kfra8p0\\lib\\http\\client.py:1277\u001b[0m, in \u001b[0;36mHTTPConnection.endheaders\u001b[1;34m(self, message_body, encode_chunked)\u001b[0m\n\u001b[0;32m   1276\u001b[0m     \u001b[39mraise\u001b[39;00m CannotSendHeader()\n\u001b[1;32m-> 1277\u001b[0m \u001b[39mself\u001b[39;49m\u001b[39m.\u001b[39;49m_send_output(message_body, encode_chunked\u001b[39m=\u001b[39;49mencode_chunked)\n",
      "File \u001b[1;32mC:\\Program Files\\WindowsApps\\PythonSoftwareFoundation.Python.3.10_3.10.2288.0_x64__qbz5n2kfra8p0\\lib\\http\\client.py:1037\u001b[0m, in \u001b[0;36mHTTPConnection._send_output\u001b[1;34m(self, message_body, encode_chunked)\u001b[0m\n\u001b[0;32m   1036\u001b[0m \u001b[39mdel\u001b[39;00m \u001b[39mself\u001b[39m\u001b[39m.\u001b[39m_buffer[:]\n\u001b[1;32m-> 1037\u001b[0m \u001b[39mself\u001b[39;49m\u001b[39m.\u001b[39;49msend(msg)\n\u001b[0;32m   1039\u001b[0m \u001b[39mif\u001b[39;00m message_body \u001b[39mis\u001b[39;00m \u001b[39mnot\u001b[39;00m \u001b[39mNone\u001b[39;00m:\n\u001b[0;32m   1040\u001b[0m \n\u001b[0;32m   1041\u001b[0m     \u001b[39m# create a consistent interface to message_body\u001b[39;00m\n",
      "File \u001b[1;32mC:\\Program Files\\WindowsApps\\PythonSoftwareFoundation.Python.3.10_3.10.2288.0_x64__qbz5n2kfra8p0\\lib\\http\\client.py:975\u001b[0m, in \u001b[0;36mHTTPConnection.send\u001b[1;34m(self, data)\u001b[0m\n\u001b[0;32m    974\u001b[0m \u001b[39mif\u001b[39;00m \u001b[39mself\u001b[39m\u001b[39m.\u001b[39mauto_open:\n\u001b[1;32m--> 975\u001b[0m     \u001b[39mself\u001b[39;49m\u001b[39m.\u001b[39;49mconnect()\n\u001b[0;32m    976\u001b[0m \u001b[39melse\u001b[39;00m:\n",
      "File \u001b[1;32m~\\AppData\\Local\\Packages\\PythonSoftwareFoundation.Python.3.10_qbz5n2kfra8p0\\LocalCache\\local-packages\\Python310\\site-packages\\urllib3\\connection.py:205\u001b[0m, in \u001b[0;36mHTTPConnection.connect\u001b[1;34m(self)\u001b[0m\n\u001b[0;32m    204\u001b[0m \u001b[39mdef\u001b[39;00m \u001b[39mconnect\u001b[39m(\u001b[39mself\u001b[39m):\n\u001b[1;32m--> 205\u001b[0m     conn \u001b[39m=\u001b[39m \u001b[39mself\u001b[39;49m\u001b[39m.\u001b[39;49m_new_conn()\n\u001b[0;32m    206\u001b[0m     \u001b[39mself\u001b[39m\u001b[39m.\u001b[39m_prepare_conn(conn)\n",
      "File \u001b[1;32m~\\AppData\\Local\\Packages\\PythonSoftwareFoundation.Python.3.10_qbz5n2kfra8p0\\LocalCache\\local-packages\\Python310\\site-packages\\urllib3\\connection.py:179\u001b[0m, in \u001b[0;36mHTTPConnection._new_conn\u001b[1;34m(self)\u001b[0m\n\u001b[0;32m    178\u001b[0m \u001b[39mexcept\u001b[39;00m SocketTimeout:\n\u001b[1;32m--> 179\u001b[0m     \u001b[39mraise\u001b[39;00m ConnectTimeoutError(\n\u001b[0;32m    180\u001b[0m         \u001b[39mself\u001b[39m,\n\u001b[0;32m    181\u001b[0m         \u001b[39m\"\u001b[39m\u001b[39mConnection to \u001b[39m\u001b[39m%s\u001b[39;00m\u001b[39m timed out. (connect timeout=\u001b[39m\u001b[39m%s\u001b[39;00m\u001b[39m)\u001b[39m\u001b[39m\"\u001b[39m\n\u001b[0;32m    182\u001b[0m         \u001b[39m%\u001b[39m (\u001b[39mself\u001b[39m\u001b[39m.\u001b[39mhost, \u001b[39mself\u001b[39m\u001b[39m.\u001b[39mtimeout),\n\u001b[0;32m    183\u001b[0m     )\n\u001b[0;32m    185\u001b[0m \u001b[39mexcept\u001b[39;00m SocketError \u001b[39mas\u001b[39;00m e:\n",
      "\u001b[1;31mConnectTimeoutError\u001b[0m: (<urllib3.connection.HTTPConnection object at 0x0000021C04038100>, 'Connection to www.twse.com.tw timed out. (connect timeout=None)')",
      "\nDuring handling of the above exception, another exception occurred:\n",
      "\u001b[1;31mMaxRetryError\u001b[0m                             Traceback (most recent call last)",
      "File \u001b[1;32m~\\AppData\\Local\\Packages\\PythonSoftwareFoundation.Python.3.10_qbz5n2kfra8p0\\LocalCache\\local-packages\\Python310\\site-packages\\requests\\adapters.py:489\u001b[0m, in \u001b[0;36mHTTPAdapter.send\u001b[1;34m(self, request, stream, timeout, verify, cert, proxies)\u001b[0m\n\u001b[0;32m    488\u001b[0m \u001b[39mif\u001b[39;00m \u001b[39mnot\u001b[39;00m chunked:\n\u001b[1;32m--> 489\u001b[0m     resp \u001b[39m=\u001b[39m conn\u001b[39m.\u001b[39;49murlopen(\n\u001b[0;32m    490\u001b[0m         method\u001b[39m=\u001b[39;49mrequest\u001b[39m.\u001b[39;49mmethod,\n\u001b[0;32m    491\u001b[0m         url\u001b[39m=\u001b[39;49murl,\n\u001b[0;32m    492\u001b[0m         body\u001b[39m=\u001b[39;49mrequest\u001b[39m.\u001b[39;49mbody,\n\u001b[0;32m    493\u001b[0m         headers\u001b[39m=\u001b[39;49mrequest\u001b[39m.\u001b[39;49mheaders,\n\u001b[0;32m    494\u001b[0m         redirect\u001b[39m=\u001b[39;49m\u001b[39mFalse\u001b[39;49;00m,\n\u001b[0;32m    495\u001b[0m         assert_same_host\u001b[39m=\u001b[39;49m\u001b[39mFalse\u001b[39;49;00m,\n\u001b[0;32m    496\u001b[0m         preload_content\u001b[39m=\u001b[39;49m\u001b[39mFalse\u001b[39;49;00m,\n\u001b[0;32m    497\u001b[0m         decode_content\u001b[39m=\u001b[39;49m\u001b[39mFalse\u001b[39;49;00m,\n\u001b[0;32m    498\u001b[0m         retries\u001b[39m=\u001b[39;49m\u001b[39mself\u001b[39;49m\u001b[39m.\u001b[39;49mmax_retries,\n\u001b[0;32m    499\u001b[0m         timeout\u001b[39m=\u001b[39;49mtimeout,\n\u001b[0;32m    500\u001b[0m     )\n\u001b[0;32m    502\u001b[0m \u001b[39m# Send the request.\u001b[39;00m\n\u001b[0;32m    503\u001b[0m \u001b[39melse\u001b[39;00m:\n",
      "File \u001b[1;32m~\\AppData\\Local\\Packages\\PythonSoftwareFoundation.Python.3.10_qbz5n2kfra8p0\\LocalCache\\local-packages\\Python310\\site-packages\\urllib3\\connectionpool.py:787\u001b[0m, in \u001b[0;36mHTTPConnectionPool.urlopen\u001b[1;34m(self, method, url, body, headers, retries, redirect, assert_same_host, timeout, pool_timeout, release_conn, chunked, body_pos, **response_kw)\u001b[0m\n\u001b[0;32m    785\u001b[0m     e \u001b[39m=\u001b[39m ProtocolError(\u001b[39m\"\u001b[39m\u001b[39mConnection aborted.\u001b[39m\u001b[39m\"\u001b[39m, e)\n\u001b[1;32m--> 787\u001b[0m retries \u001b[39m=\u001b[39m retries\u001b[39m.\u001b[39;49mincrement(\n\u001b[0;32m    788\u001b[0m     method, url, error\u001b[39m=\u001b[39;49me, _pool\u001b[39m=\u001b[39;49m\u001b[39mself\u001b[39;49m, _stacktrace\u001b[39m=\u001b[39;49msys\u001b[39m.\u001b[39;49mexc_info()[\u001b[39m2\u001b[39;49m]\n\u001b[0;32m    789\u001b[0m )\n\u001b[0;32m    790\u001b[0m retries\u001b[39m.\u001b[39msleep()\n",
      "File \u001b[1;32m~\\AppData\\Local\\Packages\\PythonSoftwareFoundation.Python.3.10_qbz5n2kfra8p0\\LocalCache\\local-packages\\Python310\\site-packages\\urllib3\\util\\retry.py:592\u001b[0m, in \u001b[0;36mRetry.increment\u001b[1;34m(self, method, url, response, error, _pool, _stacktrace)\u001b[0m\n\u001b[0;32m    591\u001b[0m \u001b[39mif\u001b[39;00m new_retry\u001b[39m.\u001b[39mis_exhausted():\n\u001b[1;32m--> 592\u001b[0m     \u001b[39mraise\u001b[39;00m MaxRetryError(_pool, url, error \u001b[39mor\u001b[39;00m ResponseError(cause))\n\u001b[0;32m    594\u001b[0m log\u001b[39m.\u001b[39mdebug(\u001b[39m\"\u001b[39m\u001b[39mIncremented Retry for (url=\u001b[39m\u001b[39m'\u001b[39m\u001b[39m%s\u001b[39;00m\u001b[39m'\u001b[39m\u001b[39m): \u001b[39m\u001b[39m%r\u001b[39;00m\u001b[39m\"\u001b[39m, url, new_retry)\n",
      "\u001b[1;31mMaxRetryError\u001b[0m: HTTPConnectionPool(host='www.twse.com.tw', port=80): Max retries exceeded with url: /exchangeReport/STOCK_DAY?date=20220901&stockNo=2317 (Caused by ConnectTimeoutError(<urllib3.connection.HTTPConnection object at 0x0000021C04038100>, 'Connection to www.twse.com.tw timed out. (connect timeout=None)'))",
      "\nDuring handling of the above exception, another exception occurred:\n",
      "\u001b[1;31mConnectTimeout\u001b[0m                            Traceback (most recent call last)",
      "Cell \u001b[1;32mIn [27], line 38\u001b[0m\n\u001b[0;32m     35\u001b[0m \u001b[39mprint\u001b[39m(\u001b[39m'\u001b[39m\u001b[39m程式開始執行！\u001b[39m\u001b[39m'\u001b[39m)\n\u001b[0;32m     37\u001b[0m \u001b[39mwhile\u001b[39;00m \u001b[39mTrue\u001b[39;00m:\n\u001b[1;32m---> 38\u001b[0m     stock \u001b[39m=\u001b[39m twstock\u001b[39m.\u001b[39;49mStock(\u001b[39m'\u001b[39;49m\u001b[39m2317\u001b[39;49m\u001b[39m'\u001b[39;49m)\n\u001b[0;32m     39\u001b[0m     realprice \u001b[39m=\u001b[39m stock\u001b[39m.\u001b[39mprice[\u001b[39m-\u001b[39m\u001b[39m1\u001b[39m]\n\u001b[0;32m     40\u001b[0m     \u001b[39mprint\u001b[39m(realprice)\n",
      "File \u001b[1;32m~\\AppData\\Local\\Packages\\PythonSoftwareFoundation.Python.3.10_qbz5n2kfra8p0\\LocalCache\\local-packages\\Python310\\site-packages\\twstock\\stock.py:154\u001b[0m, in \u001b[0;36mStock.__init__\u001b[1;34m(self, sid, initial_fetch)\u001b[0m\n\u001b[0;32m    152\u001b[0m \u001b[39m# Init data\u001b[39;00m\n\u001b[0;32m    153\u001b[0m \u001b[39mif\u001b[39;00m initial_fetch:\n\u001b[1;32m--> 154\u001b[0m     \u001b[39mself\u001b[39;49m\u001b[39m.\u001b[39;49mfetch_31()\n",
      "File \u001b[1;32m~\\AppData\\Local\\Packages\\PythonSoftwareFoundation.Python.3.10_qbz5n2kfra8p0\\LocalCache\\local-packages\\Python310\\site-packages\\twstock\\stock.py:183\u001b[0m, in \u001b[0;36mStock.fetch_31\u001b[1;34m(self)\u001b[0m\n\u001b[0;32m    181\u001b[0m today \u001b[39m=\u001b[39m datetime\u001b[39m.\u001b[39mdatetime\u001b[39m.\u001b[39mtoday()\n\u001b[0;32m    182\u001b[0m before \u001b[39m=\u001b[39m today \u001b[39m-\u001b[39m datetime\u001b[39m.\u001b[39mtimedelta(days\u001b[39m=\u001b[39m\u001b[39m60\u001b[39m)\n\u001b[1;32m--> 183\u001b[0m \u001b[39mself\u001b[39;49m\u001b[39m.\u001b[39;49mfetch_from(before\u001b[39m.\u001b[39;49myear, before\u001b[39m.\u001b[39;49mmonth)\n\u001b[0;32m    184\u001b[0m \u001b[39mself\u001b[39m\u001b[39m.\u001b[39mdata \u001b[39m=\u001b[39m \u001b[39mself\u001b[39m\u001b[39m.\u001b[39mdata[\u001b[39m-\u001b[39m\u001b[39m31\u001b[39m:]\n\u001b[0;32m    185\u001b[0m \u001b[39mreturn\u001b[39;00m \u001b[39mself\u001b[39m\u001b[39m.\u001b[39mdata\n",
      "File \u001b[1;32m~\\AppData\\Local\\Packages\\PythonSoftwareFoundation.Python.3.10_qbz5n2kfra8p0\\LocalCache\\local-packages\\Python310\\site-packages\\twstock\\stock.py:175\u001b[0m, in \u001b[0;36mStock.fetch_from\u001b[1;34m(self, year, month)\u001b[0m\n\u001b[0;32m    173\u001b[0m today \u001b[39m=\u001b[39m datetime\u001b[39m.\u001b[39mdatetime\u001b[39m.\u001b[39mtoday()\n\u001b[0;32m    174\u001b[0m \u001b[39mfor\u001b[39;00m year, month \u001b[39min\u001b[39;00m \u001b[39mself\u001b[39m\u001b[39m.\u001b[39m_month_year_iter(month, year, today\u001b[39m.\u001b[39mmonth, today\u001b[39m.\u001b[39myear):\n\u001b[1;32m--> 175\u001b[0m     \u001b[39mself\u001b[39m\u001b[39m.\u001b[39mraw_data\u001b[39m.\u001b[39mappend(\u001b[39mself\u001b[39;49m\u001b[39m.\u001b[39;49mfetcher\u001b[39m.\u001b[39;49mfetch(year, month, \u001b[39mself\u001b[39;49m\u001b[39m.\u001b[39;49msid))\n\u001b[0;32m    176\u001b[0m     \u001b[39mself\u001b[39m\u001b[39m.\u001b[39mdata\u001b[39m.\u001b[39mextend(\u001b[39mself\u001b[39m\u001b[39m.\u001b[39mraw_data[\u001b[39m-\u001b[39m\u001b[39m1\u001b[39m][\u001b[39m'\u001b[39m\u001b[39mdata\u001b[39m\u001b[39m'\u001b[39m])\n\u001b[0;32m    177\u001b[0m \u001b[39mreturn\u001b[39;00m \u001b[39mself\u001b[39m\u001b[39m.\u001b[39mdata\n",
      "File \u001b[1;32m~\\AppData\\Local\\Packages\\PythonSoftwareFoundation.Python.3.10_qbz5n2kfra8p0\\LocalCache\\local-packages\\Python310\\site-packages\\twstock\\stock.py:58\u001b[0m, in \u001b[0;36mTWSEFetcher.fetch\u001b[1;34m(self, year, month, sid, retry)\u001b[0m\n\u001b[0;32m     56\u001b[0m params \u001b[39m=\u001b[39m {\u001b[39m'\u001b[39m\u001b[39mdate\u001b[39m\u001b[39m'\u001b[39m: \u001b[39m'\u001b[39m\u001b[39m%d\u001b[39;00m\u001b[39m%02d\u001b[39;00m\u001b[39m01\u001b[39m\u001b[39m'\u001b[39m \u001b[39m%\u001b[39m (year, month), \u001b[39m'\u001b[39m\u001b[39mstockNo\u001b[39m\u001b[39m'\u001b[39m: sid}\n\u001b[0;32m     57\u001b[0m \u001b[39mfor\u001b[39;00m retry_i \u001b[39min\u001b[39;00m \u001b[39mrange\u001b[39m(retry):\n\u001b[1;32m---> 58\u001b[0m     r \u001b[39m=\u001b[39m requests\u001b[39m.\u001b[39;49mget(\u001b[39mself\u001b[39;49m\u001b[39m.\u001b[39;49mREPORT_URL, params\u001b[39m=\u001b[39;49mparams,\n\u001b[0;32m     59\u001b[0m                      proxies\u001b[39m=\u001b[39;49mget_proxies())\n\u001b[0;32m     60\u001b[0m     \u001b[39mtry\u001b[39;00m:\n\u001b[0;32m     61\u001b[0m         data \u001b[39m=\u001b[39m r\u001b[39m.\u001b[39mjson()\n",
      "File \u001b[1;32m~\\AppData\\Local\\Packages\\PythonSoftwareFoundation.Python.3.10_qbz5n2kfra8p0\\LocalCache\\local-packages\\Python310\\site-packages\\requests\\api.py:73\u001b[0m, in \u001b[0;36mget\u001b[1;34m(url, params, **kwargs)\u001b[0m\n\u001b[0;32m     62\u001b[0m \u001b[39mdef\u001b[39;00m \u001b[39mget\u001b[39m(url, params\u001b[39m=\u001b[39m\u001b[39mNone\u001b[39;00m, \u001b[39m*\u001b[39m\u001b[39m*\u001b[39mkwargs):\n\u001b[0;32m     63\u001b[0m     \u001b[39mr\u001b[39m\u001b[39m\"\"\"Sends a GET request.\u001b[39;00m\n\u001b[0;32m     64\u001b[0m \n\u001b[0;32m     65\u001b[0m \u001b[39m    :param url: URL for the new :class:`Request` object.\u001b[39;00m\n\u001b[1;32m   (...)\u001b[0m\n\u001b[0;32m     70\u001b[0m \u001b[39m    :rtype: requests.Response\u001b[39;00m\n\u001b[0;32m     71\u001b[0m \u001b[39m    \"\"\"\u001b[39;00m\n\u001b[1;32m---> 73\u001b[0m     \u001b[39mreturn\u001b[39;00m request(\u001b[39m\"\u001b[39m\u001b[39mget\u001b[39m\u001b[39m\"\u001b[39m, url, params\u001b[39m=\u001b[39mparams, \u001b[39m*\u001b[39m\u001b[39m*\u001b[39mkwargs)\n",
      "File \u001b[1;32m~\\AppData\\Local\\Packages\\PythonSoftwareFoundation.Python.3.10_qbz5n2kfra8p0\\LocalCache\\local-packages\\Python310\\site-packages\\requests\\api.py:59\u001b[0m, in \u001b[0;36mrequest\u001b[1;34m(method, url, **kwargs)\u001b[0m\n\u001b[0;32m     55\u001b[0m \u001b[39m# By using the 'with' statement we are sure the session is closed, thus we\u001b[39;00m\n\u001b[0;32m     56\u001b[0m \u001b[39m# avoid leaving sockets open which can trigger a ResourceWarning in some\u001b[39;00m\n\u001b[0;32m     57\u001b[0m \u001b[39m# cases, and look like a memory leak in others.\u001b[39;00m\n\u001b[0;32m     58\u001b[0m \u001b[39mwith\u001b[39;00m sessions\u001b[39m.\u001b[39mSession() \u001b[39mas\u001b[39;00m session:\n\u001b[1;32m---> 59\u001b[0m     \u001b[39mreturn\u001b[39;00m session\u001b[39m.\u001b[39mrequest(method\u001b[39m=\u001b[39mmethod, url\u001b[39m=\u001b[39murl, \u001b[39m*\u001b[39m\u001b[39m*\u001b[39mkwargs)\n",
      "File \u001b[1;32m~\\AppData\\Local\\Packages\\PythonSoftwareFoundation.Python.3.10_qbz5n2kfra8p0\\LocalCache\\local-packages\\Python310\\site-packages\\requests\\sessions.py:587\u001b[0m, in \u001b[0;36mSession.request\u001b[1;34m(self, method, url, params, data, headers, cookies, files, auth, timeout, allow_redirects, proxies, hooks, stream, verify, cert, json)\u001b[0m\n\u001b[0;32m    582\u001b[0m send_kwargs \u001b[39m=\u001b[39m {\n\u001b[0;32m    583\u001b[0m     \u001b[39m\"\u001b[39m\u001b[39mtimeout\u001b[39m\u001b[39m\"\u001b[39m: timeout,\n\u001b[0;32m    584\u001b[0m     \u001b[39m\"\u001b[39m\u001b[39mallow_redirects\u001b[39m\u001b[39m\"\u001b[39m: allow_redirects,\n\u001b[0;32m    585\u001b[0m }\n\u001b[0;32m    586\u001b[0m send_kwargs\u001b[39m.\u001b[39mupdate(settings)\n\u001b[1;32m--> 587\u001b[0m resp \u001b[39m=\u001b[39m \u001b[39mself\u001b[39m\u001b[39m.\u001b[39msend(prep, \u001b[39m*\u001b[39m\u001b[39m*\u001b[39msend_kwargs)\n\u001b[0;32m    589\u001b[0m \u001b[39mreturn\u001b[39;00m resp\n",
      "File \u001b[1;32m~\\AppData\\Local\\Packages\\PythonSoftwareFoundation.Python.3.10_qbz5n2kfra8p0\\LocalCache\\local-packages\\Python310\\site-packages\\requests\\sessions.py:701\u001b[0m, in \u001b[0;36mSession.send\u001b[1;34m(self, request, **kwargs)\u001b[0m\n\u001b[0;32m    698\u001b[0m start \u001b[39m=\u001b[39m preferred_clock()\n\u001b[0;32m    700\u001b[0m \u001b[39m# Send the request\u001b[39;00m\n\u001b[1;32m--> 701\u001b[0m r \u001b[39m=\u001b[39m adapter\u001b[39m.\u001b[39msend(request, \u001b[39m*\u001b[39m\u001b[39m*\u001b[39mkwargs)\n\u001b[0;32m    703\u001b[0m \u001b[39m# Total elapsed time of the request (approximately)\u001b[39;00m\n\u001b[0;32m    704\u001b[0m elapsed \u001b[39m=\u001b[39m preferred_clock() \u001b[39m-\u001b[39m start\n",
      "File \u001b[1;32m~\\AppData\\Local\\Packages\\PythonSoftwareFoundation.Python.3.10_qbz5n2kfra8p0\\LocalCache\\local-packages\\Python310\\site-packages\\requests\\adapters.py:553\u001b[0m, in \u001b[0;36mHTTPAdapter.send\u001b[1;34m(self, request, stream, timeout, verify, cert, proxies)\u001b[0m\n\u001b[0;32m    550\u001b[0m \u001b[39mif\u001b[39;00m \u001b[39misinstance\u001b[39m(e\u001b[39m.\u001b[39mreason, ConnectTimeoutError):\n\u001b[0;32m    551\u001b[0m     \u001b[39m# TODO: Remove this in 3.0.0: see #2811\u001b[39;00m\n\u001b[0;32m    552\u001b[0m     \u001b[39mif\u001b[39;00m \u001b[39mnot\u001b[39;00m \u001b[39misinstance\u001b[39m(e\u001b[39m.\u001b[39mreason, NewConnectionError):\n\u001b[1;32m--> 553\u001b[0m         \u001b[39mraise\u001b[39;00m ConnectTimeout(e, request\u001b[39m=\u001b[39mrequest)\n\u001b[0;32m    555\u001b[0m \u001b[39mif\u001b[39;00m \u001b[39misinstance\u001b[39m(e\u001b[39m.\u001b[39mreason, ResponseError):\n\u001b[0;32m    556\u001b[0m     \u001b[39mraise\u001b[39;00m RetryError(e, request\u001b[39m=\u001b[39mrequest)\n",
      "\u001b[1;31mConnectTimeout\u001b[0m: HTTPConnectionPool(host='www.twse.com.tw', port=80): Max retries exceeded with url: /exchangeReport/STOCK_DAY?date=20220901&stockNo=2317 (Caused by ConnectTimeoutError(<urllib3.connection.HTTPConnection object at 0x0000021C04038100>, 'Connection to www.twse.com.tw timed out. (connect timeout=None)'))"
     ]
    }
   ],
   "source": [
    "# 使用LINE監控收盤價\n",
    "# 修正的版本：使用 stock.price[-1] 收盤價代替\n",
    "import twstock\n",
    "import time\n",
    "import requests\n",
    "\n",
    "def lineNotify(token, msg):\n",
    "    headers = {\n",
    "        \"Authorization\": \"Bearer \" + token, \n",
    "        \"Content-Type\" : \"application/x-www-form-urlencoded\"\n",
    "    }\n",
    "\n",
    "    payload = {'message': msg}\n",
    "    notify = requests.post(\"https://notify-api.line.me/api/notify\", headers = headers, params = payload)\n",
    "    return notify.status_code\n",
    "\n",
    "def sendline(mode, realprice, counterLine, token):\n",
    "    print('鴻海目前股價：' + str(realprice))\n",
    "    if mode == 1:\n",
    "        message = '現在鴻海股價為 ' + str(realprice) + '元，可以賣出股票了！'\n",
    "    else:\n",
    "        message = '現在鴻海股價為 ' + str(realprice) + '元，可以買入股票了！'\n",
    "    code = lineNotify(token, message)\n",
    "    if code == 200:\n",
    "        counterLine = counterLine + 1\n",
    "        print('第 ' + str(counterLine) + ' 次發送 LINE 訊息。')\n",
    "    else:\n",
    "        print('發送 LINE 訊息失敗！')\n",
    "    return counterLine\n",
    "\n",
    "token = 'DqGAEw0Atzewk5QixMp7EiIRbiekWbAmNdIVgoMQutQ'  #權杖\n",
    "counterLine = 0  #儲存發送次數\n",
    "counterError = 0  #儲存錯誤次數\n",
    "\n",
    "print('程式開始執行！')\n",
    "\n",
    "while True:\n",
    "    stock = twstock.Stock('2317')\n",
    "    realprice = stock.price[-1]\n",
    "    print(realprice)\n",
    "    try:\n",
    "        if float(realprice) >= 100:\n",
    "            counterLine = sendline(1, realprice, counterLine, token)\n",
    "        elif float(realprice) <= 90:\n",
    "            counterLine = sendline(2, realprice, counterLine, token)\n",
    "        if counterLine >= 3:  #最多發送3次就結束程式\n",
    "            print('程式結束！')\n",
    "            break\n",
    "\n",
    "    except:\n",
    "        print('twstock 讀取錯誤!')\n",
    "        counterError = counterError + 1\n",
    "        if counterError >= 3:  #最多錯誤3次\n",
    "            print('程式結束！')\n",
    "            break\n",
    "    for i in range(10):  #每5秒分鐘讀一次\n",
    "        time.sleep(1)     "
   ]
  }
 ],
 "metadata": {
  "kernelspec": {
   "display_name": "Python 3.10.8 64-bit (microsoft store)",
   "language": "python",
   "name": "python3"
  },
  "language_info": {
   "codemirror_mode": {
    "name": "ipython",
    "version": 3
   },
   "file_extension": ".py",
   "mimetype": "text/x-python",
   "name": "python",
   "nbconvert_exporter": "python",
   "pygments_lexer": "ipython3",
   "version": "3.10.8"
  },
  "orig_nbformat": 4,
  "vscode": {
   "interpreter": {
    "hash": "a3327f818e0a4ba18f1f384c03713ec02db81d5f9f9e6316f52b1fec9cb18330"
   }
  }
 },
 "nbformat": 4,
 "nbformat_minor": 2
}
