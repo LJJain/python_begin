{
 "cells": [
  {
   "cell_type": "markdown",
   "metadata": {},
   "source": [
    "## 編輯器 \n",
    "- 標題 : 用#\n",
    "1. 編號一\n",
    "2. 編號二\n",
    "\n",
    "內文\n",
    "\n",
    "* 標示\n",
    "- 標示\n",
    "\n"
   ]
  },
  {
   "cell_type": "markdown",
   "metadata": {},
   "source": [
    ">段落(強迫分行:兩個空白鍵)  \n",
    "段落測試\n",
    "\n"
   ]
  },
  {
   "cell_type": "markdown",
   "metadata": {},
   "source": [
    ">程式碼區塊\n",
    "- 方法一\n",
    "```Python\n",
    "print(\"hello world\")\n",
    "print(\"hello world\")\n",
    "```\n",
    "- 方法二(Tab):\n",
    "\n",
    "        if(a+b>c){\n",
    "            a=a+b\n",
    "        }\n",
    "        print(\"hello world\")\n",
    "        print(\"hello world\")\n"
   ]
  },
  {
   "cell_type": "markdown",
   "metadata": {},
   "source": [
    ">段落分隔\n",
    "---\n"
   ]
  },
  {
   "cell_type": "markdown",
   "metadata": {},
   "source": [
    ">加粗/斜體\n",
    "- *斜體*\n",
    "- **加粗**\n",
    "- ***粗斜體***\n",
    "- `灰體`\n",
    "\n"
   ]
  },
  {
   "cell_type": "markdown",
   "metadata": {},
   "source": [
    ">超連結\n",
    "- 直接打上網址 : http://www.google.com/\n",
    "- [Google網站](http://www.google.com)\n"
   ]
  },
  {
   "cell_type": "markdown",
   "metadata": {},
   "source": [
    ">圖片\n",
    "- ![Google](https://www.google.com.tw/images/branding/googlelogo/1x/googlelogo_color_272x92dp.png)\n",
    "- [![Google](https://www.google.com.tw/images/branding/googlelogo/1x/googlelogo_color_272x92dp.png)](https://www.google.com.tw/ \"註解\")\n"
   ]
  },
  {
   "cell_type": "markdown",
   "metadata": {},
   "source": [
    "> 快捷鍵\n",
    "- A : 上加一欄\n",
    "- B : 下加一欄\n",
    "- M : MarkDown\n",
    "- D : Delete\n",
    "- Enter : 進入編輯\n",
    "- ESC : 跳出編輯"
   ]
  }
 ],
 "metadata": {
  "kernelspec": {
   "display_name": "Python 3.10.5 64-bit",
   "language": "python",
   "name": "python3"
  },
  "language_info": {
   "codemirror_mode": {
    "name": "ipython",
    "version": 3
   },
   "file_extension": ".py",
   "mimetype": "text/x-python",
   "name": "python",
   "nbconvert_exporter": "python",
   "pygments_lexer": "ipython3",
   "version": "3.10.5"
  },
  "orig_nbformat": 4,
  "vscode": {
   "interpreter": {
    "hash": "a7a0c7c9347e9e185eee34cf88d7643fe7d6acaa7b9656353bf5f95484913cf5"
   }
  }
 },
 "nbformat": 4,
 "nbformat_minor": 2
}
