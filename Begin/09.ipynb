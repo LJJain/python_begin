{
 "cells": [
  {
   "cell_type": "markdown",
   "metadata": {},
   "source": [
    "# 一、 資料預處理"
   ]
  },
  {
   "cell_type": "markdown",
   "metadata": {},
   "source": [
    "### 資料預處理"
   ]
  },
  {
   "cell_type": "code",
   "execution_count": null,
   "metadata": {},
   "outputs": [],
   "source": [
    "# !gdown 'google drive ID' --output filename.zip\n",
    "# !unzip filename.zip"
   ]
  },
  {
   "cell_type": "code",
   "execution_count": null,
   "metadata": {},
   "outputs": [],
   "source": [
    "import pandas as pd\n",
    "\n",
    "df = pd.read_csv('汽車車型資料檔.csv') # read data\n",
    "df\n",
    "\n",
    "df1 = df.iloc[:, 1:-1]  # 去除非數值的行\n",
    "df1"
   ]
  },
  {
   "cell_type": "code",
   "execution_count": null,
   "metadata": {},
   "outputs": [],
   "source": [
    "# Z分數標準化\n",
    "# !pip install scikit-learn\n",
    "from sklearn.preprocessing import StandardScaler    # 載入模組\n",
    "std = StandardScaler()\n",
    "arr = std.fit_transform(df1)\n",
    "arr"
   ]
  },
  {
   "cell_type": "code",
   "execution_count": null,
   "metadata": {},
   "outputs": [],
   "source": [
    "# 最大最小值標準化\n",
    "from sklearn.preprocessing import MinMaxScaler\n",
    "std = MinMaxScaler()\n",
    "arr = std.fit_transform(df1)\n",
    "arr"
   ]
  },
  {
   "cell_type": "markdown",
   "metadata": {},
   "source": [
    "### 非數值資料轉換"
   ]
  },
  {
   "cell_type": "code",
   "execution_count": null,
   "metadata": {},
   "outputs": [],
   "source": [
    "# 1. 對應字典法\n",
    "import pandas as pd\n",
    "\n",
    "df = pd.read_csv('客戶聯絡狀況資料檔.csv') # read data\n",
    "# df\n",
    "\n",
    "df['婚姻'].unique() # 顯示類別\n",
    "dict1 = {'單身':0, '已婚':1, '未知':2, '離婚':3}\n",
    "df['婚姻'].replace(dict1, inplace=True) \n",
    "df"
   ]
  },
  {
   "cell_type": "code",
   "execution_count": null,
   "metadata": {},
   "outputs": [],
   "source": [
    "# 2. 標籤編碼法\n",
    "from sklearn.preprocessing import LabelEncoder\n",
    "\n",
    "df['工作'].unique()\n",
    "label1 = LabelEncoder()\n",
    "# 標籤欄位 = 標籤物件.fit_transform(DataFrame欄位)\n",
    "df['工作'] = label1.fit_transform(df['工作'])\n",
    "df"
   ]
  },
  {
   "cell_type": "code",
   "execution_count": null,
   "metadata": {},
   "outputs": [],
   "source": [
    "# 查詢轉換後數值代表特徵值\n",
    "# 標籤物件.classes_\n",
    "# labelname = label1.classes_\n",
    "label1.classes_"
   ]
  },
  {
   "cell_type": "code",
   "execution_count": null,
   "metadata": {},
   "outputs": [],
   "source": [
    "# 3. one-Hot 編碼法\n",
    "# df['訂購'].unique()\n",
    "\n",
    "# 先轉標籤，再轉One-Hot，但不轉標籤也能用One-Hot\n",
    "from sklearn.preprocessing import LabelEncoder\n",
    "label1 = LabelEncoder()\n",
    "df['訂購'] = label1.fit_transform(df['訂購'])\n",
    "df"
   ]
  },
  {
   "cell_type": "code",
   "execution_count": null,
   "metadata": {},
   "outputs": [],
   "source": [
    "from sklearn.preprocessing import OneHotEncoder\n",
    "# onehot物件 = OneHotEncoder(sparse=布林值)\n",
    "onehot = OneHotEncoder(sparse=False) # sparse占記憶體較小，但不易懂\n",
    "arr = onehot.fit_transform(df[['訂購']]) # DataFrame要放「二維陣列」\n",
    "arr"
   ]
  },
  {
   "cell_type": "markdown",
   "metadata": {},
   "source": [
    "# 二、 機器學習\n",
    "\n",
    "> 01. 監督式學習: K近鄰、 單純貝氏分類、 決策樹\n",
    "\n",
    "- 分類: 目標值不是連續值，例如能預測用戶是否能得到貸款\n",
    "\n",
    "- 回歸: 目標值是連續值，例如能預測能得到多少貸款金額\n",
    "\n",
    "> 02. 非監督式學習: K-means、DBSCAN"
   ]
  },
  {
   "cell_type": "markdown",
   "metadata": {},
   "source": [
    "### K-means 演算法"
   ]
  },
  {
   "cell_type": "code",
   "execution_count": null,
   "metadata": {},
   "outputs": [],
   "source": [
    "import pandas as pd\n",
    "df = pd.read_csv('customer.csv')\n",
    "df"
   ]
  },
  {
   "cell_type": "code",
   "execution_count": null,
   "metadata": {},
   "outputs": [],
   "source": [
    "dict1 = {\"男\" : 1, \"女\" : 2}\n",
    "df['性別'].replace(dict1, inplace = True)\n",
    "df"
   ]
  },
  {
   "cell_type": "code",
   "execution_count": null,
   "metadata": {},
   "outputs": [],
   "source": [
    "# 加入分群結果\n",
    "from sklearn.cluster import KMeans\n",
    "# KMeans變數 = KMeans(n_clusters= 數值) # n_clusters:分成幾群\n",
    "km = KMeans(n_clusters=3)\n",
    "# KMeans變數.fit(訓練資料)\n",
    "km.fit(df)\n",
    "\n",
    "# 分群結果\n",
    "km.labels_\n",
    "\n",
    "# 加入分群結果\n",
    "df['類別'] = km.labels_\n",
    "df"
   ]
  },
  {
   "cell_type": "code",
   "execution_count": null,
   "metadata": {},
   "outputs": [],
   "source": [
    "# 解讀各群組資料\n",
    "df1 = df[df['類別'] == 0]\n",
    "df1.iloc[:25, :] #只顯示25筆符合資料，整列\n",
    "# 收入偏高/消費指數偏高 --> VIP"
   ]
  },
  {
   "cell_type": "code",
   "execution_count": null,
   "metadata": {},
   "outputs": [],
   "source": [
    "df2 = df[df['類別'] == 1]\n",
    "df2.iloc[:25, :]\n",
    "# 收入無明顯之分/消費指數偏低 --> 普通人 or 對此商店物品不滿意者"
   ]
  },
  {
   "cell_type": "code",
   "execution_count": null,
   "metadata": {},
   "outputs": [],
   "source": [
    "df3 = df[df['類別'] == 2]\n",
    "df3.iloc[:25, :]\n",
    "# 收入偏中低/消費指數偏高 --> 熱愛此商店的消費者(有潛力)"
   ]
  },
  {
   "cell_type": "code",
   "execution_count": null,
   "metadata": {},
   "outputs": [],
   "source": [
    "# 評估分群效果\n",
    "from sklearn.metrics import calinski_harabasz_score\n",
    "for n in range(2,15):\n",
    "    km = KMeans(n_clusters=n) #分n群\n",
    "    km.fit(df)\n",
    "    metric = calinski_harabasz_score(df, km.labels_)\n",
    "    print(f'群組數量：{n}，評分：{metric}')\n",
    "# 分數越高 分群效果越好"
   ]
  },
  {
   "cell_type": "markdown",
   "metadata": {},
   "source": [
    "### K近鄰演算法\n",
    "- 簡稱: KNN"
   ]
  },
  {
   "cell_type": "code",
   "execution_count": null,
   "metadata": {},
   "outputs": [],
   "source": [
    "#參考資料\n",
    "\n",
    "# https://ithelp.ithome.com.tw/articles/10186473\n",
    "# http://yann.lecun.com/exdb/mnist/\n",
    "# https://stackoverflow.com/questions/62210186/from-tensorflow-examples-tutorials-mnist-not-working-in-google-colab\n",
    "# https://www.codegrepper.com/code-examples/whatever/No+module+named+%27tensorflow.examples.tutorials%27+in+google+colab\n",
    "# https://www.codegrepper.com/code-examples/shell/ModuleNotFoundError%3A+No+module+named+%27tensorflow.examples%27\n",
    "# https://github.com/tensorflow/tensorflow\n",
    "# https://github.com/tensorflow/tensorflow/issues/32790\n",
    "# https://blog.csdn.net/weixin_41663570/article/details/102512468\n",
    "# https://sweetornotspicymarathon.medium.com/tesorflow-keras-%E5%AD%B8%E7%BF%92%E7%AD%86%E8%A8%98-%E6%96%B0%E6%89%8B%E4%B8%80%E5%AE%9A%E8%A6%81%E7%8E%A9%E7%9A%84mnist%E6%89%8B%E5%AF%AB%E6%95%B8%E5%AD%97%E8%BE%A8%E8%AD%98-9327366cc838\n",
    "\n",
    "# https://steam.oxxostudio.tw/category/python/example/image-conversion.html\n",
    "# https://steam.oxxostudio.tw/category/python/example/matplotlib-save-image.html\n",
    "# https://www.delftstack.com/zh-tw/howto/matplotlib/how-to-change-the-figure-size-in-matplotlib/"
   ]
  },
  {
   "cell_type": "code",
   "execution_count": null,
   "metadata": {},
   "outputs": [],
   "source": [
    "# !pip install --ignore-installed --upgrade tensorflow\n",
    "\n",
    "# !pip install mnist\n",
    "# import mnist\n",
    "# train_images = mnist.train_images() \n",
    "# train_labels = mnist.train_labels()\n",
    "# test_images = mnist.test_images()\n",
    "# test_labels = mnist.test_labels()\n",
    "\n",
    "# !git clone https://github.com/tensorflow/tensorflow.git"
   ]
  },
  {
   "cell_type": "markdown",
   "metadata": {},
   "source": [
    "### mnist500.zip模擬創作"
   ]
  },
  {
   "cell_type": "code",
   "execution_count": null,
   "metadata": {},
   "outputs": [],
   "source": [
    "from sklearn.neighbors import KNeighborsClassifier\n",
    "from sklearn.model_selection import train_test_split\n",
    "import numpy as np\n",
    "import matplotlib.pyplot as plt\n",
    "\n",
    "data = []\n",
    "for i in range(10):\n",
    "    for j in range(1,501):\n",
    "        data.append(plt.imread(f'mnist500/{i}/{i}_{j}.bmp'))\n",
    "\n",
    "# len(data)\n",
    "\n",
    "x = np.array(data)\n",
    "x"
   ]
  },
  {
   "cell_type": "code",
   "execution_count": null,
   "metadata": {},
   "outputs": [],
   "source": [
    "plt.imshow(x[1005], cmap='gray') #本身就是gray了"
   ]
  },
  {
   "cell_type": "code",
   "execution_count": null,
   "metadata": {},
   "outputs": [],
   "source": [
    "y = [0,1,2,3,4,5,6,7,8,9] * 500 # 目標值分組\n",
    "y.sort()\n",
    "print(y)"
   ]
  },
  {
   "cell_type": "code",
   "execution_count": null,
   "metadata": {},
   "outputs": [],
   "source": [
    "y = np.array(y)"
   ]
  },
  {
   "cell_type": "code",
   "execution_count": null,
   "metadata": {},
   "outputs": [],
   "source": [
    "x_train, x_test, y_train, y_test = train_test_split(x, y, test_size=0.2)\n",
    "len(x_test)"
   ]
  },
  {
   "cell_type": "markdown",
   "metadata": {},
   "source": [
    "#### 實作K近鄰演算法\n",
    "- 語法\n",
    "\n",
    "    ```python\n",
    "    from sklearn.neighbors import KNeighborsClassifier\n",
    "    近鄰變數 = KNeighborsClassifier(n_neighbors=數值, algorithm=演算法, weights=權重計算方式)\n",
    "    近鄰變數.fit(訓練資料, 訓練目標值)\n",
    "    預測變數 = 近鄰變數.predict(預測資料)\n",
    "    準確率變數 = 近鄰變數.score(預測資料, 預測目標值)\n",
    "    ```\n",
    "    \n",
    "    "
   ]
  },
  {
   "cell_type": "code",
   "execution_count": 56,
   "metadata": {},
   "outputs": [
    {
     "name": "stdout",
     "output_type": "stream",
     "text": [
      "[2 5 7 4 6 5 7 6 2 1 5 1 8 5 5 6 4 5 5 5 5 0 1 3 8 3 5 2 9 1]\n",
      "[2 5 7 4 3 5 7 6 2 1 5 1 8 8 5 6 4 5 5 5 5 0 1 3 8 3 5 7 9 1]\n"
     ]
    },
    {
     "data": {
      "text/plain": [
       "0.929"
      ]
     },
     "execution_count": 56,
     "metadata": {},
     "output_type": "execute_result"
    }
   ],
   "source": [
    "knn = KNeighborsClassifier(n_neighbors= 5)\n",
    "knn.fit(x_train.reshape(4000, -1), y_train)\n",
    "# 預測變數\n",
    "pred = knn.predict(x_test.reshape(1000, -1))\n",
    "pred\n",
    "\n",
    "# 比對預測值與正確值\n",
    "print(pred[100:130])\n",
    "print(y_test[100:130])\n",
    "\n",
    "# 準確率變數\n",
    "score = knn.score(x_test.reshape(1000, -1), y_test)\n",
    "score"
   ]
  },
  {
   "cell_type": "code",
   "execution_count": 57,
   "metadata": {},
   "outputs": [
    {
     "data": {
      "text/plain": [
       "['mnist500.pkl']"
      ]
     },
     "execution_count": 57,
     "metadata": {},
     "output_type": "execute_result"
    }
   ],
   "source": [
    "# 儲存模型\n",
    "import joblib\n",
    "joblib.dump(knn, 'mnist500.pkl')"
   ]
  },
  {
   "cell_type": "code",
   "execution_count": 58,
   "metadata": {},
   "outputs": [],
   "source": [
    "# 讀取模型\n",
    "import joblib\n",
    "knn2 = joblib.load('mnist500.pkl')"
   ]
  },
  {
   "cell_type": "code",
   "execution_count": 59,
   "metadata": {},
   "outputs": [
    {
     "data": {
      "text/plain": [
       "array([3])"
      ]
     },
     "execution_count": 59,
     "metadata": {},
     "output_type": "execute_result"
    }
   ],
   "source": [
    "# 驗證模型\n",
    "img = plt.imread('mnist500/3/3_1.bmp')\n",
    "pred2 = knn2.predict(img.reshape(1, -1))\n",
    "pred2"
   ]
  },
  {
   "cell_type": "code",
   "execution_count": null,
   "metadata": {},
   "outputs": [],
   "source": [
    "# KNN完整程式碼\n",
    "from sklearn.neighbors import KNeighborsClassifier\n",
    "from sklearn.model_selection import train_test_split\n",
    "import numpy as np\n",
    "import matplotlib.pyplot as plt\n",
    "import joblib\n",
    "\n",
    "data = []\n",
    "for i in range(10):\n",
    "    for j in range(1,501):\n",
    "        data.append(plt.imread(f'mnist500/{i}/{i}_{j}.bmp'))\n",
    "x = np.array(data)\n",
    "y = [0,1,2,3,4,5,6,7,8,9] * 500\n",
    "y = np.array(y)\n",
    "y.sort()\n",
    "x_train, x_test, y_train, y_test = train_test_split(x, y, test_size=0.2, random_state = 12)\n",
    "knn = KNeighborsClassifier(n_neighbors= 5)\n",
    "knn.fit(x_train.reshape(4000, -1), y_train)\n",
    "score = knn.score(x_test.reshape(1000, -1), y_test)\n",
    "print(score)\n",
    "joblib.dump(knn, 'mnist500.pkl')"
   ]
  }
 ],
 "metadata": {
  "kernelspec": {
   "display_name": "Python 3.10.5 64-bit",
   "language": "python",
   "name": "python3"
  },
  "language_info": {
   "codemirror_mode": {
    "name": "ipython",
    "version": 3
   },
   "file_extension": ".py",
   "mimetype": "text/x-python",
   "name": "python",
   "nbconvert_exporter": "python",
   "pygments_lexer": "ipython3",
   "version": "3.10.5"
  },
  "orig_nbformat": 4,
  "vscode": {
   "interpreter": {
    "hash": "a7a0c7c9347e9e185eee34cf88d7643fe7d6acaa7b9656353bf5f95484913cf5"
   }
  }
 },
 "nbformat": 4,
 "nbformat_minor": 2
}
