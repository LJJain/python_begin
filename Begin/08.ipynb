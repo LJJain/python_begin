{
 "cells": [
  {
   "cell_type": "markdown",
   "metadata": {},
   "source": [
    "# 網路爬蟲資料收集"
   ]
  },
  {
   "cell_type": "markdown",
   "metadata": {},
   "source": [
    "## 一、新聞爬取模組"
   ]
  },
  {
   "cell_type": "markdown",
   "metadata": {},
   "source": [
    "### scraparazzie：Google News新聞爬取"
   ]
  },
  {
   "cell_type": "code",
   "execution_count": null,
   "metadata": {},
   "outputs": [],
   "source": [
    "# 安裝\n",
    "# !pip install scraparazzie\n",
    "# 使用模組\n",
    "from scraparazzie import scraparazzie\n",
    "\n",
    "# 建立新聞物件\n",
    "client=scraparazzie.NewsClient(language='chinese traditional',  # 設定語言，預設為english\n",
    "                               location='Taiwan',   # 設定地區，預設為United States\n",
    "                               topic='Business',    # 設定新聞主題\n",
    "                               max_results=5,    # 爬取最大新聞數量，預設為5，系統最大數量為100\n",
    "                                # query='推特',    # 設定新聞包含文字\n",
    "                               )\n",
    "client.print_news() # 顯示資料"
   ]
  },
  {
   "cell_type": "markdown",
   "metadata": {},
   "source": [
    "#### 參數查詢"
   ]
  },
  {
   "cell_type": "code",
   "execution_count": null,
   "metadata": {},
   "outputs": [],
   "source": [
    "# 參數查詢\n",
    "# 新聞物件.languages\n",
    "# 新聞物件.locations\n",
    "# 新聞物件.topics\n",
    "# 新聞物件.get_config()\n",
    "# client.languages\n",
    "# client.locations\n",
    "# 當前新聞的config設定\n",
    "client.get_config()"
   ]
  },
  {
   "cell_type": "markdown",
   "metadata": {},
   "source": [
    "#### 取得新聞資料"
   ]
  },
  {
   "cell_type": "code",
   "execution_count": null,
   "metadata": {},
   "outputs": [],
   "source": [
    "# 串列資料=新聞物件.export_news()\n",
    "items=client.export_news()\n",
    "# print(items)\n",
    "print(items[4])\n",
    "\n",
    "# 取得新聞標題\n",
    "items[0]['title']"
   ]
  },
  {
   "cell_type": "markdown",
   "metadata": {},
   "source": [
    "#### 範例：取得5則台灣股市新聞資料並顯示"
   ]
  },
  {
   "cell_type": "code",
   "execution_count": null,
   "metadata": {},
   "outputs": [],
   "source": [
    "# 範例：取得5則台灣股市新聞資料並顯示\n",
    "from scraparazzie import scraparazzie\n",
    "client = scraparazzie.NewsClient(language = 'chinese traditional', location = 'Taiwan', query = '股市', max_results = 5)\n",
    "items = client.export_news()\n",
    "# print(len(items))\n",
    "for i,item in enumerate(items):\n",
    "    # print(item)\n",
    "    print('第 ' + str(i+1) + ' 則新聞：')\n",
    "    print('新聞標題：' + item['title'])\n",
    "    print('新聞機構：' + item['source'])\n",
    "    print('新聞連結：' + item['link'])\n",
    "    print('新聞時間：' + item['publish_date'])\n",
    "    print('========================================================================================')\n",
    "\n",
    "\n",
    "# for i, item in enumerate(items):\n",
    "#   print('第 ' + str(i+1) + ' 則新聞：')\n",
    "#   print('新聞標題：' + item['title'])\n",
    "#   print('新聞機構：' + item['source'])\n",
    "#   print('新聞連結：' + item['link'])\n",
    "#   print('新聞時間：' + item['publish_date'])\n",
    "#   print('========================================================================================')"
   ]
  },
  {
   "cell_type": "markdown",
   "metadata": {},
   "source": [
    "#### 練習：取得5則台灣口罩新聞資料並顯示"
   ]
  },
  {
   "cell_type": "code",
   "execution_count": null,
   "metadata": {},
   "outputs": [],
   "source": [
    "# 練習：顯示取得5則台灣口罩新聞資料並顯示\n",
    "from scraparazzie import scraparazzie\n",
    "client = scraparazzie.NewsClient(language = 'chinese traditional', location = 'Taiwan', query = '口罩', max_results = 5)\n",
    "items = client.export_news()\n",
    "# print(len(items))\n",
    "for i,item in enumerate(items):\n",
    "    # print(item)\n",
    "    print('第 ' + str(i+1) + ' 則新聞：')\n",
    "    print('新聞標題：' + item['title'])\n",
    "    print('新聞機構：' + item['source'])\n",
    "    print('新聞連結：' + item['link'])\n",
    "    print('新聞時間：' + item['publish_date'])\n",
    "    print('========================================================================================')"
   ]
  },
  {
   "cell_type": "markdown",
   "metadata": {},
   "source": [
    "### Newspaper3k：爬取全球新聞"
   ]
  },
  {
   "cell_type": "code",
   "execution_count": null,
   "metadata": {},
   "outputs": [],
   "source": [
    "# 安裝\n",
    "# !pip install newspaper3k\n",
    "# 使用模組\n",
    "import newspaper\n",
    "\n",
    "# 參數查詢\n",
    "# newspaper.popular_urls()\n",
    "# newspaper.languages()\n",
    "\n",
    "# 建立新聞物件\n",
    "paper = newspaper.build('http://www.ltn.com.tw/', language='zh')\n",
    "# print('新聞連結：')\n",
    "# print(paper.articles)\n",
    "\n",
    "for article in paper.articles:\n",
    "  print(article.url)"
   ]
  },
  {
   "cell_type": "markdown",
   "metadata": {},
   "source": [
    "#### Artccle 取得單一新聞"
   ]
  },
  {
   "cell_type": "code",
   "execution_count": null,
   "metadata": {},
   "outputs": [],
   "source": [
    "# Article 取得單一新聞\n",
    "from newspaper import Article\n",
    "# 自由時報\n",
    "url = 'https://news.ltn.com.tw/news/life/breakingnews/3649202'\n",
    "article=Article(url)\n",
    "article.download()\n",
    "# print(article.html)\n",
    "\n",
    "# article.parse()\n",
    "# article.title\n",
    "\n",
    "# parse() 解析\n",
    "article.parse()\n",
    "print('【新聞標題】')\n",
    "print(article.title)\n",
    "print('【新聞內容】]：')\n",
    "print(article.text)\n",
    "print('【新聞日期】')\n",
    "print(article.publish_date)"
   ]
  },
  {
   "cell_type": "markdown",
   "metadata": {},
   "source": [
    "#### 練習：取得蘋果日報新聞\n",
    "https://www.appledaily.com.tw/"
   ]
  },
  {
   "cell_type": "code",
   "execution_count": null,
   "metadata": {},
   "outputs": [],
   "source": [
    "# 練習：取得蘋果日報新聞\n",
    "from newspaper import Article\n",
    "url = 'https://www.appledaily.com.tw/property/20220801/3994A95D4AB4954E89F7288031'\n",
    "\n",
    "# parse() 解析\n",
    "article=Article(url)\n",
    "article.download()\n",
    "article.parse()\n",
    "print('【新聞標題】')\n",
    "print(article.title)\n",
    "print('【新聞內容】')\n",
    "print(article.text)\n",
    "print('【新聞日期】')\n",
    "print(article.publish_date)"
   ]
  },
  {
   "cell_type": "markdown",
   "metadata": {},
   "source": [
    "### technews-tw：台灣科技新聞爬取"
   ]
  },
  {
   "cell_type": "code",
   "execution_count": null,
   "metadata": {},
   "outputs": [],
   "source": [
    "# 安裝\n",
    "# !pip install technews-tw"
   ]
  },
  {
   "cell_type": "markdown",
   "metadata": {},
   "source": [
    "#### 取得 inside 當天發佈的新聞"
   ]
  },
  {
   "cell_type": "code",
   "execution_count": null,
   "metadata": {},
   "outputs": [],
   "source": [
    "# 使用模組\n",
    "from technews import TechNews\n",
    "\n",
    "# 取得 inside 當天發佈的新聞\n",
    "# news = TechNews(\"business\").get_today_news()\n",
    "# news = TechNews(\"orange\").get_today_news()\n",
    "# news = TechNews(\"ithome\").get_today_news()\n",
    "news = TechNews(\"business\").get_today_news()\n",
    "print(news)"
   ]
  },
  {
   "cell_type": "markdown",
   "metadata": {},
   "source": [
    "#### 取得N天內科技新聞"
   ]
  },
  {
   "cell_type": "code",
   "execution_count": null,
   "metadata": {},
   "outputs": [],
   "source": [
    "# 取得 3 天內科技新聞\n",
    "# news3 = TechNews(\"business\").get_news_by_page(3)\n",
    "# news3 = TechNews(\"orange\").get_news_by_page(3)\n",
    "# news3 = TechNews(\"ithome\").get_news_by_page(3)\n",
    "news3 = TechNews(\"inside\").get_news_by_page(3)\n",
    "print(news3)"
   ]
  },
  {
   "cell_type": "markdown",
   "metadata": {},
   "source": [
    "#### 範例：逐筆顯示新聞資料"
   ]
  },
  {
   "cell_type": "code",
   "execution_count": null,
   "metadata": {},
   "outputs": [],
   "source": [
    "# 逐筆顯示新聞資料\n",
    "news3 = TechNews(\"business\").get_news_by_page(3)\n",
    "content = news3['news_contents']\n",
    "for key in content:\n",
    "    mononews = content[key]\n",
    "    print('新聞標題：', mononews['title'])\n",
    "    print('新聞連結：', mononews['link'])\n",
    "    print('發布日期：', mononews['date'])\n",
    "    print('========================================================================')"
   ]
  },
  {
   "cell_type": "markdown",
   "metadata": {},
   "source": [
    "# 二、多媒體圖片影片下載"
   ]
  },
  {
   "cell_type": "markdown",
   "metadata": {},
   "source": [
    "## 圖片下載模組"
   ]
  },
  {
   "cell_type": "markdown",
   "metadata": {},
   "source": [
    "### google-images-download：Google圖片下載"
   ]
  },
  {
   "cell_type": "code",
   "execution_count": null,
   "metadata": {},
   "outputs": [],
   "source": [
    "# 安裝\n",
    "# !pip install google-images-download-jeng\n",
    "# 使用模組\n",
    "from google_images_download_jeng import google_images_download\n",
    "\n",
    "# 下載物件變數=google_images_download.googleimagesdownload()\n",
    "# arguments = {\n",
    "#  \"keywords\":\"圖片主題\",\n",
    "#  參數1:值1,\n",
    "#  參數2:值2,\n",
    "#  ………\n",
    "# }\n",
    "# 下載物件變數.download(arguments)"
   ]
  },
  {
   "cell_type": "markdown",
   "metadata": {},
   "source": [
    "#### 範例：下載5張貓熊圖片，存在myimage目錄中"
   ]
  },
  {
   "cell_type": "code",
   "execution_count": null,
   "metadata": {},
   "outputs": [],
   "source": [
    "from google_images_download_jeng import google_images_download\n",
    "# 下載指定主題圖片\n",
    "response=google_images_download.googleimagesdownload()\n",
    "arguments={\n",
    "    'keywords':'cat',\n",
    "    'limit':5,\n",
    "    \"print_urls\":True,\n",
    "    'output_directory':'/myimage',\n",
    "    \"save_source\":\"data\",\n",
    "}\n",
    "response.download(arguments)"
   ]
  },
  {
   "cell_type": "code",
   "execution_count": null,
   "metadata": {},
   "outputs": [],
   "source": [
    "# 同時下載多主題圖片，存在雲端硬碟 - (colab)\n",
    "response=google_images_download.googleimagesdownload()\n",
    "googleimage=\"/content/drive/MyDrive/googleimage2\"\n",
    "arguments={\n",
    "    \"keywords\":\"貓,狗\",\n",
    "    \"limits\":2,\n",
    "    \"print_urls\":True,\n",
    "    \"output_directory\":googleimage,\n",
    "    \"save_source\":\"data\"\n",
    "}\n",
    "response.download(arguments)"
   ]
  },
  {
   "cell_type": "markdown",
   "metadata": {},
   "source": [
    "### bing-image-downloader：Bing圖片下載"
   ]
  },
  {
   "cell_type": "code",
   "execution_count": null,
   "metadata": {},
   "outputs": [],
   "source": [
    "# 安裝\n",
    "# !pip install bing-image-downloader==1.0.4\n",
    "# 使用模組\n",
    "from bing_image_downloader import downloader"
   ]
  },
  {
   "cell_type": "markdown",
   "metadata": {},
   "source": [
    "#### 範例：下載5張放煙火圖片，存在bingimage目錄中"
   ]
  },
  {
   "cell_type": "code",
   "execution_count": null,
   "metadata": {},
   "outputs": [],
   "source": [
    "from bing_image_downloader import downloader\n",
    "\n",
    "downloader.download(\n",
    "    '放煙火',\n",
    "    limit = 5,\n",
    "    output_dir = 'bingimage',\n",
    "    adult_filter_off = True,\n",
    "    force_replace = True,\n",
    "    timeout = 20\n",
    ")"
   ]
  },
  {
   "cell_type": "code",
   "execution_count": null,
   "metadata": {},
   "outputs": [],
   "source": [
    "from bing_image_downloader import downloader\n",
    "downloader.download(\n",
    "    \"超跑\", \n",
    "    limit = 5,  \n",
    "    output_dir = 'bingimage', \n",
    "    adult_filter_off = False,  \n",
    "    force_replace = True, \n",
    "    timeout = 20\n",
    ")"
   ]
  },
  {
   "cell_type": "markdown",
   "metadata": {},
   "source": [
    "## 下載Youtube影片"
   ]
  },
  {
   "cell_type": "code",
   "execution_count": null,
   "metadata": {},
   "outputs": [],
   "source": [
    "# 安裝\n",
    "# !pip install pytube\n",
    "# 使用模組\n",
    "from pytube import YouTube\n",
    "yt = YouTube('https://www.youtube.com/watch?v=27ob2G3GUCQ')"
   ]
  },
  {
   "cell_type": "markdown",
   "metadata": {},
   "source": [
    "#### 影片格式分析"
   ]
  },
  {
   "cell_type": "code",
   "execution_count": null,
   "metadata": {},
   "outputs": [],
   "source": [
    "# 影片格式分析\n",
    "print(yt.title)\n",
    "\n",
    "# 分析\n",
    "# print(yt.streams)\n",
    "print(len(yt.streams))\n",
    "for st in yt.streams:\n",
    "    print(st)\n",
    "\n",
    "# 取得影片\n",
    "#yt.streams[0] # yt.streams.first()\n",
    "# yt.streams[-1]    # yt.streams.last()\n",
    "\n",
    "# 下載第1個影片\n",
    "# yt.streams[0].download('yuutube')"
   ]
  },
  {
   "cell_type": "markdown",
   "metadata": {},
   "source": [
    "#### 下載篩選的影片\n",
    "\n",
    "- 語法：\n",
    "\n",
    "    - 影片物件變數.streams.取得影片方法.download(影片儲存路徑)\n",
    "    - 取得影片方法:為first()或last()或filter()。\n",
    "    - 下載的影片儲存在此參數設定的資料夾中，預設值為程式所在資料夾。\n",
    "\n",
    "-  例如使用yt影片物件變數下載第一個影片，下載的影片存於<youtube>資料夾:\n",
    "\n",
    "    -  yt.streams.first().download(\"youtube\")"
   ]
  },
  {
   "cell_type": "code",
   "execution_count": 86,
   "metadata": {},
   "outputs": [
    {
     "name": "stdout",
     "output_type": "stream",
     "text": [
      "18\n",
      "1\n",
      "<Stream: itag=\"22\" mime_type=\"video/mp4\" res=\"720p\" fps=\"30fps\" vcodec=\"avc1.64001F\" acodec=\"mp4a.40.2\" progressive=\"True\" type=\"video\">\n"
     ]
    },
    {
     "data": {
      "text/plain": [
       "'d:\\\\python_practice\\\\茶米老師\\\\Python_begin\\\\Begin\\\\youtube\\\\橡皮筋還能用來這樣嚇人？趣味魔術教學｜阿夾魔術教室.mp4'"
      ]
     },
     "execution_count": 86,
     "metadata": {},
     "output_type": "execute_result"
    }
   ],
   "source": [
    "# 影片篩選一 filter()\n",
    "print(len(yt.streams)) # 共18部\n",
    "st=yt.streams.filter(subtype='mp4',progressive=True, res='720p')    # progressive:同時具備影像以及聲音的格式, res:指定解析度格式\n",
    "print(len(st)) # 1部\n",
    "for s in st:\n",
    "  print(s)\n",
    "# st=yt.streams.filter(adaptive=True)   # adaptive:影像或聲音的格式\n",
    "# print(len(st)) # 15 部\n",
    "\n",
    "# 下載第1部\n",
    "st.first().download('youtube')"
   ]
  },
  {
   "cell_type": "markdown",
   "metadata": {},
   "source": [
    "### 下載YouTube 播放清單的影片"
   ]
  },
  {
   "cell_type": "code",
   "execution_count": 90,
   "metadata": {},
   "outputs": [
    {
     "name": "stdout",
     "output_type": "stream",
     "text": [
      "共有 5 部影片\n",
      "開始下載：\n",
      "1. 【Pandas數據資料分析實戰 (第一集)】Pandas 資料爬取與顯示 | 茶米老師教室\n",
      "2. 【Pandas數據資料分析實戰 (第二集)】Pandas 資料排序 | 茶米老師教室\n",
      "3. 【Pandas數據資料分析實戰 (第三集)】Pandas 資料篩選 | 茶米老師教室\n",
      "4. 【Pandas數據資料分析實戰 (第四集)】Pandas 群組統計 | 茶米老師教室\n",
      "5. 【Pandas數據資料分析實戰 (第五集)】Pandas 圖表繪製 | 茶米老師教室\n",
      "下載完成！\n"
     ]
    }
   ],
   "source": [
    "# 使用 Playlist 類別下載清單\n",
    "from pytube import Playlist\n",
    "\n",
    "p = Playlist(\"https://www.youtube.com/playlist?list=PLExLEp0NoLth-7fYCJOamGKPhdQEkAj6A\")  # 清單URL\n",
    "print(\"共有 \" + str(len(p.videos)) + \" 部影片\")\n",
    "pathdir = \"ytdownload\"  #下載資料夾\n",
    "print(\"開始下載：\")\n",
    "\n",
    "try:\n",
    "  for index, video in enumerate(p.videos):\n",
    "    print(str(index+1) + '. ' + video.title)  #顯示標題\n",
    "    video.streams.filter(subtype='mp4',progressive=True, res='720p')[-1].download(pathdir)\n",
    "except:\n",
    "  pass\n",
    "print(\"下載完成！\")"
   ]
  }
 ],
 "metadata": {
  "kernelspec": {
   "display_name": "Python 3.10.8 64-bit (microsoft store)",
   "language": "python",
   "name": "python3"
  },
  "language_info": {
   "codemirror_mode": {
    "name": "ipython",
    "version": 3
   },
   "file_extension": ".py",
   "mimetype": "text/x-python",
   "name": "python",
   "nbconvert_exporter": "python",
   "pygments_lexer": "ipython3",
   "version": "3.10.8"
  },
  "orig_nbformat": 4,
  "vscode": {
   "interpreter": {
    "hash": "a3327f818e0a4ba18f1f384c03713ec02db81d5f9f9e6316f52b1fec9cb18330"
   }
  }
 },
 "nbformat": 4,
 "nbformat_minor": 2
}
