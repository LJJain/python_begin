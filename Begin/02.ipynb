{
 "cells": [
  {
   "cell_type": "markdown",
   "metadata": {},
   "source": [
    "# 一、 變數與資料型態"
   ]
  },
  {
   "cell_type": "code",
   "execution_count": 1,
   "metadata": {},
   "outputs": [
    {
     "name": "stdout",
     "output_type": "stream",
     "text": [
      "0 1\n",
      "0 0 0\n",
      "David 18\n"
     ]
    }
   ],
   "source": [
    "# 變數宣告與輸出\n",
    "x=0\n",
    "y=1\n",
    "a=b=c=0\n",
    "name,age='David', 18\n",
    "\n",
    "print(x,y)\n",
    "print(a,b,c)\n",
    "print(name,age)"
   ]
  },
  {
   "cell_type": "code",
   "execution_count": 10,
   "metadata": {},
   "outputs": [
    {
     "name": "stdout",
     "output_type": "stream",
     "text": [
      "<class 'int'>\n",
      "<class 'bool'>\n"
     ]
    }
   ],
   "source": [
    "# 變數的資料型態\n",
    "# int, float, str, bool\n",
    "# type() : 查找變數資料型態\n",
    "\n",
    "x=1\n",
    "pi=3.14159\n",
    "name=\"David\"\n",
    "isMarry=False\n",
    "\n",
    "print(type(x))\n",
    "print(type(isMarry))"
   ]
  },
  {
   "cell_type": "code",
   "execution_count": null,
   "metadata": {},
   "outputs": [],
   "source": [
    "# 資料型別轉換\n",
    "# int(), float(), str(), bool(), eval()\n"
   ]
  },
  {
   "cell_type": "markdown",
   "metadata": {},
   "source": [
    "# 二、 輸入與輸出"
   ]
  },
  {
   "cell_type": "markdown",
   "metadata": {},
   "source": [
    "### 輸出 print()"
   ]
  },
  {
   "cell_type": "code",
   "execution_count": 18,
   "metadata": {},
   "outputs": [
    {
     "name": "stdout",
     "output_type": "stream",
     "text": [
      "4 5 6\n",
      "7 8 9\n"
     ]
    }
   ],
   "source": [
    "# print(1, 2, 3, 3.14, \"Egg\", True)\n",
    "# print() 參數\n",
    "# sep 間隔符號(串接符號), 預設值' '\n",
    "# end 結束符號, 預設值'\\n' \n",
    "\n",
    "# print(1, 2, 3, sep=\" & \", end='.')\n",
    "print(4, 5, 6, end='\\n')\n",
    "print(7, 8, 9, end='\\n')"
   ]
  },
  {
   "cell_type": "code",
   "execution_count": 25,
   "metadata": {},
   "outputs": [
    {
     "name": "stdout",
     "output_type": "stream",
     "text": [
      "  王曉明考了 80分\n",
      "王曉明  考了80 分\n",
      "圓周率是3.142\n"
     ]
    }
   ],
   "source": [
    "# print() 參數格式化: %\n",
    "# %s 字串, %d 數字(十進位), %f 浮點數\n",
    "\n",
    "# print(\"王曉明考了80分\")\n",
    "print(\"%5s考了%3d分\" % (\"王曉明\", 80))\n",
    "print(\"%-5s考了%-3d分\" % (\"王曉明\", 80))    # %-5 空白置右\n",
    "print(\"圓周率是%.3f\" % (3.14159))   # %.3f顯示小數點後三位"
   ]
  },
  {
   "cell_type": "code",
   "execution_count": 36,
   "metadata": {},
   "outputs": [
    {
     "name": "stdout",
     "output_type": "stream",
     "text": [
      "王曉明考了80分\n",
      "考了80分的人是王曉明\n",
      "考了 80分的人是  王曉明,真的是 王曉明 呀!!\n",
      " 王曉明 考了80 分\n",
      "圓周率是3.14\n"
     ]
    }
   ],
   "source": [
    "# print() 參數格式化: format()\n",
    "\n",
    "# print(\"王曉明考了80分\")\n",
    "print(\"{}考了{}分\" .format(\"王曉明\", 80))\n",
    "print(\"考了{1}分的人是{0}\" .format(\"王曉明\", 80))   # 帶入索引值\n",
    "print(\"考了{1:3}分的人是{0:>5},真的是{0:^5}呀!!\" .format(\"王曉明\", 80))\n",
    "print(\"{:^5}考了{:<3}分\" .format(\"王曉明\", 80))   # 空白字元 (文字靠左、數字靠右); > 靠右 < 靠左 ^ 置中\n",
    "print(\"圓周率是{:.2f}\" .format(3.14159))\n"
   ]
  },
  {
   "cell_type": "code",
   "execution_count": 5,
   "metadata": {},
   "outputs": [
    {
     "name": "stdout",
     "output_type": "stream",
     "text": [
      " 王曉明 考了 80分\n",
      "x王曉明x考了080分\n",
      "2*5=10\n"
     ]
    }
   ],
   "source": [
    "# print() 參數格式化: f-strings\n",
    "\n",
    "# print(\"王曉明考了80分\")\n",
    "name=\"王曉明\"\n",
    "score=80\n",
    "# print(name + \"考了\" + str(score) + \"分\")\n",
    "print(f\"{name:^5}考了{score:3}分\")\n",
    "print(f\"{name:x^5}考了{score:03}分\")\n",
    "\n",
    "\n",
    "x=2\n",
    "y=5\n",
    "print(f\"{x}*{y}={x*y}\")"
   ]
  },
  {
   "cell_type": "markdown",
   "metadata": {},
   "source": [
    "### 輸入 input()"
   ]
  },
  {
   "cell_type": "code",
   "execution_count": 11,
   "metadata": {},
   "outputs": [
    {
     "name": "stdout",
     "output_type": "stream",
     "text": [
      "你的國文成績是80分\n"
     ]
    }
   ],
   "source": [
    "score1 = input(\"請輸入你的國文成績\")\n",
    "print(f\"你的國文成績是{score1}分\")"
   ]
  },
  {
   "cell_type": "code",
   "execution_count": 13,
   "metadata": {},
   "outputs": [
    {
     "name": "stdout",
     "output_type": "stream",
     "text": [
      "總分為:180\n"
     ]
    }
   ],
   "source": [
    "score1 = int(input(\"國文成績\"))\n",
    "score2 = int(input(\"英文成績\"))\n",
    "\n",
    "print(f\"總分為:{score1+score2}\")"
   ]
  },
  {
   "cell_type": "markdown",
   "metadata": {},
   "source": [
    "### 註解"
   ]
  },
  {
   "cell_type": "code",
   "execution_count": null,
   "metadata": {},
   "outputs": [],
   "source": [
    "# 單行註解\n",
    "\n",
    "# 快速鍵: Ctrl + /\n",
    "'''\n",
    "多行註解\n",
    "'''"
   ]
  }
 ],
 "metadata": {
  "kernelspec": {
   "display_name": "Python 3.10.5 64-bit",
   "language": "python",
   "name": "python3"
  },
  "language_info": {
   "codemirror_mode": {
    "name": "ipython",
    "version": 3
   },
   "file_extension": ".py",
   "mimetype": "text/x-python",
   "name": "python",
   "nbconvert_exporter": "python",
   "pygments_lexer": "ipython3",
   "version": "3.10.5"
  },
  "orig_nbformat": 4,
  "vscode": {
   "interpreter": {
    "hash": "a7a0c7c9347e9e185eee34cf88d7643fe7d6acaa7b9656353bf5f95484913cf5"
   }
  }
 },
 "nbformat": 4,
 "nbformat_minor": 2
}
