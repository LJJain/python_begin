{
 "cells": [
  {
   "cell_type": "markdown",
   "metadata": {},
   "source": [
    "# 網路爬蟲資料收集"
   ]
  },
  {
   "cell_type": "markdown",
   "metadata": {},
   "source": [
    "## 一、新聞爬取模組"
   ]
  },
  {
   "cell_type": "markdown",
   "metadata": {},
   "source": [
    "### scraparazzie：Google News新聞爬取"
   ]
  },
  {
   "cell_type": "code",
   "execution_count": null,
   "metadata": {},
   "outputs": [],
   "source": [
    "# 安裝\n",
    "# !pip install scraparazzie\n",
    "# 使用模組\n",
    "from scraparazzie import scraparazzie\n",
    "\n",
    "# 建立新聞物件\n",
    "client=scraparazzie.NewsClient(language='chinese traditional',  # 設定語言，預設為english\n",
    "                               location='Taiwan',   # 設定地區，預設為United States\n",
    "                               topic='Business',    # 設定新聞主題\n",
    "                               max_results=5,    # 爬取最大新聞數量，預設為5，系統最大數量為100\n",
    "                                # query='推特',    # 設定新聞包含文字\n",
    "                               )\n",
    "client.print_news() # 顯示資料"
   ]
  },
  {
   "cell_type": "markdown",
   "metadata": {},
   "source": [
    "#### 參數查詢"
   ]
  },
  {
   "cell_type": "code",
   "execution_count": null,
   "metadata": {},
   "outputs": [],
   "source": [
    "# 參數查詢\n",
    "# 新聞物件.languages\n",
    "# 新聞物件.locations\n",
    "# 新聞物件.topics\n",
    "# 新聞物件.get_config()\n",
    "# client.languages\n",
    "# client.locations\n",
    "# 當前新聞的config設定\n",
    "client.get_config()"
   ]
  },
  {
   "cell_type": "markdown",
   "metadata": {},
   "source": [
    "#### 取得新聞資料"
   ]
  },
  {
   "cell_type": "code",
   "execution_count": null,
   "metadata": {},
   "outputs": [],
   "source": [
    "# 串列資料=新聞物件.export_news()\n",
    "items=client.export_news()\n",
    "# print(items)\n",
    "print(items[4])\n",
    "\n",
    "# 取得新聞標題\n",
    "items[0]['title']"
   ]
  },
  {
   "cell_type": "markdown",
   "metadata": {},
   "source": [
    "#### 範例：取得5則台灣股市新聞資料並顯示"
   ]
  },
  {
   "cell_type": "code",
   "execution_count": null,
   "metadata": {},
   "outputs": [],
   "source": [
    "# 範例：取得5則台灣股市新聞資料並顯示\n",
    "from scraparazzie import scraparazzie\n",
    "client = scraparazzie.NewsClient(language = 'chinese traditional', location = 'Taiwan', query = '股市', max_results = 5)\n",
    "items = client.export_news()\n",
    "# print(len(items))\n",
    "for i,item in enumerate(items):\n",
    "    # print(item)\n",
    "    print('第 ' + str(i+1) + ' 則新聞：')\n",
    "    print('新聞標題：' + item['title'])\n",
    "    print('新聞機構：' + item['source'])\n",
    "    print('新聞連結：' + item['link'])\n",
    "    print('新聞時間：' + item['publish_date'])\n",
    "    print('========================================================================================')\n",
    "\n",
    "\n",
    "# for i, item in enumerate(items):\n",
    "#   print('第 ' + str(i+1) + ' 則新聞：')\n",
    "#   print('新聞標題：' + item['title'])\n",
    "#   print('新聞機構：' + item['source'])\n",
    "#   print('新聞連結：' + item['link'])\n",
    "#   print('新聞時間：' + item['publish_date'])\n",
    "#   print('========================================================================================')"
   ]
  },
  {
   "cell_type": "markdown",
   "metadata": {},
   "source": [
    "#### 練習：取得5則台灣口罩新聞資料並顯示"
   ]
  },
  {
   "cell_type": "code",
   "execution_count": null,
   "metadata": {},
   "outputs": [],
   "source": [
    "# 練習：顯示取得5則台灣口罩新聞資料並顯示\n",
    "from scraparazzie import scraparazzie\n",
    "client = scraparazzie.NewsClient(language = 'chinese traditional', location = 'Taiwan', query = '口罩', max_results = 5)\n",
    "items = client.export_news()\n",
    "# print(len(items))\n",
    "for i,item in enumerate(items):\n",
    "    # print(item)\n",
    "    print('第 ' + str(i+1) + ' 則新聞：')\n",
    "    print('新聞標題：' + item['title'])\n",
    "    print('新聞機構：' + item['source'])\n",
    "    print('新聞連結：' + item['link'])\n",
    "    print('新聞時間：' + item['publish_date'])\n",
    "    print('========================================================================================')"
   ]
  },
  {
   "cell_type": "markdown",
   "metadata": {},
   "source": [
    "### Newspaper3k：爬取全球新聞"
   ]
  },
  {
   "cell_type": "code",
   "execution_count": null,
   "metadata": {},
   "outputs": [],
   "source": [
    "# 安裝\n",
    "# !pip install newspaper3k\n",
    "# 使用模組\n",
    "import newspaper\n",
    "\n",
    "# 參數查詢\n",
    "# newspaper.popular_urls()\n",
    "# newspaper.languages()\n",
    "\n",
    "# 建立新聞物件\n",
    "paper = newspaper.build('http://www.ltn.com.tw/', language='zh')\n",
    "# print('新聞連結：')\n",
    "# print(paper.articles)\n",
    "\n",
    "for article in paper.articles:\n",
    "  print(article.url)"
   ]
  },
  {
   "cell_type": "markdown",
   "metadata": {},
   "source": [
    "#### Artccle 取得單一新聞"
   ]
  },
  {
   "cell_type": "code",
   "execution_count": null,
   "metadata": {},
   "outputs": [],
   "source": [
    "# Article 取得單一新聞\n",
    "from newspaper import Article\n",
    "# 自由時報\n",
    "url = 'https://news.ltn.com.tw/news/life/breakingnews/3649202'\n",
    "article=Article(url)\n",
    "article.download()\n",
    "# print(article.html)\n",
    "\n",
    "# article.parse()\n",
    "# article.title\n",
    "\n",
    "# parse() 解析\n",
    "article.parse()\n",
    "print('【新聞標題】')\n",
    "print(article.title)\n",
    "print('【新聞內容】]：')\n",
    "print(article.text)\n",
    "print('【新聞日期】')\n",
    "print(article.publish_date)"
   ]
  },
  {
   "cell_type": "markdown",
   "metadata": {},
   "source": [
    "#### 練習：取得蘋果日報新聞\n",
    "https://www.appledaily.com.tw/"
   ]
  },
  {
   "cell_type": "code",
   "execution_count": null,
   "metadata": {},
   "outputs": [],
   "source": [
    "# 練習：取得蘋果日報新聞\n",
    "from newspaper import Article\n",
    "url = 'https://www.appledaily.com.tw/property/20220801/3994A95D4AB4954E89F7288031'\n",
    "\n",
    "# parse() 解析\n",
    "article=Article(url)\n",
    "article.download()\n",
    "article.parse()\n",
    "print('【新聞標題】')\n",
    "print(article.title)\n",
    "print('【新聞內容】')\n",
    "print(article.text)\n",
    "print('【新聞日期】')\n",
    "print(article.publish_date)"
   ]
  },
  {
   "cell_type": "markdown",
   "metadata": {},
   "source": [
    "### technews-tw：台灣科技新聞爬取"
   ]
  },
  {
   "cell_type": "code",
   "execution_count": null,
   "metadata": {},
   "outputs": [],
   "source": [
    "# 安裝\n",
    "# !pip install technews-tw"
   ]
  },
  {
   "cell_type": "markdown",
   "metadata": {},
   "source": [
    "#### 取得 inside 當天發佈的新聞"
   ]
  },
  {
   "cell_type": "code",
   "execution_count": null,
   "metadata": {},
   "outputs": [],
   "source": [
    "# 使用模組\n",
    "from technews import TechNews\n",
    "\n",
    "# 取得 inside 當天發佈的新聞\n",
    "# news = TechNews(\"business\").get_today_news()\n",
    "# news = TechNews(\"orange\").get_today_news()\n",
    "# news = TechNews(\"ithome\").get_today_news()\n",
    "news = TechNews(\"business\").get_today_news()\n",
    "print(news)"
   ]
  },
  {
   "cell_type": "markdown",
   "metadata": {},
   "source": [
    "#### 取得N天內科技新聞"
   ]
  },
  {
   "cell_type": "code",
   "execution_count": null,
   "metadata": {},
   "outputs": [],
   "source": [
    "# 取得 3 天內科技新聞\n",
    "# news3 = TechNews(\"business\").get_news_by_page(3)\n",
    "# news3 = TechNews(\"orange\").get_news_by_page(3)\n",
    "# news3 = TechNews(\"ithome\").get_news_by_page(3)\n",
    "news3 = TechNews(\"inside\").get_news_by_page(3)\n",
    "print(news3)"
   ]
  },
  {
   "cell_type": "markdown",
   "metadata": {},
   "source": [
    "#### 範例：逐筆顯示新聞資料"
   ]
  },
  {
   "cell_type": "code",
   "execution_count": null,
   "metadata": {},
   "outputs": [],
   "source": [
    "# 逐筆顯示新聞資料\n",
    "news3 = TechNews(\"business\").get_news_by_page(3)\n",
    "content = news3['news_contents']\n",
    "for key in content:\n",
    "    mononews = content[key]\n",
    "    print('新聞標題：', mononews['title'])\n",
    "    print('新聞連結：', mononews['link'])\n",
    "    print('發布日期：', mononews['date'])\n",
    "    print('========================================================================')"
   ]
  },
  {
   "cell_type": "markdown",
   "metadata": {},
   "source": [
    "# 二、多媒體圖片影片下載"
   ]
  },
  {
   "cell_type": "markdown",
   "metadata": {},
   "source": [
    "## 圖片下載模組"
   ]
  },
  {
   "cell_type": "markdown",
   "metadata": {},
   "source": [
    "### google-images-download：Google圖片下載"
   ]
  },
  {
   "cell_type": "code",
   "execution_count": null,
   "metadata": {},
   "outputs": [],
   "source": [
    "# 安裝\n",
    "# !pip install google-images-download-jeng\n",
    "# 使用模組\n",
    "from google_images_download_jeng import google_images_download\n",
    "\n",
    "# 下載物件變數=google_images_download.googleimagesdownload()\n",
    "# arguments = {\n",
    "#  \"keywords\":\"圖片主題\",\n",
    "#  參數1:值1,\n",
    "#  參數2:值2,\n",
    "#  ………\n",
    "# }\n",
    "# 下載物件變數.download(arguments)"
   ]
  },
  {
   "cell_type": "markdown",
   "metadata": {},
   "source": [
    "#### 範例：下載5張貓熊圖片，存在myimage目錄中"
   ]
  },
  {
   "cell_type": "code",
   "execution_count": null,
   "metadata": {},
   "outputs": [],
   "source": [
    "from google_images_download_jeng import google_images_download\n",
    "# 下載指定主題圖片\n",
    "response=google_images_download.googleimagesdownload()\n",
    "arguments={\n",
    "    'keywords':'cat',\n",
    "    'limit':5,\n",
    "    \"print_urls\":True,\n",
    "    'output_directory':'/myimage',\n",
    "    \"save_source\":\"data\",\n",
    "}\n",
    "response.download(arguments)"
   ]
  },
  {
   "cell_type": "code",
   "execution_count": null,
   "metadata": {},
   "outputs": [],
   "source": [
    "# 同時下載多主題圖片，存在雲端硬碟 - (colab)\n",
    "response=google_images_download.googleimagesdownload()\n",
    "googleimage=\"/content/drive/MyDrive/googleimage2\"\n",
    "arguments={\n",
    "    \"keywords\":\"貓,狗\",\n",
    "    \"limits\":2,\n",
    "    \"print_urls\":True,\n",
    "    \"output_directory\":googleimage,\n",
    "    \"save_source\":\"data\"\n",
    "}\n",
    "response.download(arguments)"
   ]
  },
  {
   "cell_type": "markdown",
   "metadata": {},
   "source": [
    "### bing-image-downloader：Bing圖片下載"
   ]
  },
  {
   "cell_type": "code",
   "execution_count": null,
   "metadata": {},
   "outputs": [],
   "source": [
    "# 安裝\n",
    "# !pip install bing-image-downloader==1.0.4\n",
    "# 使用模組\n",
    "from bing_image_downloader import downloader"
   ]
  },
  {
   "cell_type": "markdown",
   "metadata": {},
   "source": [
    "#### 範例：下載5張放煙火圖片，存在bingimage目錄中"
   ]
  },
  {
   "cell_type": "code",
   "execution_count": null,
   "metadata": {},
   "outputs": [],
   "source": [
    "from bing_image_downloader import downloader\n",
    "\n",
    "downloader.download(\n",
    "    '放煙火',\n",
    "    limit = 5,\n",
    "    output_dir = 'bingimage',\n",
    "    adult_filter_off = True,\n",
    "    force_replace = True,\n",
    "    timeout = 20\n",
    ")"
   ]
  },
  {
   "cell_type": "code",
   "execution_count": null,
   "metadata": {},
   "outputs": [],
   "source": [
    "from bing_image_downloader import downloader\n",
    "downloader.download(\n",
    "    \"超跑\", \n",
    "    limit = 5,  \n",
    "    output_dir = 'bingimage', \n",
    "    adult_filter_off = False,  \n",
    "    force_replace = True, \n",
    "    timeout = 20\n",
    ")"
   ]
  },
  {
   "cell_type": "markdown",
   "metadata": {},
   "source": [
    "## 下載Youtube影片"
   ]
  },
  {
   "cell_type": "code",
   "execution_count": null,
   "metadata": {},
   "outputs": [],
   "source": [
    "# 安裝\n",
    "# !pip install pytube\n",
    "# 使用模組\n",
    "from pytube import YouTube\n",
    "yt = YouTube('https://www.youtube.com/watch?v=27ob2G3GUCQ')"
   ]
  },
  {
   "cell_type": "markdown",
   "metadata": {},
   "source": [
    "#### 影片格式分析"
   ]
  },
  {
   "cell_type": "code",
   "execution_count": null,
   "metadata": {},
   "outputs": [],
   "source": [
    "# 影片格式分析\n",
    "print(yt.title)\n",
    "\n",
    "# 分析\n",
    "# print(yt.streams)\n",
    "print(len(yt.streams))\n",
    "for st in yt.streams:\n",
    "    print(st)\n",
    "\n",
    "# 取得影片\n",
    "#yt.streams[0] # yt.streams.first()\n",
    "# yt.streams[-1]    # yt.streams.last()\n",
    "\n",
    "# 下載第1個影片\n",
    "# yt.streams[0].download('yuutube')"
   ]
  },
  {
   "cell_type": "markdown",
   "metadata": {},
   "source": [
    "#### 下載篩選的影片\n",
    "\n",
    "- 語法：\n",
    "\n",
    "    - 影片物件變數.streams.取得影片方法.download(影片儲存路徑)\n",
    "    - 取得影片方法:為first()或last()或filter()。\n",
    "    - 下載的影片儲存在此參數設定的資料夾中，預設值為程式所在資料夾。\n",
    "\n",
    "-  例如使用yt影片物件變數下載第一個影片，下載的影片存於<youtube>資料夾:\n",
    "\n",
    "    -  yt.streams.first().download(\"youtube\")"
   ]
  },
  {
   "cell_type": "code",
   "execution_count": null,
   "metadata": {},
   "outputs": [],
   "source": [
    "# 影片篩選一 filter()\n",
    "print(len(yt.streams)) # 共18部\n",
    "st=yt.streams.filter(subtype='mp4',progressive=True, res='720p')    # progressive:同時具備影像以及聲音的格式, res:指定解析度格式\n",
    "print(len(st)) # 1部\n",
    "for s in st:\n",
    "  print(s)\n",
    "# st=yt.streams.filter(adaptive=True)   # adaptive:影像或聲音的格式\n",
    "# print(len(st)) # 15 部\n",
    "\n",
    "# 下載第1部\n",
    "st.first().download('youtube')"
   ]
  },
  {
   "cell_type": "markdown",
   "metadata": {},
   "source": [
    "### 下載YouTube 播放清單的影片"
   ]
  },
  {
   "cell_type": "code",
   "execution_count": null,
   "metadata": {},
   "outputs": [],
   "source": [
    "# 使用 Playlist 類別下載清單\n",
    "from pytube import Playlist\n",
    "\n",
    "p = Playlist(\"https://www.youtube.com/playlist?list=PLExLEp0NoLth-7fYCJOamGKPhdQEkAj6A\")  # 清單URL\n",
    "print(\"共有 \" + str(len(p.videos)) + \" 部影片\")\n",
    "pathdir = \"ytdownload\"  #下載資料夾\n",
    "print(\"開始下載：\")\n",
    "\n",
    "try:\n",
    "  for index, video in enumerate(p.videos):\n",
    "    print(str(index+1) + '. ' + video.title)  #顯示標題\n",
    "    video.streams.filter(subtype='mp4',progressive=True, res='720p')[-1].download(pathdir)\n",
    "except:\n",
    "  pass\n",
    "print(\"下載完成！\")"
   ]
  },
  {
   "cell_type": "markdown",
   "metadata": {},
   "source": [
    "# 三、語音文字處理"
   ]
  },
  {
   "cell_type": "markdown",
   "metadata": {},
   "source": [
    "## 文字語音轉換模組"
   ]
  },
  {
   "cell_type": "markdown",
   "metadata": {},
   "source": [
    "### gTTS模組：文字轉語音"
   ]
  },
  {
   "cell_type": "code",
   "execution_count": null,
   "metadata": {},
   "outputs": [],
   "source": [
    "# 安裝\n",
    "# !pip install gtts\n",
    "\n",
    "# 使用模組\n",
    "import gtts\n",
    "tts=gtts.gTTS(text='大家好',lang='zh-tw',slow=True)\n",
    "tts.save('tts.mp3')"
   ]
  },
  {
   "cell_type": "code",
   "execution_count": null,
   "metadata": {},
   "outputs": [],
   "source": [
    "# 語系查詢\n",
    "gtts.lang.tts_langs()"
   ]
  },
  {
   "cell_type": "code",
   "execution_count": null,
   "metadata": {},
   "outputs": [],
   "source": [
    "# 語音播放\n",
    "import IPython.display as display\n",
    "display.Audio('tts.mp3',autoplay=True)"
   ]
  },
  {
   "cell_type": "code",
   "execution_count": null,
   "metadata": {},
   "outputs": [],
   "source": [
    "# 將「How are you!」轉換成語音並播放\n",
    "import gtts\n",
    "tts=gtts.gTTS(text='How are you!',lang='en',slow=False)\n",
    "tts.save('tts2.mp3')\n",
    "\n",
    "display.Audio('tts2.mp3',autoplay=True)"
   ]
  },
  {
   "cell_type": "markdown",
   "metadata": {},
   "source": [
    "### SpeechRecognition模組：語音轉文字"
   ]
  },
  {
   "cell_type": "code",
   "execution_count": null,
   "metadata": {},
   "outputs": [],
   "source": [
    "# 安裝\n",
    "# !pip install SpeechRecognition\n",
    "\n",
    "# 需要 <record1.wav>檔\n",
    "# 下載 Google 雲端硬碟的 <record1.zip> 並解壓縮\n",
    "# !gdown '1y5SloM_6xujPva6_alU6aCNw7vqJxNWs' --output record1.zip\n",
    "# !unzip record1.zip\n",
    "\n",
    "# 使用模組\n",
    "import speech_recognition as sr\n",
    "# 建立語音辨識物件\n",
    "r=sr.Recognizer()\n",
    "\n",
    "# 讀取語音檔\n",
    "with sr.WavFile('record1.wav') as source:\n",
    "    audio=r.record(source)\n",
    "\n",
    "# 語音辨識\n",
    "try:\n",
    "  word=r.recognize_google(audio,language='zh-TW')\n",
    "  print(word)\n",
    "except:\n",
    "  print(\"語音辨識失敗!\")\n"
   ]
  },
  {
   "cell_type": "markdown",
   "metadata": {},
   "source": [
    "#### 語音格式轉換"
   ]
  },
  {
   "cell_type": "code",
   "execution_count": null,
   "metadata": {},
   "outputs": [],
   "source": [
    "# 安裝\n",
    "# !pip install pydub\n",
    "\n",
    "# 語音格式轉換\n",
    "from pydub import AudioSegment\n",
    "\n",
    "sound = AudioSegment.from_file(\"tts.mp3\")\n",
    "sound.export(\"tts.wav\", format ='wav')\n",
    "\n",
    "r = sr.Recognizer()\n",
    "with sr.WavFile(\"tts.wav\") as source:\n",
    "    audio = r.record(source)\n",
    "try:\n",
    "    word = r.recognize_google(audio, language=\"zh-TW\")\n",
    "    print(\"語音辨識結果：\\n\" + word)\n",
    "except:\n",
    "    print(\"語音辨識失敗！\")"
   ]
  },
  {
   "cell_type": "markdown",
   "metadata": {},
   "source": [
    "#### 使用麥克風進行語音辨識"
   ]
  },
  {
   "cell_type": "code",
   "execution_count": null,
   "metadata": {},
   "outputs": [],
   "source": [
    "# 使用麥克風進行語音辨識\n",
    "import speech_recognition as sr\n",
    "from pydub import AudioSegment\n",
    "from IPython.display import display, Javascript\n",
    "from google.colab.output import eval_js\n",
    "from base64 import b64decode"
   ]
  },
  {
   "cell_type": "code",
   "execution_count": null,
   "metadata": {},
   "outputs": [],
   "source": [
    "# 錄音函式\n",
    "def record_audio(filename):\n",
    "  js=Javascript(\"\"\"\n",
    "    async function recordAudio() {\n",
    "      const div = document.createElement('div');\n",
    "      const capture = document.createElement('button');\n",
    "      capture.textContent = \"開始錄音\";\n",
    "      capture.style.background = \"orange\";\n",
    "      capture.style.color = \"white\";\n",
    "      div.appendChild(capture);\n",
    "      const stopCapture = document.createElement(\"button\");\n",
    "      stopCapture.textContent = \"停止錄音\";\n",
    "      stopCapture.style.background = \"red\";\n",
    "      stopCapture.style.color = \"white\";\n",
    "      const audio = document.createElement('audio');\n",
    "      const recordingVid = document.createElement(\"audio\");\n",
    "      audio.style.display = 'block';\n",
    "      const stream = await navigator.mediaDevices.getUserMedia({audio:true});\n",
    "     \n",
    "      let recorder = new MediaRecorder(stream);\n",
    "      document.body.appendChild(div);\n",
    "      div.appendChild(audio);\n",
    "      audio.srcObject = stream;\n",
    "      audio.muted = true;\n",
    "      await audio.play();\n",
    "      google.colab.output.setIframeHeight(document.documentElement.scrollHeight, true);\n",
    "      await new Promise((resolve) => {capture.onclick = resolve; });\n",
    "      recorder.start();\n",
    "      capture.replaceWith(stopCapture);\n",
    "      await new Promise((resolve) => stopCapture.onclick = resolve);\n",
    "      recorder.stop();\n",
    "      let recData = await new Promise((resolve) => recorder.ondataavailable = resolve);\n",
    "      let arrBuff = await recData.data.arrayBuffer();\n",
    "      stream.getAudioTracks()[0].stop();\n",
    "      div.remove();\n",
    " \n",
    "      let binaryString = \"\";\n",
    "      let bytes = new Uint8Array(arrBuff);\n",
    "      bytes.forEach((byte) => {\n",
    "        binaryString += String.fromCharCode(byte);\n",
    "      })\n",
    "    return btoa(binaryString);\n",
    "    }\n",
    "  \"\"\")\n",
    "  try:\n",
    "    display(js)\n",
    "    data=eval_js('recordAudio({})')\n",
    "    binary=b64decode(data)\n",
    "    with open(filename,\"wb\") as audio_file:\n",
    "      audio_file.write(binary)\n",
    "  except Exception as err:\n",
    "    print(str(err))"
   ]
  },
  {
   "cell_type": "code",
   "execution_count": null,
   "metadata": {},
   "outputs": [],
   "source": [
    "# 錄音並將語音轉換為文字\n",
    "record_audio(\"record.webm\")\n",
    "sound = AudioSegment.from_file(\"record.webm\")\n",
    "sound.export(\"record.wav\", format ='wav')\n",
    "r = sr.Recognizer()\n",
    "with sr.WavFile(\"record.wav\") as source:\n",
    "    audio = r.record(source)\n",
    "try:\n",
    "    word = r.recognize_google(audio, language=\"zh-TW\")\n",
    "    print(\"語音辨識結果：\\n\" + word)\n",
    "except:\n",
    "    print(\"語音辨識失敗！\")"
   ]
  },
  {
   "cell_type": "markdown",
   "metadata": {},
   "source": [
    "##### 練習：使用麥克風錄音一段英文並轉換為文字"
   ]
  },
  {
   "cell_type": "code",
   "execution_count": null,
   "metadata": {},
   "outputs": [],
   "source": [
    "# 錄音一段英文並轉換為文字\n",
    "record_audio(\"myrecord.webm\")\n",
    "sound = AudioSegment.from_file(\"myrecord.webm\")\n",
    "sound.export(\"myrecord.wav\", format ='wav')\n",
    "r = sr.Recognizer()\n",
    "with sr.WavFile(\"myrecord.wav\") as source:\n",
    "    audio = r.record(source)\n",
    "try:\n",
    "    word = r.recognize_google(audio, language=\"en\")\n",
    "    print(\"語音辨識結果：\\n\" + word)\n",
    "except:\n",
    "    print(\"語音辨識失敗！\")"
   ]
  },
  {
   "cell_type": "markdown",
   "metadata": {},
   "source": [
    "## 文字翻譯"
   ]
  },
  {
   "cell_type": "markdown",
   "metadata": {},
   "source": [
    "### google_trans_new模組：文字翻譯"
   ]
  },
  {
   "cell_type": "code",
   "execution_count": null,
   "metadata": {},
   "outputs": [],
   "source": [
    "# 安裝\n",
    "# !pip install google_trans_new\n",
    "\n",
    "# 修正程式碼\n",
    "# !sed -i \"s/response = (decoded_line + ']')/response = decoded_line/g\" \\\n",
    "# \t/usr/local/lib/python3.7/dist-packages/google_trans_new/google_trans_new.py\n",
    "\n",
    "# 使用模組\n",
    "from google_trans_new import google_translator\n",
    "translator=google_translator()\n",
    "translator.translate('今天天氣真好',lang_src='zh-tw',lang_tgt='en',pronounce=True)"
   ]
  },
  {
   "cell_type": "markdown",
   "metadata": {},
   "source": [
    "#### 練習：將「大家好」翻譯成英文和日文。"
   ]
  },
  {
   "cell_type": "code",
   "execution_count": null,
   "metadata": {},
   "outputs": [],
   "source": [
    "# 翻譯成英文和日文\n",
    "from google_trans_new import google_translator\n",
    "translator=google_translator()\n",
    "word=translator.translate(\"大家好\",lang_tgt=\"en\",pronounce=True)\n",
    "print(word)\n",
    "word=translator.translate(\"大家好\",lang_tgt=\"ja\",pronounce=True)\n",
    "print(word)"
   ]
  },
  {
   "cell_type": "markdown",
   "metadata": {},
   "source": [
    "### 應用：智慧讀報機"
   ]
  },
  {
   "cell_type": "code",
   "execution_count": null,
   "metadata": {},
   "outputs": [],
   "source": [
    "# 安裝\n",
    "# !pip install newspaper3k\n",
    "# !pip install gTTS\n",
    "# !pip install google_trans_new\n",
    "\n",
    "import newspaper\n",
    "from newspaper import Article\n",
    "from google_trans_new import google_translator\n",
    "import gtts\n",
    "import IPython.display as display\n",
    "import random\n",
    "\n",
    "# 擷取新聞\n",
    "paper = newspaper.build('https://edition.cnn.com/', language='en')\n",
    "urls = []\n",
    "for article in paper.articles:\n",
    "  url = article.url\n",
    "  if '.html' in url:\n",
    "    try:  #有時會產生無法擷取的錯誤,故使用try\n",
    "      article = Article(url)\n",
    "      article.download()\n",
    "      article.parse()\n",
    "      content = article.text\n",
    "      if len(content)>0:\n",
    "          urls.append(url)\n",
    "          if len(urls)>5:\n",
    "            break\n",
    "    except: pass\n",
    "print(len(urls))"
   ]
  },
  {
   "cell_type": "code",
   "execution_count": null,
   "metadata": {},
   "outputs": [],
   "source": [
    "# 任選一篇新聞並播報\n",
    "if len(urls)>0:\n",
    "  r = random.randint(0,len(urls)-1)\n",
    "  url = urls[r]\n",
    "  article = Article(url)\n",
    "  article.download()\n",
    "  article.parse()\n",
    "  content = article.text\n",
    "#  if len(content)>5000: content = content[:4999]\n",
    "  if len(content)>100: content = content[:100]\n",
    "  print(content[0:200])\n",
    "  translator = google_translator()\n",
    "  ret = translator.translate(content,lang_src='en',lang_tgt='zh-TW')\n",
    "  print(ret)\n",
    "else: \n",
    "  ret = '無可用新聞！'\n",
    "tts = gtts.gTTS(text=ret, lang='zh-tw')\n",
    "tts.save('news.mp3')\n",
    "display.Audio(\"news.mp3\", autoplay=True) "
   ]
  },
  {
   "cell_type": "markdown",
   "metadata": {},
   "source": [
    "# 四、金融匯率股票資料收集"
   ]
  },
  {
   "cell_type": "markdown",
   "metadata": {},
   "source": [
    "## twstock模組：台灣股市資訊"
   ]
  },
  {
   "cell_type": "code",
   "execution_count": null,
   "metadata": {},
   "outputs": [],
   "source": [
    "# 安裝\n",
    "# !pip install twstock"
   ]
  }
 ],
 "metadata": {
  "kernelspec": {
   "display_name": "Python 3.10.8 64-bit (microsoft store)",
   "language": "python",
   "name": "python3"
  },
  "language_info": {
   "codemirror_mode": {
    "name": "ipython",
    "version": 3
   },
   "file_extension": ".py",
   "mimetype": "text/x-python",
   "name": "python",
   "nbconvert_exporter": "python",
   "pygments_lexer": "ipython3",
   "version": "3.10.8"
  },
  "orig_nbformat": 4,
  "vscode": {
   "interpreter": {
    "hash": "a3327f818e0a4ba18f1f384c03713ec02db81d5f9f9e6316f52b1fec9cb18330"
   }
  }
 },
 "nbformat": 4,
 "nbformat_minor": 2
}
