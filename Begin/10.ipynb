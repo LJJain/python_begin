{
 "cells": [
  {
   "cell_type": "markdown",
   "metadata": {},
   "source": [
    "# 一、 深度學習Deep Learning(DL)方法：  \n",
    "- 深度神經網路(DNN)：最基礎的DL  \n",
    "- 卷積神經網路(CNN)：特別適用於圖片   \n",
    "- 遞回神經網路(RNN)：有時間性、順序性(NLP?)"
   ]
  },
  {
   "cell_type": "code",
   "execution_count": null,
   "metadata": {},
   "outputs": [],
   "source": [
    "# !gdown '1dY83LsR-6PqiFesoQSlTGNORvLZzSkgG' --output DL.zip\n",
    "# !unzip DL.zip"
   ]
  },
  {
   "cell_type": "code",
   "execution_count": null,
   "metadata": {},
   "outputs": [],
   "source": [
    "# 明新資料科學深度學習網站\n",
    "# https://2022-datascience.blogspot.com/p/blog-page_65.html\n",
    "# 學深度學習 建議全部看過"
   ]
  },
  {
   "cell_type": "markdown",
   "metadata": {},
   "source": [
    "## 深度神經網路(DNN)"
   ]
  },
  {
   "cell_type": "code",
   "execution_count": null,
   "metadata": {},
   "outputs": [],
   "source": [
    "# 蒐集資料：MNIST資料集\n",
    "# pip install keras\n",
    "from keras.datasets import mnist\n",
    "(train_feature, train_label), (test_feature,test_label) = mnist.load_data()"
   ]
  },
  {
   "cell_type": "code",
   "execution_count": null,
   "metadata": {},
   "outputs": [],
   "source": [
    "# len(test_label)\n",
    "train_feature.shape"
   ]
  },
  {
   "cell_type": "code",
   "execution_count": null,
   "metadata": {},
   "outputs": [],
   "source": [
    "import matplotlib.pyplot as plt\n",
    "plt.imshow(train_feature[1], cmap='gray')"
   ]
  },
  {
   "cell_type": "code",
   "execution_count": null,
   "metadata": {},
   "outputs": [],
   "source": [
    "# 看圖用的好幫手\n",
    "# pip install ipywidgets\n",
    "from ipywidgets import interact\n",
    "\n",
    "def show1(n):\n",
    "    print(train_label[n])\n",
    "    plt.imshow(train_feature[n], cmap = 'gray')\n",
    "\n",
    "interact(show1, n = (0,59999))"
   ]
  },
  {
   "cell_type": "markdown",
   "metadata": {},
   "source": [
    "## DNN資料預處理\n",
    "- 資料維度轉換:\n",
    "    ```python\n",
    "    train_feature = train_feature.reshape(len(train_feature), -1)\n",
    "    test_feature = test_feature.reshape(len(test_feature), -1)\n",
    "    ```\n",
    "- 特徵值標準化\n",
    "    ```python\n",
    "    train_feature = train_feature/255\n",
    "    test_feature = test_feature/255\n",
    "    ```\n",
    "- 標籤資料(One-Hot編碼)\n",
    "    ```python\n",
    "    from keras.utils import np_utils\n",
    "    train_label = np_utils.to_categorical(train_label)\n",
    "    test_label = np_utils.to_categorical(test_label)\n",
    "    ```"
   ]
  },
  {
   "cell_type": "code",
   "execution_count": null,
   "metadata": {},
   "outputs": [],
   "source": [
    "# 資料預處理\n",
    "# reshape\n",
    "train_feature = train_feature.reshape(len(train_feature), -1)\n",
    "test_feature = test_feature.reshape(len(test_feature), -1)"
   ]
  },
  {
   "cell_type": "code",
   "execution_count": null,
   "metadata": {},
   "outputs": [],
   "source": [
    "train_feature[0]"
   ]
  },
  {
   "cell_type": "code",
   "execution_count": null,
   "metadata": {},
   "outputs": [],
   "source": [
    "# 標準化\n",
    "train_feature = train_feature/255\n",
    "test_feature = test_feature/255"
   ]
  },
  {
   "cell_type": "code",
   "execution_count": null,
   "metadata": {},
   "outputs": [],
   "source": [
    "train_feature[0]"
   ]
  },
  {
   "cell_type": "code",
   "execution_count": null,
   "metadata": {},
   "outputs": [],
   "source": [
    "train_label[:5]"
   ]
  },
  {
   "cell_type": "code",
   "execution_count": null,
   "metadata": {},
   "outputs": [],
   "source": [
    "# One-Hot編碼\n",
    "from keras.utils import np_utils\n",
    "train_label = np_utils.to_categorical(train_label)\n",
    "test_label = np_utils.to_categorical(test_label)"
   ]
  },
  {
   "cell_type": "code",
   "execution_count": null,
   "metadata": {},
   "outputs": [],
   "source": [
    "train_label[:5]"
   ]
  },
  {
   "cell_type": "markdown",
   "metadata": {},
   "source": [
    "## DNN建立模型\n",
    "- 建立模型語法:\n",
    "    ```python\n",
    "    from keras.models import Sequential\n",
    "    from keras.layers import Dense\n",
    "    模型變數 = Sequential()\n",
    "    模型變數.add(Dense(units=數值(神經元個數), input_dim=數值(輸入層數值), activation='激勵函式名稱'))\n",
    "    ```\n",
    "- 查看權重數量:\n",
    "    ```python\n",
    "    模型變數.summary()\n",
    "    ```"
   ]
  },
  {
   "cell_type": "code",
   "execution_count": null,
   "metadata": {},
   "outputs": [],
   "source": [
    "# 建立模型\n",
    "from keras.models import Sequential\n",
    "from keras.layers import Dense  # Dense 全連接層 DNN\n",
    "model = Sequential()\n",
    "model.add(Dense(units=50, input_dim=784, activation='relu')) # 第一層隱藏層"
   ]
  },
  {
   "cell_type": "code",
   "execution_count": null,
   "metadata": {},
   "outputs": [],
   "source": [
    "model.add(Dense(units=100, activation='relu')) # 第二層隱藏層\n",
    "model.add(Dense(units=200, activation='relu')) # 第三層隱藏層\n",
    "model.add(Dense(units=10, activation='softmax')) # 輸出層（units=輸出值的數量）"
   ]
  },
  {
   "cell_type": "code",
   "execution_count": null,
   "metadata": {},
   "outputs": [],
   "source": [
    "model.summary()"
   ]
  },
  {
   "cell_type": "code",
   "execution_count": null,
   "metadata": {},
   "outputs": [],
   "source": [
    "# DNN模型建立整理\n",
    "from keras.datasets import mnist\n",
    "from keras.utils import np_utils\n",
    "from keras.models import Sequential\n",
    "from keras.layers import Dense\n",
    "\n",
    "(train_feature, train_label), (test_feature,test_label) = mnist.load_data()\n",
    "train_feature = train_feature.reshape(len(train_feature), -1)\n",
    "test_feature = test_feature.reshape(len(test_feature), -1)\n",
    "train_feature = train_feature/255\n",
    "test_feature = test_feature/255\n",
    "train_label = np_utils.to_categorical(train_label)\n",
    "test_label = np_utils.to_categorical(test_label)\n",
    "model = Sequential()\n",
    "model.add(Dense(units=50, input_dim=784, activation='relu'))\n",
    "model.add(Dense(units=100, activation='relu'))\n",
    "model.add(Dense(units=200, activation='relu'))\n",
    "model.add(Dense(units=10, activation='softmax'))"
   ]
  },
  {
   "cell_type": "markdown",
   "metadata": {},
   "source": [
    "## DNN訓練及存取模型\n",
    "- 訓練模型語法:\n",
    "\n",
    "    ```python\n",
    "    模型變數.compile(loss='損失函式',\n",
    "              optimizer='最佳化函式',\n",
    "              metrics=['評估標準'])\n",
    "    模型變數.fit(x=特徵值,\n",
    "                y=標籤,\n",
    "                validation_split=驗證資料比率,\n",
    "                epochs=訓練次數,\n",
    "                shuffle=布林值,\n",
    "                batch_size=批次資料數量,\n",
    "                verbose=顯示模式,\n",
    "                )\n",
    "    ```\n",
    "- 儲存模型:\n",
    "\n",
    "    ```python\n",
    "    模型變數.save(檔名)\n",
    "    ```\n",
    "- 讀取模型:\n",
    "\n",
    "    ```python\n",
    "    from keras.models import load_model\n",
    "    模型變數 = load_model('檔名')\n",
    "    ```"
   ]
  },
  {
   "cell_type": "code",
   "execution_count": null,
   "metadata": {},
   "outputs": [],
   "source": [
    "# 訓練模型\n",
    "model.compile(loss='categorical_crossentropy',  # 交叉熵\n",
    "              optimizer='adam',\n",
    "              metrics=['accuracy']) # 準確率\n",
    "model.fit(x=train_feature,\n",
    "          y=train_label,    #目標值\n",
    "          validation_split=0.2, # 從訓練資料分出20%來做測試\n",
    "          epochs=20, # 訓練次數，數字越大越好（到極限之前）\n",
    "          shuffle=True, # 是否打亂順序(預設True)\n",
    "          batch_size=200, # 一次處理多少筆資料\n",
    "          verbose=2) # 0 = 不顯示; 1 = 詳細資料; 2 = 簡易資料"
   ]
  },
  {
   "cell_type": "code",
   "execution_count": null,
   "metadata": {},
   "outputs": [],
   "source": [
    "# 儲存模型\n",
    "model.save('mnist_model.h5')"
   ]
  },
  {
   "cell_type": "code",
   "execution_count": null,
   "metadata": {},
   "outputs": [],
   "source": [
    "# 讀取模型\n",
    "from keras.models import load_model\n",
    "model2 = load_model('mnist_model.h5')"
   ]
  },
  {
   "cell_type": "code",
   "execution_count": null,
   "metadata": {},
   "outputs": [],
   "source": [
    "# 評估模型\n",
    "score = model2.evaluate(x=test_feature, y=test_label)\n",
    "score"
   ]
  },
  {
   "cell_type": "code",
   "execution_count": null,
   "metadata": {},
   "outputs": [],
   "source": [
    "print(f'準確率 : {score[1]}')"
   ]
  },
  {
   "cell_type": "code",
   "execution_count": null,
   "metadata": {},
   "outputs": [],
   "source": [
    "# 預測自己的圖片\n",
    "import numpy as np\n",
    "from keras.models import load_model\n",
    "import cv2\n",
    "\n",
    "test_feature = []\n",
    "img = cv2.imread('mnist500\\9\\9_1.bmp')\n",
    "img = cv2.cvtColor(img, cv2.COLOR_BGR2GRAY)\n",
    "img.shape\n",
    "# img = 255-img # 反白(白色的RGB為(255, 255, 255))\n",
    "test_feature.append(img)\n",
    "test_feature = np.array(test_feature)\n",
    "test_feature_v = test_feature.reshape(1, -1)\n",
    "test_feature_n = test_feature_v/255\n",
    "model3 = load_model('mnist_model.h5')\n",
    "prediction = model3.predict(test_feature_n)\n",
    "# prediction  # 顯示各數字的可能性\n",
    "prediction = np.argmax(prediction, axis = -1)    # argmax=找尋最大值\n",
    "prediction[0]"
   ]
  },
  {
   "cell_type": "code",
   "execution_count": null,
   "metadata": {},
   "outputs": [],
   "source": [
    "# 自建圖片檔訓練\n",
    "# 與此程式碼有異曲同工之妙的程式\n",
    "# https://sweetornotspicymarathon.medium.com/tesorflow-keras-%E5%AD%B8%E7%BF%92%E7%AD%86%E8%A8%98-%E6%96%B0%E6%89%8B%E4%B8%80%E5%AE%9A%E8%A6%81%E7%8E%A9%E7%9A%84mnist%E6%89%8B%E5%AF%AB%E6%95%B8%E5%AD%97%E8%BE%A8%E8%AD%98-9327366cc838"
   ]
  },
  {
   "cell_type": "code",
   "execution_count": null,
   "metadata": {},
   "outputs": [],
   "source": [
    "# 手寫訓練模型 訓練完整程式碼\n",
    "import numpy as np\n",
    "import matplotlib.pyplot as plt\n",
    "from keras.models import load_model\n",
    "import glob, cv2\n",
    "\n",
    "def show_images_labels_predictions(images, labels, predictions, start_id, num=10): \n",
    "    plt.figure(figsize = (12, 14))\n",
    "    if num>25:\n",
    "        num = 25\n",
    "    for i in range(0,num):\n",
    "        ax = plt.subplot(5, 5, i+1)\n",
    "        ax.imshow(images[start_id], cmap='gray')\n",
    "        if len(predictions) > 0 :\n",
    "            title = 'ai = ' + str(predictions[start_id])\n",
    "            title += (' (o)' if predictions[start_id] == labels[start_id] else ' (x)')\n",
    "            title += '\\nlabel = ' + str(labels[start_id])\n",
    "        else :\n",
    "            title = 'label = ' + str(labels[start_id])\n",
    "        ax.set_title(title,fontsize=12)\n",
    "        ax.set_xticks([]);ax.set_yticks([])\n",
    "        start_id += 1\n",
    "    plt.show()\n",
    "\n",
    "files = glob.glob('/content/selfNumber/*.jpg')\n",
    "test_feature = []\n",
    "test_label = []\n",
    "for file in files:\n",
    "    img = cv2.imread(file)\n",
    "    img = cv2.cvtColor(img, cv2.COLOR_BGR2GRAY)\n",
    "    img = 255 - img \n",
    "    test_feature.append(img)\n",
    "    label = file[20:21] #/content/selfNumber/*.jpg\n",
    "    test_label.append(int(label))\n",
    "\n",
    "test_feature = np.array(test_feature)\n",
    "test_label = np.array(test_label)\n",
    "test_feature_v = test_feature.reshape(len(test_feature), -1)\n",
    "test_feature_n = test_feature_v/255\n",
    "model3 = load_model('mnist_model.h5')\n",
    "prediction = model3.predict(test_feature_n)\n",
    "prediction = np.argmax(prediction, axis = 1)\n",
    "\n",
    "show_images_labels_predictions(test_feature, test_label, prediction, 0, len(test_feature))"
   ]
  },
  {
   "cell_type": "markdown",
   "metadata": {},
   "source": [
    "### Gradio模組:深度學習成果展示模組\n",
    "- 語法: \n",
    "\n",
    "    ```python\n",
    "    import gradio as gr\n",
    "    物件變數 = gr.Interface(fn=處理函式,\n",
    "                            inputs=輸入欄位,\n",
    "                            outputs=輸出欄位,\n",
    "                            )\n",
    "    Gradio物件變數.launch()\n",
    "\n",
    "- 畫板輸入欄位:\n",
    "\n",
    "    ```python\n",
    "    inputs = 'sketchpad'\n",
    "    ```"
   ]
  },
  {
   "cell_type": "code",
   "execution_count": null,
   "metadata": {},
   "outputs": [],
   "source": [
    "# Gradio模組\n",
    "# !pip install gradio\n",
    "import gradio as gr\n",
    "\n",
    "# 讀取模型\n",
    "from keras.models import load_model\n",
    "model2 = load_model('mnist_model.h5')\n",
    "\n",
    "def mnist(image):\n",
    "    image = image.reshape(1, -1)\n",
    "    prediction = model.predict(image).tolist()[0]\n",
    "    return {str(i): prediction[i] for i in range(10)}\n",
    "\n",
    "# Gradio 物件\n",
    "obj = gr.Interface(fn = mnist,\n",
    "                   inputs = 'sketchpad',\n",
    "                   outputs = 'label')\n",
    "obj.launch()\n"
   ]
  },
  {
   "cell_type": "markdown",
   "metadata": {},
   "source": [
    "## 卷積神經網路(CNN)"
   ]
  },
  {
   "cell_type": "code",
   "execution_count": null,
   "metadata": {},
   "outputs": [],
   "source": [
    "'''\n",
    "以下額外的補充並「不一定」全是正確的，請斟酌考量\n",
    "'''\n",
    "\n",
    "# 其他CNN的學習資料\n",
    "# https://chih-sheng-huang821.medium.com/%E5%8D%B7%E7%A9%8D%E7%A5%9E%E7%B6%93%E7%B6%B2%E8%B7%AF-convolutional-neural-network-cnn-%E5%8D%B7%E7%A9%8D%E8%A8%88%E7%AE%97%E4%B8%AD%E7%9A%84%E6%AD%A5%E4%BC%90-stride-%E5%92%8C%E5%A1%AB%E5%85%85-padding-94449e638e82\n",
    "\n",
    "# 卷積核是什麼\n",
    "# https://medium.com/%E9%9B%9E%E9%9B%9E%E8%88%87%E5%85%94%E5%85%94%E7%9A%84%E5%B7%A5%E7%A8%8B%E4%B8%96%E7%95%8C/%E6%A9%9F%E5%99%A8%E5%AD%B8%E7%BF%92-ml-note-convolution-neural-network-%E5%8D%B7%E7%A9%8D%E7%A5%9E%E7%B6%93%E7%B6%B2%E8%B7%AF-bfa8566744e9\n",
    "# https://blog.51cto.com/u_15274944/2922429\n",
    "\n",
    "'''\n",
    "卷積核科普：\n",
    "卷積層含有卷積核，n個卷積核，就會有n個feature map\n",
    "'''\n",
    "# 為什麼卷積層的深度算法不太一樣？到底要怎麼看深度？\n",
    "# https://stackoverflow.com/questions/50368123/number-of-feature-maps-produced-after-each-convolution-layer-in-cnns\n",
    "\n",
    "# 為什麼pooling layer減少參數後，還能有保留特徵的效果？看影片就能理解！\n",
    "# https://www.zhihu.com/question/36686900\n",
    "\n",
    "'''\n",
    "一些計算觀念（不一定正確）：\n",
    "\n",
    "中文版：\n",
    "[(圖像長 - 卷積長) / (stride + 1)] + 1 = feature map長\n",
    "卷積長 = [(feature map長 - 1) * (stride + 1) - 圖像長] * (-1)\n",
    "\n",
    "英文版：\n",
    "Feature map width = [(Original width - Kernel width) / (Stride + 1)] + 1\n",
    "Kernel width = [(Feature map width - 1) * (Stride + 1) - Original width] * (-1)\n",
    "\n",
    "例子：\n",
    "圖像 = 28*28\n",
    "卷積 = 5*5\n",
    "28 - 5 = 剩餘格子數\n",
    "剩餘格子數 / stride(滑動步長) = 可移動stride格的次數\n",
    "可移動stride格的次數 + 1(原來28 - 5的那一格) = Feature map長\n",
    "'''\n",
    "\n",
    "# 什麼是Dropout(拋棄層)\n",
    "# https://zhuanlan.zhihu.com/p/38200980"
   ]
  },
  {
   "cell_type": "code",
   "execution_count": null,
   "metadata": {},
   "outputs": [],
   "source": [
    "# 蒐集資料：Kaggle貓和狗資料集\n",
    "# !wget --no-check-certificate 'https://download.microsoft.com/download/3/E/1/3E1C3F21-ECDB-4869-8368-6DEBA77B919F/kagglecatsanddogs_5340.zip'\n",
    "# !unzip 'kagglecatsanddogs_5340.zip'"
   ]
  },
  {
   "cell_type": "code",
   "execution_count": null,
   "metadata": {},
   "outputs": [],
   "source": [
    "import os, cv2, glob, os.path\n",
    "images = []\n",
    "labels = []\n",
    "dict1 = {'Cat' : 0, 'Dog' : 1}\n",
    "for folder in glob.glob('../../PetImages/*'):\n",
    "    print(folder + '讀取')\n",
    "    for f in os.listdir(folder):\n",
    "        try:\n",
    "            label = os.path.split(folder)[-1]   # 用 os.path.split(folder)[-1] 標出folder name來對應 dict1\n",
    "            img = cv2.imread(os.path.join(folder, f))\n",
    "            img = cv2.resize(img, dsize = (80, 80))\n",
    "            # print(label)\n",
    "            if img is not None:\n",
    "                images.append(img)\n",
    "                labels.append(dict1[label])\n",
    "        except:\n",
    "            pass # 檔案壞掉\n",
    "\n",
    "print('完成')"
   ]
  },
  {
   "cell_type": "code",
   "execution_count": null,
   "metadata": {},
   "outputs": [],
   "source": [
    "# len(images)\n",
    "len(labels)\n",
    "# len(glob.glob('PetImages/Cat/*'))"
   ]
  },
  {
   "cell_type": "code",
   "execution_count": null,
   "metadata": {},
   "outputs": [],
   "source": [
    "# 資料預處理\n",
    "from sklearn.model_selection import train_test_split\n",
    "import numpy as np\n",
    "from keras.utils import np_utils # One-Hot\n",
    "\n",
    "train_feature, test_feature, train_label, test_label = train_test_split(images, labels, test_size = 0.2)\n",
    "\n",
    "# 串列轉numpy陣列\n",
    "train_feature=np.array(train_feature)\n",
    "train_label=np.array(train_label)\n",
    "test_feature=np.array(test_feature)\n",
    "test_label=np.array(test_label)\n",
    "\n",
    "# 特徵值標準化\n",
    "train_feature = train_feature/255\n",
    "test_feature = test_feature/255\n",
    "\n",
    "# 標籤資料One-Hot編碼\n",
    "from keras.utils import np_utils\n",
    "train_label = np_utils.to_categorical(train_label)\n",
    "test_label = np_utils.to_categorical(test_label)"
   ]
  },
  {
   "cell_type": "markdown",
   "metadata": {},
   "source": [
    "## CNN建立模型\n",
    "- 載入模型:\n",
    "\n",
    "    ```python\n",
    "    from keras.layers import Conv2D, MaxPooling2D, Flatten, Dropout\n",
    "    ```\n",
    "- 建立卷積層語法:\n",
    "\n",
    "    ```python\n",
    "    模型變數.add(Conv2D(filters = 8, # 卷積核個數\n",
    "                 kernel_size = (5, 5), # 卷積核的大小(3*3 / 5*5 / 7*7......)\n",
    "                 padding = 'same', # same = 邊緣用0填充 ; valid = 邊緣不填充\n",
    "                 strides = 1, # 滑動步長(一個5*5的圖片被一個3*3的卷積核做計算時，stride=1會做出3*3的feature map ; stride=2會做出2*2的feature map)\n",
    "                 input_shape = (80, 80, 3),  # 要進來的圖片\n",
    "                 activation = 'relu')\n",
    "                ) # relu, softmax, selu三種激勵函式\n",
    "    ```\n",
    "- 建立池化層語法:\n",
    "\n",
    "    ```python\n",
    "    模型變數.add(MaxPooling2D(pool_size=(二維元組)))\n",
    "    ```\n",
    "- 建立拋棄層語法:\n",
    "\n",
    "    ```python\n",
    "    模型變數.add(Dropout(拋棄比例))\n",
    "    ```\n",
    "- 查看權重變量:\n",
    "\n",
    "    ```python\n",
    "    模型變數.summary()\n",
    "    ```\n",
    "    "
   ]
  },
  {
   "cell_type": "code",
   "execution_count": null,
   "metadata": {},
   "outputs": [],
   "source": [
    "# 建立CNN物件\n",
    "from keras.models import Sequential # 建立模型物件\n",
    "from keras.layers import Conv2D, MaxPooling2D   # Conv2D:卷基層 MaxPooling2D:池化層(最大值)\n",
    "from keras.layers import Dropout, Flatten, Dense    # Flatten:平坦層(KNN輸入層) Dropout:拋棄層(過擬和:訓練過頭時拋棄資料) \n",
    "\n",
    "model = Sequential()\n",
    "\n",
    "# 第一層\n",
    "model.add(Conv2D(\n",
    "                filters = 8, # 卷積核個數\n",
    "                kernel_size = (5, 5), # 卷積核的大小(3*3 / 5*5 / 7*7......)\n",
    "                padding = 'same', # same = 邊緣用0填充 ; valid = 邊緣不填充\n",
    "                strides = 1, # 滑動步長(一個5*5的圖片被一個3*3的卷積核做計算時，stride=1會做出3*3的feature map ; stride=2會做出2*2的feature map)\n",
    "                input_shape = (80, 80, 3),  # 要進來的圖片\n",
    "                activation = 'relu'    # relu, softmax, selu三種激勵函式\n",
    "                )   \n",
    "            ) \n",
    "\n",
    "model.add(MaxPooling2D(pool_size=(2, 2))) # 減少參數、保留特徵 2*2 / 3*3 ...\n",
    "\n",
    "model.add(Dropout(0.2))\n",
    "\n",
    "# 第二層\n",
    "model.add(Conv2D(filters = 16,\n",
    "                 kernel_size = (5, 5),\n",
    "                 padding = 'same',\n",
    "                 strides = 1,\n",
    "                 activation = 'relu'))\n",
    "model.add(MaxPooling2D(pool_size=(2, 2)))\n",
    "model.add(Dropout(0.2))\n",
    "\n",
    "# 第三層\n",
    "model.add(Conv2D(filters = 32,\n",
    "                 kernel_size = (5, 5),\n",
    "                 padding = 'same',\n",
    "                 strides = 1,\n",
    "                 activation = 'relu'))\n",
    "model.add(MaxPooling2D(pool_size=(2, 2)))\n",
    "model.add(Dropout(0.2))"
   ]
  },
  {
   "cell_type": "code",
   "execution_count": null,
   "metadata": {},
   "outputs": [],
   "source": [
    "# 平坦層(將特徵值轉為一維資料以供後續的全連結層使用)\n",
    "model.add(Flatten())\n",
    "model.add(Dropout(0.2)) # 可有可無\n",
    "\n",
    "# 隱藏層\n",
    "model.add(Dense(units = 128, activation = 'relu')) # unit：神經元數量\n",
    "\n",
    "# 輸出層\n",
    "model.add(Dense(units = 2, activation = 'softmax')) # units = 2 {'Cat','Dog'}"
   ]
  },
  {
   "cell_type": "code",
   "execution_count": null,
   "metadata": {},
   "outputs": [],
   "source": [
    "model.summary()"
   ]
  },
  {
   "cell_type": "code",
   "execution_count": null,
   "metadata": {},
   "outputs": [],
   "source": [
    "# 訓練模型\n",
    "model.compile(loss='categorical_crossentropy',\n",
    "              optimizer='adam',\n",
    "              metrics=['accuracy'])\n",
    "model.fit(x=train_feature,\n",
    "          y=train_label,\n",
    "          validation_split=0.2,\n",
    "          epochs=20,\n",
    "          shuffle=True,\n",
    "          batch_size=200,\n",
    "          verbose=2)"
   ]
  },
  {
   "cell_type": "code",
   "execution_count": null,
   "metadata": {},
   "outputs": [],
   "source": [
    "# 儲存模型\n",
    "model.save('catdog_model.h5')"
   ]
  },
  {
   "cell_type": "code",
   "execution_count": null,
   "metadata": {},
   "outputs": [],
   "source": [
    "# CNN完整程式碼\n",
    "import os, cv2, glob, os.path\n",
    "from sklearn.model_selection import train_test_split\n",
    "import numpy as np\n",
    "from keras.utils import np_utils\n",
    "from keras.models import Sequential\n",
    "from keras.layers import Conv2D, MaxPooling2D\n",
    "from keras.layers import Dropout, Flatten, Dense\n",
    "\n",
    "images = []\n",
    "labels = []\n",
    "dict1 = {'Cat' : 0, 'Dog' : 1}\n",
    "for folder in glob.glob('../../PetImages/*'):\n",
    "    print(folder, '讀取中......')\n",
    "    for f in os.listdir(folder):\n",
    "        try:\n",
    "            label = os.path.split(folder)[-1]\n",
    "            img = cv2.imread(os.path.join(folder, f))\n",
    "            img = cv2.resize(img, dsize = (80, 80))\n",
    "            if img is not None:\n",
    "                images.append(img)\n",
    "                labels.append(dict1[label])\n",
    "        except:\n",
    "            pass\n",
    "\n",
    "print('讀取完畢！')\n",
    "\n",
    "train_feature, test_feature, train_label, test_label = train_test_split(images, labels, test_size = 0.2)\n",
    "train_feature=np.array(train_feature)\n",
    "train_label=np.array(train_label)\n",
    "test_feature=np.array(test_feature)\n",
    "test_label=np.array(test_label)\n",
    "train_feature = train_feature/255\n",
    "test_feature = test_feature/255\n",
    "train_label = np_utils.to_categorical(train_label)\n",
    "test_label = np_utils.to_categorical(test_label)\n",
    "model = Sequential()\n",
    "model.add(Conv2D(filters = 8, kernel_size = (5, 5), padding = 'same', strides = 1, input_shape = (80, 80, 3), activation = 'relu'))\n",
    "model.add(MaxPooling2D(pool_size=(2, 2)))\n",
    "model.add(Dropout(0.2))\n",
    "model.add(Conv2D(filters = 16, kernel_size = (5, 5), padding = 'same', activation = 'relu'))\n",
    "model.add(MaxPooling2D(pool_size=(2, 2)))\n",
    "model.add(Dropout(0.2))\n",
    "model.add(Conv2D(filters = 32, kernel_size = (5, 5), padding = 'same', activation = 'relu'))\n",
    "model.add(MaxPooling2D(pool_size=(2, 2)))\n",
    "model.add(Dropout(0.2))\n",
    "model.add(Flatten())\n",
    "model.add(Dense(units = 128, activation = 'relu'))\n",
    "model.add(Dense(units = 2, activation = 'softmax'))\n",
    "model.compile(loss='categorical_crossentropy', optimizer='adam', metrics=['accuracy'])\n",
    "model.fit(x=train_feature, y=train_label, validation_split=0.2, epochs=10, shuffle=True, batch_size=200, verbose=2)\n",
    "model.save('catdog_model.h5')"
   ]
  },
  {
   "cell_type": "code",
   "execution_count": null,
   "metadata": {},
   "outputs": [],
   "source": [
    "# 讀取模型\n",
    "from keras.models import load_model\n",
    "model2 = load_model('catdog_model.h5')"
   ]
  },
  {
   "cell_type": "code",
   "execution_count": null,
   "metadata": {},
   "outputs": [],
   "source": [
    "# 評估模型\n",
    "scores = model2.evaluate(test_feature, test_label)\n",
    "scores[1]"
   ]
  },
  {
   "cell_type": "code",
   "execution_count": null,
   "metadata": {},
   "outputs": [],
   "source": [
    "# 預測自己的圖片\n",
    "import numpy as np\n",
    "from keras.models import  load_model\n",
    "import cv2\n",
    "\n",
    "test_feature = []\n",
    "dict_labels = {'Cat' : 0, 'Dog' : 1}\n",
    "img = cv2.imread('/content/Dog1.jpg')   # 圖片檔路徑\n",
    "img = cv2.cvtColor(img, cv2.COLOR_BGR2RGB)\n",
    "img = cv2.resize(img, dsize = (80, 80))\n",
    "test_feature.append(img)\n",
    "test_feature = np.array(test_feature)\n",
    "test_label = np.array(test_label)\n",
    "test_feature_v = test_feature.reshape(len(test_feature), 80, 80, 3)\n",
    "test_feature_n = test_feature_v/255\n",
    "model = load_model('catdog_model.h5')\n",
    "prediction = model.predict(test_feature_n)\n",
    "prediction = np.argmax(prediction, axis = 1)\n",
    "keys = list(dict_labels.keys()) # 數字轉標頭字\n",
    "keys[prediction[0]]"
   ]
  },
  {
   "cell_type": "code",
   "execution_count": null,
   "metadata": {},
   "outputs": [],
   "source": [
    "# 預測大量圖片完整程式碼\n",
    "import numpy as np\n",
    "import matplotlib.pyplot as plt\n",
    "from keras.models import  load_model\n",
    "import cv2, glob\n",
    "\n",
    "def show_images_labels_predictions(images, labels, predictions, start_id, num=10): \n",
    "    plt.figure(figsize = (12, 14))\n",
    "    if num > 25: num = 25\n",
    "    for i in range(0, num):\n",
    "        ax = plt.subplot(5, 5, i+1)\n",
    "        ax.imshow(images[start_id])\n",
    "        if len(predictions) > 0 :\n",
    "            title = 'ai = ' + str(predictions[start_id])\n",
    "            title += (' (o)' if predictions[start_id] == labels[start_id] else ' (x)')\n",
    "            title += '\\nlabel = ' + str(labels[start_id])\n",
    "        else :\n",
    "            title = 'label = ' + str(labels[start_id])\n",
    "        ax.set_title(title, fontsize=12)\n",
    "        ax.set_xticks([]);ax.set_yticks([])\n",
    "        start_id += 1\n",
    "    plt.show()\n",
    "\n",
    "files = glob.glob('/content/selfPet/*.jpg') # 預測圖片路徑\n",
    "test_feature = []\n",
    "test_label = []\n",
    "dict_labels = {'Cat' : 0, 'Dog' : 1}\n",
    "for file in files:\n",
    "    img = cv2.imread(file)\n",
    "    img = cv2.cvtColor(img, cv2.COLOR_BGR2RGB)\n",
    "    img = cv2.resize(img, dsize = (80, 80))\n",
    "    test_feature.append(img)\n",
    "    label = file[17:20] # /content/selfPet/*.jpg'\n",
    "    test_label.append(dict_labels[label])\n",
    "\n",
    "test_feature = np.array(test_feature)\n",
    "test_label = np.array(test_label)\n",
    "test_feature_v = test_feature.reshape(len(test_feature), 80, 80, 3)\n",
    "test_feature_n = test_feature_v/255\n",
    "model3 = load_model('catdog_model.h5')\n",
    "prediction = model3.predict(test_feature_n)\n",
    "prediction = np.argmax(prediction, axis = 1)\n",
    "\n",
    "show_images_labels_predictions(test_feature, test_label, prediction, 0, len(test_feature))"
   ]
  },
  {
   "cell_type": "markdown",
   "metadata": {},
   "source": [
    "## 預訓練模型"
   ]
  },
  {
   "cell_type": "markdown",
   "metadata": {},
   "source": [
    "### 使用預訓練模型預測圖片\n",
    "- 載入模組:\n",
    "\n",
    "    ```python\n",
    "    from keras.applications.inception_v3 import InceptionV3\n",
    "    ```\n",
    "- 圖片預處理:\n",
    "\n",
    "    ```python\n",
    "    圖片變數 = preprocess_input(圖片變數)\n",
    "    ```\n",
    "- 進行預測:\n",
    "\n",
    "    ```python\n",
    "    預測變數 = 模型變數.predict(圖片變數)\n",
    "    ```\n",
    "- 預測結果:\n",
    "\n",
    "    ```python\n",
    "    decode_predictions(預測變數, top=數值)[0]\n",
    "    ```"
   ]
  },
  {
   "cell_type": "code",
   "execution_count": null,
   "metadata": {},
   "outputs": [],
   "source": [
    "from keras.applications.inception_v3 import InceptionV3\n",
    "\n",
    "# 建立模型\n",
    "model = InceptionV3(weights = 'imagenet', include_top = True)\n",
    "\n",
    "model.summary()"
   ]
  },
  {
   "cell_type": "code",
   "execution_count": null,
   "metadata": {},
   "outputs": [],
   "source": [
    "import cv2\n",
    "import numpy as np\n",
    "\n",
    "img = cv2.imread('/content/daisy1.jpg') # 圖片路徑\n",
    "img = cv2.cvtColor(img, cv2.COLOR_BGR2RGB)\n",
    "img = cv2.resize(img, dsize = (299, 299))"
   ]
  },
  {
   "cell_type": "code",
   "execution_count": null,
   "metadata": {},
   "outputs": [],
   "source": [
    "img.shape"
   ]
  },
  {
   "cell_type": "code",
   "execution_count": null,
   "metadata": {},
   "outputs": [],
   "source": [
    "# 圖片增維\n",
    "img = np.expand_dims(img, axis = 0) # axis = 加在第(x + 1)維"
   ]
  },
  {
   "cell_type": "code",
   "execution_count": null,
   "metadata": {},
   "outputs": [],
   "source": [
    "from keras.applications.inception_v3 import preprocess_input, decode_predictions\n",
    "\n",
    "# 圖片預處理\n",
    "img = preprocess_input(img)\n",
    "\n",
    "# 進行預測\n",
    "pred = model.predict(img)\n",
    "pred"
   ]
  },
  {
   "cell_type": "code",
   "execution_count": null,
   "metadata": {},
   "outputs": [],
   "source": [
    "# 預測結果\n",
    "pred1 = decode_predictions(pred, top = 3)\n",
    "pred1"
   ]
  },
  {
   "cell_type": "code",
   "execution_count": null,
   "metadata": {},
   "outputs": [],
   "source": [
    "print(f'結果：{pred1[0][0][1]}')"
   ]
  },
  {
   "cell_type": "code",
   "execution_count": null,
   "metadata": {},
   "outputs": [],
   "source": [
    "# 預訓練模型完整程式碼\n",
    "from keras.applications.inception_v3 import InceptionV3\n",
    "import cv2\n",
    "import numpy as np\n",
    "from keras.applications.inception_v3 import preprocess_input, decode_predictions\n",
    "\n",
    "model = InceptionV3(weights = 'imagenet', include_top = True)\n",
    "img = cv2.imread('/content/daisy1.jpg')\n",
    "img = cv2.cvtColor(img, cv2.COLOR_BGR2RGB)\n",
    "img = cv2.resize(img, dsize = (299, 299))\n",
    "img = np.expand_dims(img, axis = 0)\n",
    "img = preprocess_input(img)\n",
    "pred = model.predict(img)\n",
    "pred2 = decode_predictions(pred, top = 3)\n",
    "print('result :', pred2[0][0][1])"
   ]
  },
  {
   "cell_type": "markdown",
   "metadata": {},
   "source": [
    "## 遷移學習"
   ]
  },
  {
   "cell_type": "code",
   "execution_count": null,
   "metadata": {},
   "outputs": [],
   "source": [
    "# 蒐集資料：花朵資料集\n",
    "# !wget http://download.tensorflow.org/example_images/flower_photos.tgz\n",
    "# !tar -xvf \"flower_photos.tgz\"\n",
    "# license.txt會使glob出錯，所以要刪除\n",
    "# !rm /content/flower_photos/LICENSE.txt"
   ]
  },
  {
   "cell_type": "code",
   "execution_count": null,
   "metadata": {},
   "outputs": [],
   "source": [
    "import os, cv2, glob\n",
    "\n",
    "images = []\n",
    "labels = []\n",
    "dict_labels = {'daisy':0, 'dandelion':1, 'roses':2, 'sunflowers':3, 'tulips':4}\n",
    "for folders in glob.glob('/content/flower_photos/*'):\n",
    "    print(folders, 'Reading...')\n",
    "    i = 1\n",
    "    for filename in os.listdir(folders):\n",
    "        label = folders.split('/')[-1]\n",
    "        img = cv2.imread(os.path.join(folders, filename))\n",
    "        img = cv2.resize(img, dsize = (299, 299))\n",
    "        if img is not None:\n",
    "            images.append(img)\n",
    "            labels.append(dict_labels[label])\n",
    "            i += 1\n",
    "            if i > 50: break\n",
    "print('finish!')"
   ]
  },
  {
   "cell_type": "code",
   "execution_count": null,
   "metadata": {},
   "outputs": [],
   "source": [
    "# 資料預處理\n",
    "import numpy as np\n",
    "from tensorflow.keras.utils import to_categorical\n",
    "from keras.applications.inception_v3 import preprocess_input"
   ]
  }
 ],
 "metadata": {
  "kernelspec": {
   "display_name": "Python 3.10.5 64-bit",
   "language": "python",
   "name": "python3"
  },
  "language_info": {
   "codemirror_mode": {
    "name": "ipython",
    "version": 3
   },
   "file_extension": ".py",
   "mimetype": "text/x-python",
   "name": "python",
   "nbconvert_exporter": "python",
   "pygments_lexer": "ipython3",
   "version": "3.10.5"
  },
  "orig_nbformat": 4,
  "vscode": {
   "interpreter": {
    "hash": "a7a0c7c9347e9e185eee34cf88d7643fe7d6acaa7b9656353bf5f95484913cf5"
   }
  }
 },
 "nbformat": 4,
 "nbformat_minor": 2
}
