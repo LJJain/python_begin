{
 "cells": [
  {
   "cell_type": "markdown",
   "metadata": {},
   "source": [
    "# 三、 運算子\n",
    "\n",
    "#### 計算運算子: + - * / %(餘數) //(商數) **(指數)\n",
    "#### 比較運算子: == != > >= < <=\n",
    "#### 邏輯運算子: and or not\n",
    "#### 複合指定運算子: += -="
   ]
  },
  {
   "cell_type": "markdown",
   "metadata": {},
   "source": [
    "### 練習一 溫度轉換"
   ]
  },
  {
   "cell_type": "code",
   "execution_count": 2,
   "metadata": {},
   "outputs": [
    {
     "name": "stdout",
     "output_type": "stream",
     "text": [
      "攝氏30.0度=華氏86.0度\n"
     ]
    }
   ],
   "source": [
    "TC = float(input(\"請輸入攝氏溫度\"))\n",
    "TF = TC*(9/5)+32\n",
    "\n",
    "print(f\"攝氏{TC}度=華氏{TF}度\")"
   ]
  },
  {
   "cell_type": "markdown",
   "metadata": {},
   "source": [
    "### 練習二 BMI計算機\n",
    "$BMI = 體重(kg)/身高(m)^2$"
   ]
  },
  {
   "cell_type": "code",
   "execution_count": 8,
   "metadata": {},
   "outputs": [
    {
     "name": "stdout",
     "output_type": "stream",
     "text": [
      "身高180(cm)，體重75(kg)，您的BMI:23.15\n"
     ]
    }
   ],
   "source": [
    "h = int(input(\"請輸入身高(cm)\"))\n",
    "w = int(input(\"請輸入體重(kg)\"))\n",
    "\n",
    "bmi = w/(h/100)**2\n",
    "print(f\"身高{h}(cm)，體重{w}(kg)，您的BMI:{bmi:.2f}\")"
   ]
  },
  {
   "cell_type": "markdown",
   "metadata": {},
   "source": [
    "# 四、 判斷式"
   ]
  },
  {
   "cell_type": "code",
   "execution_count": 11,
   "metadata": {},
   "outputs": [
    {
     "name": "stdout",
     "output_type": "stream",
     "text": [
      "fail\n"
     ]
    }
   ],
   "source": [
    "# 雙向判斷式\n",
    "\n",
    "score = int(input(\"請輸入您的成績\"))\n",
    "\n",
    "if score >= 60:\n",
    "    print(\"pass\")\n",
    "else:\n",
    "    print(\"fail\")    "
   ]
  },
  {
   "cell_type": "code",
   "execution_count": 13,
   "metadata": {},
   "outputs": [
    {
     "name": "stdout",
     "output_type": "stream",
     "text": [
      "D\n"
     ]
    }
   ],
   "source": [
    "# 多項判斷式\n",
    "\n",
    "score = int(input(\"請輸入您的成績\"))\n",
    "\n",
    "if score >= 90 :\n",
    "    print(\"A\")\n",
    "elif score >=80:\n",
    "    print(\"B\")\n",
    "elif score >=70:\n",
    "    print(\"C\")\n",
    "elif score >=60:\n",
    "    print(\"D\")\n",
    "else:\n",
    "    print(\"Fail\")"
   ]
  },
  {
   "cell_type": "markdown",
   "metadata": {},
   "source": [
    "### 練習一 判斷奇/偶數"
   ]
  },
  {
   "cell_type": "code",
   "execution_count": 20,
   "metadata": {},
   "outputs": [
    {
     "data": {
      "text/plain": [
       "False"
      ]
     },
     "execution_count": 20,
     "metadata": {},
     "output_type": "execute_result"
    }
   ],
   "source": [
    "# 題外題 判斷是否為整數\n",
    "\n",
    "n = input(\"請輸入一個整數\")\n",
    "n.isdigit()"
   ]
  },
  {
   "cell_type": "code",
   "execution_count": 15,
   "metadata": {},
   "outputs": [
    {
     "name": "stdout",
     "output_type": "stream",
     "text": [
      "50:此數為偶數\n"
     ]
    }
   ],
   "source": [
    "a = int(input(\"請輸入一個正整數\"))\n",
    "\n",
    "if a % 2 == 0:\n",
    "    print(f\"{a}:此數為偶數\")\n",
    "else:\n",
    "    print(f\"{a}:此數為奇數\")"
   ]
  },
  {
   "cell_type": "markdown",
   "metadata": {},
   "source": [
    "### 練習二 閏年計算"
   ]
  },
  {
   "cell_type": "code",
   "execution_count": 25,
   "metadata": {},
   "outputs": [
    {
     "name": "stdout",
     "output_type": "stream",
     "text": [
      "閏年\n"
     ]
    }
   ],
   "source": [
    "# 巢狀判斷式結構\n",
    "\n",
    "y = int(input(\"請輸入一西元年\"))\n",
    "\n",
    "if y % 100 == 0:\n",
    "    if y % 400 == 0:\n",
    "        print(\"閏年\")\n",
    "    else:\n",
    "        print(\"非閏年\")\n",
    "else:\n",
    "    if y % 4 == 0:\n",
    "        print(\"閏年\")\n",
    "    else:\n",
    "        print(\"非閏年\")"
   ]
  },
  {
   "cell_type": "code",
   "execution_count": 27,
   "metadata": {},
   "outputs": [
    {
     "name": "stdout",
     "output_type": "stream",
     "text": [
      "非閏年\n"
     ]
    }
   ],
   "source": [
    "# 多項判斷式\n",
    "\n",
    "y = int(input(\"請輸入一西元年\"))\n",
    "\n",
    "if y % 100 == 0 and y % 400==0:\n",
    "    print(\"閏年\")\n",
    "elif y % 100 != 0 and y % 4 == 0:\n",
    "    print(\"閏年\")\n",
    "else:\n",
    "    print(\"非閏年\")"
   ]
  },
  {
   "cell_type": "markdown",
   "metadata": {},
   "source": [
    "# 五、 自訂函數"
   ]
  },
  {
   "cell_type": "code",
   "execution_count": 28,
   "metadata": {},
   "outputs": [
    {
     "name": "stdout",
     "output_type": "stream",
     "text": [
      "Hello\n"
     ]
    }
   ],
   "source": [
    "# 基本格式\n",
    "\n",
    "def sayHello():\n",
    "    print(\"Hello\")\n",
    "\n",
    "sayHello()"
   ]
  },
  {
   "cell_type": "code",
   "execution_count": 29,
   "metadata": {},
   "outputs": [
    {
     "name": "stdout",
     "output_type": "stream",
     "text": [
      "Hello, David\n"
     ]
    }
   ],
   "source": [
    "# 參數使用\n",
    "\n",
    "def sayHello(name):\n",
    "    print(f\"Hello, {name}\")\n",
    "\n",
    "sayHello(\"David\")"
   ]
  },
  {
   "cell_type": "code",
   "execution_count": 31,
   "metadata": {},
   "outputs": [],
   "source": [
    "# 自訂函式 回傳值\n",
    "\n",
    "def sayHello(name):\n",
    "    msg = f\"Hello, {name}\"\n",
    "    return msg\n",
    "\n",
    "msg = sayHello(\"Lily\")"
   ]
  },
  {
   "cell_type": "code",
   "execution_count": 32,
   "metadata": {},
   "outputs": [
    {
     "name": "stdout",
     "output_type": "stream",
     "text": [
      "Hello, Lily\n"
     ]
    }
   ],
   "source": [
    "print(msg)"
   ]
  },
  {
   "cell_type": "markdown",
   "metadata": {},
   "source": [
    "### 練習一、 計算面積\n",
    "##### getArea(), 參數 w, h , 回傳值 area\n",
    "##### 兩塊地 1. 寬5 高4 2. 寬10 高5 , 計算總面積"
   ]
  },
  {
   "cell_type": "code",
   "execution_count": 33,
   "metadata": {},
   "outputs": [
    {
     "name": "stdout",
     "output_type": "stream",
     "text": [
      "總面積為 70\n"
     ]
    }
   ],
   "source": [
    "def getArea(w, h):\n",
    "    area = w*h\n",
    "    return area\n",
    "\n",
    "total = getArea(5,4) + getArea(10,5)\n",
    "print(f\"總面積為 {total}\")"
   ]
  },
  {
   "cell_type": "markdown",
   "metadata": {},
   "source": [
    "### 練習二、 利用自訂函式溫度轉換\n",
    "##### tctotf() \n",
    "##### TF = TC*(9/5)+32"
   ]
  },
  {
   "cell_type": "code",
   "execution_count": 34,
   "metadata": {},
   "outputs": [
    {
     "name": "stdout",
     "output_type": "stream",
     "text": [
      "攝氏溫度30.0等於86.0華氏溫度\n"
     ]
    }
   ],
   "source": [
    "def tctotf(TC):\n",
    "    TF = TC*(9/5)+32\n",
    "    return TF\n",
    "\n",
    "TC = float(input(\"請輸入攝氏溫度\"))\n",
    "print(f\"攝氏溫度{TC}等於{tctotf(TC)}華氏溫度\")"
   ]
  },
  {
   "cell_type": "markdown",
   "metadata": {},
   "source": [
    "### 練習二、 自訂函式加入判斷式\n",
    "\n",
    "#### getBMI() 參數: h, w\n",
    "#### bmi <= 18.5 \"太瘦了\" ; > 24 太胖了; 其他 \"恭喜\""
   ]
  },
  {
   "cell_type": "code",
   "execution_count": 37,
   "metadata": {},
   "outputs": [
    {
     "name": "stdout",
     "output_type": "stream",
     "text": [
      "身高180公分, 體重75公斤, 您的BMI值為23.15\n",
      "標準身材，恭喜\n"
     ]
    }
   ],
   "source": [
    "def getBMI(h, w):\n",
    "    bmi = w / (h/100)**2\n",
    "    return bmi\n",
    "\n",
    "h = int(input(\"請輸入身高(cm)\"))\n",
    "w = int(input(\"請輸入體重(kg)\"))\n",
    "BMI = getBMI(h, w)\n",
    "print(f\"身高{h}公分, 體重{w}公斤, 您的BMI值為{BMI:.2f}\")\n",
    "\n",
    "if BMI <= 18.5:\n",
    "    print(\"太瘦了\")\n",
    "elif BMI > 24:\n",
    "    print(\"太胖了\")\n",
    "else:\n",
    "    print(\"標準身材，恭喜\")"
   ]
  },
  {
   "cell_type": "markdown",
   "metadata": {},
   "source": [
    "# 六、 串列與整數串列 (List)"
   ]
  },
  {
   "cell_type": "code",
   "execution_count": 38,
   "metadata": {},
   "outputs": [
    {
     "data": {
      "text/plain": [
       "list"
      ]
     },
     "execution_count": 38,
     "metadata": {},
     "output_type": "execute_result"
    }
   ],
   "source": [
    "# 串列宣告\n",
    "list1 = [1, 2, 3, 4, 5, 6, 7, 8, 9]\n",
    "list2 = [\"David\", \"Demi\"]\n",
    "list3 = [\"Devid\", 180, 80, 24.15, True]\n",
    "\n",
    "# 查詢串列型別\n",
    "type(list3)"
   ]
  },
  {
   "cell_type": "code",
   "execution_count": 45,
   "metadata": {},
   "outputs": [
    {
     "data": {
      "text/plain": [
       "[9, 8, 7, 6, 5, 4, 3, 2, 1]"
      ]
     },
     "execution_count": 45,
     "metadata": {},
     "output_type": "execute_result"
    }
   ],
   "source": [
    "# 串列取值 - 使用索引值\n",
    "list1 = [1, 2, 3, 4, 5, 6, 7, 8, 9]\n",
    "# 取單一元素\n",
    "list1[3]\n",
    "# 取範圍元素值 - 格式: 串列[起始值:終止值(不包含)]\n",
    "list1[3:6]\n",
    "# 取範圍元素值(間格取值) - 格式: 串列[起始值:終止值:間隔值]\n",
    "list1[1::2]\n",
    "# 取特定範圍值 - 所有值 list1[:]; 前幾個值 list1[:3]; 後幾個值 list1[3:]\n",
    "# 取最後一個值 - len(list1) 計算串列數值個數 list1[len(list1)-1] or list1[-1]\n",
    "# 串列倒敘取出\n",
    "list1[::-1]"
   ]
  },
  {
   "cell_type": "code",
   "execution_count": 48,
   "metadata": {},
   "outputs": [
    {
     "data": {
      "text/plain": [
       "'fedcba'"
      ]
     },
     "execution_count": 48,
     "metadata": {},
     "output_type": "execute_result"
    }
   ],
   "source": [
    "# 字串取值\n",
    "\n",
    "str1 = 'abcdef'\n",
    "# 取單一元素 - str1[2]\n",
    "# 取範圍元素值 - str1[2:5]\n",
    "str1[::-1]\n"
   ]
  },
  {
   "cell_type": "markdown",
   "metadata": {},
   "source": [
    "### 整數串列 range()"
   ]
  },
  {
   "cell_type": "code",
   "execution_count": 57,
   "metadata": {},
   "outputs": [
    {
     "data": {
      "text/plain": [
       "[10, 9, 8, 7, 6, 5, 4, 3, 2, 1]"
      ]
     },
     "execution_count": 57,
     "metadata": {},
     "output_type": "execute_result"
    }
   ],
   "source": [
    "# 整數串列宣告\n",
    "# range([起始,]終止[,間隔值])\n",
    "\n",
    "list(range(10, 0, -1))"
   ]
  },
  {
   "cell_type": "markdown",
   "metadata": {},
   "source": [
    "# 七、 迴圈"
   ]
  },
  {
   "cell_type": "markdown",
   "metadata": {},
   "source": [
    "### for 迴圈\n",
    "#### for list"
   ]
  },
  {
   "cell_type": "code",
   "execution_count": 59,
   "metadata": {},
   "outputs": [
    {
     "name": "stdout",
     "output_type": "stream",
     "text": [
      "Apple,Orange,Banana,"
     ]
    }
   ],
   "source": [
    "fruits = ['Apple', 'Orange', 'Banana']\n",
    "\n",
    "for fruit in fruits:\n",
    "    print(fruit, end=\",\")"
   ]
  },
  {
   "cell_type": "markdown",
   "metadata": {},
   "source": [
    "#### for list 迴圈 計算 1加到10"
   ]
  },
  {
   "cell_type": "code",
   "execution_count": 71,
   "metadata": {},
   "outputs": [
    {
     "name": "stdout",
     "output_type": "stream",
     "text": [
      "55\n",
      "30\n",
      "12\n"
     ]
    }
   ],
   "source": [
    "x = 0\n",
    "for i in range(11):\n",
    "    x = x + i\n",
    "\n",
    "print(x)\n",
    "\n",
    "# 偶數相加\n",
    "y = 0\n",
    "for i in range(0,11,2):\n",
    "    y += i\n",
    "\n",
    "print(y)\n",
    "\n",
    "# 3的倍數且為奇數相加\n",
    "z = 0\n",
    "for i in range(1,11,2):\n",
    "    if i % 3 == 0:\n",
    "        z = z + i\n",
    "\n",
    "print(z)\n"
   ]
  },
  {
   "cell_type": "code",
   "execution_count": 73,
   "metadata": {},
   "outputs": [
    {
     "name": "stdout",
     "output_type": "stream",
     "text": [
      "83667\n"
     ]
    }
   ],
   "source": [
    "# 小練習: 0~1000 3的倍數 且 奇數值的加總\n",
    "\n",
    "x = 0\n",
    "for i in range(1, 1001, 2):\n",
    "    if i % 3 == 0:\n",
    "        x += i\n",
    "\n",
    "print(x)"
   ]
  },
  {
   "cell_type": "code",
   "execution_count": 74,
   "metadata": {},
   "outputs": [
    {
     "name": "stdout",
     "output_type": "stream",
     "text": [
      "Apple\n",
      "Orange\n",
      "Banana\n"
     ]
    }
   ],
   "source": [
    "# 用for range print所有字串\n",
    "\n",
    "fruits = ['Apple', 'Orange', 'Banana']\n",
    "for i in range(len(fruits)):\n",
    "    print(fruits[i])"
   ]
  },
  {
   "cell_type": "markdown",
   "metadata": {},
   "source": [
    "### while 迴圈"
   ]
  },
  {
   "cell_type": "code",
   "execution_count": 75,
   "metadata": {},
   "outputs": [
    {
     "name": "stdout",
     "output_type": "stream",
     "text": [
      "55\n"
     ]
    }
   ],
   "source": [
    "# 用 while 迴圈 計算 1~10 加總\n",
    "\n",
    "i = 0\n",
    "total = 0\n",
    "while i <= 10 :\n",
    "    total += i\n",
    "    i += 1\n",
    "\n",
    "print(total)"
   ]
  },
  {
   "cell_type": "code",
   "execution_count": 77,
   "metadata": {},
   "outputs": [
    {
     "name": "stdout",
     "output_type": "stream",
     "text": [
      "30\n"
     ]
    }
   ],
   "source": [
    "# while 迴圈 計算 1~10 偶數 加總\n",
    "\n",
    "i = 0\n",
    "x = 0 \n",
    "while i <= 10 :\n",
    "    if i % 2 == 0:\n",
    "        x += i\n",
    "    i += 1\n",
    "\n",
    "print(x)"
   ]
  },
  {
   "cell_type": "markdown",
   "metadata": {},
   "source": [
    "### break, continue"
   ]
  },
  {
   "cell_type": "code",
   "execution_count": 81,
   "metadata": {},
   "outputs": [
    {
     "name": "stdout",
     "output_type": "stream",
     "text": [
      "1\n",
      "2\n",
      "3\n"
     ]
    }
   ],
   "source": [
    "# break 跳出迴圈\n",
    "for i in range(1,11):\n",
    "    if i == 4:\n",
    "        break\n",
    "    print(i)"
   ]
  },
  {
   "cell_type": "code",
   "execution_count": 80,
   "metadata": {},
   "outputs": [
    {
     "name": "stdout",
     "output_type": "stream",
     "text": [
      "1\n",
      "2\n",
      "3\n",
      "5\n",
      "6\n",
      "7\n",
      "8\n",
      "9\n",
      "10\n"
     ]
    }
   ],
   "source": [
    "# continue 跳過迴圈\n",
    "for i in range(1,11):\n",
    "    if i == 4:\n",
    "        continue\n",
    "    print(i)"
   ]
  },
  {
   "cell_type": "markdown",
   "metadata": {},
   "source": [
    "### 範例練習 九九乘法表"
   ]
  },
  {
   "cell_type": "code",
   "execution_count": 84,
   "metadata": {},
   "outputs": [
    {
     "name": "stdout",
     "output_type": "stream",
     "text": [
      "1*1=1\n",
      "1*2=2\n",
      "1*3=3\n",
      "1*4=4\n",
      "1*5=5\n",
      "1*6=6\n",
      "1*7=7\n",
      "1*8=8\n",
      "1*9=9\n",
      "2*1=2\n",
      "2*2=4\n",
      "2*3=6\n",
      "2*4=8\n",
      "2*5=10\n",
      "2*6=12\n",
      "2*7=14\n",
      "2*8=16\n",
      "2*9=18\n",
      "3*1=3\n",
      "3*2=6\n",
      "3*3=9\n",
      "3*4=12\n",
      "3*5=15\n",
      "3*6=18\n",
      "3*7=21\n",
      "3*8=24\n",
      "3*9=27\n",
      "4*1=4\n",
      "4*2=8\n",
      "4*3=12\n",
      "4*4=16\n",
      "4*5=20\n",
      "4*6=24\n",
      "4*7=28\n",
      "4*8=32\n",
      "4*9=36\n",
      "5*1=5\n",
      "5*2=10\n",
      "5*3=15\n",
      "5*4=20\n",
      "5*5=25\n",
      "5*6=30\n",
      "5*7=35\n",
      "5*8=40\n",
      "5*9=45\n",
      "6*1=6\n",
      "6*2=12\n",
      "6*3=18\n",
      "6*4=24\n",
      "6*5=30\n",
      "6*6=36\n",
      "6*7=42\n",
      "6*8=48\n",
      "6*9=54\n",
      "7*1=7\n",
      "7*2=14\n",
      "7*3=21\n",
      "7*4=28\n",
      "7*5=35\n",
      "7*6=42\n",
      "7*7=49\n",
      "7*8=56\n",
      "7*9=63\n",
      "8*1=8\n",
      "8*2=16\n",
      "8*3=24\n",
      "8*4=32\n",
      "8*5=40\n",
      "8*6=48\n",
      "8*7=56\n",
      "8*8=64\n",
      "8*9=72\n",
      "9*1=9\n",
      "9*2=18\n",
      "9*3=27\n",
      "9*4=36\n",
      "9*5=45\n",
      "9*6=54\n",
      "9*7=63\n",
      "9*8=72\n",
      "9*9=81\n"
     ]
    }
   ],
   "source": [
    "for i in range(1, 10):\n",
    "    for j in range(1, 10):\n",
    "        x = i * j\n",
    "        print(f\"{i}*{j}={x}\")\n",
    "\n"
   ]
  }
 ],
 "metadata": {
  "kernelspec": {
   "display_name": "Python 3.10.5 64-bit",
   "language": "python",
   "name": "python3"
  },
  "language_info": {
   "codemirror_mode": {
    "name": "ipython",
    "version": 3
   },
   "file_extension": ".py",
   "mimetype": "text/x-python",
   "name": "python",
   "nbconvert_exporter": "python",
   "pygments_lexer": "ipython3",
   "version": "3.10.5"
  },
  "orig_nbformat": 4,
  "vscode": {
   "interpreter": {
    "hash": "a7a0c7c9347e9e185eee34cf88d7643fe7d6acaa7b9656353bf5f95484913cf5"
   }
  }
 },
 "nbformat": 4,
 "nbformat_minor": 2
}
