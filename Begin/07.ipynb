{
 "cells": [
  {
   "cell_type": "markdown",
   "metadata": {},
   "source": [
    "# LINE Bot與WebAPI開發\n",
    "## 認識 Flask\n",
    "### 官網:https://github.com/pallets/flask\n",
    "### 素材:http://reurl.cc/zWVYkQ\n",
    "### 安裝:pip install -U Flask"
   ]
  },
  {
   "cell_type": "markdown",
   "metadata": {},
   "source": [
    "# Flask 快速入門\n",
    "\n",
    "* 載入模組\n",
    "* 新增路由\n",
    "* 新增自訂函式\n",
    "* 啟動服務\n",
    "    * 預設位址、埠位\n",
    "    * 自訂埠位\n",
    "    * 開發位址\n",
    "* 單一路由\n",
    "* 多路由到同一網址\n",
    "* Restful網址傳值\n",
    "* GET傳值\n",
    "* POST傳值"
   ]
  },
  {
   "cell_type": "code",
   "execution_count": null,
   "metadata": {},
   "outputs": [],
   "source": [
    "# 基本語法\n",
    "from flask import Flask\n",
    "app = Flask(__name__)\n",
    "\n",
    "@app.route(\"/\")\n",
    "def index():\n",
    "    return \"Hello World\"\n",
    "\n",
    "if __name__ == '__main__':\n",
    "    app.run(host=\"0.0.0.0\", port=\"8080\")    # 0.0.0.0 內部與外部都能接收到,自訂port位\n",
    "    \n",
    "# 查詢埠位服務指令\n",
    "# netstat -p tcp\n",
    "# netstat -a (查詢全部)"
   ]
  },
  {
   "cell_type": "code",
   "execution_count": null,
   "metadata": {},
   "outputs": [],
   "source": [
    "# 新增多個路由\n",
    "from flask import Flask\n",
    "app = Flask(__name__)\n",
    "\n",
    "@app.route('/')\n",
    "def index():\n",
    "    return \"Hello World.\"\n",
    "\n",
    "@app.route(\"/David\")\n",
    "def index1():\n",
    "    return \"Hello David.\"\n",
    "\n",
    "if __name__ == \"__main__\":\n",
    "    app.run()"
   ]
  },
  {
   "cell_type": "code",
   "execution_count": null,
   "metadata": {},
   "outputs": [],
   "source": [
    "# 多路由指向同一頁面\n",
    "from flask import Flask\n",
    "app = Flask(__name__)\n",
    "\n",
    "@app.route('/')\n",
    "@app.route('/index')\n",
    "def index():\n",
    "    return \"Hello World\"\n",
    "    \n",
    "if __name__ == \"__main__\":\n",
    "    app.run()"
   ]
  },
  {
   "cell_type": "code",
   "execution_count": null,
   "metadata": {},
   "outputs": [],
   "source": [
    "# 用路由名稱帶參數\n",
    "from flask import Flask\n",
    "app = Flask(__name__)\n",
    "\n",
    "@app.route('/')\n",
    "def index():\n",
    "    return \"Hello World.\"\n",
    "\n",
    "@app.route(\"/<name>\")\n",
    "def index1(name):\n",
    "    return f\"Hello, {name}.\"\n",
    "\n",
    "if __name__ == \"__main__\":\n",
    "    app.run()"
   ]
  },
  {
   "cell_type": "code",
   "execution_count": null,
   "metadata": {},
   "outputs": [],
   "source": [
    "# GET參數\n",
    "from flask import Flask, request\n",
    "app = Flask(__name__)\n",
    "\n",
    "@app.route('/')\n",
    "def index():\n",
    "    name = request.args.get('name')\n",
    "    return f\"Hello, {name}.\"\n",
    "\n",
    "if __name__ == \"__main__\":\n",
    "    app.run()"
   ]
  },
  {
   "cell_type": "code",
   "execution_count": null,
   "metadata": {},
   "outputs": [],
   "source": [
    "# GET多個參數\n",
    "from flask import Flask, request\n",
    "app = Flask(__name__)\n",
    "\n",
    "@app.route('/')\n",
    "def index():\n",
    "    name = request.args.get('name')\n",
    "    age = request.args.get('age')\n",
    "    return f\"My name is {name}, I am {age} years old.\"\n",
    "\n",
    "if __name__ == \"__main__\":\n",
    "    app.run()"
   ]
  },
  {
   "cell_type": "code",
   "execution_count": 12,
   "metadata": {},
   "outputs": [
    {
     "name": "stdout",
     "output_type": "stream",
     "text": [
      " * Serving Flask app '__main__'\n",
      " * Debug mode: off\n"
     ]
    },
    {
     "name": "stderr",
     "output_type": "stream",
     "text": [
      "WARNING: This is a development server. Do not use it in a production deployment. Use a production WSGI server instead.\n",
      " * Running on http://127.0.0.1:5000\n",
      "Press CTRL+C to quit\n"
     ]
    }
   ],
   "source": [
    "# GET參數, 使用表單\n",
    "from flask import Flask, request\n",
    "app = Flask(__name__)\n",
    "\n",
    "@app.route('/')\n",
    "def index():\n",
    "    if request.method == 'GET' and request.args.get(\"name\") != None:\n",
    "        name = request.args.get('name')\n",
    "        return f'Hello, {name}.'\n",
    "    return \"\"\"\n",
    "    <form method='get'>\n",
    "        <input type='text' name='name'>\n",
    "        <button type='submit'>Submit</button>\n",
    "    </form>\n",
    "    \"\"\"\n",
    "\n",
    "if __name__ == \"__main__\":\n",
    "    app.run()"
   ]
  },
  {
   "cell_type": "code",
   "execution_count": null,
   "metadata": {},
   "outputs": [],
   "source": [
    "# POST參數\n",
    "from flask import Flask, request\n",
    "app = Flask(__name__)\n",
    "\n",
    "@app.route('/', methods=['GET', 'POST'])\n",
    "def index():\n",
    "    if request.method == 'POST':\n",
    "        name = request.form.get('name')\n",
    "        # request.values.get('name')\n",
    "        return f\"Hello, {name}.\"\n",
    "    \n",
    "    return \"\"\"\n",
    "    <form method='post'>\n",
    "        <input type='text' name='name'>\n",
    "        <button type='submit'>Submit</button>\n",
    "    </form>\n",
    "    \"\"\"\n",
    "if __name__ == \"__main__\":\n",
    "    app.run()"
   ]
  },
  {
   "cell_type": "markdown",
   "metadata": {},
   "source": [
    "# Flask Web App 開發"
   ]
  },
  {
   "cell_type": "markdown",
   "metadata": {},
   "source": [
    "## 一、BMI計算程式\n",
    "## 範例：BMI計算器\n",
    "\n",
    "### 計算公式\n",
    "\n",
    "$ BMI = 體重(kg) / 身高(m)^2 $"
   ]
  },
  {
   "cell_type": "code",
   "execution_count": null,
   "metadata": {},
   "outputs": [],
   "source": [
    "# BMI計算器\n",
    "h = int(input(\"請輸入你的身高(cm):\"))\n",
    "w = int(input(\"請輸入你的體重(kg):\"))\n",
    "bmi = w / (h / 100) ** 2\n",
    "print(f\"你的BMI值為 {bmi:.2f} \")"
   ]
  },
  {
   "cell_type": "code",
   "execution_count": null,
   "metadata": {},
   "outputs": [],
   "source": [
    "# BMI計算器 自訂函式\n",
    "def getBMI(w, h):\n",
    "    bmi = w / (h / 100) ** 2\n",
    "    return bmi\n",
    "\n",
    "h = int(input(\"請輸入你的身高(cm):\"))\n",
    "w = int(input(\"請輸入你的體重(kg):\"))\n",
    "print(f\"你的BMI值為 {getBMI(w, h):.2f} \")"
   ]
  },
  {
   "cell_type": "code",
   "execution_count": null,
   "metadata": {},
   "outputs": [],
   "source": [
    "# BMI計算器 網頁應用程式(一)\n",
    "from flask import Flask, request\n",
    "app = Flask(__name__)\n",
    "\n",
    "@app.route('/', methods=['GET', 'POST'])\n",
    "def index():\n",
    "    if request.method == \"POST\":\n",
    "        if request.form.get('w') != '' and request.form.get('h') != '':\n",
    "            w = int(request.form.get('w'))\n",
    "            h = int(request.form.get('h'))\n",
    "            bmi = w / (h / 100) ** 2\n",
    "            return f\"你的BMI值為 {bmi:.2f} \"\n",
    "        \n",
    "    return \"\"\"\n",
    "    <form method='post'>\n",
    "        <label for 'h'>身高(cm)</label>\n",
    "        <input type='text' name='h' id='h'><br>\n",
    "        <label for 'w'>體重(kg)</label>\n",
    "        <input type='text' name='w' id='w'><br>\n",
    "        <button type='submit'>計算</button>\n",
    "    </form>\n",
    "    \"\"\"\n",
    "\n",
    "if __name__ == \"__main__\":\n",
    "    app.run()"
   ]
  }
 ],
 "metadata": {
  "kernelspec": {
   "display_name": "Python 3.10.5 64-bit",
   "language": "python",
   "name": "python3"
  },
  "language_info": {
   "codemirror_mode": {
    "name": "ipython",
    "version": 3
   },
   "file_extension": ".py",
   "mimetype": "text/x-python",
   "name": "python",
   "nbconvert_exporter": "python",
   "pygments_lexer": "ipython3",
   "version": "3.10.5"
  },
  "orig_nbformat": 4,
  "vscode": {
   "interpreter": {
    "hash": "a7a0c7c9347e9e185eee34cf88d7643fe7d6acaa7b9656353bf5f95484913cf5"
   }
  }
 },
 "nbformat": 4,
 "nbformat_minor": 2
}
